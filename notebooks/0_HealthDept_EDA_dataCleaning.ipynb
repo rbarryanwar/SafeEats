{
 "cells": [
  {
   "cell_type": "code",
   "execution_count": 1,
   "metadata": {},
   "outputs": [
    {
     "name": "stdout",
     "output_type": "stream",
     "text": [
      "/Users/rabarry/Documents/Insight/NYC data/SafeEats/data/raw data\n"
     ]
    }
   ],
   "source": [
    "cd '/Users/rabarry/Documents/Insight/NYC data/SafeEats/data/raw data'"
   ]
  },
  {
   "cell_type": "code",
   "execution_count": 2,
   "metadata": {},
   "outputs": [],
   "source": [
    "import pandas as pd\n",
    "import numpy as np\n",
    "import matplotlib.pyplot as plt\n",
    "%matplotlib inline\n",
    "from IPython.core.interactiveshell import InteractiveShell\n",
    "InteractiveShell.ast_node_interactivity = \"all\"\n",
    "import seaborn as sns\n",
    "import swifter\n",
    "import qgrid\n",
    "import datetime\n",
    "from dateutil.relativedelta import relativedelta"
   ]
  },
  {
   "cell_type": "markdown",
   "metadata": {},
   "source": [
    "# Initial data cleaning"
   ]
  },
  {
   "cell_type": "code",
   "execution_count": 3,
   "metadata": {},
   "outputs": [],
   "source": [
    "HD = pd.read_csv('DOHMH_New_York_City_Restaurant_Inspection_Results.csv')"
   ]
  },
  {
   "cell_type": "code",
   "execution_count": 4,
   "metadata": {},
   "outputs": [],
   "source": [
    "#cast date as date datatype\n",
    "HD[\"INSPECTION DATE\"] = pd.to_datetime(HD[\"INSPECTION DATE\"])"
   ]
  },
  {
   "cell_type": "code",
   "execution_count": 5,
   "metadata": {},
   "outputs": [],
   "source": [
    "#remove anything before 01-01-2014\n",
    "HD = HD[HD[\"INSPECTION DATE\"] > '2014-01-01']"
   ]
  },
  {
   "cell_type": "code",
   "execution_count": 6,
   "metadata": {},
   "outputs": [],
   "source": [
    "HD = HD.sort_values(\"INSPECTION DATE\")"
   ]
  },
  {
   "cell_type": "code",
   "execution_count": 7,
   "metadata": {},
   "outputs": [
    {
     "data": {
      "text/plain": [
       "25697"
      ]
     },
     "execution_count": 7,
     "metadata": {},
     "output_type": "execute_result"
    }
   ],
   "source": [
    "len(HD[\"CAMIS\"].unique())"
   ]
  },
  {
   "cell_type": "code",
   "execution_count": 7,
   "metadata": {},
   "outputs": [
    {
     "data": {
      "text/plain": [
       "Y    217897\n",
       "N    171818\n",
       "Name: CRITICAL FLAG, dtype: int64"
      ]
     },
     "execution_count": 7,
     "metadata": {},
     "output_type": "execute_result"
    },
    {
     "data": {
      "text/plain": [
       "7691"
      ]
     },
     "execution_count": 7,
     "metadata": {},
     "output_type": "execute_result"
    },
    {
     "data": {
      "text/plain": [
       "400"
      ]
     },
     "execution_count": 7,
     "metadata": {},
     "output_type": "execute_result"
    }
   ],
   "source": [
    "HD[\"CRITICAL FLAG\"].value_counts()\n",
    "HD['CRITICAL FLAG'].isnull().sum(axis = 0)\n",
    "HD['Latitude'].isnull().sum(axis = 0)"
   ]
  },
  {
   "cell_type": "code",
   "execution_count": 8,
   "metadata": {},
   "outputs": [
    {
     "data": {
      "text/plain": [
       "Index(['CAMIS', 'DBA', 'BORO', 'BUILDING', 'STREET', 'ZIPCODE', 'PHONE',\n",
       "       'CUISINE DESCRIPTION', 'INSPECTION DATE', 'ACTION', 'VIOLATION CODE',\n",
       "       'VIOLATION DESCRIPTION', 'CRITICAL FLAG', 'SCORE', 'GRADE',\n",
       "       'GRADE DATE', 'RECORD DATE', 'INSPECTION TYPE', 'Latitude', 'Longitude',\n",
       "       'Community Board', 'Council District', 'Census Tract', 'BIN', 'BBL',\n",
       "       'NTA'],\n",
       "      dtype='object')"
      ]
     },
     "execution_count": 8,
     "metadata": {},
     "output_type": "execute_result"
    }
   ],
   "source": [
    "HD.columns"
   ]
  },
  {
   "cell_type": "markdown",
   "metadata": {},
   "source": [
    "# Recode critical flag so we can get a count of Y and N"
   ]
  },
  {
   "cell_type": "code",
   "execution_count": 9,
   "metadata": {},
   "outputs": [],
   "source": [
    "def recode_critical (row):\n",
    "    if row[\"CRITICAL FLAG\"] == \"Y\":\n",
    "        return 1\n",
    "    else:\n",
    "        return 0"
   ]
  },
  {
   "cell_type": "code",
   "execution_count": 10,
   "metadata": {},
   "outputs": [
    {
     "data": {
      "application/vnd.jupyter.widget-view+json": {
       "model_id": "6f1f756c8b0346888aaadf3f4a4bb36c",
       "version_major": 2,
       "version_minor": 0
      },
      "text/plain": [
       "HBox(children=(FloatProgress(value=0.0, description='Pandas Apply', max=397406.0, style=ProgressStyle(descript…"
      ]
     },
     "metadata": {},
     "output_type": "display_data"
    },
    {
     "name": "stdout",
     "output_type": "stream",
     "text": [
      "\n"
     ]
    }
   ],
   "source": [
    "HD['critical_flag_recode'] = HD.swifter.apply (lambda row: recode_critical(row), axis=1)"
   ]
  },
  {
   "cell_type": "code",
   "execution_count": 11,
   "metadata": {},
   "outputs": [
    {
     "data": {
      "text/plain": [
       "1    217897\n",
       "0    179509\n",
       "Name: critical_flag_recode, dtype: int64"
      ]
     },
     "execution_count": 11,
     "metadata": {},
     "output_type": "execute_result"
    },
    {
     "data": {
      "text/plain": [
       "0"
      ]
     },
     "execution_count": 11,
     "metadata": {},
     "output_type": "execute_result"
    }
   ],
   "source": [
    "HD[\"critical_flag_recode\"].value_counts()\n",
    "HD['critical_flag_recode'].isnull().sum(axis = 0)"
   ]
  },
  {
   "cell_type": "markdown",
   "metadata": {},
   "source": [
    "# Recode Inspection Type"
   ]
  },
  {
   "cell_type": "code",
   "execution_count": 12,
   "metadata": {},
   "outputs": [
    {
     "data": {
      "text/plain": [
       "Cycle Inspection / Initial Inspection                          232165\n",
       "Cycle Inspection / Re-inspection                                96839\n",
       "Pre-permit (Operational) / Initial Inspection                   27859\n",
       "Pre-permit (Operational) / Re-inspection                        12230\n",
       "Administrative Miscellaneous / Initial Inspection                7222\n",
       "Cycle Inspection / Reopening Inspection                          4522\n",
       "Pre-permit (Non-operational) / Initial Inspection                3501\n",
       "Smoke-Free Air Act / Initial Inspection                          2142\n",
       "Administrative Miscellaneous / Re-inspection                     2034\n",
       "Trans Fat / Initial Inspection                                   1584\n",
       "Pre-permit (Operational) / Compliance Inspection                 1268\n",
       "Calorie Posting / Initial Inspection                             1208\n",
       "Pre-permit (Operational) / Reopening Inspection                  1100\n",
       "Inter-Agency Task Force / Initial Inspection                     1086\n",
       "Cycle Inspection / Compliance Inspection                          723\n",
       "Smoke-Free Air Act / Re-inspection                                516\n",
       "Trans Fat / Re-inspection                                         360\n",
       "Pre-permit (Non-operational) / Re-inspection                      342\n",
       "Calorie Posting / Re-inspection                                   230\n",
       "Administrative Miscellaneous / Compliance Inspection              117\n",
       "Pre-permit (Operational) / Second Compliance Inspection           104\n",
       "Administrative Miscellaneous / Reopening Inspection               100\n",
       "Trans Fat / Compliance Inspection                                  33\n",
       "Pre-permit (Non-operational) / Compliance Inspection               30\n",
       "Smoke-Free Air Act / Limited Inspection                            30\n",
       "Calorie Posting / Compliance Inspection                            15\n",
       "Administrative Miscellaneous / Second Compliance Inspection        14\n",
       "Smoke-Free Air Act / Compliance Inspection                         14\n",
       "Cycle Inspection / Second Compliance Inspection                    14\n",
       "Trans Fat / Second Compliance Inspection                            3\n",
       "Pre-permit (Non-operational) / Second Compliance Inspection         1\n",
       "Name: INSPECTION TYPE, dtype: int64"
      ]
     },
     "execution_count": 12,
     "metadata": {},
     "output_type": "execute_result"
    }
   ],
   "source": [
    "HD['INSPECTION TYPE'].value_counts()"
   ]
  },
  {
   "cell_type": "code",
   "execution_count": 13,
   "metadata": {},
   "outputs": [
    {
     "data": {
      "text/plain": [
       "Initial          284855\n",
       "Re-inspection    112551\n",
       "Name: inspection_type_recode, dtype: int64"
      ]
     },
     "execution_count": 13,
     "metadata": {},
     "output_type": "execute_result"
    },
    {
     "data": {
      "text/plain": [
       "0"
      ]
     },
     "execution_count": 13,
     "metadata": {},
     "output_type": "execute_result"
    }
   ],
   "source": [
    "mask = HD['INSPECTION TYPE'].str.contains(r'Initial', na= True)\n",
    "HD.loc[mask,'inspection_type_recode']= 'Initial'\n",
    "mask2 = HD['INSPECTION TYPE'].str.contains(r'Re-inspection', na= True)\n",
    "HD.loc[mask2,'inspection_type_recode']= 'Re-inspection'\n",
    "mask3 = HD['INSPECTION TYPE'].str.contains(r'Compliance', na= True)\n",
    "HD.loc[mask3,'inspection_type_recode']= 'Initial'\n",
    "mask4 = HD['INSPECTION TYPE'].str.contains(r'Reopening', na= True)\n",
    "HD.loc[mask4,'inspection_type_recode']= 'Initial'\n",
    "mask5 = HD['INSPECTION TYPE'].str.contains(r'Limited', na= True)\n",
    "HD.loc[mask5,'inspection_type_recode']= 'Initial'\n",
    "HD['inspection_type_recode'].value_counts()\n",
    "HD['inspection_type_recode'].isnull().sum(axis = 0)"
   ]
  },
  {
   "cell_type": "markdown",
   "metadata": {},
   "source": [
    "# Group by Restaurant and Inspection Date"
   ]
  },
  {
   "cell_type": "code",
   "execution_count": 48,
   "metadata": {},
   "outputs": [
    {
     "data": {
      "text/html": [
       "<div>\n",
       "<style scoped>\n",
       "    .dataframe tbody tr th:only-of-type {\n",
       "        vertical-align: middle;\n",
       "    }\n",
       "\n",
       "    .dataframe tbody tr th {\n",
       "        vertical-align: top;\n",
       "    }\n",
       "\n",
       "    .dataframe thead th {\n",
       "        text-align: right;\n",
       "    }\n",
       "</style>\n",
       "<table border=\"1\" class=\"dataframe\">\n",
       "  <thead>\n",
       "    <tr style=\"text-align: right;\">\n",
       "      <th></th>\n",
       "      <th>CAMIS</th>\n",
       "      <th>INSPECTION DATE</th>\n",
       "      <th>critical_flag_recode</th>\n",
       "    </tr>\n",
       "  </thead>\n",
       "  <tbody>\n",
       "    <tr>\n",
       "      <th>0</th>\n",
       "      <td>30075445</td>\n",
       "      <td>2017-05-18</td>\n",
       "      <td>1</td>\n",
       "    </tr>\n",
       "    <tr>\n",
       "      <th>1</th>\n",
       "      <td>30075445</td>\n",
       "      <td>2018-05-11</td>\n",
       "      <td>0</td>\n",
       "    </tr>\n",
       "    <tr>\n",
       "      <th>2</th>\n",
       "      <td>30075445</td>\n",
       "      <td>2019-05-16</td>\n",
       "      <td>1</td>\n",
       "    </tr>\n",
       "    <tr>\n",
       "      <th>3</th>\n",
       "      <td>30075445</td>\n",
       "      <td>2019-06-11</td>\n",
       "      <td>0</td>\n",
       "    </tr>\n",
       "    <tr>\n",
       "      <th>4</th>\n",
       "      <td>30075445</td>\n",
       "      <td>2019-10-21</td>\n",
       "      <td>2</td>\n",
       "    </tr>\n",
       "    <tr>\n",
       "      <th>...</th>\n",
       "      <td>...</td>\n",
       "      <td>...</td>\n",
       "      <td>...</td>\n",
       "    </tr>\n",
       "    <tr>\n",
       "      <th>134435</th>\n",
       "      <td>50101998</td>\n",
       "      <td>2020-01-07</td>\n",
       "      <td>1</td>\n",
       "    </tr>\n",
       "    <tr>\n",
       "      <th>134436</th>\n",
       "      <td>50102076</td>\n",
       "      <td>2020-01-07</td>\n",
       "      <td>3</td>\n",
       "    </tr>\n",
       "    <tr>\n",
       "      <th>134437</th>\n",
       "      <td>50102276</td>\n",
       "      <td>2020-01-09</td>\n",
       "      <td>3</td>\n",
       "    </tr>\n",
       "    <tr>\n",
       "      <th>134438</th>\n",
       "      <td>50102300</td>\n",
       "      <td>2020-01-07</td>\n",
       "      <td>6</td>\n",
       "    </tr>\n",
       "    <tr>\n",
       "      <th>134439</th>\n",
       "      <td>50102397</td>\n",
       "      <td>2020-01-09</td>\n",
       "      <td>1</td>\n",
       "    </tr>\n",
       "  </tbody>\n",
       "</table>\n",
       "<p>134440 rows × 3 columns</p>\n",
       "</div>"
      ],
      "text/plain": [
       "           CAMIS INSPECTION DATE  critical_flag_recode\n",
       "0       30075445      2017-05-18                     1\n",
       "1       30075445      2018-05-11                     0\n",
       "2       30075445      2019-05-16                     1\n",
       "3       30075445      2019-06-11                     0\n",
       "4       30075445      2019-10-21                     2\n",
       "...          ...             ...                   ...\n",
       "134435  50101998      2020-01-07                     1\n",
       "134436  50102076      2020-01-07                     3\n",
       "134437  50102276      2020-01-09                     3\n",
       "134438  50102300      2020-01-07                     6\n",
       "134439  50102397      2020-01-09                     1\n",
       "\n",
       "[134440 rows x 3 columns]"
      ]
     },
     "execution_count": 48,
     "metadata": {},
     "output_type": "execute_result"
    },
    {
     "data": {
      "text/html": [
       "<div>\n",
       "<style scoped>\n",
       "    .dataframe tbody tr th:only-of-type {\n",
       "        vertical-align: middle;\n",
       "    }\n",
       "\n",
       "    .dataframe tbody tr th {\n",
       "        vertical-align: top;\n",
       "    }\n",
       "\n",
       "    .dataframe thead th {\n",
       "        text-align: right;\n",
       "    }\n",
       "</style>\n",
       "<table border=\"1\" class=\"dataframe\">\n",
       "  <thead>\n",
       "    <tr style=\"text-align: right;\">\n",
       "      <th></th>\n",
       "      <th></th>\n",
       "      <th>critical_flag_recode</th>\n",
       "    </tr>\n",
       "    <tr>\n",
       "      <th>CAMIS</th>\n",
       "      <th>INSPECTION DATE</th>\n",
       "      <th></th>\n",
       "    </tr>\n",
       "  </thead>\n",
       "  <tbody>\n",
       "    <tr>\n",
       "      <th rowspan=\"5\" valign=\"top\">30075445</th>\n",
       "      <th>2017-05-18</th>\n",
       "      <td>1</td>\n",
       "    </tr>\n",
       "    <tr>\n",
       "      <th>2018-05-11</th>\n",
       "      <td>0</td>\n",
       "    </tr>\n",
       "    <tr>\n",
       "      <th>2019-05-16</th>\n",
       "      <td>1</td>\n",
       "    </tr>\n",
       "    <tr>\n",
       "      <th>2019-06-11</th>\n",
       "      <td>0</td>\n",
       "    </tr>\n",
       "    <tr>\n",
       "      <th>2019-10-21</th>\n",
       "      <td>2</td>\n",
       "    </tr>\n",
       "  </tbody>\n",
       "</table>\n",
       "</div>"
      ],
      "text/plain": [
       "                          critical_flag_recode\n",
       "CAMIS    INSPECTION DATE                      \n",
       "30075445 2017-05-18                          1\n",
       "         2018-05-11                          0\n",
       "         2019-05-16                          1\n",
       "         2019-06-11                          0\n",
       "         2019-10-21                          2"
      ]
     },
     "execution_count": 48,
     "metadata": {},
     "output_type": "execute_result"
    },
    {
     "data": {
      "text/html": [
       "<div>\n",
       "<style scoped>\n",
       "    .dataframe tbody tr th:only-of-type {\n",
       "        vertical-align: middle;\n",
       "    }\n",
       "\n",
       "    .dataframe tbody tr th {\n",
       "        vertical-align: top;\n",
       "    }\n",
       "\n",
       "    .dataframe thead th {\n",
       "        text-align: right;\n",
       "    }\n",
       "</style>\n",
       "<table border=\"1\" class=\"dataframe\">\n",
       "  <thead>\n",
       "    <tr style=\"text-align: right;\">\n",
       "      <th></th>\n",
       "      <th></th>\n",
       "      <th>critical_flag_recode</th>\n",
       "    </tr>\n",
       "    <tr>\n",
       "      <th>CAMIS</th>\n",
       "      <th>INSPECTION DATE</th>\n",
       "      <th></th>\n",
       "    </tr>\n",
       "  </thead>\n",
       "  <tbody>\n",
       "    <tr>\n",
       "      <th>50101998</th>\n",
       "      <th>2020-01-07</th>\n",
       "      <td>1</td>\n",
       "    </tr>\n",
       "    <tr>\n",
       "      <th>50102076</th>\n",
       "      <th>2020-01-07</th>\n",
       "      <td>3</td>\n",
       "    </tr>\n",
       "    <tr>\n",
       "      <th>50102276</th>\n",
       "      <th>2020-01-09</th>\n",
       "      <td>3</td>\n",
       "    </tr>\n",
       "    <tr>\n",
       "      <th>50102300</th>\n",
       "      <th>2020-01-07</th>\n",
       "      <td>6</td>\n",
       "    </tr>\n",
       "    <tr>\n",
       "      <th>50102397</th>\n",
       "      <th>2020-01-09</th>\n",
       "      <td>1</td>\n",
       "    </tr>\n",
       "  </tbody>\n",
       "</table>\n",
       "</div>"
      ],
      "text/plain": [
       "                          critical_flag_recode\n",
       "CAMIS    INSPECTION DATE                      \n",
       "50101998 2020-01-07                          1\n",
       "50102076 2020-01-07                          3\n",
       "50102276 2020-01-09                          3\n",
       "50102300 2020-01-07                          6\n",
       "50102397 2020-01-09                          1"
      ]
     },
     "execution_count": 48,
     "metadata": {},
     "output_type": "execute_result"
    }
   ],
   "source": [
    "HD_grouped = HD.groupby([\"CAMIS\", \"INSPECTION DATE\"]).agg({'critical_flag_recode': 'sum'})\n",
    "HD_grouped.reset_index()\n",
    "HD_grouped.head()\n",
    "HD_grouped.tail()"
   ]
  },
  {
   "cell_type": "code",
   "execution_count": 11,
   "metadata": {},
   "outputs": [
    {
     "data": {
      "text/plain": [
       "<matplotlib.axes._subplots.AxesSubplot at 0x1a16f7b518>"
      ]
     },
     "execution_count": 11,
     "metadata": {},
     "output_type": "execute_result"
    },
    {
     "data": {
      "image/png": "[encoded data removed]",
      "text/plain": [
       "<Figure size 432x288 with 1 Axes>"
      ]
     },
     "metadata": {
      "needs_background": "light"
     },
     "output_type": "display_data"
    }
   ],
   "source": [
    "#pd.DataFrame.hist(HD_grouped)\n",
    "sns.distplot(HD_grouped, kde=False, color='r')"
   ]
  },
  {
   "cell_type": "markdown",
   "metadata": {},
   "source": [
    "# Group by cuisine type"
   ]
  },
  {
   "cell_type": "code",
   "execution_count": 12,
   "metadata": {},
   "outputs": [
    {
     "data": {
      "text/html": [
       "<div>\n",
       "<style scoped>\n",
       "    .dataframe tbody tr th:only-of-type {\n",
       "        vertical-align: middle;\n",
       "    }\n",
       "\n",
       "    .dataframe tbody tr th {\n",
       "        vertical-align: top;\n",
       "    }\n",
       "\n",
       "    .dataframe thead th {\n",
       "        text-align: right;\n",
       "    }\n",
       "</style>\n",
       "<table border=\"1\" class=\"dataframe\">\n",
       "  <thead>\n",
       "    <tr style=\"text-align: right;\">\n",
       "      <th></th>\n",
       "      <th>CUISINE DESCRIPTION</th>\n",
       "      <th>critical_flag_recode</th>\n",
       "      <th>CAMIS</th>\n",
       "      <th>AVG_flags</th>\n",
       "    </tr>\n",
       "  </thead>\n",
       "  <tbody>\n",
       "    <tr>\n",
       "      <th>10</th>\n",
       "      <td>Basque</td>\n",
       "      <td>3</td>\n",
       "      <td>7</td>\n",
       "      <td>0.428571</td>\n",
       "    </tr>\n",
       "    <tr>\n",
       "      <th>18</th>\n",
       "      <td>Chilean</td>\n",
       "      <td>19</td>\n",
       "      <td>34</td>\n",
       "      <td>0.558824</td>\n",
       "    </tr>\n",
       "    <tr>\n",
       "      <th>25</th>\n",
       "      <td>Czech</td>\n",
       "      <td>23</td>\n",
       "      <td>41</td>\n",
       "      <td>0.560976</td>\n",
       "    </tr>\n",
       "    <tr>\n",
       "      <th>57</th>\n",
       "      <td>Nuts/Confectionary</td>\n",
       "      <td>15</td>\n",
       "      <td>43</td>\n",
       "      <td>0.348837</td>\n",
       "    </tr>\n",
       "    <tr>\n",
       "      <th>56</th>\n",
       "      <td>Not Listed/Not Applicable</td>\n",
       "      <td>35</td>\n",
       "      <td>64</td>\n",
       "      <td>0.546875</td>\n",
       "    </tr>\n",
       "  </tbody>\n",
       "</table>\n",
       "</div>"
      ],
      "text/plain": [
       "          CUISINE DESCRIPTION  critical_flag_recode  CAMIS  AVG_flags\n",
       "10                     Basque                     3      7   0.428571\n",
       "18                    Chilean                    19     34   0.558824\n",
       "25                      Czech                    23     41   0.560976\n",
       "57         Nuts/Confectionary                    15     43   0.348837\n",
       "56  Not Listed/Not Applicable                    35     64   0.546875"
      ]
     },
     "execution_count": 12,
     "metadata": {},
     "output_type": "execute_result"
    },
    {
     "data": {
      "text/html": [
       "<div>\n",
       "<style scoped>\n",
       "    .dataframe tbody tr th:only-of-type {\n",
       "        vertical-align: middle;\n",
       "    }\n",
       "\n",
       "    .dataframe tbody tr th {\n",
       "        vertical-align: top;\n",
       "    }\n",
       "\n",
       "    .dataframe thead th {\n",
       "        text-align: right;\n",
       "    }\n",
       "</style>\n",
       "<table border=\"1\" class=\"dataframe\">\n",
       "  <thead>\n",
       "    <tr style=\"text-align: right;\">\n",
       "      <th></th>\n",
       "      <th>CUISINE DESCRIPTION</th>\n",
       "      <th>critical_flag_recode</th>\n",
       "      <th>CAMIS</th>\n",
       "      <th>AVG_flags</th>\n",
       "    </tr>\n",
       "  </thead>\n",
       "  <tbody>\n",
       "    <tr>\n",
       "      <th>51</th>\n",
       "      <td>Latin (Cuban, Dominican, Puerto Rican, South &amp;...</td>\n",
       "      <td>9945</td>\n",
       "      <td>17419</td>\n",
       "      <td>0.570928</td>\n",
       "    </tr>\n",
       "    <tr>\n",
       "      <th>62</th>\n",
       "      <td>Pizza</td>\n",
       "      <td>9564</td>\n",
       "      <td>17515</td>\n",
       "      <td>0.546046</td>\n",
       "    </tr>\n",
       "    <tr>\n",
       "      <th>13</th>\n",
       "      <td>Café/Coffee/Tea</td>\n",
       "      <td>9772</td>\n",
       "      <td>19420</td>\n",
       "      <td>0.503193</td>\n",
       "    </tr>\n",
       "    <tr>\n",
       "      <th>19</th>\n",
       "      <td>Chinese</td>\n",
       "      <td>24036</td>\n",
       "      <td>41896</td>\n",
       "      <td>0.573706</td>\n",
       "    </tr>\n",
       "    <tr>\n",
       "      <th>2</th>\n",
       "      <td>American</td>\n",
       "      <td>45029</td>\n",
       "      <td>83710</td>\n",
       "      <td>0.537917</td>\n",
       "    </tr>\n",
       "  </tbody>\n",
       "</table>\n",
       "</div>"
      ],
      "text/plain": [
       "                                  CUISINE DESCRIPTION  critical_flag_recode  \\\n",
       "51  Latin (Cuban, Dominican, Puerto Rican, South &...                  9945   \n",
       "62                                              Pizza                  9564   \n",
       "13                                    Café/Coffee/Tea                  9772   \n",
       "19                                            Chinese                 24036   \n",
       "2                                            American                 45029   \n",
       "\n",
       "    CAMIS  AVG_flags  \n",
       "51  17419   0.570928  \n",
       "62  17515   0.546046  \n",
       "13  19420   0.503193  \n",
       "19  41896   0.573706  \n",
       "2   83710   0.537917  "
      ]
     },
     "execution_count": 12,
     "metadata": {},
     "output_type": "execute_result"
    }
   ],
   "source": [
    "HD_grouped_byCuisine = HD.groupby(\"CUISINE DESCRIPTION\").agg({\"critical_flag_recode\":'sum', 'CAMIS':'count'})\n",
    "HD_grouped_byCuisine=HD_grouped_byCuisine.reset_index()\n",
    "HD_grouped_byCuisine['AVG_flags']= HD_grouped_byCuisine[\"critical_flag_recode\"]/HD_grouped_byCuisine['CAMIS']\n",
    "HD_grouped_byCuisine= HD_grouped_byCuisine.sort_values('CAMIS')\n",
    "HD_grouped_byCuisine.head()\n",
    "HD_grouped_byCuisine.tail()"
   ]
  },
  {
   "cell_type": "code",
   "execution_count": 13,
   "metadata": {},
   "outputs": [
    {
     "data": {
      "text/plain": [
       "(0.2, 0.6)"
      ]
     },
     "execution_count": 13,
     "metadata": {},
     "output_type": "execute_result"
    },
    {
     "data": {
      "text/plain": [
       "<BarContainer object of 5 artists>"
      ]
     },
     "execution_count": 13,
     "metadata": {},
     "output_type": "execute_result"
    },
    {
     "data": {
      "text/plain": [
       "Text(0.5, 1.0, 'Average number of flags in the Top 5 most popular restaurant types')"
      ]
     },
     "execution_count": 13,
     "metadata": {},
     "output_type": "execute_result"
    },
    {
     "data": {
      "image/png": "[encoded data removed]",
      "text/plain": [
       "<Figure size 1080x288 with 1 Axes>"
      ]
     },
     "metadata": {
      "needs_background": "light"
     },
     "output_type": "display_data"
    }
   ],
   "source": [
    "fig = plt.figure(figsize=(15,4))\n",
    "plt.ylim(0.2,0.6)\n",
    "HD_top5 = HD_grouped_byCuisine.nlargest(5,columns='CAMIS')\n",
    "plt.bar(HD_top5[\"CUISINE DESCRIPTION\"],HD_top5[\"AVG_flags\"])\n",
    "plt.title(\"Average number of flags in the Top 5 most popular restaurant types\")"
   ]
  },
  {
   "cell_type": "markdown",
   "metadata": {},
   "source": [
    "# Group by Restaurant"
   ]
  },
  {
   "cell_type": "code",
   "execution_count": 14,
   "metadata": {},
   "outputs": [
    {
     "data": {
      "text/plain": [
       "<matplotlib.axes._subplots.AxesSubplot at 0x1c1abfd208>"
      ]
     },
     "execution_count": 14,
     "metadata": {},
     "output_type": "execute_result"
    },
    {
     "data": {
      "text/plain": [
       "Text(0.5, 1.0, 'Total Number of Critical Violations')"
      ]
     },
     "execution_count": 14,
     "metadata": {},
     "output_type": "execute_result"
    },
    {
     "data": {
      "text/plain": [
       "(0, 40)"
      ]
     },
     "execution_count": 14,
     "metadata": {},
     "output_type": "execute_result"
    },
    {
     "data": {
      "image/png": "[encoded data removed]",
      "text/plain": [
       "<Figure size 432x288 with 1 Axes>"
      ]
     },
     "metadata": {
      "needs_background": "light"
     },
     "output_type": "display_data"
    }
   ],
   "source": [
    "HD_grouped_byRest = HD.groupby(\"CAMIS\").agg({'critical_flag_recode': 'sum'})\n",
    "sns.set_context(\"talk\")\n",
    "sns.distplot(HD_grouped_byRest, kde=False, color='r')\n",
    "sns.despine()\n",
    "plt.title('Total Number of Critical Violations')\n",
    "plt.xlim(0,40) \n",
    "HD_grouped_byRest.rename(columns = {'critical_flag_recode':'total_critical_flags'}, inplace = True)"
   ]
  },
  {
   "cell_type": "markdown",
   "metadata": {},
   "source": [
    "### Find first and last inspection date for each restaurant"
   ]
  },
  {
   "cell_type": "code",
   "execution_count": 17,
   "metadata": {},
   "outputs": [
    {
     "data": {
      "text/plain": [
       "25697"
      ]
     },
     "execution_count": 17,
     "metadata": {},
     "output_type": "execute_result"
    },
    {
     "data": {
      "text/html": [
       "<div>\n",
       "<style scoped>\n",
       "    .dataframe tbody tr th:only-of-type {\n",
       "        vertical-align: middle;\n",
       "    }\n",
       "\n",
       "    .dataframe tbody tr th {\n",
       "        vertical-align: top;\n",
       "    }\n",
       "\n",
       "    .dataframe thead th {\n",
       "        text-align: right;\n",
       "    }\n",
       "</style>\n",
       "<table border=\"1\" class=\"dataframe\">\n",
       "  <thead>\n",
       "    <tr style=\"text-align: right;\">\n",
       "      <th></th>\n",
       "      <th>CAMIS</th>\n",
       "      <th>last_inspection_date</th>\n",
       "    </tr>\n",
       "  </thead>\n",
       "  <tbody>\n",
       "    <tr>\n",
       "      <th>0</th>\n",
       "      <td>30075445</td>\n",
       "      <td>2019-11-04</td>\n",
       "    </tr>\n",
       "    <tr>\n",
       "      <th>1</th>\n",
       "      <td>30112340</td>\n",
       "      <td>2019-03-04</td>\n",
       "    </tr>\n",
       "    <tr>\n",
       "      <th>2</th>\n",
       "      <td>30191841</td>\n",
       "      <td>2019-06-06</td>\n",
       "    </tr>\n",
       "    <tr>\n",
       "      <th>3</th>\n",
       "      <td>40356018</td>\n",
       "      <td>2019-11-08</td>\n",
       "    </tr>\n",
       "    <tr>\n",
       "      <th>4</th>\n",
       "      <td>40356151</td>\n",
       "      <td>2018-10-06</td>\n",
       "    </tr>\n",
       "  </tbody>\n",
       "</table>\n",
       "</div>"
      ],
      "text/plain": [
       "      CAMIS last_inspection_date\n",
       "0  30075445           2019-11-04\n",
       "1  30112340           2019-03-04\n",
       "2  30191841           2019-06-06\n",
       "3  40356018           2019-11-08\n",
       "4  40356151           2018-10-06"
      ]
     },
     "execution_count": 17,
     "metadata": {},
     "output_type": "execute_result"
    },
    {
     "data": {
      "text/plain": [
       "25697"
      ]
     },
     "execution_count": 17,
     "metadata": {},
     "output_type": "execute_result"
    }
   ],
   "source": [
    "HD_grouped_minDate = HD.groupby(\"CAMIS\").agg({'INSPECTION DATE': 'min'})\n",
    "HD_grouped_minDate = HD_grouped_minDate.reset_index()\n",
    "HD_grouped_minDate.columns = ['CAMIS', 'first_inspection_date']\n",
    "len(HD_grouped_minDate)\n",
    "HD_grouped_maxDate = HD.groupby(\"CAMIS\").agg({'INSPECTION DATE': 'max'})\n",
    "HD_grouped_maxDate = HD_grouped_maxDate.reset_index()\n",
    "HD_grouped_maxDate.columns = ['CAMIS', 'last_inspection_date']\n",
    "HD_grouped_maxDate.head()\n",
    "len(HD_grouped_maxDate)"
   ]
  },
  {
   "cell_type": "markdown",
   "metadata": {},
   "source": [
    "#### Merge first and last dates"
   ]
  },
  {
   "cell_type": "code",
   "execution_count": 18,
   "metadata": {},
   "outputs": [
    {
     "data": {
      "text/plain": [
       "25697"
      ]
     },
     "execution_count": 18,
     "metadata": {},
     "output_type": "execute_result"
    },
    {
     "data": {
      "text/html": [
       "<div>\n",
       "<style scoped>\n",
       "    .dataframe tbody tr th:only-of-type {\n",
       "        vertical-align: middle;\n",
       "    }\n",
       "\n",
       "    .dataframe tbody tr th {\n",
       "        vertical-align: top;\n",
       "    }\n",
       "\n",
       "    .dataframe thead th {\n",
       "        text-align: right;\n",
       "    }\n",
       "</style>\n",
       "<table border=\"1\" class=\"dataframe\">\n",
       "  <thead>\n",
       "    <tr style=\"text-align: right;\">\n",
       "      <th></th>\n",
       "      <th>CAMIS</th>\n",
       "      <th>first_inspection_date</th>\n",
       "      <th>last_inspection_date</th>\n",
       "    </tr>\n",
       "  </thead>\n",
       "  <tbody>\n",
       "    <tr>\n",
       "      <th>0</th>\n",
       "      <td>30075445</td>\n",
       "      <td>2017-05-18</td>\n",
       "      <td>2019-11-04</td>\n",
       "    </tr>\n",
       "    <tr>\n",
       "      <th>1</th>\n",
       "      <td>30112340</td>\n",
       "      <td>2016-04-12</td>\n",
       "      <td>2019-03-04</td>\n",
       "    </tr>\n",
       "    <tr>\n",
       "      <th>2</th>\n",
       "      <td>30191841</td>\n",
       "      <td>2017-07-27</td>\n",
       "      <td>2019-06-06</td>\n",
       "    </tr>\n",
       "    <tr>\n",
       "      <th>3</th>\n",
       "      <td>40356018</td>\n",
       "      <td>2017-07-20</td>\n",
       "      <td>2019-11-08</td>\n",
       "    </tr>\n",
       "    <tr>\n",
       "      <th>4</th>\n",
       "      <td>40356151</td>\n",
       "      <td>2016-05-14</td>\n",
       "      <td>2018-10-06</td>\n",
       "    </tr>\n",
       "  </tbody>\n",
       "</table>\n",
       "</div>"
      ],
      "text/plain": [
       "      CAMIS first_inspection_date last_inspection_date\n",
       "0  30075445            2017-05-18           2019-11-04\n",
       "1  30112340            2016-04-12           2019-03-04\n",
       "2  30191841            2017-07-27           2019-06-06\n",
       "3  40356018            2017-07-20           2019-11-08\n",
       "4  40356151            2016-05-14           2018-10-06"
      ]
     },
     "execution_count": 18,
     "metadata": {},
     "output_type": "execute_result"
    },
    {
     "data": {
      "text/plain": [
       "CAMIS                             int64\n",
       "first_inspection_date    datetime64[ns]\n",
       "last_inspection_date     datetime64[ns]\n",
       "dtype: object"
      ]
     },
     "execution_count": 18,
     "metadata": {},
     "output_type": "execute_result"
    }
   ],
   "source": [
    "HD_grouped_minmaxDate = pd.merge(HD_grouped_minDate, HD_grouped_maxDate, left_on = ['CAMIS'], right_on = ['CAMIS'], how = 'inner')\n",
    "len(HD_grouped_minmaxDate)\n",
    "HD_grouped_minmaxDate.head()\n",
    "HD_grouped_minmaxDate.dtypes"
   ]
  },
  {
   "cell_type": "markdown",
   "metadata": {},
   "source": [
    "#### Calculate number of years active"
   ]
  },
  {
   "cell_type": "code",
   "execution_count": 94,
   "metadata": {},
   "outputs": [
    {
     "data": {
      "text/html": [
       "<div>\n",
       "<style scoped>\n",
       "    .dataframe tbody tr th:only-of-type {\n",
       "        vertical-align: middle;\n",
       "    }\n",
       "\n",
       "    .dataframe tbody tr th {\n",
       "        vertical-align: top;\n",
       "    }\n",
       "\n",
       "    .dataframe thead th {\n",
       "        text-align: right;\n",
       "    }\n",
       "</style>\n",
       "<table border=\"1\" class=\"dataframe\">\n",
       "  <thead>\n",
       "    <tr style=\"text-align: right;\">\n",
       "      <th></th>\n",
       "      <th>first_inspection_date</th>\n",
       "      <th>last_inspection_date</th>\n",
       "      <th>num_years_active</th>\n",
       "    </tr>\n",
       "    <tr>\n",
       "      <th>CAMIS</th>\n",
       "      <th></th>\n",
       "      <th></th>\n",
       "      <th></th>\n",
       "    </tr>\n",
       "  </thead>\n",
       "  <tbody>\n",
       "    <tr>\n",
       "      <th>30075445</th>\n",
       "      <td>2017-05-18</td>\n",
       "      <td>2019-11-04</td>\n",
       "      <td>2.0</td>\n",
       "    </tr>\n",
       "    <tr>\n",
       "      <th>30112340</th>\n",
       "      <td>2016-04-12</td>\n",
       "      <td>2019-03-04</td>\n",
       "      <td>3.0</td>\n",
       "    </tr>\n",
       "    <tr>\n",
       "      <th>30191841</th>\n",
       "      <td>2017-07-27</td>\n",
       "      <td>2019-06-06</td>\n",
       "      <td>2.0</td>\n",
       "    </tr>\n",
       "    <tr>\n",
       "      <th>40356018</th>\n",
       "      <td>2017-07-20</td>\n",
       "      <td>2019-11-08</td>\n",
       "      <td>2.0</td>\n",
       "    </tr>\n",
       "    <tr>\n",
       "      <th>40356151</th>\n",
       "      <td>2016-05-14</td>\n",
       "      <td>2018-10-06</td>\n",
       "      <td>2.0</td>\n",
       "    </tr>\n",
       "  </tbody>\n",
       "</table>\n",
       "</div>"
      ],
      "text/plain": [
       "         first_inspection_date last_inspection_date  num_years_active\n",
       "CAMIS                                                                \n",
       "30075445            2017-05-18           2019-11-04               2.0\n",
       "30112340            2016-04-12           2019-03-04               3.0\n",
       "30191841            2017-07-27           2019-06-06               2.0\n",
       "40356018            2017-07-20           2019-11-08               2.0\n",
       "40356151            2016-05-14           2018-10-06               2.0"
      ]
     },
     "execution_count": 94,
     "metadata": {},
     "output_type": "execute_result"
    }
   ],
   "source": [
    "HD_grouped_minmaxDate['num_years_active'] = (HD_grouped_minmaxDate['last_inspection_date'] - HD_grouped_minmaxDate['first_inspection_date']).dt.days/365.25\n",
    "HD_grouped_minmaxDate = HD_grouped_minmaxDate.set_index('CAMIS')\n",
    "HD_grouped_minmaxDate['num_years_active'] = HD_grouped_minmaxDate['num_years_active'].round(0)\n",
    "HD_grouped_minmaxDate.head()"
   ]
  },
  {
   "cell_type": "markdown",
   "metadata": {},
   "source": [
    "#### Calculate average number of years"
   ]
  },
  {
   "cell_type": "code",
   "execution_count": 97,
   "metadata": {},
   "outputs": [
    {
     "data": {
      "text/plain": [
       "25697"
      ]
     },
     "execution_count": 97,
     "metadata": {},
     "output_type": "execute_result"
    },
    {
     "data": {
      "text/html": [
       "<div>\n",
       "<style scoped>\n",
       "    .dataframe tbody tr th:only-of-type {\n",
       "        vertical-align: middle;\n",
       "    }\n",
       "\n",
       "    .dataframe tbody tr th {\n",
       "        vertical-align: top;\n",
       "    }\n",
       "\n",
       "    .dataframe thead th {\n",
       "        text-align: right;\n",
       "    }\n",
       "</style>\n",
       "<table border=\"1\" class=\"dataframe\">\n",
       "  <thead>\n",
       "    <tr style=\"text-align: right;\">\n",
       "      <th></th>\n",
       "      <th>total_critical_flags</th>\n",
       "      <th>first_inspection_date</th>\n",
       "      <th>last_inspection_date</th>\n",
       "      <th>num_years_active</th>\n",
       "      <th>avg_num_critical_flags_per_year</th>\n",
       "    </tr>\n",
       "    <tr>\n",
       "      <th>CAMIS</th>\n",
       "      <th></th>\n",
       "      <th></th>\n",
       "      <th></th>\n",
       "      <th></th>\n",
       "      <th></th>\n",
       "    </tr>\n",
       "  </thead>\n",
       "  <tbody>\n",
       "    <tr>\n",
       "      <th>30075445</th>\n",
       "      <td>5</td>\n",
       "      <td>2017-05-18</td>\n",
       "      <td>2019-11-04</td>\n",
       "      <td>2.0</td>\n",
       "      <td>2.5</td>\n",
       "    </tr>\n",
       "    <tr>\n",
       "      <th>30112340</th>\n",
       "      <td>9</td>\n",
       "      <td>2016-04-12</td>\n",
       "      <td>2019-03-04</td>\n",
       "      <td>3.0</td>\n",
       "      <td>3.0</td>\n",
       "    </tr>\n",
       "    <tr>\n",
       "      <th>30191841</th>\n",
       "      <td>5</td>\n",
       "      <td>2017-07-27</td>\n",
       "      <td>2019-06-06</td>\n",
       "      <td>2.0</td>\n",
       "      <td>2.5</td>\n",
       "    </tr>\n",
       "    <tr>\n",
       "      <th>40356018</th>\n",
       "      <td>3</td>\n",
       "      <td>2017-07-20</td>\n",
       "      <td>2019-11-08</td>\n",
       "      <td>2.0</td>\n",
       "      <td>1.5</td>\n",
       "    </tr>\n",
       "    <tr>\n",
       "      <th>40356151</th>\n",
       "      <td>4</td>\n",
       "      <td>2016-05-14</td>\n",
       "      <td>2018-10-06</td>\n",
       "      <td>2.0</td>\n",
       "      <td>2.0</td>\n",
       "    </tr>\n",
       "  </tbody>\n",
       "</table>\n",
       "</div>"
      ],
      "text/plain": [
       "          total_critical_flags first_inspection_date last_inspection_date  \\\n",
       "CAMIS                                                                       \n",
       "30075445                     5            2017-05-18           2019-11-04   \n",
       "30112340                     9            2016-04-12           2019-03-04   \n",
       "30191841                     5            2017-07-27           2019-06-06   \n",
       "40356018                     3            2017-07-20           2019-11-08   \n",
       "40356151                     4            2016-05-14           2018-10-06   \n",
       "\n",
       "          num_years_active  avg_num_critical_flags_per_year  \n",
       "CAMIS                                                        \n",
       "30075445               2.0                              2.5  \n",
       "30112340               3.0                              3.0  \n",
       "30191841               2.0                              2.5  \n",
       "40356018               2.0                              1.5  \n",
       "40356151               2.0                              2.0  "
      ]
     },
     "execution_count": 97,
     "metadata": {},
     "output_type": "execute_result"
    },
    {
     "data": {
      "text/plain": [
       "total_critical_flags                        int64\n",
       "first_inspection_date              datetime64[ns]\n",
       "last_inspection_date               datetime64[ns]\n",
       "num_years_active                          float64\n",
       "avg_num_critical_flags_per_year           float64\n",
       "dtype: object"
      ]
     },
     "execution_count": 97,
     "metadata": {},
     "output_type": "execute_result"
    }
   ],
   "source": [
    "HD_grouped_byRest_Years = pd.merge(HD_grouped_byRest, HD_grouped_minmaxDate, left_on = ['CAMIS'], right_on = ['CAMIS'], how = 'inner')\n",
    "len(HD_grouped_byRest_Years)\n",
    "HD_grouped_byRest_Years['avg_num_critical_flags_per_year'] = HD_grouped_byRest_Years['total_critical_flags']/HD_grouped_byRest_Years['num_years_active']\n",
    "HD_grouped_byRest_Years.head()\n",
    "HD_grouped_byRest_Years.dtypes"
   ]
  },
  {
   "cell_type": "markdown",
   "metadata": {},
   "source": [
    "#### For places with only one inspection, need to replace avg_num_critical_flags_per_year with total_critical_flags"
   ]
  },
  {
   "cell_type": "code",
   "execution_count": 98,
   "metadata": {},
   "outputs": [],
   "source": [
    "HD_grouped_byRest_Years.loc[HD_grouped_byRest_Years['num_years_active']== 0, 'avg_num_critical_flags_per_year'] = HD_grouped_byRest_Years['total_critical_flags']"
   ]
  },
  {
   "cell_type": "code",
   "execution_count": 104,
   "metadata": {},
   "outputs": [
    {
     "data": {
      "text/plain": [
       "0.0"
      ]
     },
     "execution_count": 104,
     "metadata": {},
     "output_type": "execute_result"
    },
    {
     "data": {
      "text/plain": [
       "36.0"
      ]
     },
     "execution_count": 104,
     "metadata": {},
     "output_type": "execute_result"
    },
    {
     "data": {
      "text/plain": [
       "total_critical_flags                                36\n",
       "first_inspection_date              2018-12-05 00:00:00\n",
       "last_inspection_date               2019-12-24 00:00:00\n",
       "num_years_active                                     1\n",
       "avg_num_critical_flags_per_year                     36\n",
       "Name: 50085705, dtype: object"
      ]
     },
     "execution_count": 104,
     "metadata": {},
     "output_type": "execute_result"
    },
    {
     "data": {
      "text/plain": [
       "25697"
      ]
     },
     "execution_count": 104,
     "metadata": {},
     "output_type": "execute_result"
    }
   ],
   "source": [
    "HD_grouped_byRest_Years['avg_num_critical_flags_per_year'].min()\n",
    "HD_grouped_byRest_Years['avg_num_critical_flags_per_year'].max()\n",
    "HD_grouped_byRest_Years.loc[HD_grouped_byRest_Years['avg_num_critical_flags_per_year'].idxmax()]\n",
    "len(HD_grouped_byRest_Years)\n",
    "HD_grouped_byRest_Years.to_csv(r'HD_grouped_byRest_Years.csv')"
   ]
  },
  {
   "cell_type": "markdown",
   "metadata": {},
   "source": [
    "# create a list to use for searching yelp"
   ]
  },
  {
   "cell_type": "code",
   "execution_count": 91,
   "metadata": {},
   "outputs": [
    {
     "data": {
      "text/html": [
       "<div>\n",
       "<style scoped>\n",
       "    .dataframe tbody tr th:only-of-type {\n",
       "        vertical-align: middle;\n",
       "    }\n",
       "\n",
       "    .dataframe tbody tr th {\n",
       "        vertical-align: top;\n",
       "    }\n",
       "\n",
       "    .dataframe thead th {\n",
       "        text-align: right;\n",
       "    }\n",
       "</style>\n",
       "<table border=\"1\" class=\"dataframe\">\n",
       "  <thead>\n",
       "    <tr style=\"text-align: right;\">\n",
       "      <th></th>\n",
       "      <th>CAMIS</th>\n",
       "      <th>DBA</th>\n",
       "      <th>BORO</th>\n",
       "      <th>ZIPCODE</th>\n",
       "      <th>PHONE</th>\n",
       "      <th>Latitude</th>\n",
       "      <th>Longitude</th>\n",
       "    </tr>\n",
       "  </thead>\n",
       "  <tbody>\n",
       "    <tr>\n",
       "      <th>13541</th>\n",
       "      <td>50003303</td>\n",
       "      <td>BROOKLYN SWEET SPOT</td>\n",
       "      <td>Brooklyn</td>\n",
       "      <td>11205.0</td>\n",
       "      <td>7185222577</td>\n",
       "      <td>40.693184</td>\n",
       "      <td>-73.971562</td>\n",
       "    </tr>\n",
       "    <tr>\n",
       "      <th>4045</th>\n",
       "      <td>41308050</td>\n",
       "      <td>RELISH CONCESSIONS (LASKER RINK)</td>\n",
       "      <td>Manhattan</td>\n",
       "      <td>NaN</td>\n",
       "      <td>9174923856</td>\n",
       "      <td>0.000000</td>\n",
       "      <td>0.000000</td>\n",
       "    </tr>\n",
       "    <tr>\n",
       "      <th>388145</th>\n",
       "      <td>41702635</td>\n",
       "      <td>KAPPOCK CAFE</td>\n",
       "      <td>Bronx</td>\n",
       "      <td>10463.0</td>\n",
       "      <td>7186015500</td>\n",
       "      <td>40.878731</td>\n",
       "      <td>-73.917529</td>\n",
       "    </tr>\n",
       "    <tr>\n",
       "      <th>140010</th>\n",
       "      <td>50012569</td>\n",
       "      <td>CASA MEXICANA</td>\n",
       "      <td>Manhattan</td>\n",
       "      <td>10025.0</td>\n",
       "      <td>2122223151</td>\n",
       "      <td>40.799035</td>\n",
       "      <td>-73.966742</td>\n",
       "    </tr>\n",
       "    <tr>\n",
       "      <th>231232</th>\n",
       "      <td>50000233</td>\n",
       "      <td>PALM COURT</td>\n",
       "      <td>Manhattan</td>\n",
       "      <td>10019.0</td>\n",
       "      <td>2127593000</td>\n",
       "      <td>40.764148</td>\n",
       "      <td>-73.973951</td>\n",
       "    </tr>\n",
       "  </tbody>\n",
       "</table>\n",
       "</div>"
      ],
      "text/plain": [
       "           CAMIS                               DBA       BORO  ZIPCODE  \\\n",
       "13541   50003303               BROOKLYN SWEET SPOT   Brooklyn  11205.0   \n",
       "4045    41308050  RELISH CONCESSIONS (LASKER RINK)  Manhattan      NaN   \n",
       "388145  41702635                      KAPPOCK CAFE      Bronx  10463.0   \n",
       "140010  50012569                     CASA MEXICANA  Manhattan  10025.0   \n",
       "231232  50000233                        PALM COURT  Manhattan  10019.0   \n",
       "\n",
       "             PHONE   Latitude  Longitude  \n",
       "13541   7185222577  40.693184 -73.971562  \n",
       "4045    9174923856   0.000000   0.000000  \n",
       "388145  7186015500  40.878731 -73.917529  \n",
       "140010  2122223151  40.799035 -73.966742  \n",
       "231232  2127593000  40.764148 -73.973951  "
      ]
     },
     "execution_count": 91,
     "metadata": {},
     "output_type": "execute_result"
    }
   ],
   "source": [
    "yelp_list = HD[['CAMIS', 'DBA', 'BORO', 'ZIPCODE', 'PHONE', 'Latitude', 'Longitude']]\n",
    "#remove duplicates\n",
    "yelp_list_stripped = yelp_list.drop_duplicates(['CAMIS'])\n",
    "yelp_list_stripped.head()"
   ]
  },
  {
   "cell_type": "markdown",
   "metadata": {},
   "source": [
    "# Do some cleaning for yelp search"
   ]
  },
  {
   "cell_type": "code",
   "execution_count": 92,
   "metadata": {},
   "outputs": [
    {
     "data": {
      "text/plain": [
       "0.000000     399\n",
       "40.648313    118\n",
       "40.750655     67\n",
       "40.774414     61\n",
       "40.829028     45\n",
       "            ... \n",
       "40.610341      1\n",
       "40.713265      1\n",
       "40.735671      1\n",
       "40.725661      1\n",
       "40.737156      1\n",
       "Name: Latitude, Length: 21746, dtype: int64"
      ]
     },
     "execution_count": 92,
     "metadata": {},
     "output_type": "execute_result"
    },
    {
     "data": {
      "text/plain": [
       " 0.000000     399\n",
       "-73.788281    118\n",
       "-73.991944     67\n",
       "-73.877293     61\n",
       "-73.928496     45\n",
       "             ... \n",
       "-73.877641      1\n",
       "-73.935739      1\n",
       "-73.955130      1\n",
       "-73.954514      1\n",
       "-73.707634      1\n",
       "Name: Longitude, Length: 21746, dtype: int64"
      ]
     },
     "execution_count": 92,
     "metadata": {},
     "output_type": "execute_result"
    },
    {
     "name": "stderr",
     "output_type": "stream",
     "text": [
      "/anaconda3/envs/insight/lib/python3.6/site-packages/ipykernel_launcher.py:3: SettingWithCopyWarning: \n",
      "A value is trying to be set on a copy of a slice from a DataFrame.\n",
      "Try using .loc[row_indexer,col_indexer] = value instead\n",
      "\n",
      "See the caveats in the documentation: http://pandas.pydata.org/pandas-docs/stable/user_guide/indexing.html#returning-a-view-versus-a-copy\n",
      "  This is separate from the ipykernel package so we can avoid doing imports until\n",
      "/anaconda3/envs/insight/lib/python3.6/site-packages/ipykernel_launcher.py:4: SettingWithCopyWarning: \n",
      "A value is trying to be set on a copy of a slice from a DataFrame.\n",
      "Try using .loc[row_indexer,col_indexer] = value instead\n",
      "\n",
      "See the caveats in the documentation: http://pandas.pydata.org/pandas-docs/stable/user_guide/indexing.html#returning-a-view-versus-a-copy\n",
      "  after removing the cwd from sys.path.\n",
      "/anaconda3/envs/insight/lib/python3.6/site-packages/ipykernel_launcher.py:5: SettingWithCopyWarning: \n",
      "A value is trying to be set on a copy of a slice from a DataFrame.\n",
      "Try using .loc[row_indexer,col_indexer] = value instead\n",
      "\n",
      "See the caveats in the documentation: http://pandas.pydata.org/pandas-docs/stable/user_guide/indexing.html#returning-a-view-versus-a-copy\n",
      "  \"\"\"\n"
     ]
    },
    {
     "data": {
      "text/html": [
       "<div>\n",
       "<style scoped>\n",
       "    .dataframe tbody tr th:only-of-type {\n",
       "        vertical-align: middle;\n",
       "    }\n",
       "\n",
       "    .dataframe tbody tr th {\n",
       "        vertical-align: top;\n",
       "    }\n",
       "\n",
       "    .dataframe thead th {\n",
       "        text-align: right;\n",
       "    }\n",
       "</style>\n",
       "<table border=\"1\" class=\"dataframe\">\n",
       "  <thead>\n",
       "    <tr style=\"text-align: right;\">\n",
       "      <th></th>\n",
       "      <th>CAMIS</th>\n",
       "      <th>DBA</th>\n",
       "      <th>BORO</th>\n",
       "      <th>ZIPCODE</th>\n",
       "      <th>PHONE</th>\n",
       "      <th>Latitude</th>\n",
       "      <th>Longitude</th>\n",
       "      <th>DBA_clean</th>\n",
       "    </tr>\n",
       "  </thead>\n",
       "  <tbody>\n",
       "    <tr>\n",
       "      <th>13541</th>\n",
       "      <td>50003303</td>\n",
       "      <td>BROOKLYN SWEET SPOT</td>\n",
       "      <td>Brooklyn</td>\n",
       "      <td>11205.0</td>\n",
       "      <td>7185222577</td>\n",
       "      <td>40.693184</td>\n",
       "      <td>-73.971562</td>\n",
       "      <td>BROOKLYN SWEET SPOT</td>\n",
       "    </tr>\n",
       "    <tr>\n",
       "      <th>4045</th>\n",
       "      <td>41308050</td>\n",
       "      <td>RELISH CONCESSIONS (LASKER RINK)</td>\n",
       "      <td>Manhattan</td>\n",
       "      <td>NaN</td>\n",
       "      <td>9174923856</td>\n",
       "      <td>0.000000</td>\n",
       "      <td>0.000000</td>\n",
       "      <td>RELISH CONCESSIONS (LASKER RINK)</td>\n",
       "    </tr>\n",
       "    <tr>\n",
       "      <th>388145</th>\n",
       "      <td>41702635</td>\n",
       "      <td>KAPPOCK CAFE</td>\n",
       "      <td>Bronx</td>\n",
       "      <td>10463.0</td>\n",
       "      <td>7186015500</td>\n",
       "      <td>40.878731</td>\n",
       "      <td>-73.917529</td>\n",
       "      <td>KAPPOCK CAFE</td>\n",
       "    </tr>\n",
       "    <tr>\n",
       "      <th>140010</th>\n",
       "      <td>50012569</td>\n",
       "      <td>CASA MEXICANA</td>\n",
       "      <td>Manhattan</td>\n",
       "      <td>10025.0</td>\n",
       "      <td>2122223151</td>\n",
       "      <td>40.799035</td>\n",
       "      <td>-73.966742</td>\n",
       "      <td>CASA MEXICANA</td>\n",
       "    </tr>\n",
       "    <tr>\n",
       "      <th>231232</th>\n",
       "      <td>50000233</td>\n",
       "      <td>PALM COURT</td>\n",
       "      <td>Manhattan</td>\n",
       "      <td>10019.0</td>\n",
       "      <td>2127593000</td>\n",
       "      <td>40.764148</td>\n",
       "      <td>-73.973951</td>\n",
       "      <td>PALM COURT</td>\n",
       "    </tr>\n",
       "  </tbody>\n",
       "</table>\n",
       "</div>"
      ],
      "text/plain": [
       "           CAMIS                               DBA       BORO  ZIPCODE  \\\n",
       "13541   50003303               BROOKLYN SWEET SPOT   Brooklyn  11205.0   \n",
       "4045    41308050  RELISH CONCESSIONS (LASKER RINK)  Manhattan      NaN   \n",
       "388145  41702635                      KAPPOCK CAFE      Bronx  10463.0   \n",
       "140010  50012569                     CASA MEXICANA  Manhattan  10025.0   \n",
       "231232  50000233                        PALM COURT  Manhattan  10019.0   \n",
       "\n",
       "             PHONE   Latitude  Longitude                         DBA_clean  \n",
       "13541   7185222577  40.693184 -73.971562               BROOKLYN SWEET SPOT  \n",
       "4045    9174923856   0.000000   0.000000  RELISH CONCESSIONS (LASKER RINK)  \n",
       "388145  7186015500  40.878731 -73.917529                      KAPPOCK CAFE  \n",
       "140010  2122223151  40.799035 -73.966742                     CASA MEXICANA  \n",
       "231232  2127593000  40.764148 -73.973951                        PALM COURT  "
      ]
     },
     "execution_count": 92,
     "metadata": {},
     "output_type": "execute_result"
    }
   ],
   "source": [
    "yelp_list_stripped['Latitude'].value_counts()\n",
    "yelp_list_stripped['Longitude'].value_counts()\n",
    "yelp_list_stripped['Latitude']=yelp_list_stripped['Latitude'].fillna(0)\n",
    "yelp_list_stripped['Longitude']=yelp_list_stripped['Longitude'].fillna(0)\n",
    "yelp_list_stripped['DBA_clean'] = yelp_list_stripped['DBA'].str.split('#').str[0] \n",
    "yelp_list_stripped.head()"
   ]
  },
  {
   "cell_type": "code",
   "execution_count": 23,
   "metadata": {},
   "outputs": [],
   "source": [
    "yelp_list_stripped.to_csv(r'Restaurant_List.csv')"
   ]
  },
  {
   "cell_type": "markdown",
   "metadata": {},
   "source": [
    "# Number of Critical Violations at Most Recent Inspection"
   ]
  },
  {
   "cell_type": "code",
   "execution_count": 49,
   "metadata": {},
   "outputs": [
    {
     "data": {
      "text/plain": [
       "134718"
      ]
     },
     "execution_count": 49,
     "metadata": {},
     "output_type": "execute_result"
    },
    {
     "data": {
      "text/plain": [
       "25697"
      ]
     },
     "execution_count": 49,
     "metadata": {},
     "output_type": "execute_result"
    }
   ],
   "source": [
    "HD_AllInsp = HD.groupby([\"CAMIS\",\"INSPECTION DATE\", 'inspection_type_recode']).agg({'critical_flag_recode': 'sum'})\n",
    "HD_AllInsp = HD_AllInsp.reset_index()\n",
    "len(HD_AllInsp)\n",
    "len(HD_AllInsp['CAMIS'].unique())"
   ]
  },
  {
   "cell_type": "code",
   "execution_count": 50,
   "metadata": {},
   "outputs": [
    {
     "data": {
      "text/html": [
       "<div>\n",
       "<style scoped>\n",
       "    .dataframe tbody tr th:only-of-type {\n",
       "        vertical-align: middle;\n",
       "    }\n",
       "\n",
       "    .dataframe tbody tr th {\n",
       "        vertical-align: top;\n",
       "    }\n",
       "\n",
       "    .dataframe thead th {\n",
       "        text-align: right;\n",
       "    }\n",
       "</style>\n",
       "<table border=\"1\" class=\"dataframe\">\n",
       "  <thead>\n",
       "    <tr style=\"text-align: right;\">\n",
       "      <th></th>\n",
       "      <th>CAMIS</th>\n",
       "      <th>inspection_type_recode</th>\n",
       "      <th>INSPECTION DATE</th>\n",
       "      <th>critical_flag_recode</th>\n",
       "    </tr>\n",
       "  </thead>\n",
       "  <tbody>\n",
       "    <tr>\n",
       "      <th>12848</th>\n",
       "      <td>50018118</td>\n",
       "      <td>Initial</td>\n",
       "      <td>2019-06-20</td>\n",
       "      <td>0</td>\n",
       "    </tr>\n",
       "    <tr>\n",
       "      <th>5947</th>\n",
       "      <td>41405616</td>\n",
       "      <td>Initial</td>\n",
       "      <td>2019-10-18</td>\n",
       "      <td>0</td>\n",
       "    </tr>\n",
       "    <tr>\n",
       "      <th>18423</th>\n",
       "      <td>50066704</td>\n",
       "      <td>Initial</td>\n",
       "      <td>2019-11-29</td>\n",
       "      <td>0</td>\n",
       "    </tr>\n",
       "    <tr>\n",
       "      <th>5936</th>\n",
       "      <td>41404371</td>\n",
       "      <td>Initial</td>\n",
       "      <td>2019-03-12</td>\n",
       "      <td>0</td>\n",
       "    </tr>\n",
       "    <tr>\n",
       "      <th>18443</th>\n",
       "      <td>50066822</td>\n",
       "      <td>Initial</td>\n",
       "      <td>2019-03-27</td>\n",
       "      <td>0</td>\n",
       "    </tr>\n",
       "  </tbody>\n",
       "</table>\n",
       "</div>"
      ],
      "text/plain": [
       "          CAMIS inspection_type_recode INSPECTION DATE  critical_flag_recode\n",
       "12848  50018118                Initial      2019-06-20                     0\n",
       "5947   41405616                Initial      2019-10-18                     0\n",
       "18423  50066704                Initial      2019-11-29                     0\n",
       "5936   41404371                Initial      2019-03-12                     0\n",
       "18443  50066822                Initial      2019-03-27                     0"
      ]
     },
     "execution_count": 50,
     "metadata": {},
     "output_type": "execute_result"
    },
    {
     "data": {
      "text/html": [
       "<div>\n",
       "<style scoped>\n",
       "    .dataframe tbody tr th:only-of-type {\n",
       "        vertical-align: middle;\n",
       "    }\n",
       "\n",
       "    .dataframe tbody tr th {\n",
       "        vertical-align: top;\n",
       "    }\n",
       "\n",
       "    .dataframe thead th {\n",
       "        text-align: right;\n",
       "    }\n",
       "</style>\n",
       "<table border=\"1\" class=\"dataframe\">\n",
       "  <thead>\n",
       "    <tr style=\"text-align: right;\">\n",
       "      <th></th>\n",
       "      <th>CAMIS</th>\n",
       "      <th>inspection_type_recode</th>\n",
       "      <th>INSPECTION DATE</th>\n",
       "      <th>critical_flag_recode</th>\n",
       "    </tr>\n",
       "  </thead>\n",
       "  <tbody>\n",
       "    <tr>\n",
       "      <th>15174</th>\n",
       "      <td>50046648</td>\n",
       "      <td>Re-inspection</td>\n",
       "      <td>2019-12-02</td>\n",
       "      <td>9</td>\n",
       "    </tr>\n",
       "    <tr>\n",
       "      <th>593</th>\n",
       "      <td>40393488</td>\n",
       "      <td>Initial</td>\n",
       "      <td>2019-08-23</td>\n",
       "      <td>9</td>\n",
       "    </tr>\n",
       "    <tr>\n",
       "      <th>22655</th>\n",
       "      <td>50086495</td>\n",
       "      <td>Initial</td>\n",
       "      <td>2019-12-26</td>\n",
       "      <td>9</td>\n",
       "    </tr>\n",
       "    <tr>\n",
       "      <th>16810</th>\n",
       "      <td>50057515</td>\n",
       "      <td>Re-inspection</td>\n",
       "      <td>2019-05-21</td>\n",
       "      <td>9</td>\n",
       "    </tr>\n",
       "    <tr>\n",
       "      <th>22653</th>\n",
       "      <td>50086483</td>\n",
       "      <td>Initial</td>\n",
       "      <td>2019-05-30</td>\n",
       "      <td>10</td>\n",
       "    </tr>\n",
       "  </tbody>\n",
       "</table>\n",
       "</div>"
      ],
      "text/plain": [
       "          CAMIS inspection_type_recode INSPECTION DATE  critical_flag_recode\n",
       "15174  50046648          Re-inspection      2019-12-02                     9\n",
       "593    40393488                Initial      2019-08-23                     9\n",
       "22655  50086495                Initial      2019-12-26                     9\n",
       "16810  50057515          Re-inspection      2019-05-21                     9\n",
       "22653  50086483                Initial      2019-05-30                    10"
      ]
     },
     "execution_count": 50,
     "metadata": {},
     "output_type": "execute_result"
    },
    {
     "data": {
      "text/plain": [
       "25697"
      ]
     },
     "execution_count": 50,
     "metadata": {},
     "output_type": "execute_result"
    }
   ],
   "source": [
    "HD_LastInsp = HD_AllInsp.sort_values('INSPECTION DATE').groupby('CAMIS').last()\n",
    "HD_LastInsp = HD_LastInsp.reset_index()\n",
    "HD_LastInsp = HD_LastInsp.sort_values('critical_flag_recode')\n",
    "HD_LastInsp = HD_LastInsp[['CAMIS', 'inspection_type_recode', 'INSPECTION DATE', 'critical_flag_recode']]\n",
    "HD_LastInsp.head()\n",
    "HD_LastInsp.tail()\n",
    "len(HD_LastInsp)"
   ]
  },
  {
   "cell_type": "code",
   "execution_count": 51,
   "metadata": {},
   "outputs": [
    {
     "data": {
      "text/plain": [
       "1     14180\n",
       "2      4803\n",
       "0      4295\n",
       "3      1392\n",
       "4       650\n",
       "5       254\n",
       "6        74\n",
       "7        30\n",
       "8        13\n",
       "9         5\n",
       "10        1\n",
       "Name: critical_flag_recode, dtype: int64"
      ]
     },
     "execution_count": 51,
     "metadata": {},
     "output_type": "execute_result"
    }
   ],
   "source": [
    "HD_LastInsp.critical_flag_recode.value_counts()"
   ]
  },
  {
   "cell_type": "code",
   "execution_count": 60,
   "metadata": {},
   "outputs": [
    {
     "data": {
      "text/plain": [
       "(-0.5, 6.5)"
      ]
     },
     "execution_count": 60,
     "metadata": {},
     "output_type": "execute_result"
    },
    {
     "data": {
      "image/png": "[encoded data removed]",
      "text/plain": [
       "<Figure size 576x288 with 1 Axes>"
      ]
     },
     "metadata": {},
     "output_type": "display_data"
    }
   ],
   "source": [
    "sns.set(rc={'figure.figsize':(8,4)})\n",
    "ax = sns.countplot(x=HD_LastInsp['critical_flag_recode'], palette = 'husl')\n",
    "sns.despine()\n",
    "plt.xlim(-.5,6.5) \n",
    "plt.savefig('/Users/rabarry/Documents/Insight/NYC data/SafeEats/Violations_Countplot.png')\n",
    "plt.savefig('histogram.png')"
   ]
  },
  {
   "cell_type": "markdown",
   "metadata": {},
   "source": [
    "# Second to last date"
   ]
  },
  {
   "cell_type": "code",
   "execution_count": 359,
   "metadata": {},
   "outputs": [
    {
     "data": {
      "text/plain": [
       "134440"
      ]
     },
     "execution_count": 359,
     "metadata": {},
     "output_type": "execute_result"
    },
    {
     "data": {
      "text/html": [
       "<div>\n",
       "<style scoped>\n",
       "    .dataframe tbody tr th:only-of-type {\n",
       "        vertical-align: middle;\n",
       "    }\n",
       "\n",
       "    .dataframe tbody tr th {\n",
       "        vertical-align: top;\n",
       "    }\n",
       "\n",
       "    .dataframe thead th {\n",
       "        text-align: right;\n",
       "    }\n",
       "</style>\n",
       "<table border=\"1\" class=\"dataframe\">\n",
       "  <thead>\n",
       "    <tr style=\"text-align: right;\">\n",
       "      <th></th>\n",
       "      <th>CAMIS</th>\n",
       "      <th>INSPECTION DATE</th>\n",
       "      <th>critical_flag_recode</th>\n",
       "    </tr>\n",
       "  </thead>\n",
       "  <tbody>\n",
       "    <tr>\n",
       "      <th>36623</th>\n",
       "      <td>41427508</td>\n",
       "      <td>2020-01-11</td>\n",
       "      <td>2</td>\n",
       "    </tr>\n",
       "    <tr>\n",
       "      <th>98268</th>\n",
       "      <td>50053253</td>\n",
       "      <td>2020-01-11</td>\n",
       "      <td>0</td>\n",
       "    </tr>\n",
       "    <tr>\n",
       "      <th>118945</th>\n",
       "      <td>50073170</td>\n",
       "      <td>2020-01-11</td>\n",
       "      <td>3</td>\n",
       "    </tr>\n",
       "    <tr>\n",
       "      <th>131163</th>\n",
       "      <td>50089796</td>\n",
       "      <td>2020-01-11</td>\n",
       "      <td>3</td>\n",
       "    </tr>\n",
       "    <tr>\n",
       "      <th>72944</th>\n",
       "      <td>50012264</td>\n",
       "      <td>2020-01-11</td>\n",
       "      <td>1</td>\n",
       "    </tr>\n",
       "  </tbody>\n",
       "</table>\n",
       "</div>"
      ],
      "text/plain": [
       "           CAMIS INSPECTION DATE  critical_flag_recode\n",
       "36623   41427508      2020-01-11                     2\n",
       "98268   50053253      2020-01-11                     0\n",
       "118945  50073170      2020-01-11                     3\n",
       "131163  50089796      2020-01-11                     3\n",
       "72944   50012264      2020-01-11                     1"
      ]
     },
     "execution_count": 359,
     "metadata": {},
     "output_type": "execute_result"
    }
   ],
   "source": [
    "HD_SecondLastInsp = HD.groupby([\"CAMIS\", \"INSPECTION DATE\"]).agg({'critical_flag_recode': 'sum'})\n",
    "HD_SecondLastInsp = HD_SecondLastInsp.reset_index()\n",
    "len(HD_SecondLastInsp)\n",
    "HD_SecondLastInsp = HD_SecondLastInsp.sort_values(\"INSPECTION DATE\", ascending = False)\n",
    "HD_SecondLastInsp.head()"
   ]
  },
  {
   "cell_type": "code",
   "execution_count": 360,
   "metadata": {},
   "outputs": [
    {
     "data": {
      "text/plain": [
       "25697"
      ]
     },
     "execution_count": 360,
     "metadata": {},
     "output_type": "execute_result"
    },
    {
     "data": {
      "text/html": [
       "<div>\n",
       "<style scoped>\n",
       "    .dataframe tbody tr th:only-of-type {\n",
       "        vertical-align: middle;\n",
       "    }\n",
       "\n",
       "    .dataframe tbody tr th {\n",
       "        vertical-align: top;\n",
       "    }\n",
       "\n",
       "    .dataframe thead th {\n",
       "        text-align: right;\n",
       "    }\n",
       "</style>\n",
       "<table border=\"1\" class=\"dataframe\">\n",
       "  <thead>\n",
       "    <tr style=\"text-align: right;\">\n",
       "      <th></th>\n",
       "      <th>INSPECTION DATE</th>\n",
       "    </tr>\n",
       "    <tr>\n",
       "      <th>CAMIS</th>\n",
       "      <th></th>\n",
       "    </tr>\n",
       "  </thead>\n",
       "  <tbody>\n",
       "    <tr>\n",
       "      <th>30075445</th>\n",
       "      <td>2019-10-21</td>\n",
       "    </tr>\n",
       "    <tr>\n",
       "      <th>30112340</th>\n",
       "      <td>2018-03-13</td>\n",
       "    </tr>\n",
       "    <tr>\n",
       "      <th>30191841</th>\n",
       "      <td>2018-05-16</td>\n",
       "    </tr>\n",
       "    <tr>\n",
       "      <th>40356018</th>\n",
       "      <td>2018-10-30</td>\n",
       "    </tr>\n",
       "    <tr>\n",
       "      <th>40356151</th>\n",
       "      <td>2017-08-19</td>\n",
       "    </tr>\n",
       "  </tbody>\n",
       "</table>\n",
       "</div>"
      ],
      "text/plain": [
       "         INSPECTION DATE\n",
       "CAMIS                   \n",
       "30075445      2019-10-21\n",
       "30112340      2018-03-13\n",
       "30191841      2018-05-16\n",
       "40356018      2018-10-30\n",
       "40356151      2017-08-19"
      ]
     },
     "execution_count": 360,
     "metadata": {},
     "output_type": "execute_result"
    }
   ],
   "source": [
    "HD_SecondLastInsp = HD_SecondLastInsp.groupby(\"CAMIS\")['INSPECTION DATE'].apply(lambda x: x.nlargest(2).min())\n",
    "HD_SecondLastInsp = HD_SecondLastInsp.to_frame()\n",
    "len(HD_SecondLastInsp)\n",
    "HD_SecondLastInsp.head()"
   ]
  },
  {
   "cell_type": "code",
   "execution_count": 320,
   "metadata": {},
   "outputs": [
    {
     "data": {
      "text/html": [
       "<div>\n",
       "<style scoped>\n",
       "    .dataframe tbody tr th:only-of-type {\n",
       "        vertical-align: middle;\n",
       "    }\n",
       "\n",
       "    .dataframe tbody tr th {\n",
       "        vertical-align: top;\n",
       "    }\n",
       "\n",
       "    .dataframe thead th {\n",
       "        text-align: right;\n",
       "    }\n",
       "</style>\n",
       "<table border=\"1\" class=\"dataframe\">\n",
       "  <thead>\n",
       "    <tr style=\"text-align: right;\">\n",
       "      <th></th>\n",
       "      <th>INSPECTION DATE</th>\n",
       "      <th>inspection_type_recode</th>\n",
       "      <th>critical_flag_recode</th>\n",
       "    </tr>\n",
       "    <tr>\n",
       "      <th>CAMIS</th>\n",
       "      <th></th>\n",
       "      <th></th>\n",
       "      <th></th>\n",
       "    </tr>\n",
       "  </thead>\n",
       "  <tbody>\n",
       "    <tr>\n",
       "      <th>30075445</th>\n",
       "      <td>2017-05-18</td>\n",
       "      <td>Initial</td>\n",
       "      <td>1</td>\n",
       "    </tr>\n",
       "    <tr>\n",
       "      <th>30075445</th>\n",
       "      <td>2018-05-11</td>\n",
       "      <td>Initial</td>\n",
       "      <td>0</td>\n",
       "    </tr>\n",
       "    <tr>\n",
       "      <th>30075445</th>\n",
       "      <td>2019-05-16</td>\n",
       "      <td>Initial</td>\n",
       "      <td>1</td>\n",
       "    </tr>\n",
       "    <tr>\n",
       "      <th>30075445</th>\n",
       "      <td>2019-06-11</td>\n",
       "      <td>Re-inspection</td>\n",
       "      <td>0</td>\n",
       "    </tr>\n",
       "    <tr>\n",
       "      <th>30075445</th>\n",
       "      <td>2019-10-21</td>\n",
       "      <td>Initial</td>\n",
       "      <td>2</td>\n",
       "    </tr>\n",
       "  </tbody>\n",
       "</table>\n",
       "</div>"
      ],
      "text/plain": [
       "         INSPECTION DATE inspection_type_recode  critical_flag_recode\n",
       "CAMIS                                                                \n",
       "30075445      2017-05-18                Initial                     1\n",
       "30075445      2018-05-11                Initial                     0\n",
       "30075445      2019-05-16                Initial                     1\n",
       "30075445      2019-06-11          Re-inspection                     0\n",
       "30075445      2019-10-21                Initial                     2"
      ]
     },
     "execution_count": 320,
     "metadata": {},
     "output_type": "execute_result"
    },
    {
     "data": {
      "text/html": [
       "<div>\n",
       "<style scoped>\n",
       "    .dataframe tbody tr th:only-of-type {\n",
       "        vertical-align: middle;\n",
       "    }\n",
       "\n",
       "    .dataframe tbody tr th {\n",
       "        vertical-align: top;\n",
       "    }\n",
       "\n",
       "    .dataframe thead th {\n",
       "        text-align: right;\n",
       "    }\n",
       "</style>\n",
       "<table border=\"1\" class=\"dataframe\">\n",
       "  <thead>\n",
       "    <tr style=\"text-align: right;\">\n",
       "      <th></th>\n",
       "      <th>inspection_type_recode</th>\n",
       "      <th>INSPECTION DATE</th>\n",
       "      <th>critical_flag_recode</th>\n",
       "    </tr>\n",
       "    <tr>\n",
       "      <th>CAMIS</th>\n",
       "      <th></th>\n",
       "      <th></th>\n",
       "      <th></th>\n",
       "    </tr>\n",
       "  </thead>\n",
       "  <tbody>\n",
       "    <tr>\n",
       "      <th>50018118</th>\n",
       "      <td>Initial</td>\n",
       "      <td>2019-06-20</td>\n",
       "      <td>0</td>\n",
       "    </tr>\n",
       "    <tr>\n",
       "      <th>41405616</th>\n",
       "      <td>Initial</td>\n",
       "      <td>2019-10-18</td>\n",
       "      <td>0</td>\n",
       "    </tr>\n",
       "    <tr>\n",
       "      <th>50066704</th>\n",
       "      <td>Initial</td>\n",
       "      <td>2019-11-29</td>\n",
       "      <td>0</td>\n",
       "    </tr>\n",
       "    <tr>\n",
       "      <th>41404371</th>\n",
       "      <td>Initial</td>\n",
       "      <td>2019-03-12</td>\n",
       "      <td>0</td>\n",
       "    </tr>\n",
       "    <tr>\n",
       "      <th>50066822</th>\n",
       "      <td>Initial</td>\n",
       "      <td>2019-03-27</td>\n",
       "      <td>0</td>\n",
       "    </tr>\n",
       "  </tbody>\n",
       "</table>\n",
       "</div>"
      ],
      "text/plain": [
       "         inspection_type_recode INSPECTION DATE  critical_flag_recode\n",
       "CAMIS                                                                \n",
       "50018118                Initial      2019-06-20                     0\n",
       "41405616                Initial      2019-10-18                     0\n",
       "50066704                Initial      2019-11-29                     0\n",
       "41404371                Initial      2019-03-12                     0\n",
       "50066822                Initial      2019-03-27                     0"
      ]
     },
     "execution_count": 320,
     "metadata": {},
     "output_type": "execute_result"
    },
    {
     "data": {
      "text/html": [
       "<div>\n",
       "<style scoped>\n",
       "    .dataframe tbody tr th:only-of-type {\n",
       "        vertical-align: middle;\n",
       "    }\n",
       "\n",
       "    .dataframe tbody tr th {\n",
       "        vertical-align: top;\n",
       "    }\n",
       "\n",
       "    .dataframe thead th {\n",
       "        text-align: right;\n",
       "    }\n",
       "</style>\n",
       "<table border=\"1\" class=\"dataframe\">\n",
       "  <thead>\n",
       "    <tr style=\"text-align: right;\">\n",
       "      <th></th>\n",
       "      <th>INSPECTION DATE</th>\n",
       "    </tr>\n",
       "    <tr>\n",
       "      <th>CAMIS</th>\n",
       "      <th></th>\n",
       "    </tr>\n",
       "  </thead>\n",
       "  <tbody>\n",
       "    <tr>\n",
       "      <th>30075445</th>\n",
       "      <td>2019-10-21</td>\n",
       "    </tr>\n",
       "    <tr>\n",
       "      <th>30112340</th>\n",
       "      <td>2018-03-13</td>\n",
       "    </tr>\n",
       "    <tr>\n",
       "      <th>30191841</th>\n",
       "      <td>2018-05-16</td>\n",
       "    </tr>\n",
       "    <tr>\n",
       "      <th>40356018</th>\n",
       "      <td>2018-10-30</td>\n",
       "    </tr>\n",
       "    <tr>\n",
       "      <th>40356151</th>\n",
       "      <td>2017-08-19</td>\n",
       "    </tr>\n",
       "  </tbody>\n",
       "</table>\n",
       "</div>"
      ],
      "text/plain": [
       "         INSPECTION DATE\n",
       "CAMIS                   \n",
       "30075445      2019-10-21\n",
       "30112340      2018-03-13\n",
       "30191841      2018-05-16\n",
       "40356018      2018-10-30\n",
       "40356151      2017-08-19"
      ]
     },
     "execution_count": 320,
     "metadata": {},
     "output_type": "execute_result"
    }
   ],
   "source": [
    "#change index to be CAMIS\n",
    "HD_AllInsp = HD_AllInsp.set_index('CAMIS')\n",
    "HD_AllInsp.head()\n",
    "HD_LastInsp = HD_LastInsp.set_index('CAMIS')\n",
    "HD_LastInsp.head()\n",
    "HD_SecondLastInsp.head()"
   ]
  },
  {
   "cell_type": "markdown",
   "metadata": {},
   "source": [
    "# Join the 3 tables back into 1"
   ]
  },
  {
   "cell_type": "code",
   "execution_count": 341,
   "metadata": {},
   "outputs": [],
   "source": [
    "HD_AllInsp = HD_AllInsp.sort_values(['CAMIS','INSPECTION DATE'])"
   ]
  },
  {
   "cell_type": "code",
   "execution_count": 331,
   "metadata": {},
   "outputs": [
    {
     "data": {
      "text/plain": [
       "array([40368291, 40385693, 40690899, 40704315, 40792980, 40795021,\n",
       "       41009687, 41067651, 41076314, 41163474, 41227842, 41255390,\n",
       "       41298790, 41303343, 41310578, 41336495, 41451015, 41572121,\n",
       "       41604594, 41618541, 41632866, 41718215, 50004837, 50005142,\n",
       "       50005692, 50006614, 50013897, 50033010, 50034635, 50038157,\n",
       "       50043179, 50046056, 50047766, 50053023, 50054551, 50057811,\n",
       "       50063824, 50067622, 50067629, 50068366, 50071254, 50075728,\n",
       "       50077039, 50077853, 50083456, 50083891, 50084908, 50084943,\n",
       "       50089649, 50089730])"
      ]
     },
     "execution_count": 331,
     "metadata": {},
     "output_type": "execute_result"
    }
   ],
   "source": [
    "dupe_camis\n",
    "#Recoded duplicate rows as Re-inspection if labeled as both Re-inspection and Initial-- just did it in excel and re-loaded"
   ]
  },
  {
   "cell_type": "code",
   "execution_count": 356,
   "metadata": {},
   "outputs": [
    {
     "data": {
      "text/html": [
       "<div>\n",
       "<style scoped>\n",
       "    .dataframe tbody tr th:only-of-type {\n",
       "        vertical-align: middle;\n",
       "    }\n",
       "\n",
       "    .dataframe tbody tr th {\n",
       "        vertical-align: top;\n",
       "    }\n",
       "\n",
       "    .dataframe thead th {\n",
       "        text-align: right;\n",
       "    }\n",
       "</style>\n",
       "<table border=\"1\" class=\"dataframe\">\n",
       "  <thead>\n",
       "    <tr style=\"text-align: right;\">\n",
       "      <th></th>\n",
       "      <th>INSPECTION DATE</th>\n",
       "      <th>inspection_type_recode</th>\n",
       "      <th>critical_flag_recode</th>\n",
       "    </tr>\n",
       "    <tr>\n",
       "      <th>CAMIS</th>\n",
       "      <th></th>\n",
       "      <th></th>\n",
       "      <th></th>\n",
       "    </tr>\n",
       "  </thead>\n",
       "  <tbody>\n",
       "    <tr>\n",
       "      <th>30075445</th>\n",
       "      <td>2017-05-18</td>\n",
       "      <td>Initial</td>\n",
       "      <td>1</td>\n",
       "    </tr>\n",
       "    <tr>\n",
       "      <th>30075445</th>\n",
       "      <td>2018-05-11</td>\n",
       "      <td>Initial</td>\n",
       "      <td>0</td>\n",
       "    </tr>\n",
       "    <tr>\n",
       "      <th>30075445</th>\n",
       "      <td>2019-05-16</td>\n",
       "      <td>Initial</td>\n",
       "      <td>1</td>\n",
       "    </tr>\n",
       "    <tr>\n",
       "      <th>30075445</th>\n",
       "      <td>2019-06-11</td>\n",
       "      <td>Re-inspection</td>\n",
       "      <td>0</td>\n",
       "    </tr>\n",
       "    <tr>\n",
       "      <th>30075445</th>\n",
       "      <td>2019-10-21</td>\n",
       "      <td>Initial</td>\n",
       "      <td>2</td>\n",
       "    </tr>\n",
       "  </tbody>\n",
       "</table>\n",
       "</div>"
      ],
      "text/plain": [
       "         INSPECTION DATE inspection_type_recode  critical_flag_recode\n",
       "CAMIS                                                                \n",
       "30075445      2017-05-18                Initial                     1\n",
       "30075445      2018-05-11                Initial                     0\n",
       "30075445      2019-05-16                Initial                     1\n",
       "30075445      2019-06-11          Re-inspection                     0\n",
       "30075445      2019-10-21                Initial                     2"
      ]
     },
     "execution_count": 356,
     "metadata": {},
     "output_type": "execute_result"
    },
    {
     "data": {
      "text/plain": [
       "134718"
      ]
     },
     "execution_count": 356,
     "metadata": {},
     "output_type": "execute_result"
    }
   ],
   "source": [
    "HD_AllInsp = pd.read_csv('HD_AllInsp.csv', index_col = 0)\n",
    "#cast date as date datatype\n",
    "HD_AllInsp[\"INSPECTION DATE\"] = pd.to_datetime(HD_AllInsp[\"INSPECTION DATE\"])\n",
    "HD_AllInsp.head()\n",
    "len(HD_AllInsp)"
   ]
  },
  {
   "cell_type": "code",
   "execution_count": 357,
   "metadata": {},
   "outputs": [
    {
     "data": {
      "text/plain": [
       "134665"
      ]
     },
     "execution_count": 357,
     "metadata": {},
     "output_type": "execute_result"
    }
   ],
   "source": [
    "HD_AllInsp = HD_AllInsp.groupby([\"CAMIS\", 'INSPECTION DATE', 'inspection_type_recode']).agg({'critical_flag_recode': 'sum'})\n",
    "HD_AllInsp = HD_AllInsp.reset_index()\n",
    "HD_AllInsp = HD_AllInsp.set_index('CAMIS')\n",
    "len(HD_AllInsp)"
   ]
  },
  {
   "cell_type": "code",
   "execution_count": 361,
   "metadata": {},
   "outputs": [
    {
     "data": {
      "text/plain": [
       "25697"
      ]
     },
     "execution_count": 361,
     "metadata": {},
     "output_type": "execute_result"
    },
    {
     "data": {
      "text/html": [
       "<div>\n",
       "<style scoped>\n",
       "    .dataframe tbody tr th:only-of-type {\n",
       "        vertical-align: middle;\n",
       "    }\n",
       "\n",
       "    .dataframe tbody tr th {\n",
       "        vertical-align: top;\n",
       "    }\n",
       "\n",
       "    .dataframe thead th {\n",
       "        text-align: right;\n",
       "    }\n",
       "</style>\n",
       "<table border=\"1\" class=\"dataframe\">\n",
       "  <thead>\n",
       "    <tr style=\"text-align: right;\">\n",
       "      <th></th>\n",
       "      <th>INSPECTION DATE</th>\n",
       "      <th>inspection_type_recode</th>\n",
       "      <th>critical_flag_recode</th>\n",
       "    </tr>\n",
       "    <tr>\n",
       "      <th>CAMIS</th>\n",
       "      <th></th>\n",
       "      <th></th>\n",
       "      <th></th>\n",
       "    </tr>\n",
       "  </thead>\n",
       "  <tbody>\n",
       "    <tr>\n",
       "      <th>30075445</th>\n",
       "      <td>2019-10-21</td>\n",
       "      <td>Initial</td>\n",
       "      <td>2</td>\n",
       "    </tr>\n",
       "    <tr>\n",
       "      <th>30112340</th>\n",
       "      <td>2018-03-13</td>\n",
       "      <td>Initial</td>\n",
       "      <td>1</td>\n",
       "    </tr>\n",
       "    <tr>\n",
       "      <th>30191841</th>\n",
       "      <td>2018-05-16</td>\n",
       "      <td>Initial</td>\n",
       "      <td>1</td>\n",
       "    </tr>\n",
       "    <tr>\n",
       "      <th>40356018</th>\n",
       "      <td>2018-10-30</td>\n",
       "      <td>Initial</td>\n",
       "      <td>1</td>\n",
       "    </tr>\n",
       "    <tr>\n",
       "      <th>40356151</th>\n",
       "      <td>2017-08-19</td>\n",
       "      <td>Initial</td>\n",
       "      <td>1</td>\n",
       "    </tr>\n",
       "  </tbody>\n",
       "</table>\n",
       "</div>"
      ],
      "text/plain": [
       "         INSPECTION DATE inspection_type_recode  critical_flag_recode\n",
       "CAMIS                                                                \n",
       "30075445      2019-10-21                Initial                     2\n",
       "30112340      2018-03-13                Initial                     1\n",
       "30191841      2018-05-16                Initial                     1\n",
       "40356018      2018-10-30                Initial                     1\n",
       "40356151      2017-08-19                Initial                     1"
      ]
     },
     "execution_count": 361,
     "metadata": {},
     "output_type": "execute_result"
    }
   ],
   "source": [
    "#merge the SecondLast df with the AllInsp df to recover the critical flag counts\n",
    "HD_SecondLastInsp = HD_SecondLastInsp.merge(HD_AllInsp, left_on = ['CAMIS', 'INSPECTION DATE'], right_on = ['CAMIS', 'INSPECTION DATE'], how = 'left')\n",
    "len(HD_SecondLastInsp)\n",
    "HD_SecondLastInsp.head()"
   ]
  },
  {
   "cell_type": "code",
   "execution_count": 327,
   "metadata": {},
   "outputs": [],
   "source": [
    "#find duplicates\n",
    "#dupes = HD_SecondLastInsp.groupby(level=0).filter(lambda x: len(x) > 1)\n",
    "#dupes = dupes.reset_index()\n",
    "#dupe_camis = dupes['CAMIS']\n",
    "#dupe_camis = dupe_camis.unique()\n",
    "#len(dupe_camis)"
   ]
  },
  {
   "cell_type": "code",
   "execution_count": 365,
   "metadata": {},
   "outputs": [
    {
     "data": {
      "text/plain": [
       "25697"
      ]
     },
     "execution_count": 365,
     "metadata": {},
     "output_type": "execute_result"
    },
    {
     "data": {
      "text/html": [
       "<div>\n",
       "<style scoped>\n",
       "    .dataframe tbody tr th:only-of-type {\n",
       "        vertical-align: middle;\n",
       "    }\n",
       "\n",
       "    .dataframe tbody tr th {\n",
       "        vertical-align: top;\n",
       "    }\n",
       "\n",
       "    .dataframe thead th {\n",
       "        text-align: right;\n",
       "    }\n",
       "</style>\n",
       "<table border=\"1\" class=\"dataframe\">\n",
       "  <thead>\n",
       "    <tr style=\"text-align: right;\">\n",
       "      <th></th>\n",
       "      <th>Second_Last_Insp_Type</th>\n",
       "      <th>Second_Last_Insp_Date</th>\n",
       "      <th>Second_Last_Insp_Num_CriticialFlags</th>\n",
       "    </tr>\n",
       "    <tr>\n",
       "      <th>CAMIS</th>\n",
       "      <th></th>\n",
       "      <th></th>\n",
       "      <th></th>\n",
       "    </tr>\n",
       "  </thead>\n",
       "  <tbody>\n",
       "    <tr>\n",
       "      <th>30075445</th>\n",
       "      <td>Initial</td>\n",
       "      <td>2019-10-21</td>\n",
       "      <td>2</td>\n",
       "    </tr>\n",
       "    <tr>\n",
       "      <th>30112340</th>\n",
       "      <td>Initial</td>\n",
       "      <td>2018-03-13</td>\n",
       "      <td>1</td>\n",
       "    </tr>\n",
       "    <tr>\n",
       "      <th>30191841</th>\n",
       "      <td>Initial</td>\n",
       "      <td>2018-05-16</td>\n",
       "      <td>1</td>\n",
       "    </tr>\n",
       "    <tr>\n",
       "      <th>40356018</th>\n",
       "      <td>Initial</td>\n",
       "      <td>2018-10-30</td>\n",
       "      <td>1</td>\n",
       "    </tr>\n",
       "    <tr>\n",
       "      <th>40356151</th>\n",
       "      <td>Initial</td>\n",
       "      <td>2017-08-19</td>\n",
       "      <td>1</td>\n",
       "    </tr>\n",
       "  </tbody>\n",
       "</table>\n",
       "</div>"
      ],
      "text/plain": [
       "         Second_Last_Insp_Type Second_Last_Insp_Date  \\\n",
       "CAMIS                                                  \n",
       "30075445               Initial            2019-10-21   \n",
       "30112340               Initial            2018-03-13   \n",
       "30191841               Initial            2018-05-16   \n",
       "40356018               Initial            2018-10-30   \n",
       "40356151               Initial            2017-08-19   \n",
       "\n",
       "          Second_Last_Insp_Num_CriticialFlags  \n",
       "CAMIS                                          \n",
       "30075445                                    2  \n",
       "30112340                                    1  \n",
       "30191841                                    1  \n",
       "40356018                                    1  \n",
       "40356151                                    1  "
      ]
     },
     "execution_count": 365,
     "metadata": {},
     "output_type": "execute_result"
    }
   ],
   "source": [
    "len(HD_SecondLastInsp)\n",
    "HD_SecondLastInsp = HD_SecondLastInsp[['inspection_type_recode', 'INSPECTION DATE', 'critical_flag_recode']]\n",
    "HD_SecondLastInsp.columns = ['Second_Last_Insp_Type','Second_Last_Insp_Date', 'Second_Last_Insp_Num_CriticialFlags']\n",
    "HD_SecondLastInsp = HD_SecondLastInsp.sort_values('CAMIS')\n",
    "HD_SecondLastInsp.head()"
   ]
  },
  {
   "cell_type": "code",
   "execution_count": 366,
   "metadata": {},
   "outputs": [
    {
     "data": {
      "text/plain": [
       "25697"
      ]
     },
     "execution_count": 366,
     "metadata": {},
     "output_type": "execute_result"
    },
    {
     "data": {
      "text/html": [
       "<div>\n",
       "<style scoped>\n",
       "    .dataframe tbody tr th:only-of-type {\n",
       "        vertical-align: middle;\n",
       "    }\n",
       "\n",
       "    .dataframe tbody tr th {\n",
       "        vertical-align: top;\n",
       "    }\n",
       "\n",
       "    .dataframe thead th {\n",
       "        text-align: right;\n",
       "    }\n",
       "</style>\n",
       "<table border=\"1\" class=\"dataframe\">\n",
       "  <thead>\n",
       "    <tr style=\"text-align: right;\">\n",
       "      <th></th>\n",
       "      <th>Last_Insp_Type</th>\n",
       "      <th>Last_Insp_Date</th>\n",
       "      <th>Last_Insp_Num_CriticialFlags</th>\n",
       "    </tr>\n",
       "    <tr>\n",
       "      <th>CAMIS</th>\n",
       "      <th></th>\n",
       "      <th></th>\n",
       "      <th></th>\n",
       "    </tr>\n",
       "  </thead>\n",
       "  <tbody>\n",
       "    <tr>\n",
       "      <th>30075445</th>\n",
       "      <td>Re-inspection</td>\n",
       "      <td>2019-11-04</td>\n",
       "      <td>1</td>\n",
       "    </tr>\n",
       "    <tr>\n",
       "      <th>30112340</th>\n",
       "      <td>Initial</td>\n",
       "      <td>2019-03-04</td>\n",
       "      <td>1</td>\n",
       "    </tr>\n",
       "    <tr>\n",
       "      <th>30191841</th>\n",
       "      <td>Initial</td>\n",
       "      <td>2019-06-06</td>\n",
       "      <td>1</td>\n",
       "    </tr>\n",
       "    <tr>\n",
       "      <th>40356018</th>\n",
       "      <td>Initial</td>\n",
       "      <td>2019-11-08</td>\n",
       "      <td>1</td>\n",
       "    </tr>\n",
       "    <tr>\n",
       "      <th>40356151</th>\n",
       "      <td>Initial</td>\n",
       "      <td>2018-10-06</td>\n",
       "      <td>2</td>\n",
       "    </tr>\n",
       "  </tbody>\n",
       "</table>\n",
       "</div>"
      ],
      "text/plain": [
       "         Last_Insp_Type Last_Insp_Date  Last_Insp_Num_CriticialFlags\n",
       "CAMIS                                                               \n",
       "30075445  Re-inspection     2019-11-04                             1\n",
       "30112340        Initial     2019-03-04                             1\n",
       "30191841        Initial     2019-06-06                             1\n",
       "40356018        Initial     2019-11-08                             1\n",
       "40356151        Initial     2018-10-06                             2"
      ]
     },
     "execution_count": 366,
     "metadata": {},
     "output_type": "execute_result"
    }
   ],
   "source": [
    "len(HD_LastInsp)\n",
    "HD_LastInsp.columns = ['Last_Insp_Type','Last_Insp_Date', 'Last_Insp_Num_CriticialFlags']\n",
    "HD_LastInsp = HD_LastInsp.sort_values('CAMIS')\n",
    "HD_LastInsp.head()"
   ]
  },
  {
   "cell_type": "code",
   "execution_count": 367,
   "metadata": {},
   "outputs": [
    {
     "data": {
      "text/plain": [
       "25697"
      ]
     },
     "execution_count": 367,
     "metadata": {},
     "output_type": "execute_result"
    },
    {
     "data": {
      "text/html": [
       "<div>\n",
       "<style scoped>\n",
       "    .dataframe tbody tr th:only-of-type {\n",
       "        vertical-align: middle;\n",
       "    }\n",
       "\n",
       "    .dataframe tbody tr th {\n",
       "        vertical-align: top;\n",
       "    }\n",
       "\n",
       "    .dataframe thead th {\n",
       "        text-align: right;\n",
       "    }\n",
       "</style>\n",
       "<table border=\"1\" class=\"dataframe\">\n",
       "  <thead>\n",
       "    <tr style=\"text-align: right;\">\n",
       "      <th></th>\n",
       "      <th>Second_Last_Insp_Type</th>\n",
       "      <th>Second_Last_Insp_Date</th>\n",
       "      <th>Second_Last_Insp_Num_CriticialFlags</th>\n",
       "      <th>Last_Insp_Type</th>\n",
       "      <th>Last_Insp_Date</th>\n",
       "      <th>Last_Insp_Num_CriticialFlags</th>\n",
       "    </tr>\n",
       "    <tr>\n",
       "      <th>CAMIS</th>\n",
       "      <th></th>\n",
       "      <th></th>\n",
       "      <th></th>\n",
       "      <th></th>\n",
       "      <th></th>\n",
       "      <th></th>\n",
       "    </tr>\n",
       "  </thead>\n",
       "  <tbody>\n",
       "    <tr>\n",
       "      <th>30075445</th>\n",
       "      <td>Initial</td>\n",
       "      <td>2019-10-21</td>\n",
       "      <td>2</td>\n",
       "      <td>Re-inspection</td>\n",
       "      <td>2019-11-04</td>\n",
       "      <td>1</td>\n",
       "    </tr>\n",
       "    <tr>\n",
       "      <th>30112340</th>\n",
       "      <td>Initial</td>\n",
       "      <td>2018-03-13</td>\n",
       "      <td>1</td>\n",
       "      <td>Initial</td>\n",
       "      <td>2019-03-04</td>\n",
       "      <td>1</td>\n",
       "    </tr>\n",
       "    <tr>\n",
       "      <th>30191841</th>\n",
       "      <td>Initial</td>\n",
       "      <td>2018-05-16</td>\n",
       "      <td>1</td>\n",
       "      <td>Initial</td>\n",
       "      <td>2019-06-06</td>\n",
       "      <td>1</td>\n",
       "    </tr>\n",
       "    <tr>\n",
       "      <th>40356018</th>\n",
       "      <td>Initial</td>\n",
       "      <td>2018-10-30</td>\n",
       "      <td>1</td>\n",
       "      <td>Initial</td>\n",
       "      <td>2019-11-08</td>\n",
       "      <td>1</td>\n",
       "    </tr>\n",
       "    <tr>\n",
       "      <th>40356151</th>\n",
       "      <td>Initial</td>\n",
       "      <td>2017-08-19</td>\n",
       "      <td>1</td>\n",
       "      <td>Initial</td>\n",
       "      <td>2018-10-06</td>\n",
       "      <td>2</td>\n",
       "    </tr>\n",
       "  </tbody>\n",
       "</table>\n",
       "</div>"
      ],
      "text/plain": [
       "         Second_Last_Insp_Type Second_Last_Insp_Date  \\\n",
       "CAMIS                                                  \n",
       "30075445               Initial            2019-10-21   \n",
       "30112340               Initial            2018-03-13   \n",
       "30191841               Initial            2018-05-16   \n",
       "40356018               Initial            2018-10-30   \n",
       "40356151               Initial            2017-08-19   \n",
       "\n",
       "          Second_Last_Insp_Num_CriticialFlags Last_Insp_Type Last_Insp_Date  \\\n",
       "CAMIS                                                                         \n",
       "30075445                                    2  Re-inspection     2019-11-04   \n",
       "30112340                                    1        Initial     2019-03-04   \n",
       "30191841                                    1        Initial     2019-06-06   \n",
       "40356018                                    1        Initial     2019-11-08   \n",
       "40356151                                    1        Initial     2018-10-06   \n",
       "\n",
       "          Last_Insp_Num_CriticialFlags  \n",
       "CAMIS                                   \n",
       "30075445                             1  \n",
       "30112340                             1  \n",
       "30191841                             1  \n",
       "40356018                             1  \n",
       "40356151                             2  "
      ]
     },
     "execution_count": 367,
     "metadata": {},
     "output_type": "execute_result"
    }
   ],
   "source": [
    "#merge the SecondLast df with the LastInsp df \n",
    "HD_InspCounts = pd.merge(HD_SecondLastInsp, HD_LastInsp, left_on = 'CAMIS', right_on = 'CAMIS', how = 'inner')\n",
    "len(HD_InspCounts)\n",
    "HD_InspCounts.head()"
   ]
  },
  {
   "cell_type": "code",
   "execution_count": 368,
   "metadata": {},
   "outputs": [
    {
     "data": {
      "text/html": [
       "<div>\n",
       "<style scoped>\n",
       "    .dataframe tbody tr th:only-of-type {\n",
       "        vertical-align: middle;\n",
       "    }\n",
       "\n",
       "    .dataframe tbody tr th {\n",
       "        vertical-align: top;\n",
       "    }\n",
       "\n",
       "    .dataframe thead th {\n",
       "        text-align: right;\n",
       "    }\n",
       "</style>\n",
       "<table border=\"1\" class=\"dataframe\">\n",
       "  <thead>\n",
       "    <tr style=\"text-align: right;\">\n",
       "      <th></th>\n",
       "      <th>Second_Last_Insp_Type</th>\n",
       "      <th>Second_Last_Insp_Date</th>\n",
       "      <th>Second_Last_Insp_Num_CriticialFlags</th>\n",
       "      <th>Last_Insp_Type</th>\n",
       "      <th>Last_Insp_Date</th>\n",
       "      <th>Last_Insp_Num_CriticialFlags</th>\n",
       "      <th>Insp_Date_Diff</th>\n",
       "    </tr>\n",
       "    <tr>\n",
       "      <th>CAMIS</th>\n",
       "      <th></th>\n",
       "      <th></th>\n",
       "      <th></th>\n",
       "      <th></th>\n",
       "      <th></th>\n",
       "      <th></th>\n",
       "      <th></th>\n",
       "    </tr>\n",
       "  </thead>\n",
       "  <tbody>\n",
       "    <tr>\n",
       "      <th>30075445</th>\n",
       "      <td>Initial</td>\n",
       "      <td>2019-10-21</td>\n",
       "      <td>2</td>\n",
       "      <td>Re-inspection</td>\n",
       "      <td>2019-11-04</td>\n",
       "      <td>1</td>\n",
       "      <td>14 days</td>\n",
       "    </tr>\n",
       "    <tr>\n",
       "      <th>30112340</th>\n",
       "      <td>Initial</td>\n",
       "      <td>2018-03-13</td>\n",
       "      <td>1</td>\n",
       "      <td>Initial</td>\n",
       "      <td>2019-03-04</td>\n",
       "      <td>1</td>\n",
       "      <td>356 days</td>\n",
       "    </tr>\n",
       "    <tr>\n",
       "      <th>30191841</th>\n",
       "      <td>Initial</td>\n",
       "      <td>2018-05-16</td>\n",
       "      <td>1</td>\n",
       "      <td>Initial</td>\n",
       "      <td>2019-06-06</td>\n",
       "      <td>1</td>\n",
       "      <td>386 days</td>\n",
       "    </tr>\n",
       "    <tr>\n",
       "      <th>40356018</th>\n",
       "      <td>Initial</td>\n",
       "      <td>2018-10-30</td>\n",
       "      <td>1</td>\n",
       "      <td>Initial</td>\n",
       "      <td>2019-11-08</td>\n",
       "      <td>1</td>\n",
       "      <td>374 days</td>\n",
       "    </tr>\n",
       "    <tr>\n",
       "      <th>40356151</th>\n",
       "      <td>Initial</td>\n",
       "      <td>2017-08-19</td>\n",
       "      <td>1</td>\n",
       "      <td>Initial</td>\n",
       "      <td>2018-10-06</td>\n",
       "      <td>2</td>\n",
       "      <td>413 days</td>\n",
       "    </tr>\n",
       "  </tbody>\n",
       "</table>\n",
       "</div>"
      ],
      "text/plain": [
       "         Second_Last_Insp_Type Second_Last_Insp_Date  \\\n",
       "CAMIS                                                  \n",
       "30075445               Initial            2019-10-21   \n",
       "30112340               Initial            2018-03-13   \n",
       "30191841               Initial            2018-05-16   \n",
       "40356018               Initial            2018-10-30   \n",
       "40356151               Initial            2017-08-19   \n",
       "\n",
       "          Second_Last_Insp_Num_CriticialFlags Last_Insp_Type Last_Insp_Date  \\\n",
       "CAMIS                                                                         \n",
       "30075445                                    2  Re-inspection     2019-11-04   \n",
       "30112340                                    1        Initial     2019-03-04   \n",
       "30191841                                    1        Initial     2019-06-06   \n",
       "40356018                                    1        Initial     2019-11-08   \n",
       "40356151                                    1        Initial     2018-10-06   \n",
       "\n",
       "          Last_Insp_Num_CriticialFlags Insp_Date_Diff  \n",
       "CAMIS                                                  \n",
       "30075445                             1        14 days  \n",
       "30112340                             1       356 days  \n",
       "30191841                             1       386 days  \n",
       "40356018                             1       374 days  \n",
       "40356151                             2       413 days  "
      ]
     },
     "execution_count": 368,
     "metadata": {},
     "output_type": "execute_result"
    }
   ],
   "source": [
    "HD_InspCounts['Insp_Date_Diff']=HD_InspCounts['Last_Insp_Date'] - HD_InspCounts['Second_Last_Insp_Date']\n",
    "HD_InspCounts.head()"
   ]
  },
  {
   "cell_type": "markdown",
   "metadata": {},
   "source": [
    "It turns out that for some of these, we only have 1 inspection. So Second_Last_Date is equal to Last_Date because of the way I calculated it. So we need to get rid of those guys"
   ]
  },
  {
   "cell_type": "code",
   "execution_count": 369,
   "metadata": {},
   "outputs": [
    {
     "data": {
      "text/plain": [
       "Timedelta('0 days 00:00:00')"
      ]
     },
     "execution_count": 369,
     "metadata": {},
     "output_type": "execute_result"
    },
    {
     "data": {
      "text/plain": [
       "Timedelta('1071 days 00:00:00')"
      ]
     },
     "execution_count": 369,
     "metadata": {},
     "output_type": "execute_result"
    }
   ],
   "source": [
    "HD_InspCounts['Insp_Date_Diff'].min()\n",
    "HD_InspCounts['Insp_Date_Diff'].max()"
   ]
  },
  {
   "cell_type": "code",
   "execution_count": 370,
   "metadata": {},
   "outputs": [],
   "source": [
    "HD_InspCounts.loc[HD_InspCounts['Insp_Date_Diff'] == '0 days', ['Second_Last_Insp_Type','Second_Last_Insp_Num_CriticialFlags','Second_Last_Insp_Date']] = np.NaN"
   ]
  },
  {
   "cell_type": "code",
   "execution_count": 371,
   "metadata": {},
   "outputs": [
    {
     "data": {
      "text/html": [
       "<div>\n",
       "<style scoped>\n",
       "    .dataframe tbody tr th:only-of-type {\n",
       "        vertical-align: middle;\n",
       "    }\n",
       "\n",
       "    .dataframe tbody tr th {\n",
       "        vertical-align: top;\n",
       "    }\n",
       "\n",
       "    .dataframe thead th {\n",
       "        text-align: right;\n",
       "    }\n",
       "</style>\n",
       "<table border=\"1\" class=\"dataframe\">\n",
       "  <thead>\n",
       "    <tr style=\"text-align: right;\">\n",
       "      <th></th>\n",
       "      <th>Second_Last_Insp_Type</th>\n",
       "      <th>Second_Last_Insp_Date</th>\n",
       "      <th>Second_Last_Insp_Num_CriticialFlags</th>\n",
       "      <th>Last_Insp_Type</th>\n",
       "      <th>Last_Insp_Date</th>\n",
       "      <th>Last_Insp_Num_CriticialFlags</th>\n",
       "      <th>Insp_Date_Diff</th>\n",
       "    </tr>\n",
       "    <tr>\n",
       "      <th>CAMIS</th>\n",
       "      <th></th>\n",
       "      <th></th>\n",
       "      <th></th>\n",
       "      <th></th>\n",
       "      <th></th>\n",
       "      <th></th>\n",
       "      <th></th>\n",
       "    </tr>\n",
       "  </thead>\n",
       "  <tbody>\n",
       "    <tr>\n",
       "      <th>40962072</th>\n",
       "      <td>NaN</td>\n",
       "      <td>NaT</td>\n",
       "      <td>NaN</td>\n",
       "      <td>Initial</td>\n",
       "      <td>2018-05-10</td>\n",
       "      <td>1</td>\n",
       "      <td>0 days</td>\n",
       "    </tr>\n",
       "    <tr>\n",
       "      <th>41412172</th>\n",
       "      <td>NaN</td>\n",
       "      <td>NaT</td>\n",
       "      <td>NaN</td>\n",
       "      <td>Initial</td>\n",
       "      <td>2015-10-03</td>\n",
       "      <td>1</td>\n",
       "      <td>0 days</td>\n",
       "    </tr>\n",
       "    <tr>\n",
       "      <th>41601082</th>\n",
       "      <td>NaN</td>\n",
       "      <td>NaT</td>\n",
       "      <td>NaN</td>\n",
       "      <td>Initial</td>\n",
       "      <td>2019-02-12</td>\n",
       "      <td>4</td>\n",
       "      <td>0 days</td>\n",
       "    </tr>\n",
       "    <tr>\n",
       "      <th>50043445</th>\n",
       "      <td>NaN</td>\n",
       "      <td>NaT</td>\n",
       "      <td>NaN</td>\n",
       "      <td>Initial</td>\n",
       "      <td>2017-03-10</td>\n",
       "      <td>1</td>\n",
       "      <td>0 days</td>\n",
       "    </tr>\n",
       "    <tr>\n",
       "      <th>50066403</th>\n",
       "      <td>NaN</td>\n",
       "      <td>NaT</td>\n",
       "      <td>NaN</td>\n",
       "      <td>Initial</td>\n",
       "      <td>2018-08-30</td>\n",
       "      <td>1</td>\n",
       "      <td>0 days</td>\n",
       "    </tr>\n",
       "    <tr>\n",
       "      <th>...</th>\n",
       "      <td>...</td>\n",
       "      <td>...</td>\n",
       "      <td>...</td>\n",
       "      <td>...</td>\n",
       "      <td>...</td>\n",
       "      <td>...</td>\n",
       "      <td>...</td>\n",
       "    </tr>\n",
       "    <tr>\n",
       "      <th>50101998</th>\n",
       "      <td>NaN</td>\n",
       "      <td>NaT</td>\n",
       "      <td>NaN</td>\n",
       "      <td>Initial</td>\n",
       "      <td>2020-01-07</td>\n",
       "      <td>1</td>\n",
       "      <td>0 days</td>\n",
       "    </tr>\n",
       "    <tr>\n",
       "      <th>50102076</th>\n",
       "      <td>NaN</td>\n",
       "      <td>NaT</td>\n",
       "      <td>NaN</td>\n",
       "      <td>Initial</td>\n",
       "      <td>2020-01-07</td>\n",
       "      <td>3</td>\n",
       "      <td>0 days</td>\n",
       "    </tr>\n",
       "    <tr>\n",
       "      <th>50102276</th>\n",
       "      <td>NaN</td>\n",
       "      <td>NaT</td>\n",
       "      <td>NaN</td>\n",
       "      <td>Initial</td>\n",
       "      <td>2020-01-09</td>\n",
       "      <td>3</td>\n",
       "      <td>0 days</td>\n",
       "    </tr>\n",
       "    <tr>\n",
       "      <th>50102300</th>\n",
       "      <td>NaN</td>\n",
       "      <td>NaT</td>\n",
       "      <td>NaN</td>\n",
       "      <td>Initial</td>\n",
       "      <td>2020-01-07</td>\n",
       "      <td>6</td>\n",
       "      <td>0 days</td>\n",
       "    </tr>\n",
       "    <tr>\n",
       "      <th>50102397</th>\n",
       "      <td>NaN</td>\n",
       "      <td>NaT</td>\n",
       "      <td>NaN</td>\n",
       "      <td>Initial</td>\n",
       "      <td>2020-01-09</td>\n",
       "      <td>1</td>\n",
       "      <td>0 days</td>\n",
       "    </tr>\n",
       "  </tbody>\n",
       "</table>\n",
       "<p>1903 rows × 7 columns</p>\n",
       "</div>"
      ],
      "text/plain": [
       "         Second_Last_Insp_Type Second_Last_Insp_Date  \\\n",
       "CAMIS                                                  \n",
       "40962072                   NaN                   NaT   \n",
       "41412172                   NaN                   NaT   \n",
       "41601082                   NaN                   NaT   \n",
       "50043445                   NaN                   NaT   \n",
       "50066403                   NaN                   NaT   \n",
       "...                        ...                   ...   \n",
       "50101998                   NaN                   NaT   \n",
       "50102076                   NaN                   NaT   \n",
       "50102276                   NaN                   NaT   \n",
       "50102300                   NaN                   NaT   \n",
       "50102397                   NaN                   NaT   \n",
       "\n",
       "          Second_Last_Insp_Num_CriticialFlags Last_Insp_Type Last_Insp_Date  \\\n",
       "CAMIS                                                                         \n",
       "40962072                                  NaN        Initial     2018-05-10   \n",
       "41412172                                  NaN        Initial     2015-10-03   \n",
       "41601082                                  NaN        Initial     2019-02-12   \n",
       "50043445                                  NaN        Initial     2017-03-10   \n",
       "50066403                                  NaN        Initial     2018-08-30   \n",
       "...                                       ...            ...            ...   \n",
       "50101998                                  NaN        Initial     2020-01-07   \n",
       "50102076                                  NaN        Initial     2020-01-07   \n",
       "50102276                                  NaN        Initial     2020-01-09   \n",
       "50102300                                  NaN        Initial     2020-01-07   \n",
       "50102397                                  NaN        Initial     2020-01-09   \n",
       "\n",
       "          Last_Insp_Num_CriticialFlags Insp_Date_Diff  \n",
       "CAMIS                                                  \n",
       "40962072                             1         0 days  \n",
       "41412172                             1         0 days  \n",
       "41601082                             4         0 days  \n",
       "50043445                             1         0 days  \n",
       "50066403                             1         0 days  \n",
       "...                                ...            ...  \n",
       "50101998                             1         0 days  \n",
       "50102076                             3         0 days  \n",
       "50102276                             3         0 days  \n",
       "50102300                             6         0 days  \n",
       "50102397                             1         0 days  \n",
       "\n",
       "[1903 rows x 7 columns]"
      ]
     },
     "execution_count": 371,
     "metadata": {},
     "output_type": "execute_result"
    },
    {
     "data": {
      "text/plain": [
       "1903"
      ]
     },
     "execution_count": 371,
     "metadata": {},
     "output_type": "execute_result"
    }
   ],
   "source": [
    "HD_InspCounts[HD_InspCounts['Insp_Date_Diff']=='0 days']\n",
    "len(HD_InspCounts[HD_InspCounts['Insp_Date_Diff']=='0 days'])"
   ]
  },
  {
   "cell_type": "code",
   "execution_count": 377,
   "metadata": {},
   "outputs": [
    {
     "data": {
      "text/plain": [
       "67090"
      ]
     },
     "execution_count": 377,
     "metadata": {},
     "output_type": "execute_result"
    }
   ],
   "source": [
    "#merge with original \n",
    "HD_InspCounts_Full = pd.merge(HD_InspCounts, HD, left_on = ['CAMIS', 'Last_Insp_Date'], right_on = ['CAMIS', 'INSPECTION DATE'], how = 'left')\n",
    "len(HD_InspCounts_Full)"
   ]
  },
  {
   "cell_type": "code",
   "execution_count": 381,
   "metadata": {},
   "outputs": [
    {
     "data": {
      "text/plain": [
       "25697"
      ]
     },
     "execution_count": 381,
     "metadata": {},
     "output_type": "execute_result"
    }
   ],
   "source": [
    "#Drop duplicate rows that got added from the full dataframe\n",
    "HD_InspCounts_Full = HD_InspCounts_Full.drop_duplicates(subset = 'CAMIS', keep = 'first')\n",
    "len(HD_InspCounts_Full)"
   ]
  },
  {
   "cell_type": "code",
   "execution_count": 386,
   "metadata": {},
   "outputs": [
    {
     "data": {
      "text/html": [
       "<div>\n",
       "<style scoped>\n",
       "    .dataframe tbody tr th:only-of-type {\n",
       "        vertical-align: middle;\n",
       "    }\n",
       "\n",
       "    .dataframe tbody tr th {\n",
       "        vertical-align: top;\n",
       "    }\n",
       "\n",
       "    .dataframe thead th {\n",
       "        text-align: right;\n",
       "    }\n",
       "</style>\n",
       "<table border=\"1\" class=\"dataframe\">\n",
       "  <thead>\n",
       "    <tr style=\"text-align: right;\">\n",
       "      <th></th>\n",
       "      <th>CAMIS</th>\n",
       "      <th>Second_Last_Insp_Type</th>\n",
       "      <th>Second_Last_Insp_Date</th>\n",
       "      <th>Second_Last_Insp_Num_CriticialFlags</th>\n",
       "      <th>Last_Insp_Type</th>\n",
       "      <th>Last_Insp_Date</th>\n",
       "      <th>Last_Insp_Num_CriticialFlags</th>\n",
       "      <th>Insp_Date_Diff</th>\n",
       "      <th>DBA</th>\n",
       "      <th>BORO</th>\n",
       "      <th>ZIPCODE</th>\n",
       "      <th>CUISINE DESCRIPTION</th>\n",
       "      <th>Latitude</th>\n",
       "      <th>Longitude</th>\n",
       "      <th>Community Board</th>\n",
       "      <th>Council District</th>\n",
       "      <th>Census Tract</th>\n",
       "      <th>BIN</th>\n",
       "      <th>BBL</th>\n",
       "      <th>NTA</th>\n",
       "    </tr>\n",
       "  </thead>\n",
       "  <tbody>\n",
       "    <tr>\n",
       "      <th>0</th>\n",
       "      <td>30075445</td>\n",
       "      <td>Initial</td>\n",
       "      <td>2019-10-21</td>\n",
       "      <td>2.0</td>\n",
       "      <td>Re-inspection</td>\n",
       "      <td>2019-11-04</td>\n",
       "      <td>1</td>\n",
       "      <td>14 days</td>\n",
       "      <td>MORRIS PARK BAKE SHOP</td>\n",
       "      <td>Bronx</td>\n",
       "      <td>10462.0</td>\n",
       "      <td>Bakery</td>\n",
       "      <td>40.848231</td>\n",
       "      <td>-73.855972</td>\n",
       "      <td>211.0</td>\n",
       "      <td>13.0</td>\n",
       "      <td>25200.0</td>\n",
       "      <td>2045445.0</td>\n",
       "      <td>2.041270e+09</td>\n",
       "      <td>BX37</td>\n",
       "    </tr>\n",
       "    <tr>\n",
       "      <th>1</th>\n",
       "      <td>30112340</td>\n",
       "      <td>Initial</td>\n",
       "      <td>2018-03-13</td>\n",
       "      <td>1.0</td>\n",
       "      <td>Initial</td>\n",
       "      <td>2019-03-04</td>\n",
       "      <td>1</td>\n",
       "      <td>356 days</td>\n",
       "      <td>WENDY'S</td>\n",
       "      <td>Brooklyn</td>\n",
       "      <td>11225.0</td>\n",
       "      <td>Hamburgers</td>\n",
       "      <td>40.662652</td>\n",
       "      <td>-73.962081</td>\n",
       "      <td>309.0</td>\n",
       "      <td>40.0</td>\n",
       "      <td>32700.0</td>\n",
       "      <td>3029737.0</td>\n",
       "      <td>3.011970e+09</td>\n",
       "      <td>BK60</td>\n",
       "    </tr>\n",
       "  </tbody>\n",
       "</table>\n",
       "</div>"
      ],
      "text/plain": [
       "      CAMIS Second_Last_Insp_Type Second_Last_Insp_Date  \\\n",
       "0  30075445               Initial            2019-10-21   \n",
       "1  30112340               Initial            2018-03-13   \n",
       "\n",
       "   Second_Last_Insp_Num_CriticialFlags Last_Insp_Type Last_Insp_Date  \\\n",
       "0                                  2.0  Re-inspection     2019-11-04   \n",
       "1                                  1.0        Initial     2019-03-04   \n",
       "\n",
       "   Last_Insp_Num_CriticialFlags Insp_Date_Diff                    DBA  \\\n",
       "0                             1        14 days  MORRIS PARK BAKE SHOP   \n",
       "1                             1       356 days                WENDY'S   \n",
       "\n",
       "       BORO  ZIPCODE CUISINE DESCRIPTION   Latitude  Longitude  \\\n",
       "0     Bronx  10462.0              Bakery  40.848231 -73.855972   \n",
       "1  Brooklyn  11225.0          Hamburgers  40.662652 -73.962081   \n",
       "\n",
       "   Community Board  Council District  Census Tract        BIN           BBL  \\\n",
       "0            211.0              13.0       25200.0  2045445.0  2.041270e+09   \n",
       "1            309.0              40.0       32700.0  3029737.0  3.011970e+09   \n",
       "\n",
       "    NTA  \n",
       "0  BX37  \n",
       "1  BK60  "
      ]
     },
     "execution_count": 386,
     "metadata": {},
     "output_type": "execute_result"
    }
   ],
   "source": [
    "HD_InspCounts_Full = HD_InspCounts_Full[['CAMIS', 'Second_Last_Insp_Type', 'Second_Last_Insp_Date',\n",
    "       'Second_Last_Insp_Num_CriticialFlags', 'Last_Insp_Type',\n",
    "       'Last_Insp_Date', 'Last_Insp_Num_CriticialFlags', 'Insp_Date_Diff','DBA', 'BORO', 'ZIPCODE',\n",
    "       'CUISINE DESCRIPTION',  'Latitude', 'Longitude',\n",
    "       'Community Board', 'Council District', 'Census Tract', 'BIN', 'BBL',\n",
    "       'NTA']]\n",
    "HD_InspCounts_Full.head(n=2)"
   ]
  },
  {
   "cell_type": "code",
   "execution_count": 387,
   "metadata": {},
   "outputs": [],
   "source": [
    "#save this dataframe to file\n",
    "HD_InspCounts_Full.to_csv(r'HD_InspCounts_Full.csv')"
   ]
  }
 ],
 "metadata": {
  "kernelspec": {
   "display_name": "Python 3",
   "language": "python",
   "name": "python3"
  },
  "language_info": {
   "codemirror_mode": {
    "name": "ipython",
    "version": 3
   },
   "file_extension": ".py",
   "mimetype": "text/x-python",
   "name": "python",
   "nbconvert_exporter": "python",
   "pygments_lexer": "ipython3",
   "version": "3.6.10"
  }
 },
 "nbformat": 4,
 "nbformat_minor": 2
}
