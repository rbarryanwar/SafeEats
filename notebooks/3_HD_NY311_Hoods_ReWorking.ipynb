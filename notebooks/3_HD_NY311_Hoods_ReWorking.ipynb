{
 "cells": [
  {
   "cell_type": "code",
   "execution_count": 1,
   "metadata": {},
   "outputs": [],
   "source": [
    "import pandas as pd\n",
    "import numpy as np\n",
    "import matplotlib.pyplot as plt\n",
    "%matplotlib inline\n",
    "from IPython.core.interactiveshell import InteractiveShell\n",
    "InteractiveShell.ast_node_interactivity = \"all\"\n",
    "import seaborn as sns\n",
    "import swifter\n",
    "from sklearn.model_selection import train_test_split \n",
    "from sklearn.linear_model import LinearRegression\n",
    "from sklearn import metrics\n",
    "from sklearn import preprocessing\n",
    "def warn(*args, **kwargs):\n",
    "    pass\n",
    "import warnings\n",
    "warnings.warn = warn"
   ]
  },
  {
   "cell_type": "code",
   "execution_count": 2,
   "metadata": {},
   "outputs": [
    {
     "name": "stdout",
     "output_type": "stream",
     "text": [
      "/Users/rabarry/Documents/Insight/NYC data/SafeEats/data/processed\n"
     ]
    }
   ],
   "source": [
    "cd /Users/rabarry/Documents/Insight/NYC data/SafeEats/data/processed"
   ]
  },
  {
   "cell_type": "markdown",
   "metadata": {},
   "source": [
    "# Prepare data for models"
   ]
  },
  {
   "cell_type": "markdown",
   "metadata": {},
   "source": [
    "#### Load in the data"
   ]
  },
  {
   "cell_type": "code",
   "execution_count": 3,
   "metadata": {},
   "outputs": [],
   "source": [
    "data = pd.read_csv('HD_NY311_Hoods.csv')"
   ]
  },
  {
   "cell_type": "markdown",
   "metadata": {},
   "source": [
    "#### Code data labels <br>\n",
    "Good = 0 or 1 critical flags at last inspection <br>\n",
    "Bad = 2 or more critical flags at last inspection"
   ]
  },
  {
   "cell_type": "code",
   "execution_count": 4,
   "metadata": {},
   "outputs": [
    {
     "name": "stdout",
     "output_type": "stream",
     "text": [
      "1    18431\n",
      "0     7216\n",
      "Name: is_good_lastInsp, dtype: int64\n"
     ]
    }
   ],
   "source": [
    "data['is_good_lastInsp'] = np.where(data['Last_Insp_Num_CriticialFlags']>1,0,1)\n",
    "print(data['is_good_lastInsp'].value_counts())"
   ]
  },
  {
   "cell_type": "code",
   "execution_count": 5,
   "metadata": {},
   "outputs": [
    {
     "name": "stdout",
     "output_type": "stream",
     "text": [
      "\u001b[1m\u001b[94mProportion of dirty to clean samples = \u001b[30m39.15% \n",
      "\n"
     ]
    }
   ],
   "source": [
    "clean = (data['is_good_lastInsp']==1)\n",
    "dirty = (data['is_good_lastInsp']==0)\n",
    "print(f\"\\033[1m\\033[94mProportion of dirty to clean samples = \\033[30m{(dirty.sum() / clean.sum()) * 100:.2f}% \\n\")"
   ]
  },
  {
   "cell_type": "markdown",
   "metadata": {},
   "source": [
    "#### Re-code Cuisine Type <br>\n",
    "Went from 84 types to 6"
   ]
  },
  {
   "cell_type": "code",
   "execution_count": 6,
   "metadata": {},
   "outputs": [
    {
     "name": "stdout",
     "output_type": "stream",
     "text": [
      "American        6948\n",
      "Other           5020\n",
      "Asian           4466\n",
      "Cafe/Dessert    3881\n",
      "Latin           2700\n",
      "Italian         2632\n",
      "Name: Cuisine_Reduced, dtype: int64\n"
     ]
    }
   ],
   "source": [
    "conditions = [\n",
    "    (data['CUISINE DESCRIPTION'] == 'American') |  (data['CUISINE DESCRIPTION'] == 'Hamburgers') | (data['CUISINE DESCRIPTION'] == 'Steak') | (data['CUISINE DESCRIPTION'] == 'Soul Food') | (data['CUISINE DESCRIPTION'] == 'Barbecue') | (data['CUISINE DESCRIPTION'] == 'Hotdogs/Pretzels') | (data['CUISINE DESCRIPTION'] == 'Hotdogs') | (data['CUISINE DESCRIPTION'] == 'Californian') | (data['CUISINE DESCRIPTION'] == 'Southwestern') | (data['CUISINE DESCRIPTION'] == 'Chicken'),\n",
    "    (data['CUISINE DESCRIPTION'] == 'Chinese') | (data['CUISINE DESCRIPTION'] == 'Japanese') | (data['CUISINE DESCRIPTION'] == 'Asian') | (data['CUISINE DESCRIPTION'] == 'Thai') | (data['CUISINE DESCRIPTION'] == 'Korean') | (data['CUISINE DESCRIPTION'] == 'Vietnamese/Cambodian/Malaysia') | (data['CUISINE DESCRIPTION'] == 'Chinese/Japanese') | (data['CUISINE DESCRIPTION'] == 'Filipino') | (data['CUISINE DESCRIPTION'] == 'Indonesian'), \n",
    "    (data['CUISINE DESCRIPTION'] == 'Café/Coffee/Tea') | (data['CUISINE DESCRIPTION'] == 'Bakery') | (data['CUISINE DESCRIPTION'] == 'Donuts') | (data['CUISINE DESCRIPTION'] == 'Juice, Smoothies, Fruit Salads') | (data['CUISINE DESCRIPTION'] == 'Ice Cream, Gelato, Yogurt, Ices') | (data['CUISINE DESCRIPTION'] == 'Bottled beverages, including water, sodas, juices, etc. ') | (data['CUISINE DESCRIPTION'] == 'Pancakes/Waffles')| (data['CUISINE DESCRIPTION'] == 'Nuts/Confectionary'),\n",
    "    (data['CUISINE DESCRIPTION'] == 'Pizza') | (data['CUISINE DESCRIPTION'] == 'Italian') | (data['CUISINE DESCRIPTION'] == 'Pizza/Italian'),\n",
    "    (data['CUISINE DESCRIPTION'] == 'Mexican') | (data['CUISINE DESCRIPTION'] == 'Latin (Cuban, Dominican, Puerto Rican, South & Central American)') | (data['CUISINE DESCRIPTION'] == 'Spanish') | (data['CUISINE DESCRIPTION'] == 'Tex-Mex') | (data['CUISINE DESCRIPTION'] == 'Peruvian') | (data['CUISINE DESCRIPTION'] == 'Tapas') | (data['CUISINE DESCRIPTION'] == 'Chilean')      \n",
    "]\n",
    "choices = ['American', 'Asian', 'Cafe/Dessert', 'Italian', 'Latin']\n",
    "data['Cuisine_Reduced'] = np.select(conditions, choices, default='Other')\n",
    "print(data['Cuisine_Reduced'].value_counts())\n",
    "data['Cuisine_Reduced'].isnull().sum(axis = 0);"
   ]
  },
  {
   "cell_type": "code",
   "execution_count": 78,
   "metadata": {},
   "outputs": [],
   "source": [
    "dataforplots = data.copy()\n",
    "dataforplots.rename(columns = {'Cuisine_Reduced': \"Cuisine Type\"}, inplace=True)\n",
    "#dataforplots.rename(columns = {'is_good_lastInsp': 'Clean?'}, inplace=True)\n",
    "dataforplots['Clean'] = np.where(dataforplots['is_good_lastInsp']==1,'yes','no')\n",
    "dataforplots.rename(columns = {'BORO': \"Borough\"}, inplace=True)\n",
    "dataforplots.rename(columns = {'Second_Last_Insp_Type': \"Previous Inspection Type\"}, inplace=True)\n",
    "dataforplots.rename(columns = {'num_years_active': \"Age of restaurant\"}, inplace=True)"
   ]
  },
  {
   "cell_type": "code",
   "execution_count": 84,
   "metadata": {},
   "outputs": [
    {
     "data": {
      "image/png": "[encoded data removed]",
      "text/plain": [
       "<Figure size 576x288 with 1 Axes>"
      ]
     },
     "metadata": {},
     "output_type": "display_data"
    }
   ],
   "source": [
    "sns.set(rc={'figure.figsize':(8,4)})\n",
    "ax = sns.countplot(y=dataforplots[\"Cuisine Type\"], hue = dataforplots['Clean'], palette = 'husl')\n",
    "sns.despine()\n",
    "#plt.xlim(-.5,6.5) \n",
    "plt.savefig('/Users/rabarry/Documents/Insight/NYC data/SafeEats/Cuisine_Violations.png')"
   ]
  },
  {
   "cell_type": "code",
   "execution_count": 87,
   "metadata": {},
   "outputs": [
    {
     "data": {
      "text/plain": [
       "<matplotlib.axes._subplots.AxesSubplot at 0x1c22657240>"
      ]
     },
     "execution_count": 87,
     "metadata": {},
     "output_type": "execute_result"
    },
    {
     "data": {
      "image/png": "[encoded data removed]",
      "text/plain": [
       "<Figure size 576x288 with 1 Axes>"
      ]
     },
     "metadata": {},
     "output_type": "display_data"
    }
   ],
   "source": [
    "#ax = sns.countplot(y=dataforplots[\"Cuisine Type\"], hue = dataforplots['Clean'], palette = \"husl\")\n",
    "#plt.savefig('Cuisine_Countplot.png')\n",
    "#ax = sns.countplot(y=dataforplots['Borough'], hue = dataforplots['Clean'], palette = \"husl\")\n",
    "#plt.savefig('Borough_Countplot.png')\n",
    "#ax = sns.countplot(y=dataforplots['Previous Inspection Type'], hue = dataforplots['Clean'], palette = \"husl\")\n",
    "#plt.savefig('LastType_Countplot.png')\n",
    "\n",
    "sns.boxplot(y=dataforplots['Population'], x=dataforplots['Clean'], palette = \"husl\")\n",
    "#ax = sns.countplot(y=data['Second_Last_Insp_Num_CriticialFlags'], hue = data['is_good_lastInsp'])\n",
    "\n",
    "#ax = sns.countplot(y=dataforplots['Age of restaurant'], hue = dataforplots['Clean'], palette = 'husl')\n",
    "\n",
    "#ax = sns.countplot(y=data['ny311_number_of_complaints_3mo'], hue = data['is_good_lastInsp'])"
   ]
  },
  {
   "cell_type": "code",
   "execution_count": 86,
   "metadata": {},
   "outputs": [
    {
     "data": {
      "text/plain": [
       "<matplotlib.axes._subplots.AxesSubplot at 0x1c20b1c6d8>"
      ]
     },
     "execution_count": 86,
     "metadata": {},
     "output_type": "execute_result"
    },
    {
     "data": {
      "image/png": "[encoded data removed]",
      "text/plain": [
       "<Figure size 576x288 with 1 Axes>"
      ]
     },
     "metadata": {},
     "output_type": "display_data"
    }
   ],
   "source": [
    "#sns.boxplot(y=data['Insp_Date_Diff'], x=data['is_good_lastInsp'])\n",
    "#sns.boxplot(y=data['Income diversity ratio'], x=data['is_good_lastInsp'])\n",
    "#sns.boxplot(y=data['Median household income (2018$)'], x=data['is_good_lastInsp'])\n",
    "sns.boxplot(y=data['Population'], x=data['is_good_lastInsp'])\n",
    "#sns.boxplot(y=data['Population density (1,000 persons per square mile)'], x=data['is_good_lastInsp'])\n",
    "#sns.boxplot(y=data['Poverty rate'], x=data['is_good_lastInsp'])\n",
    "#sns.boxplot(y=data['Public housing (% of rental units)'], x=data['is_good_lastInsp'])\n",
    "#sns.boxplot(y=data['Racial diversity index'], x=data['is_good_lastInsp'])\n",
    "#sns.boxplot(y=data['Serious crime rate (per 1,000 residents)'], x=data['is_good_lastInsp'])\n",
    "#sns.boxplot(y=data['Serious housing code violations (per 1,000 privately owned rental units)'], x=data['is_good_lastInsp'])"
   ]
  },
  {
   "cell_type": "code",
   "execution_count": 9,
   "metadata": {},
   "outputs": [
    {
     "data": {
      "text/plain": [
       "1.000000     2606\n",
       "2.000000     2551\n",
       "3.000000     1894\n",
       "4.000000     1542\n",
       "1.500000     1362\n",
       "             ... \n",
       "36.000000       1\n",
       "31.000000       1\n",
       "20.333333       1\n",
       "18.333333       1\n",
       "19.500000       1\n",
       "Name: avg_num_critical_flags_per_year, Length: 92, dtype: int64"
      ]
     },
     "execution_count": 9,
     "metadata": {},
     "output_type": "execute_result"
    }
   ],
   "source": [
    "data['avg_num_critical_flags_per_year'].value_counts()"
   ]
  },
  {
   "cell_type": "markdown",
   "metadata": {},
   "source": [
    "#### Recode all other categorical variables"
   ]
  },
  {
   "cell_type": "code",
   "execution_count": 10,
   "metadata": {},
   "outputs": [],
   "source": [
    "data['Second_Last_Insp_Type_CAT']=data['Second_Last_Insp_Type'].astype('category')\n",
    "data['Second_Last_Insp_Type_CAT'] = data['Second_Last_Insp_Type_CAT'].cat.codes\n",
    "data['Second_Last_Insp_Num_CriticialFlags_CAT']=data['Second_Last_Insp_Num_CriticialFlags'].astype('category')\n",
    "data['BORO_CAT']=data['BORO'].astype('category')\n",
    "data['BORO_CAT'] = data['BORO_CAT'].cat.codes\n",
    "data['num_years_active_CAT']=data['num_years_active'].astype('category')\n",
    "data['Cuisine_CAT']=data['Cuisine_Reduced'].astype('category')\n",
    "data['Cuisine_CAT'] = data['Cuisine_CAT'].cat.codes\n",
    "data['is_good_lastInsp']= data['is_good_lastInsp'].astype('category')\n",
    "data['ny311_number_of_complaints_3mo']= data['ny311_number_of_complaints_3mo'].astype('category')"
   ]
  },
  {
   "cell_type": "markdown",
   "metadata": {},
   "source": [
    "#### Remove restaurants that don't have a previous inspection"
   ]
  },
  {
   "cell_type": "code",
   "execution_count": 11,
   "metadata": {},
   "outputs": [],
   "source": [
    "len(data);\n",
    "data = data[data['Second_Last_Insp_Type'].notnull()]\n",
    "len(data);"
   ]
  },
  {
   "cell_type": "markdown",
   "metadata": {},
   "source": [
    "#### Format data types "
   ]
  },
  {
   "cell_type": "code",
   "execution_count": 12,
   "metadata": {},
   "outputs": [
    {
     "data": {
      "application/vnd.jupyter.widget-view+json": {
       "model_id": "b064724ca8434f348a8e13b951f9f84d",
       "version_major": 2,
       "version_minor": 0
      },
      "text/plain": [
       "HBox(children=(FloatProgress(value=0.0, description='Pandas Apply', max=50.0, style=ProgressStyle(description_…"
      ]
     },
     "metadata": {},
     "output_type": "display_data"
    },
    {
     "name": "stdout",
     "output_type": "stream",
     "text": [
      "\n"
     ]
    },
    {
     "data": {
      "application/vnd.jupyter.widget-view+json": {
       "model_id": "5b58b33ef04346768bfecafebcb03318",
       "version_major": 2,
       "version_minor": 0
      },
      "text/plain": [
       "HBox(children=(FloatProgress(value=0.0, description='Pandas Apply', max=50.0, style=ProgressStyle(description_…"
      ]
     },
     "metadata": {},
     "output_type": "display_data"
    },
    {
     "name": "stdout",
     "output_type": "stream",
     "text": [
      "\n"
     ]
    }
   ],
   "source": [
    "data['Median household income (2018$)'] = data['Median household income (2018$)'].str[1:]\n",
    "data['Poverty rate'] = data['Poverty rate'].str[:-1]\n",
    "data['Public housing (% of rental units)'] = data['Public housing (% of rental units)'].str[:-1]\n",
    "\n",
    "data = data.swifter.apply(lambda x: x.str.strip() if x.dtype =='object' else x)\n",
    "\n",
    "data = data.swifter.apply(lambda x: x.str.replace(',','') if x.dtype =='object' else x)\n",
    "\n",
    "data['Median household income (2018$)'] = data['Median household income (2018$)'].astype('float64')\n",
    "\n",
    "data['Population'] = data['Population'].astype('float64')\n",
    "data['Poverty rate'] = data['Poverty rate'].astype('float64')\n",
    "data['Public housing (% of rental units)'] = data['Public housing (% of rental units)'].astype('float64')"
   ]
  },
  {
   "cell_type": "markdown",
   "metadata": {},
   "source": [
    "#### Specify the columns that will be included in the model\n",
    "Also, remove any rows containing NaN"
   ]
  },
  {
   "cell_type": "code",
   "execution_count": 29,
   "metadata": {},
   "outputs": [
    {
     "data": {
      "text/plain": [
       "(23381, 17)"
      ]
     },
     "execution_count": 29,
     "metadata": {},
     "output_type": "execute_result"
    }
   ],
   "source": [
    "data4model = data[['Insp_Date_Diff','ny311_number_of_complaints_3mo',\n",
    "       'Second_Last_Insp_Type_CAT', 'Second_Last_Insp_Num_CriticialFlags_CAT',\n",
    "       'BORO_CAT', 'num_years_active_CAT', 'Cuisine_CAT', 'Income diversity ratio', 'Median household income (2018$)',\n",
    "       'Population', 'Population density (1,000 persons per square mile)',\n",
    "       'Poverty rate', 'Public housing (% of rental units)',\n",
    "       'Racial diversity index', 'Serious crime rate (per 1,000 residents)',\n",
    "       'Serious housing code violations (per 1,000 privately owned rental units)', 'is_good_lastInsp']]\n",
    "data4model = data4model.dropna()\n",
    "data4model.shape"
   ]
  },
  {
   "cell_type": "markdown",
   "metadata": {},
   "source": [
    "## Remove some of the features"
   ]
  },
  {
   "cell_type": "code",
   "execution_count": 13,
   "metadata": {},
   "outputs": [
    {
     "data": {
      "text/plain": [
       "(23381, 12)"
      ]
     },
     "execution_count": 13,
     "metadata": {},
     "output_type": "execute_result"
    }
   ],
   "source": [
    "data4model = data[['Insp_Date_Diff', 'avg_num_critical_flags_per_year','ny311_number_of_complaints_3mo',\n",
    "       'Second_Last_Insp_Type_CAT', 'Second_Last_Insp_Num_CriticialFlags_CAT',\n",
    "       'BORO_CAT', 'num_years_active_CAT', 'Cuisine_CAT', \n",
    "       'Population', 'Population density (1,000 persons per square mile)',\n",
    "       'Serious housing code violations (per 1,000 privately owned rental units)', 'is_good_lastInsp']]\n",
    "data4model = data4model.dropna()\n",
    "data4model.shape"
   ]
  },
  {
   "cell_type": "markdown",
   "metadata": {},
   "source": [
    "#### Specify the labels (y data)"
   ]
  },
  {
   "cell_type": "code",
   "execution_count": 14,
   "metadata": {},
   "outputs": [
    {
     "data": {
      "text/plain": [
       "(23381,)"
      ]
     },
     "execution_count": 14,
     "metadata": {},
     "output_type": "execute_result"
    }
   ],
   "source": [
    "Good_y = data4model['is_good_lastInsp']\n",
    "Good_y = np.ravel(Good_y)\n",
    "Good_y.shape"
   ]
  },
  {
   "cell_type": "markdown",
   "metadata": {},
   "source": [
    "#### Specify the features (x data)"
   ]
  },
  {
   "cell_type": "code",
   "execution_count": 15,
   "metadata": {},
   "outputs": [
    {
     "data": {
      "text/plain": [
       "(23381, 11)"
      ]
     },
     "execution_count": 15,
     "metadata": {},
     "output_type": "execute_result"
    },
    {
     "data": {
      "text/plain": [
       "Insp_Date_Diff                                                               float64\n",
       "avg_num_critical_flags_per_year                                              float64\n",
       "ny311_number_of_complaints_3mo                                              category\n",
       "Second_Last_Insp_Type_CAT                                                       int8\n",
       "Second_Last_Insp_Num_CriticialFlags_CAT                                     category\n",
       "BORO_CAT                                                                        int8\n",
       "num_years_active_CAT                                                        category\n",
       "Cuisine_CAT                                                                     int8\n",
       "Population                                                                   float64\n",
       "Population density (1,000 persons per square mile)                           float64\n",
       "Serious housing code violations (per 1,000 privately owned rental units)     float64\n",
       "dtype: object"
      ]
     },
     "execution_count": 15,
     "metadata": {},
     "output_type": "execute_result"
    }
   ],
   "source": [
    "Good_x = data4model[['Insp_Date_Diff', 'avg_num_critical_flags_per_year','ny311_number_of_complaints_3mo',\n",
    "       'Second_Last_Insp_Type_CAT', 'Second_Last_Insp_Num_CriticialFlags_CAT',\n",
    "       'BORO_CAT', 'num_years_active_CAT', 'Cuisine_CAT', \n",
    "       'Population', 'Population density (1,000 persons per square mile)',\n",
    "       'Serious housing code violations (per 1,000 privately owned rental units)']]\n",
    "Good_x.shape\n",
    "Good_x.dtypes"
   ]
  },
  {
   "cell_type": "markdown",
   "metadata": {},
   "source": [
    "#### Plot correlation matrix"
   ]
  },
  {
   "cell_type": "code",
   "execution_count": 16,
   "metadata": {},
   "outputs": [
    {
     "data": {
      "text/plain": [
       "<Figure size 432x288 with 0 Axes>"
      ]
     },
     "metadata": {},
     "output_type": "display_data"
    },
    {
     "data": {
      "image/png": "[encoded data removed]",
      "text/plain": [
       "<Figure size 1080x1080 with 2 Axes>"
      ]
     },
     "metadata": {
      "needs_background": "light"
     },
     "output_type": "display_data"
    }
   ],
   "source": [
    "sns.set_context(\"notebook\");\n",
    "plt.tight_layout();\n",
    "corr=Good_x.corr();\n",
    "plt.figure(figsize=(15,15));\n",
    "g = sns.heatmap(corr, cbar=True, annot=True, square=True)\n",
    "g.set_ylim(0,16);\n",
    "#plt.savefig('Correlation_Matrix.png')"
   ]
  },
  {
   "cell_type": "markdown",
   "metadata": {},
   "source": [
    "#### Train/Test split 70/30"
   ]
  },
  {
   "cell_type": "code",
   "execution_count": 21,
   "metadata": {},
   "outputs": [],
   "source": [
    "from sklearn.model_selection import train_test_split\n",
    "x_train, x_test, y_train, y_test = train_test_split(Good_x, Good_y, test_size=0.20, random_state=123, shuffle = True)"
   ]
  },
  {
   "cell_type": "code",
   "execution_count": 22,
   "metadata": {},
   "outputs": [
    {
     "name": "stdout",
     "output_type": "stream",
     "text": [
      "Size of training features: (16366, 16)\n",
      "Size of training labels: (16366,)\n",
      "Size of test features: (7015, 16)\n",
      "Size of test labels: (7015,)\n"
     ]
    }
   ],
   "source": [
    "print(f'Size of training features: {x_train.shape}')\n",
    "print(f'Size of training labels: {y_train.shape}')\n",
    "print(f'Size of test features: {x_test.shape}')\n",
    "print(f'Size of test labels: {y_test.shape}')"
   ]
  },
  {
   "cell_type": "code",
   "execution_count": 23,
   "metadata": {},
   "outputs": [
    {
     "name": "stdout",
     "output_type": "stream",
     "text": [
      "[Num Dirty, Num Clean]\n",
      "[ 4583 11783]\n",
      "[1979 5036]\n"
     ]
    }
   ],
   "source": [
    "print('[Num Dirty, Num Clean]')\n",
    "unique_elements, count_elements = np.unique(y_train, return_counts=True)\n",
    "print(np.asarray(count_elements))\n",
    "unique_elements, count_elements = np.unique(y_test, return_counts=True)\n",
    "print(np.asarray(count_elements))\n"
   ]
  },
  {
   "cell_type": "markdown",
   "metadata": {},
   "source": [
    "#### Normalize values to be between 0 and 1"
   ]
  },
  {
   "cell_type": "code",
   "execution_count": 24,
   "metadata": {},
   "outputs": [
    {
     "data": {
      "text/plain": [
       "MinMaxScaler(copy=True, feature_range=(0, 1))"
      ]
     },
     "execution_count": 24,
     "metadata": {},
     "output_type": "execute_result"
    }
   ],
   "source": [
    "# Normalize continuous variables\n",
    "from sklearn.preprocessing import MinMaxScaler\n",
    "\n",
    "scaler = MinMaxScaler()\n",
    "\n",
    "scaler.fit(x_train)\n",
    "x_train = scaler.transform(x_train)\n",
    "x_test = scaler.transform(x_test)"
   ]
  },
  {
   "cell_type": "markdown",
   "metadata": {},
   "source": [
    "#### Resample data to deal with class imbalance"
   ]
  },
  {
   "cell_type": "code",
   "execution_count": 32,
   "metadata": {},
   "outputs": [],
   "source": [
    "from imblearn.over_sampling import SMOTE\n",
    "\n",
    "sm = SMOTE(random_state = 123)\n",
    "x_train_res, y_train_res = sm.fit_sample(x_train, y_train)"
   ]
  },
  {
   "cell_type": "markdown",
   "metadata": {},
   "source": [
    "# Model1: Logistic regression\n",
    "### Grid Search used to maximize precision"
   ]
  },
  {
   "cell_type": "code",
   "execution_count": 54,
   "metadata": {},
   "outputs": [],
   "source": [
    "import matplotlib.pyplot as plt\n",
    "import seaborn as sns\n",
    "from sklearn import metrics\n",
    "from sklearn.metrics import precision_score, recall_score, roc_auc_score, roc_curve, f1_score, accuracy_score\n",
    "from sklearn.model_selection import GridSearchCV"
   ]
  },
  {
   "cell_type": "code",
   "execution_count": 33,
   "metadata": {
    "scrolled": false
   },
   "outputs": [],
   "source": [
    "from sklearn.linear_model import LogisticRegression\n",
    "logisticRegr = LogisticRegression();\n",
    "grid_values = {'penalty': ['l1', 'l2'], 'C': [.001, .009, .01, .09, 1, 5, 10, 25], 'solver': ['newton-cg', 'lbfgs', 'sag', 'saga']};\n",
    "grid_logistic = GridSearchCV(logisticRegr, param_grid = grid_values, scoring = 'precision');\n",
    "grid_logistic.fit(x_train_res, y_train_res);"
   ]
  },
  {
   "cell_type": "markdown",
   "metadata": {},
   "source": [
    "#### save best estimator found in grid search"
   ]
  },
  {
   "cell_type": "code",
   "execution_count": 34,
   "metadata": {},
   "outputs": [
    {
     "name": "stdout",
     "output_type": "stream",
     "text": [
      "\u001b[1m\u001b[94mBest C: \u001b[30m0.009\n",
      "\u001b[1m\u001b[94mBest penalty: \u001b[30ml1\n",
      "\u001b[1m\u001b[94mBest solver: \u001b[30msaga\n"
     ]
    }
   ],
   "source": [
    "logistic_best = grid_logistic.best_estimator_\n",
    "\n",
    "# View The Best Parameters\n",
    "print(f\"\\033[1m\\033[94mBest C: \\033[30m{grid_logistic.best_estimator_.get_params()['C']}\")\n",
    "print(f\"\\033[1m\\033[94mBest penalty: \\033[30m{grid_logistic.best_estimator_.get_params()['penalty']}\")\n",
    "print(f\"\\033[1m\\033[94mBest solver: \\033[30m{grid_logistic.best_estimator_.get_params()['solver']}\")\n"
   ]
  },
  {
   "cell_type": "markdown",
   "metadata": {},
   "source": [
    "#### Generate predictions"
   ]
  },
  {
   "cell_type": "code",
   "execution_count": 35,
   "metadata": {},
   "outputs": [],
   "source": [
    "predictions_logistic_test = grid_logistic.predict(x_test)\n",
    "\n",
    "predictions_logistic_train = grid_logistic.predict(x_train_res)"
   ]
  },
  {
   "cell_type": "markdown",
   "metadata": {},
   "source": [
    "#### Get recall and precision. Precision is most important for my question!!"
   ]
  },
  {
   "cell_type": "code",
   "execution_count": 36,
   "metadata": {},
   "outputs": [
    {
     "name": "stdout",
     "output_type": "stream",
     "text": [
      "Recall of the TRAINING data is : 0.5404396163965034 \n",
      "Recall of the TEST data is : 0.5329626687847498 \n",
      "\n",
      "Precision of the TRAINING data is : 0.606129830573006 \n",
      "Precision of the TEST data is : 0.7898763978811065 \n",
      "\n",
      "Train ROC AUC Score: 0.6222220854531824\n",
      "Test ROC AUC  Score: 0.6208431180292195\n"
     ]
    }
   ],
   "source": [
    "recall_train = recall_score(y_train_res, predictions_logistic_train)\n",
    "recall_test = recall_score(y_test, predictions_logistic_test)\n",
    "\n",
    "print(f'Recall of the TRAINING data is : {recall_train} ')\n",
    "print(f'Recall of the TEST data is : {recall_test} ')\n",
    "print('')\n",
    "\n",
    "precision_train = precision_score(y_train_res, predictions_logistic_train)\n",
    "precision_test = precision_score(y_test, predictions_logistic_test)\n",
    "\n",
    "print(f'Precision of the TRAINING data is : {precision_train} ')\n",
    "print(f'Precision of the TEST data is : {precision_test} ')\n",
    "print('')\n",
    "\n",
    "#Make probability predictions\n",
    "train_prob = grid_logistic.predict_proba(x_train_res)[:,1]\n",
    "test_prob = grid_logistic.predict_proba(x_test)[:,1]\n",
    "\n",
    "print(f'Train ROC AUC Score: {roc_auc_score(y_train_res, train_prob)}')\n",
    "print(f'Test ROC AUC  Score: {roc_auc_score(y_test, test_prob)}')"
   ]
  },
  {
   "cell_type": "code",
   "execution_count": 37,
   "metadata": {},
   "outputs": [
    {
     "data": {
      "image/png": "[encoded data removed]",
      "text/plain": [
       "<Figure size 288x288 with 2 Axes>"
      ]
     },
     "metadata": {
      "needs_background": "light"
     },
     "output_type": "display_data"
    },
    {
     "data": {
      "image/png": "[encoded data removed]",
      "text/plain": [
       "<Figure size 288x288 with 2 Axes>"
      ]
     },
     "metadata": {
      "needs_background": "light"
     },
     "output_type": "display_data"
    }
   ],
   "source": [
    "sns.set_context('notebook');\n",
    "Outcome = ['dirty', 'clean'];\n",
    "cm = metrics.confusion_matrix(y_train_res, predictions_logistic_train);\n",
    "plt.figure(figsize=(4,4));\n",
    "g = sns.heatmap(cm, annot=True, fmt=\".3f\", linewidths=.5, square = True,\n",
    "           xticklabels=Outcome,\n",
    "           yticklabels=Outcome);\n",
    "plt.ylabel('Actual label');\n",
    "plt.xlabel('Predicted label');\n",
    "all_sample_title = 'Training Data';\n",
    "plt.title(all_sample_title, size = 15);\n",
    "g.set_ylim(0,2);\n",
    "#plt.savefig('Confusion_Matrix.png')\n",
    "\n",
    "\n",
    "cm = metrics.confusion_matrix(y_test, predictions_logistic_test);\n",
    "plt.figure(figsize=(4,4));\n",
    "g = sns.heatmap(cm, annot=True, fmt=\".3f\", linewidths=.5, square = True,\n",
    "           xticklabels=Outcome,\n",
    "           yticklabels=Outcome);\n",
    "plt.ylabel('Actual label');\n",
    "plt.xlabel('Predicted label');\n",
    "all_sample_title = 'Test Data';\n",
    "plt.title(all_sample_title, size = 15);\n",
    "g.set_ylim(0,2);"
   ]
  },
  {
   "cell_type": "code",
   "execution_count": 121,
   "metadata": {},
   "outputs": [
    {
     "name": "stdout",
     "output_type": "stream",
     "text": [
      "[[1265  714]\n",
      " [2352 2684]]\n",
      "\u001b[1m\u001b[94mLogistic False Positive Rate: \u001b[30m0.36078827690752907\n"
     ]
    }
   ],
   "source": [
    "from sklearn.metrics import confusion_matrix\n",
    "cnf_matrix = confusion_matrix(y_test, predictions_logistic_test)\n",
    "print(cnf_matrix)\n",
    "\n",
    "FP = cnf_matrix[0,1]\n",
    "TN = cnf_matrix[0,0]\n",
    "\n",
    "FP = FP.astype(float)\n",
    "TN = TN.astype(float)\n",
    "\n",
    "# Fall out or false positive rate\n",
    "log_FPR = FP/(FP+TN)\n",
    "print(f\"\\033[1m\\033[94mLogistic False Positive Rate: \\033[30m{log_FPR}\")"
   ]
  },
  {
   "cell_type": "markdown",
   "metadata": {},
   "source": [
    "# Model 2: Decision Tree\n",
    "### Grid search to optimize precision"
   ]
  },
  {
   "cell_type": "code",
   "execution_count": 38,
   "metadata": {
    "scrolled": true
   },
   "outputs": [
    {
     "data": {
      "text/plain": [
       "GridSearchCV(cv=None, error_score=nan,\n",
       "             estimator=DecisionTreeClassifier(ccp_alpha=0.0, class_weight=None,\n",
       "                                              criterion='gini', max_depth=None,\n",
       "                                              max_features=None,\n",
       "                                              max_leaf_nodes=None,\n",
       "                                              min_impurity_decrease=0.0,\n",
       "                                              min_impurity_split=None,\n",
       "                                              min_samples_leaf=1,\n",
       "                                              min_samples_split=2,\n",
       "                                              min_weight_fraction_leaf=0.0,\n",
       "                                              presort='deprecated',\n",
       "                                              random_state=None,\n",
       "                                              splitter='best'),\n",
       "             iid='deprecated', n_jobs=None,\n",
       "             param_grid={'criterion': ['gini', 'entropy'],\n",
       "                         'max_depth': [2, 4, 6, 8, 12],\n",
       "                         'min_samples_split': range(10, 500, 20)},\n",
       "             pre_dispatch='2*n_jobs', refit=True, return_train_score=False,\n",
       "             scoring=None, verbose=0)"
      ]
     },
     "execution_count": 38,
     "metadata": {},
     "output_type": "execute_result"
    }
   ],
   "source": [
    "#Import Model\n",
    "from sklearn.tree import DecisionTreeClassifier\n",
    "\n",
    "#Instantiate model with default parameters\n",
    "tree = DecisionTreeClassifier()\n",
    "\n",
    "# Create a dictionary of all the parameter options \n",
    "parameters = {'criterion': ['gini', 'entropy'],\n",
    "              'max_depth': [2,4,6,8,12],\n",
    "              'min_samples_split': range(10,500,20) }\n",
    "\n",
    "\n",
    "# Create a grid search object\n",
    "grid_decision_tree = GridSearchCV(tree, parameters)\n",
    "\n",
    "# Fit the grid search\n",
    "grid_decision_tree.fit(x_train_res, y_train_res)"
   ]
  },
  {
   "cell_type": "markdown",
   "metadata": {},
   "source": [
    "#### save best estimator found in grid search"
   ]
  },
  {
   "cell_type": "code",
   "execution_count": 39,
   "metadata": {},
   "outputs": [
    {
     "name": "stdout",
     "output_type": "stream",
     "text": [
      "\u001b[1m\u001b[94mBest Criterion: \u001b[30mentropy\n",
      "\u001b[1m\u001b[94mBest max_depth: \u001b[30m12\n",
      "\u001b[1m\u001b[94mBest min_samples_split: \u001b[30m30\n"
     ]
    }
   ],
   "source": [
    "decision_tree_best = grid_decision_tree.best_estimator_\n",
    "\n",
    "# View The Best Parameters\n",
    "print(f\"\\033[1m\\033[94mBest Criterion: \\033[30m{grid_decision_tree.best_estimator_.get_params()['criterion']}\")\n",
    "print(f\"\\033[1m\\033[94mBest max_depth: \\033[30m{grid_decision_tree.best_estimator_.get_params()['max_depth']}\")\n",
    "print(f\"\\033[1m\\033[94mBest min_samples_split: \\033[30m{grid_decision_tree.best_estimator_.get_params()['min_samples_split']}\")"
   ]
  },
  {
   "cell_type": "markdown",
   "metadata": {},
   "source": [
    "#### Generate predictions"
   ]
  },
  {
   "cell_type": "code",
   "execution_count": 40,
   "metadata": {},
   "outputs": [],
   "source": [
    "predictions_DT_test = grid_decision_tree.predict(x_test)\n",
    "\n",
    "predictions_DT_train = grid_decision_tree.predict(x_train_res)"
   ]
  },
  {
   "cell_type": "code",
   "execution_count": 41,
   "metadata": {
    "scrolled": true
   },
   "outputs": [
    {
     "name": "stdout",
     "output_type": "stream",
     "text": [
      "Recall of the TRAINING data is : 0.7953831791564118 \n",
      "Recall of the TEST data is : 0.7527799841143765 % \n",
      "\n",
      "Precision of the TRAINING data is : 0.7137852246763138 \n",
      "Precision of the TEST data is : 0.7560829676904667 % \n",
      "\n",
      "Train ROC AUC Score: 0.7110477546276547\n",
      "Test ROC AUC  Score: 0.5968573516763186\n"
     ]
    }
   ],
   "source": [
    "recall_train = recall_score(y_train_res, predictions_DT_train)\n",
    "recall_test = recall_score(y_test, predictions_DT_test)\n",
    "\n",
    "print(f'Recall of the TRAINING data is : {recall_train} ')\n",
    "print(f'Recall of the TEST data is : {recall_test} % \\n')\n",
    "\n",
    "precision_train = precision_score(y_train_res, predictions_DT_train)\n",
    "precision_test = precision_score(y_test, predictions_DT_test)\n",
    "\n",
    "print(f'Precision of the TRAINING data is : {precision_train} ')\n",
    "print(f'Precision of the TEST data is : {precision_test} % \\n')\n",
    "\n",
    "#Make probability predictions\n",
    "train_prob = grid_decision_tree.predict_proba(x_train)[:,1]\n",
    "test_prob = grid_decision_tree.predict_proba(x_test)[:,1]\n",
    "\n",
    "print(f'Train ROC AUC Score: {roc_auc_score(y_train, train_prob)}')\n",
    "print(f'Test ROC AUC  Score: {roc_auc_score(y_test, test_prob)}')"
   ]
  },
  {
   "cell_type": "code",
   "execution_count": 42,
   "metadata": {},
   "outputs": [
    {
     "data": {
      "image/png": "[encoded data removed]",
      "text/plain": [
       "<Figure size 288x288 with 2 Axes>"
      ]
     },
     "metadata": {
      "needs_background": "light"
     },
     "output_type": "display_data"
    },
    {
     "data": {
      "image/png": "[encoded data removed]",
      "text/plain": [
       "<Figure size 288x288 with 2 Axes>"
      ]
     },
     "metadata": {
      "needs_background": "light"
     },
     "output_type": "display_data"
    }
   ],
   "source": [
    "Outcome = ['dirty', 'clean'];\n",
    "cm = metrics.confusion_matrix(y_train_res, predictions_DT_train);\n",
    "plt.figure(figsize=(4,4));\n",
    "g = sns.heatmap(cm, annot=True, fmt=\".3f\", linewidths=.5, square = True,\n",
    "           xticklabels=Outcome,\n",
    "           yticklabels=Outcome);\n",
    "plt.ylabel('Actual label');\n",
    "plt.xlabel('Predicted label');\n",
    "all_sample_title = 'Training Data';\n",
    "plt.title(all_sample_title, size = 15);\n",
    "g.set_ylim(0,2);\n",
    "#plt.savefig('Confusion_Matrix.png')\n",
    "\n",
    "\n",
    "cm = metrics.confusion_matrix(y_test, predictions_DT_test);\n",
    "plt.figure(figsize=(4,4));\n",
    "g = sns.heatmap(cm, annot=True, fmt=\".3f\", linewidths=.5, square = True,\n",
    "           xticklabels=Outcome,\n",
    "           yticklabels=Outcome);\n",
    "plt.ylabel('Actual label');\n",
    "plt.xlabel('Predicted label');\n",
    "all_sample_title = 'Test Data';\n",
    "plt.title(all_sample_title, size = 15);\n",
    "g.set_ylim(0,2);"
   ]
  },
  {
   "cell_type": "code",
   "execution_count": 120,
   "metadata": {},
   "outputs": [
    {
     "name": "stdout",
     "output_type": "stream",
     "text": [
      "[[ 756 1223]\n",
      " [1245 3791]]\n",
      "\u001b[1m\u001b[94mDecision Tree False Positive Rate: \u001b[30m0.617988883274381\n"
     ]
    }
   ],
   "source": [
    "from sklearn.metrics import confusion_matrix\n",
    "cnf_matrix = confusion_matrix(y_test, predictions_DT_test)\n",
    "print(cnf_matrix)\n",
    "\n",
    "FP = cnf_matrix[0,1]\n",
    "TN = cnf_matrix[0,0]\n",
    "\n",
    "FP = FP.astype(float)\n",
    "TN = TN.astype(float)\n",
    "\n",
    "# Fall out or false positive rate\n",
    "dt_FPR = FP/(FP+TN)\n",
    "print(f\"\\033[1m\\033[94mDecision Tree False Positive Rate: \\033[30m{dt_FPR}\")"
   ]
  },
  {
   "cell_type": "markdown",
   "metadata": {},
   "source": [
    "# Model 3: random forest\n",
    "#### First, use a grid search to find best hyperparameters"
   ]
  },
  {
   "cell_type": "code",
   "execution_count": 46,
   "metadata": {
    "scrolled": true
   },
   "outputs": [
    {
     "name": "stdout",
     "output_type": "stream",
     "text": [
      "Fitting 3 folds for each of 144 candidates, totalling 432 fits\n"
     ]
    },
    {
     "name": "stderr",
     "output_type": "stream",
     "text": [
      "[Parallel(n_jobs=-1)]: Using backend LokyBackend with 4 concurrent workers.\n",
      "[Parallel(n_jobs=-1)]: Done  33 tasks      | elapsed:  8.9min\n",
      "[Parallel(n_jobs=-1)]: Done 154 tasks      | elapsed: 39.7min\n",
      "[Parallel(n_jobs=-1)]: Done 357 tasks      | elapsed: 95.2min\n",
      "[Parallel(n_jobs=-1)]: Done 432 out of 432 | elapsed: 115.5min finished\n"
     ]
    },
    {
     "data": {
      "text/plain": [
       "GridSearchCV(cv=3, error_score=nan,\n",
       "             estimator=RandomForestClassifier(bootstrap=True, ccp_alpha=0.0,\n",
       "                                              class_weight=None,\n",
       "                                              criterion='gini', max_depth=None,\n",
       "                                              max_features='auto',\n",
       "                                              max_leaf_nodes=None,\n",
       "                                              max_samples=None,\n",
       "                                              min_impurity_decrease=0.0,\n",
       "                                              min_impurity_split=None,\n",
       "                                              min_samples_leaf=1,\n",
       "                                              min_samples_split=2,\n",
       "                                              min_weight_fraction_leaf=0.0,\n",
       "                                              n_estimators=100, n_jobs=None,\n",
       "                                              oob_score=False,\n",
       "                                              random_state=None, verbose=0,\n",
       "                                              warm_start=False),\n",
       "             iid='deprecated', n_jobs=-1,\n",
       "             param_grid={'max_depth': [15, 20, 25],\n",
       "                         'min_samples_leaf': [1, 2, 3],\n",
       "                         'min_samples_split': [6, 8, 10, 12],\n",
       "                         'n_estimators': [1200, 1500, 1800, 2000]},\n",
       "             pre_dispatch='2*n_jobs', refit=True, return_train_score=False,\n",
       "             scoring='precision', verbose=2)"
      ]
     },
     "execution_count": 46,
     "metadata": {},
     "output_type": "execute_result"
    }
   ],
   "source": [
    "from sklearn.ensemble import RandomForestClassifier\n",
    "\n",
    "# Create the parameter grid based on the results of random search \n",
    "param_grid = {\n",
    "    'max_depth': [15, 20, 25],\n",
    "    'min_samples_leaf': [1, 2, 3],\n",
    "    'min_samples_split': [6, 8, 10, 12],\n",
    "    'n_estimators': [1200, 1500, 1800, 2000]\n",
    "}\n",
    "# Create a based model\n",
    "RandForest = RandomForestClassifier()\n",
    "\n",
    "# Instantiate the grid search model\n",
    "RF_grid_search = GridSearchCV(estimator = RandForest, param_grid = param_grid, \n",
    "                          cv = 3, n_jobs = -1, verbose = 2, scoring = 'precision')\n",
    "\n",
    "RF_grid_search.fit(x_train_res, y_train_res)"
   ]
  },
  {
   "cell_type": "markdown",
   "metadata": {},
   "source": [
    "#### save best estimator found in grid search"
   ]
  },
  {
   "cell_type": "code",
   "execution_count": 50,
   "metadata": {},
   "outputs": [
    {
     "name": "stdout",
     "output_type": "stream",
     "text": [
      "\u001b[1m\u001b[94mBest max_depth: \u001b[30m25\n",
      "\u001b[1m\u001b[94mBest min_samples_split: \u001b[30m6\n",
      "\u001b[1m\u001b[94mBest min_samples_leaf: \u001b[30m1\n",
      "\u001b[1m\u001b[94mBest n_estimators: \u001b[30m2000\n"
     ]
    }
   ],
   "source": [
    "RF_best = RF_grid_search.best_estimator_\n",
    "\n",
    "# View The Best Parameters\n",
    "print(f\"\\033[1m\\033[94mBest max_depth: \\033[30m{RF_grid_search.best_estimator_.get_params()['max_depth']}\")\n",
    "print(f\"\\033[1m\\033[94mBest min_samples_split: \\033[30m{RF_grid_search.best_estimator_.get_params()['min_samples_split']}\")\n",
    "print(f\"\\033[1m\\033[94mBest min_samples_leaf: \\033[30m{RF_grid_search.best_estimator_.get_params()['min_samples_leaf']}\")\n",
    "print(f\"\\033[1m\\033[94mBest n_estimators: \\033[30m{RF_grid_search.best_estimator_.get_params()['n_estimators']}\")"
   ]
  },
  {
   "cell_type": "code",
   "execution_count": 51,
   "metadata": {
    "scrolled": true
   },
   "outputs": [
    {
     "name": "stdout",
     "output_type": "stream",
     "text": [
      "Recall of the training data is : 0.9623185945854197\n",
      "Recall of the test data is : 0.7964654487688642 \n",
      "\n",
      "Precision of the training data is: 0.916579096273543\n",
      "Precision of the test data is: 0.7418161642315517  \n",
      "\n"
     ]
    }
   ],
   "source": [
    "#Make predictions on the test and training data\n",
    "RandForest_predict_test = RF_grid_search.predict(x_test)\n",
    "RandForest_predict_train = RF_grid_search.predict(x_train_res)\n",
    "\n",
    "recall_test = recall_score(y_test, RandForest_predict_test);\n",
    "recall_train = recall_score(y_train_res, RandForest_predict_train);\n",
    "\n",
    "print(f'Recall of the training data is : {recall_train}')\n",
    "print(f'Recall of the test data is : {recall_test} \\n')\n",
    "\n",
    "precision_test = precision_score(y_test, RandForest_predict_test)\n",
    "precision_train = precision_score(y_train_res, RandForest_predict_train)\n",
    "\n",
    "print(f'Precision of the training data is: {precision_train}')\n",
    "print(f'Precision of the test data is: {precision_test}  \\n')\n"
   ]
  },
  {
   "cell_type": "code",
   "execution_count": 52,
   "metadata": {},
   "outputs": [
    {
     "data": {
      "image/png": "[encoded data removed]",
      "text/plain": [
       "<Figure size 288x288 with 2 Axes>"
      ]
     },
     "metadata": {
      "needs_background": "light"
     },
     "output_type": "display_data"
    },
    {
     "data": {
      "image/png": "[encoded data removed]",
      "text/plain": [
       "<Figure size 288x288 with 2 Axes>"
      ]
     },
     "metadata": {
      "needs_background": "light"
     },
     "output_type": "display_data"
    }
   ],
   "source": [
    "Outcome = ['dirty', 'clean'];\n",
    "cm = metrics.confusion_matrix(y_train_res, RandForest_predict_train);\n",
    "plt.figure(figsize=(4,4));\n",
    "g = sns.heatmap(cm, annot=True, fmt=\".3f\", linewidths=.5, square = True,\n",
    "           xticklabels=Outcome,\n",
    "           yticklabels=Outcome);\n",
    "plt.ylabel('Actual label');\n",
    "plt.xlabel('Predicted label');\n",
    "all_sample_title = 'Training Data';\n",
    "plt.title(all_sample_title, size = 15);\n",
    "g.set_ylim(0,2);\n",
    "#plt.savefig('Confusion_Matrix.png')\n",
    "\n",
    "\n",
    "cm = metrics.confusion_matrix(y_test, RandForest_predict_test);\n",
    "plt.figure(figsize=(4,4));\n",
    "g = sns.heatmap(cm, annot=True, fmt=\".3f\", linewidths=.5, square = True,\n",
    "           xticklabels=Outcome,\n",
    "           yticklabels=Outcome);\n",
    "plt.ylabel('Actual label');\n",
    "plt.xlabel('Predicted label');\n",
    "all_sample_title = 'Test Data';\n",
    "plt.title(all_sample_title, size = 15);\n",
    "g.set_ylim(0,2);"
   ]
  },
  {
   "cell_type": "code",
   "execution_count": 119,
   "metadata": {},
   "outputs": [
    {
     "name": "stdout",
     "output_type": "stream",
     "text": [
      "[[ 583 1396]\n",
      " [1025 4011]]\n",
      "\u001b[1m\u001b[94mRF False Positive Rate: \u001b[30m0.7054067710965134\n"
     ]
    }
   ],
   "source": [
    "from sklearn.metrics import confusion_matrix\n",
    "cnf_matrix = confusion_matrix(y_test, RandForest_predict_test)\n",
    "print(cnf_matrix)\n",
    "\n",
    "FP = cnf_matrix[0,1]\n",
    "TN = cnf_matrix[0,0]\n",
    "\n",
    "FP = FP.astype(float)\n",
    "TN = TN.astype(float)\n",
    "\n",
    "# Fall out or false positive rate\n",
    "rf_FPR = FP/(FP+TN)\n",
    "print(f\"\\033[1m\\033[94mRF False Positive Rate: \\033[30m{rf_FPR}\")"
   ]
  },
  {
   "cell_type": "markdown",
   "metadata": {},
   "source": [
    "# Model 4: K nearest neighbors"
   ]
  },
  {
   "cell_type": "code",
   "execution_count": 99,
   "metadata": {},
   "outputs": [
    {
     "data": {
      "text/plain": [
       "GridSearchCV(cv=5, error_score=nan,\n",
       "             estimator=KNeighborsClassifier(algorithm='auto', leaf_size=30,\n",
       "                                            metric='minkowski',\n",
       "                                            metric_params=None, n_jobs=None,\n",
       "                                            n_neighbors=5, p=2,\n",
       "                                            weights='uniform'),\n",
       "             iid='deprecated', n_jobs=4, param_grid={'n_neighbors': [10, 20]},\n",
       "             pre_dispatch='2*n_jobs', refit=True, return_train_score=False,\n",
       "             scoring='precision', verbose=0)"
      ]
     },
     "execution_count": 99,
     "metadata": {},
     "output_type": "execute_result"
    }
   ],
   "source": [
    "from sklearn.neighbors import KNeighborsClassifier\n",
    "\n",
    "#create a knn model\n",
    "knn = KNeighborsClassifier()\n",
    "\n",
    "#create a dictionary of all values we want to test for n_neighbors\n",
    "params_knn = {'n_neighbors': [10, 20]}\n",
    "\n",
    "#use gridsearch to test all values for n_neighbors\n",
    "knn_grid = GridSearchCV(knn, params_knn, cv=5, n_jobs=4, scoring = 'precision')\n",
    "\n",
    "#fit model to resampled training data\n",
    "knn_grid.fit(x_train_res, y_train_res)"
   ]
  },
  {
   "cell_type": "code",
   "execution_count": 100,
   "metadata": {},
   "outputs": [
    {
     "name": "stdout",
     "output_type": "stream",
     "text": [
      "{'n_neighbors': 10}\n"
     ]
    }
   ],
   "source": [
    "#save the best model\n",
    "knn_best = knn_grid.best_estimator_\n",
    "\n",
    "print(knn_grid.best_params_)"
   ]
  },
  {
   "cell_type": "code",
   "execution_count": 129,
   "metadata": {},
   "outputs": [],
   "source": [
    "#Make predictions on the test data\n",
    "knn_predictions = knn_best.predict(x_test)\n",
    "knn_predictions_train = knn_best.predict(x_train_res)\n",
    "\n",
    "#Get probabilities for each class\n",
    "knn_probs_train = knn_best.predict_proba(x_train_res)[:,1]\n",
    "knn_probs_test = knn_best.predict_proba(x_test)[:,1]"
   ]
  },
  {
   "cell_type": "code",
   "execution_count": 130,
   "metadata": {},
   "outputs": [
    {
     "name": "stdout",
     "output_type": "stream",
     "text": [
      "Recall of the training data is : 0.5860986166511075\n",
      "Recall of the test data is : 0.4970214455917395 \n",
      "\n",
      "Precision of the training data is: 0.7975516803326019\n",
      "Precision of the test data is: 0.7689708141321044 \n",
      "\n",
      "ROC AUC of the training data is: 0.8125675543722417\n",
      "ROC AUC of the test data is: 0.5788916065069248\n"
     ]
    }
   ],
   "source": [
    "recall_test = recall_score(y_test, knn_predictions);\n",
    "recall_train = recall_score(y_train_res, knn_predictions_train);\n",
    "\n",
    "print(f'Recall of the training data is : {recall_train}')\n",
    "print(f'Recall of the test data is : {recall_test} \\n')\n",
    "precision_test = precision_score(y_test, knn_predictions)\n",
    "precision_train = precision_score(y_train_res, knn_predictions_train)\n",
    "\n",
    "print(f'Precision of the training data is: {precision_train}')\n",
    "print(f'Precision of the test data is: {precision_test} \\n')\n",
    "from sklearn.metrics import roc_auc_score\n",
    "\n",
    "#Calculate roc auc\n",
    "roc_value_train = roc_auc_score(y_train_res, knn_probs_train)\n",
    "roc_value_test = roc_auc_score(y_test, knn_probs_test)\n",
    "print(f'ROC AUC of the training data is: {roc_value_train}')\n",
    "print(f'ROC AUC of the test data is: {roc_value_test}')"
   ]
  },
  {
   "cell_type": "code",
   "execution_count": 103,
   "metadata": {},
   "outputs": [
    {
     "data": {
      "image/png": "[encoded data removed]",
      "text/plain": [
       "<Figure size 288x288 with 2 Axes>"
      ]
     },
     "metadata": {
      "needs_background": "light"
     },
     "output_type": "display_data"
    },
    {
     "data": {
      "image/png": "[encoded data removed]",
      "text/plain": [
       "<Figure size 288x288 with 2 Axes>"
      ]
     },
     "metadata": {
      "needs_background": "light"
     },
     "output_type": "display_data"
    }
   ],
   "source": [
    "Outcome = ['dirty', 'clean'];\n",
    "cm = metrics.confusion_matrix(y_train_res, knn_predictions_train);\n",
    "plt.figure(figsize=(4,4));\n",
    "g = sns.heatmap(cm, annot=True, fmt=\".3f\", linewidths=.5, square = True,\n",
    "           xticklabels=Outcome,\n",
    "           yticklabels=Outcome);\n",
    "plt.ylabel('Actual label');\n",
    "plt.xlabel('Predicted label');\n",
    "all_sample_title = 'Training Data';\n",
    "plt.title(all_sample_title, size = 15);\n",
    "g.set_ylim(0,2);\n",
    "#plt.savefig('Confusion_Matrix.png')\n",
    "\n",
    "\n",
    "cm = metrics.confusion_matrix(y_test, knn_predictions);\n",
    "plt.figure(figsize=(4,4));\n",
    "g = sns.heatmap(cm, annot=True, fmt=\".3f\", linewidths=.5, square = True,\n",
    "           xticklabels=Outcome,\n",
    "           yticklabels=Outcome);\n",
    "plt.ylabel('Actual label');\n",
    "plt.xlabel('Predicted label');\n",
    "all_sample_title = 'Test Data';\n",
    "plt.title(all_sample_title, size = 15);\n",
    "g.set_ylim(0,2);"
   ]
  },
  {
   "cell_type": "code",
   "execution_count": 114,
   "metadata": {},
   "outputs": [
    {
     "name": "stdout",
     "output_type": "stream",
     "text": [
      "[[1227  752]\n",
      " [2533 2503]]\n",
      "\u001b[1m\u001b[94mknn False Positive Rate: \u001b[30m0.3799898938858009\n"
     ]
    }
   ],
   "source": [
    "from sklearn.metrics import confusion_matrix\n",
    "cnf_matrix = confusion_matrix(y_test, knn_predictions)\n",
    "print(cnf_matrix)\n",
    "\n",
    "FP = cnf_matrix[0,1]\n",
    "TN = cnf_matrix[0,0]\n",
    "\n",
    "FP = FP.astype(float)\n",
    "TN = TN.astype(float)\n",
    "\n",
    "# Fall out or false positive rate\n",
    "knn_FPR = FP/(FP+TN)\n",
    "print(f\"\\033[1m\\033[94mknn False Positive Rate: \\033[30m{knn_FPR}\")"
   ]
  },
  {
   "cell_type": "code",
   "execution_count": 131,
   "metadata": {},
   "outputs": [
    {
     "data": {
      "text/plain": [
       "['knn_model.pkl']"
      ]
     },
     "execution_count": 131,
     "metadata": {},
     "output_type": "execute_result"
    },
    {
     "data": {
      "text/plain": [
       "array([0, 0, 1, ..., 0, 0, 0])"
      ]
     },
     "execution_count": 131,
     "metadata": {},
     "output_type": "execute_result"
    }
   ],
   "source": [
    "import pickle\n",
    "from sklearn.externals import joblib\n",
    "joblib.dump(knn_best, 'knn_model.pkl')\n",
    "knn_from_pickle = joblib.load('knn_model.pkl')\n",
    "knn_from_pickle.predict(x_test)"
   ]
  },
  {
   "cell_type": "markdown",
   "metadata": {},
   "source": [
    "# Ensemble"
   ]
  },
  {
   "cell_type": "code",
   "execution_count": 123,
   "metadata": {},
   "outputs": [
    {
     "name": "stdout",
     "output_type": "stream",
     "text": [
      "knn Precision: 0.7689708141321044\n",
      "knn False Positive Rate: 0.3799898938858009 \n",
      "\n",
      "random forest Precision: 0.7418161642315517\n",
      "random forest False Positive Rate: 0.7054067710965134 \n",
      "\n",
      "logistic regression Precision: 0.7898763978811065\n",
      "logistic regression False Positive Rate: 0.36078827690752907 \n",
      "\n"
     ]
    }
   ],
   "source": [
    "print('knn Precision: {}'.format(precision_score(y_test, knn_predictions)))\n",
    "print('knn False Positive Rate: {} \\n'.format(knn_FPR))\n",
    "\n",
    "print('random forest Precision: {}'.format(precision_score(y_test, RandForest_predict_test)))\n",
    "print('random forest False Positive Rate: {} \\n'.format(rf_FPR))\n",
    "\n",
    "print('logistic regression Precision: {}'.format(precision_score(y_test, predictions_logistic_test)))\n",
    "print('logistic regression False Positive Rate: {} \\n'.format(log_FPR))"
   ]
  },
  {
   "cell_type": "markdown",
   "metadata": {},
   "source": [
    "#### Build voting classifier"
   ]
  },
  {
   "cell_type": "code",
   "execution_count": 125,
   "metadata": {},
   "outputs": [],
   "source": [
    "from sklearn.ensemble import VotingClassifier\n",
    "\n",
    "# create a dictionary of our models\n",
    "estimators = [('knn', knn_best), ('RandForest', RF_best), ('logistic_reg', logistic_best)]\n",
    "\n",
    "#create our voting classifier\n",
    "ensemble = VotingClassifier(estimators, voting='hard')"
   ]
  },
  {
   "cell_type": "code",
   "execution_count": 126,
   "metadata": {},
   "outputs": [
    {
     "data": {
      "text/plain": [
       "VotingClassifier(estimators=[('knn',\n",
       "                              KNeighborsClassifier(algorithm='auto',\n",
       "                                                   leaf_size=30,\n",
       "                                                   metric='minkowski',\n",
       "                                                   metric_params=None,\n",
       "                                                   n_jobs=None, n_neighbors=10,\n",
       "                                                   p=2, weights='uniform')),\n",
       "                             ('RandForest',\n",
       "                              RandomForestClassifier(bootstrap=True,\n",
       "                                                     ccp_alpha=0.0,\n",
       "                                                     class_weight=None,\n",
       "                                                     criterion='gini',\n",
       "                                                     max_depth=25,\n",
       "                                                     max_features='auto',\n",
       "                                                     max_leaf_nodes=None,\n",
       "                                                     max_samples=None,\n",
       "                                                     min...\n",
       "                                                     random_state=None,\n",
       "                                                     verbose=0,\n",
       "                                                     warm_start=False)),\n",
       "                             ('logistic_reg',\n",
       "                              LogisticRegression(C=0.009, class_weight=None,\n",
       "                                                 dual=False, fit_intercept=True,\n",
       "                                                 intercept_scaling=1,\n",
       "                                                 l1_ratio=None, max_iter=100,\n",
       "                                                 multi_class='auto',\n",
       "                                                 n_jobs=None, penalty='l1',\n",
       "                                                 random_state=None,\n",
       "                                                 solver='saga', tol=0.0001,\n",
       "                                                 verbose=0,\n",
       "                                                 warm_start=False))],\n",
       "                 flatten_transform=True, n_jobs=None, voting='hard',\n",
       "                 weights=None)"
      ]
     },
     "execution_count": 126,
     "metadata": {},
     "output_type": "execute_result"
    }
   ],
   "source": [
    "#fit model to training data\n",
    "ensemble.fit(x_train_res, y_train_res)"
   ]
  },
  {
   "cell_type": "code",
   "execution_count": 127,
   "metadata": {},
   "outputs": [],
   "source": [
    "#Make predictions on the test data\n",
    "ensemble_predict_test = ensemble.predict(x_test)\n",
    "ensemble_predict_train = ensemble.predict(x_train_res)"
   ]
  },
  {
   "cell_type": "code",
   "execution_count": 128,
   "metadata": {},
   "outputs": [
    {
     "name": "stdout",
     "output_type": "stream",
     "text": [
      "[[1036  943]\n",
      " [1917 3119]]\n",
      "\u001b[1m\u001b[94mEnsemble False Positive Rate: \u001b[30m0.7678483505662236 \n",
      "\n",
      "\u001b[1m\u001b[94mEnsemble False Positive Rate: \u001b[30m0.4765032844871147\n"
     ]
    }
   ],
   "source": [
    "from sklearn.metrics import confusion_matrix\n",
    "cnf_matrix = confusion_matrix(y_test, ensemble_predict_test)\n",
    "print(cnf_matrix)\n",
    "\n",
    "FP = cnf_matrix[0,1]\n",
    "TN = cnf_matrix[0,0]\n",
    "TP = cnf_matrix[1,1]\n",
    "\n",
    "FP = FP.astype(float)\n",
    "TN = TN.astype(float)\n",
    "TP = TP.astype(float)\n",
    "\n",
    "# Fall out or false positive rate\n",
    "ensemble_Precision = TP/(TP+FP)\n",
    "ensemble_FPR = FP/(FP+TN)\n",
    "print(f\"\\033[1m\\033[94mEnsemble False Positive Rate: \\033[30m{ensemble_Precision} \\n\")\n",
    "print(f\"\\033[1m\\033[94mEnsemble False Positive Rate: \\033[30m{ensemble_FPR}\")"
   ]
  },
  {
   "cell_type": "code",
   "execution_count": null,
   "metadata": {},
   "outputs": [],
   "source": []
  }
 ],
 "metadata": {
  "kernelspec": {
   "display_name": "Python 3",
   "language": "python",
   "name": "python3"
  },
  "language_info": {
   "codemirror_mode": {
    "name": "ipython",
    "version": 3
   },
   "file_extension": ".py",
   "mimetype": "text/x-python",
   "name": "python",
   "nbconvert_exporter": "python",
   "pygments_lexer": "ipython3",
   "version": "3.6.10"
  }
 },
 "nbformat": 4,
 "nbformat_minor": 2
}
