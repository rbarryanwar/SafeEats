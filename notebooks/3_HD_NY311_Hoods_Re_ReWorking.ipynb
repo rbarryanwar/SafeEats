{
 "cells": [
  {
   "cell_type": "code",
   "execution_count": 106,
   "metadata": {},
   "outputs": [],
   "source": [
    "import pandas as pd\n",
    "import numpy as np\n",
    "import matplotlib.pyplot as plt\n",
    "%matplotlib inline\n",
    "from IPython.core.interactiveshell import InteractiveShell\n",
    "InteractiveShell.ast_node_interactivity = \"all\"\n",
    "import seaborn as sns\n",
    "import swifter\n",
    "from sklearn.model_selection import train_test_split \n",
    "from sklearn.linear_model import LinearRegression\n",
    "from sklearn import metrics\n",
    "from sklearn import preprocessing\n",
    "def warn(*args, **kwargs):\n",
    "    pass\n",
    "import warnings\n",
    "warnings.warn = warn"
   ]
  },
  {
   "cell_type": "code",
   "execution_count": 107,
   "metadata": {},
   "outputs": [
    {
     "name": "stdout",
     "output_type": "stream",
     "text": [
      "/Users/rabarry/Documents/Insight/NYC data/SafeEats/data/processed\n"
     ]
    }
   ],
   "source": [
    "cd /Users/rabarry/Documents/Insight/NYC data/SafeEats/data/processed"
   ]
  },
  {
   "cell_type": "markdown",
   "metadata": {},
   "source": [
    "# Prepare data for models"
   ]
  },
  {
   "cell_type": "markdown",
   "metadata": {},
   "source": [
    "### Load in the data"
   ]
  },
  {
   "cell_type": "code",
   "execution_count": 108,
   "metadata": {},
   "outputs": [],
   "source": [
    "data = pd.read_csv('HD_NY311_Hoods.csv')"
   ]
  },
  {
   "cell_type": "markdown",
   "metadata": {},
   "source": [
    "### Code data labels\n",
    "Good = 0 or 1 critical flags at last inspection<br>\n",
    "Bad = 2 or more critical flags at last inspection"
   ]
  },
  {
   "cell_type": "code",
   "execution_count": 109,
   "metadata": {},
   "outputs": [
    {
     "name": "stdout",
     "output_type": "stream",
     "text": [
      "1    18431\n",
      "0     7216\n",
      "Name: is_good_lastInsp, dtype: int64\n"
     ]
    }
   ],
   "source": [
    "data['is_good_lastInsp'] = np.where(data['Last_Insp_Num_CriticialFlags']>1,0,1)\n",
    "print(data['is_good_lastInsp'].value_counts())"
   ]
  },
  {
   "cell_type": "code",
   "execution_count": 110,
   "metadata": {},
   "outputs": [
    {
     "name": "stdout",
     "output_type": "stream",
     "text": [
      "\u001b[1m\u001b[94mProportion of dirty to clean samples = \u001b[30m39.15% \n",
      "\n"
     ]
    }
   ],
   "source": [
    "clean = (data['is_good_lastInsp']==1)\n",
    "dirty = (data['is_good_lastInsp']==0)\n",
    "print(f\"\\033[1m\\033[94mProportion of dirty to clean samples = \\033[30m{(dirty.sum() / clean.sum()) * 100:.2f}% \\n\")"
   ]
  },
  {
   "cell_type": "code",
   "execution_count": 111,
   "metadata": {},
   "outputs": [],
   "source": [
    "import gmplot\n",
    "\n",
    "gmap = gmplot.GoogleMapPlotter(40, 74, 5)\n",
    "gmap.scatter(data['Latitude'][:1000], data['Longitude'][:1000], 'red', size = 10)\n",
    "gmap.draw('gmplot.html')"
   ]
  },
  {
   "cell_type": "markdown",
   "metadata": {},
   "source": [
    "### Re-code Cuisine Type\n",
    "Went from 84 types to 6"
   ]
  },
  {
   "cell_type": "code",
   "execution_count": 112,
   "metadata": {},
   "outputs": [
    {
     "name": "stdout",
     "output_type": "stream",
     "text": [
      "American        6948\n",
      "Other           5020\n",
      "Asian           4466\n",
      "Cafe/Dessert    3881\n",
      "Latin           2700\n",
      "Italian         2632\n",
      "Name: Cuisine_Reduced, dtype: int64\n"
     ]
    }
   ],
   "source": [
    "conditions = [\n",
    "    (data['CUISINE DESCRIPTION'] == 'American') |  (data['CUISINE DESCRIPTION'] == 'Hamburgers') | (data['CUISINE DESCRIPTION'] == 'Steak') | (data['CUISINE DESCRIPTION'] == 'Soul Food') | (data['CUISINE DESCRIPTION'] == 'Barbecue') | (data['CUISINE DESCRIPTION'] == 'Hotdogs/Pretzels') | (data['CUISINE DESCRIPTION'] == 'Hotdogs') | (data['CUISINE DESCRIPTION'] == 'Californian') | (data['CUISINE DESCRIPTION'] == 'Southwestern') | (data['CUISINE DESCRIPTION'] == 'Chicken'),\n",
    "    (data['CUISINE DESCRIPTION'] == 'Chinese') | (data['CUISINE DESCRIPTION'] == 'Japanese') | (data['CUISINE DESCRIPTION'] == 'Asian') | (data['CUISINE DESCRIPTION'] == 'Thai') | (data['CUISINE DESCRIPTION'] == 'Korean') | (data['CUISINE DESCRIPTION'] == 'Vietnamese/Cambodian/Malaysia') | (data['CUISINE DESCRIPTION'] == 'Chinese/Japanese') | (data['CUISINE DESCRIPTION'] == 'Filipino') | (data['CUISINE DESCRIPTION'] == 'Indonesian'), \n",
    "    (data['CUISINE DESCRIPTION'] == 'Café/Coffee/Tea') | (data['CUISINE DESCRIPTION'] == 'Bakery') | (data['CUISINE DESCRIPTION'] == 'Donuts') | (data['CUISINE DESCRIPTION'] == 'Juice, Smoothies, Fruit Salads') | (data['CUISINE DESCRIPTION'] == 'Ice Cream, Gelato, Yogurt, Ices') | (data['CUISINE DESCRIPTION'] == 'Bottled beverages, including water, sodas, juices, etc. ') | (data['CUISINE DESCRIPTION'] == 'Pancakes/Waffles')| (data['CUISINE DESCRIPTION'] == 'Nuts/Confectionary'),\n",
    "    (data['CUISINE DESCRIPTION'] == 'Pizza') | (data['CUISINE DESCRIPTION'] == 'Italian') | (data['CUISINE DESCRIPTION'] == 'Pizza/Italian'),\n",
    "    (data['CUISINE DESCRIPTION'] == 'Mexican') | (data['CUISINE DESCRIPTION'] == 'Latin (Cuban, Dominican, Puerto Rican, South & Central American)') | (data['CUISINE DESCRIPTION'] == 'Spanish') | (data['CUISINE DESCRIPTION'] == 'Tex-Mex') | (data['CUISINE DESCRIPTION'] == 'Peruvian') | (data['CUISINE DESCRIPTION'] == 'Tapas') | (data['CUISINE DESCRIPTION'] == 'Chilean')      \n",
    "]\n",
    "choices = ['American', 'Asian', 'Cafe/Dessert', 'Italian', 'Latin']\n",
    "data['Cuisine_Reduced'] = np.select(conditions, choices, default='Other')\n",
    "print(data['Cuisine_Reduced'].value_counts())\n",
    "data['Cuisine_Reduced'].isnull().sum(axis = 0);"
   ]
  },
  {
   "cell_type": "markdown",
   "metadata": {},
   "source": [
    "### Recode all other categorical variables"
   ]
  },
  {
   "cell_type": "code",
   "execution_count": 113,
   "metadata": {},
   "outputs": [],
   "source": [
    "data['Second_Last_Insp_Type_CAT']=data['Second_Last_Insp_Type'].astype('category')\n",
    "data['Second_Last_Insp_Type_CAT'] = data['Second_Last_Insp_Type_CAT'].cat.codes\n",
    "data['Second_Last_Insp_Num_CriticialFlags_CAT']=data['Second_Last_Insp_Num_CriticialFlags'].astype('category')\n",
    "data['BORO_CAT']=data['BORO'].astype('category')\n",
    "data['BORO_CAT'] = data['BORO_CAT'].cat.codes\n",
    "data['num_years_active_CAT']=data['num_years_active'].astype('category')\n",
    "data['Cuisine_CAT']=data['Cuisine_Reduced'].astype('category')\n",
    "data['Cuisine_CAT'] = data['Cuisine_CAT'].cat.codes\n",
    "data['is_good_lastInsp']= data['is_good_lastInsp'].astype('category')\n",
    "data['ny311_number_of_complaints_3mo']= data['ny311_number_of_complaints_3mo'].astype('category')"
   ]
  },
  {
   "cell_type": "markdown",
   "metadata": {},
   "source": [
    "### Remove restaurants that don't have a previous inspection"
   ]
  },
  {
   "cell_type": "code",
   "execution_count": 114,
   "metadata": {},
   "outputs": [],
   "source": [
    "len(data);\n",
    "data = data[data['Second_Last_Insp_Type'].notnull()]\n",
    "len(data);"
   ]
  },
  {
   "cell_type": "markdown",
   "metadata": {},
   "source": [
    "### Format data types "
   ]
  },
  {
   "cell_type": "code",
   "execution_count": 115,
   "metadata": {},
   "outputs": [
    {
     "data": {
      "application/vnd.jupyter.widget-view+json": {
       "model_id": "904d6103746146b795c9ce683c47849e",
       "version_major": 2,
       "version_minor": 0
      },
      "text/plain": [
       "HBox(children=(FloatProgress(value=0.0, description='Pandas Apply', max=50.0, style=ProgressStyle(description_…"
      ]
     },
     "metadata": {},
     "output_type": "display_data"
    },
    {
     "name": "stdout",
     "output_type": "stream",
     "text": [
      "\n"
     ]
    },
    {
     "data": {
      "application/vnd.jupyter.widget-view+json": {
       "model_id": "4600869548c84237b0831d3861af70e1",
       "version_major": 2,
       "version_minor": 0
      },
      "text/plain": [
       "HBox(children=(FloatProgress(value=0.0, description='Pandas Apply', max=50.0, style=ProgressStyle(description_…"
      ]
     },
     "metadata": {},
     "output_type": "display_data"
    },
    {
     "name": "stdout",
     "output_type": "stream",
     "text": [
      "\n"
     ]
    }
   ],
   "source": [
    "data['Median household income (2018$)'] = data['Median household income (2018$)'].str[1:]\n",
    "data['Poverty rate'] = data['Poverty rate'].str[:-1]\n",
    "data['Public housing (% of rental units)'] = data['Public housing (% of rental units)'].str[:-1]\n",
    "\n",
    "data = data.swifter.apply(lambda x: x.str.strip() if x.dtype =='object' else x)\n",
    "\n",
    "data = data.swifter.apply(lambda x: x.str.replace(',','') if x.dtype =='object' else x)\n",
    "\n",
    "data['Median household income (2018$)'] = data['Median household income (2018$)'].astype('float64')\n",
    "\n",
    "data['Population'] = data['Population'].astype('float64')\n",
    "data['Poverty rate'] = data['Poverty rate'].astype('float64')\n",
    "data['Public housing (% of rental units)'] = data['Public housing (% of rental units)'].astype('float64')"
   ]
  },
  {
   "cell_type": "markdown",
   "metadata": {},
   "source": [
    "## Generate some exploratory plots"
   ]
  },
  {
   "cell_type": "code",
   "execution_count": 118,
   "metadata": {},
   "outputs": [],
   "source": [
    "dataforplots = data.copy()\n",
    "dataforplots.rename(columns = {'Cuisine_Reduced': \"Cuisine Type\"}, inplace=True)\n",
    "dataforplots.rename(columns = {'is_good_lastInsp': 'Clean?'}, inplace=True)\n",
    "dataforplots.rename(columns = {'BORO': \"Borough\"}, inplace=True)\n",
    "dataforplots.rename(columns = {'Second_Last_Insp_Type': \"Previous Inspection Type\"}, inplace=True)\n",
    "dataforplots.rename(columns = {'num_years_active': \"Age of restaurant\"}, inplace=True)"
   ]
  },
  {
   "cell_type": "code",
   "execution_count": 119,
   "metadata": {
    "scrolled": true
   },
   "outputs": [
    {
     "data": {
      "text/plain": [
       "<matplotlib.axes._subplots.AxesSubplot at 0x1c2576ae10>"
      ]
     },
     "execution_count": 119,
     "metadata": {},
     "output_type": "execute_result"
    },
    {
     "data": {
      "image/png": "[encoded data removed]",
      "text/plain": [
       "<Figure size 576x288 with 1 Axes>"
      ]
     },
     "metadata": {},
     "output_type": "display_data"
    }
   ],
   "source": [
    "with sns.axes_style(\"white\"):\n",
    "    sns.set(rc={'figure.figsize':(8,4)})\n",
    "    sns.countplot(x = dataforplots['Clean?'], palette = 'husl')\n",
    "    sns.despine()"
   ]
  },
  {
   "cell_type": "code",
   "execution_count": 121,
   "metadata": {
    "scrolled": true
   },
   "outputs": [
    {
     "data": {
      "image/png": "[encoded data removed]",
      "text/plain": [
       "<Figure size 576x288 with 1 Axes>"
      ]
     },
     "metadata": {},
     "output_type": "display_data"
    }
   ],
   "source": [
    "sns.set(rc={'figure.figsize':(8,4)})\n",
    "ax = sns.countplot(y=dataforplots[\"Cuisine Type\"], hue = dataforplots['Clean?'], palette = 'husl')\n",
    "sns.despine()\n",
    "plt.savefig('/Users/rabarry/Documents/Insight/NYC data/SafeEats/Cuisine_Violations.png')"
   ]
  },
  {
   "cell_type": "code",
   "execution_count": 140,
   "metadata": {
    "scrolled": true
   },
   "outputs": [
    {
     "data": {
      "text/plain": [
       "<matplotlib.axes._subplots.AxesSubplot at 0x1c2561f6a0>"
      ]
     },
     "execution_count": 140,
     "metadata": {},
     "output_type": "execute_result"
    },
    {
     "data": {
      "image/png": "[encoded data removed]",
      "text/plain": [
       "<Figure size 576x288 with 1 Axes>"
      ]
     },
     "metadata": {},
     "output_type": "display_data"
    }
   ],
   "source": [
    "ax = sns.countplot(y=dataforplots[\"Cuisine Type\"], hue = dataforplots['Clean?'], palette = \"husl\")\n",
    "plt.savefig('Cuisine_Countplot.png')\n",
    "ax = sns.countplot(y=dataforplots['Borough'], hue = dataforplots['Clean?'], palette = \"husl\")\n",
    "plt.savefig('Borough_Countplot.png')\n",
    "ax = sns.countplot(y=dataforplots['Previous Inspection Type'], hue = dataforplots['Clean?'], palette = \"husl\")\n",
    "plt.savefig('LastType_Countplot.png')\n",
    "\n",
    "sns.boxplot(y=dataforplots['Population'], x=dataforplots['Clean?'], palette = \"husl\")\n",
    "ax = sns.countplot(y=data['Second_Last_Insp_Num_CriticialFlags'], hue = data['is_good_lastInsp'])\n",
    "\n",
    "ax = sns.countplot(y=dataforplots['Age of restaurant'], hue = dataforplots['Clean?'], palette = 'husl')\n",
    "\n",
    "ax = sns.countplot(y=data['ny311_number_of_complaints_3mo'], hue = data['is_good_lastInsp'])"
   ]
  },
  {
   "cell_type": "code",
   "execution_count": 141,
   "metadata": {},
   "outputs": [
    {
     "data": {
      "text/plain": [
       "<matplotlib.axes._subplots.AxesSubplot at 0x1c2618ac18>"
      ]
     },
     "execution_count": 141,
     "metadata": {},
     "output_type": "execute_result"
    },
    {
     "data": {
      "text/plain": [
       "<matplotlib.axes._subplots.AxesSubplot at 0x1c2618ac18>"
      ]
     },
     "execution_count": 141,
     "metadata": {},
     "output_type": "execute_result"
    },
    {
     "data": {
      "text/plain": [
       "<matplotlib.axes._subplots.AxesSubplot at 0x1c2618ac18>"
      ]
     },
     "execution_count": 141,
     "metadata": {},
     "output_type": "execute_result"
    },
    {
     "data": {
      "text/plain": [
       "<matplotlib.axes._subplots.AxesSubplot at 0x1c2618ac18>"
      ]
     },
     "execution_count": 141,
     "metadata": {},
     "output_type": "execute_result"
    },
    {
     "data": {
      "text/plain": [
       "<matplotlib.axes._subplots.AxesSubplot at 0x1c2618ac18>"
      ]
     },
     "execution_count": 141,
     "metadata": {},
     "output_type": "execute_result"
    },
    {
     "data": {
      "text/plain": [
       "<matplotlib.axes._subplots.AxesSubplot at 0x1c2618ac18>"
      ]
     },
     "execution_count": 141,
     "metadata": {},
     "output_type": "execute_result"
    },
    {
     "data": {
      "text/plain": [
       "<matplotlib.axes._subplots.AxesSubplot at 0x1c2618ac18>"
      ]
     },
     "execution_count": 141,
     "metadata": {},
     "output_type": "execute_result"
    },
    {
     "data": {
      "text/plain": [
       "<matplotlib.axes._subplots.AxesSubplot at 0x1c2618ac18>"
      ]
     },
     "execution_count": 141,
     "metadata": {},
     "output_type": "execute_result"
    },
    {
     "data": {
      "text/plain": [
       "<matplotlib.axes._subplots.AxesSubplot at 0x1c2618ac18>"
      ]
     },
     "execution_count": 141,
     "metadata": {},
     "output_type": "execute_result"
    },
    {
     "data": {
      "text/plain": [
       "<matplotlib.axes._subplots.AxesSubplot at 0x1c2618ac18>"
      ]
     },
     "execution_count": 141,
     "metadata": {},
     "output_type": "execute_result"
    },
    {
     "data": {
      "image/png": "[encoded data removed]",
      "text/plain": [
       "<Figure size 576x288 with 1 Axes>"
      ]
     },
     "metadata": {},
     "output_type": "display_data"
    }
   ],
   "source": [
    "sns.boxplot(y=data['Insp_Date_Diff'], x=data['is_good_lastInsp'])\n",
    "sns.boxplot(y=data['Income diversity ratio'], x=data['is_good_lastInsp'])\n",
    "sns.boxplot(y=data['Median household income (2018$)'], x=data['is_good_lastInsp'])\n",
    "sns.boxplot(y=data['Population'], x=data['is_good_lastInsp'])\n",
    "sns.boxplot(y=data['Population density (1,000 persons per square mile)'], x=data['is_good_lastInsp'])\n",
    "sns.boxplot(y=data['Poverty rate'], x=data['is_good_lastInsp'])\n",
    "sns.boxplot(y=data['Public housing (% of rental units)'], x=data['is_good_lastInsp'])\n",
    "sns.boxplot(y=data['Racial diversity index'], x=data['is_good_lastInsp'])\n",
    "sns.boxplot(y=data['Serious crime rate (per 1,000 residents)'], x=data['is_good_lastInsp'])\n",
    "sns.boxplot(y=data['Serious housing code violations (per 1,000 privately owned rental units)'], x=data['is_good_lastInsp'])"
   ]
  },
  {
   "cell_type": "markdown",
   "metadata": {},
   "source": [
    "## Specify the columns that will be included in the model\n",
    "Also, remove any rows containing NaN"
   ]
  },
  {
   "cell_type": "code",
   "execution_count": 142,
   "metadata": {},
   "outputs": [
    {
     "data": {
      "text/plain": [
       "(23381, 11)"
      ]
     },
     "execution_count": 142,
     "metadata": {},
     "output_type": "execute_result"
    }
   ],
   "source": [
    "data4model = data[['avg_num_critical_flags_per_year','ny311_number_of_complaints_3mo',\n",
    "       'Second_Last_Insp_Type_CAT', 'Second_Last_Insp_Num_CriticialFlags_CAT',\n",
    "       'BORO_CAT', 'num_years_active_CAT', 'Cuisine_CAT', \n",
    "       'Population', 'Population density (1,000 persons per square mile)',\n",
    "       'Serious housing code violations (per 1,000 privately owned rental units)', 'is_good_lastInsp']]\n",
    "data4model = data4model.dropna()\n",
    "data4model.shape"
   ]
  },
  {
   "cell_type": "markdown",
   "metadata": {},
   "source": [
    "### Specify the labels (y data)"
   ]
  },
  {
   "cell_type": "code",
   "execution_count": 143,
   "metadata": {},
   "outputs": [
    {
     "data": {
      "text/plain": [
       "(23381,)"
      ]
     },
     "execution_count": 143,
     "metadata": {},
     "output_type": "execute_result"
    }
   ],
   "source": [
    "Good_y = data4model['is_good_lastInsp']\n",
    "Good_y = np.ravel(Good_y)\n",
    "Good_y.shape"
   ]
  },
  {
   "cell_type": "markdown",
   "metadata": {},
   "source": [
    "### Specify the features (x data)"
   ]
  },
  {
   "cell_type": "code",
   "execution_count": 144,
   "metadata": {},
   "outputs": [
    {
     "data": {
      "text/plain": [
       "(23381, 10)"
      ]
     },
     "execution_count": 144,
     "metadata": {},
     "output_type": "execute_result"
    },
    {
     "data": {
      "text/plain": [
       "avg_num_critical_flags_per_year                                              float64\n",
       "ny311_number_of_complaints_3mo                                              category\n",
       "Second_Last_Insp_Type_CAT                                                       int8\n",
       "Second_Last_Insp_Num_CriticialFlags_CAT                                     category\n",
       "BORO_CAT                                                                        int8\n",
       "num_years_active_CAT                                                        category\n",
       "Cuisine_CAT                                                                     int8\n",
       "Population                                                                   float64\n",
       "Population density (1,000 persons per square mile)                           float64\n",
       "Serious housing code violations (per 1,000 privately owned rental units)     float64\n",
       "dtype: object"
      ]
     },
     "execution_count": 144,
     "metadata": {},
     "output_type": "execute_result"
    }
   ],
   "source": [
    "Good_x = data4model[['avg_num_critical_flags_per_year','ny311_number_of_complaints_3mo',\n",
    "       'Second_Last_Insp_Type_CAT', 'Second_Last_Insp_Num_CriticialFlags_CAT',\n",
    "       'BORO_CAT', 'num_years_active_CAT', 'Cuisine_CAT', \n",
    "       'Population', 'Population density (1,000 persons per square mile)',\n",
    "       'Serious housing code violations (per 1,000 privately owned rental units)']]\n",
    "Good_x.shape\n",
    "Good_x.dtypes"
   ]
  },
  {
   "cell_type": "markdown",
   "metadata": {},
   "source": [
    "### Plot correlation matrix"
   ]
  },
  {
   "cell_type": "code",
   "execution_count": 145,
   "metadata": {},
   "outputs": [
    {
     "data": {
      "text/plain": [
       "<Figure size 576x288 with 0 Axes>"
      ]
     },
     "metadata": {},
     "output_type": "display_data"
    },
    {
     "data": {
      "image/png": "[encoded data removed]",
      "text/plain": [
       "<Figure size 1080x1080 with 2 Axes>"
      ]
     },
     "metadata": {},
     "output_type": "display_data"
    }
   ],
   "source": [
    "sns.set_context(\"notebook\");\n",
    "plt.tight_layout();\n",
    "corr=Good_x.corr();\n",
    "plt.figure(figsize=(15,15));\n",
    "g = sns.heatmap(corr, cbar=True, annot=True, square=True)\n",
    "g.set_ylim(0,7);\n",
    "#plt.savefig('Correlation_Matrix.png')"
   ]
  },
  {
   "cell_type": "markdown",
   "metadata": {},
   "source": [
    "### Train/Test split 80/20"
   ]
  },
  {
   "cell_type": "code",
   "execution_count": 146,
   "metadata": {},
   "outputs": [],
   "source": [
    "from sklearn.model_selection import train_test_split\n",
    "x_train, x_test, y_train, y_test = train_test_split(Good_x, Good_y, test_size=0.20, random_state=123, shuffle = True)"
   ]
  },
  {
   "cell_type": "code",
   "execution_count": 147,
   "metadata": {},
   "outputs": [
    {
     "name": "stdout",
     "output_type": "stream",
     "text": [
      "Size of training features: (18704, 10)\n",
      "Size of training labels: (18704,)\n",
      "Size of test features: (4677, 10)\n",
      "Size of test labels: (4677,)\n"
     ]
    }
   ],
   "source": [
    "print(f'Size of training features: {x_train.shape}')\n",
    "print(f'Size of training labels: {y_train.shape}')\n",
    "print(f'Size of test features: {x_test.shape}')\n",
    "print(f'Size of test labels: {y_test.shape}')"
   ]
  },
  {
   "cell_type": "code",
   "execution_count": 148,
   "metadata": {},
   "outputs": [
    {
     "name": "stdout",
     "output_type": "stream",
     "text": [
      "[Num Dirty, Num Clean]\n",
      "[ 5242 13462]\n",
      "[1320 3357]\n"
     ]
    }
   ],
   "source": [
    "print('[Num Dirty, Num Clean]')\n",
    "unique_elements, count_elements = np.unique(y_train, return_counts=True)\n",
    "print(np.asarray(count_elements))\n",
    "unique_elements, count_elements = np.unique(y_test, return_counts=True)\n",
    "print(np.asarray(count_elements))\n"
   ]
  },
  {
   "cell_type": "markdown",
   "metadata": {},
   "source": [
    "### Normalize values to be between 0 and 1"
   ]
  },
  {
   "cell_type": "code",
   "execution_count": 149,
   "metadata": {},
   "outputs": [
    {
     "data": {
      "text/plain": [
       "MinMaxScaler(copy=True, feature_range=(0, 1))"
      ]
     },
     "execution_count": 149,
     "metadata": {},
     "output_type": "execute_result"
    }
   ],
   "source": [
    "# Normalize continuous variables\n",
    "from sklearn.preprocessing import MinMaxScaler\n",
    "\n",
    "scaler = MinMaxScaler()\n",
    "\n",
    "scaler.fit(x_train)\n",
    "x_train = scaler.transform(x_train)\n",
    "x_test = scaler.transform(x_test)"
   ]
  },
  {
   "cell_type": "markdown",
   "metadata": {},
   "source": [
    "# Model 1: Logistic Regression\n",
    "### Grid search to maximize precision"
   ]
  },
  {
   "cell_type": "code",
   "execution_count": 150,
   "metadata": {},
   "outputs": [],
   "source": [
    "from sklearn.model_selection import cross_val_predict\n",
    "from sklearn.linear_model import LogisticRegression\n",
    "import matplotlib.pyplot as plt\n",
    "import seaborn as sns\n",
    "from sklearn import metrics\n",
    "from sklearn.metrics import precision_score, recall_score, roc_auc_score, roc_curve, f1_score, accuracy_score\n",
    "from sklearn.model_selection import GridSearchCV"
   ]
  },
  {
   "cell_type": "code",
   "execution_count": 151,
   "metadata": {
    "scrolled": false
   },
   "outputs": [],
   "source": [
    "from sklearn.linear_model import LogisticRegression\n",
    "logisticRegr = LogisticRegression();\n",
    "logisticRegr.fit(x_train, y_train);"
   ]
  },
  {
   "cell_type": "markdown",
   "metadata": {},
   "source": [
    "### Generate predictions"
   ]
  },
  {
   "cell_type": "code",
   "execution_count": 152,
   "metadata": {},
   "outputs": [],
   "source": [
    "predictions_logistic_test_base = logisticRegr.predict(x_test)\n",
    "\n",
    "predictions_logistic_train_base = logisticRegr.predict(x_train)"
   ]
  },
  {
   "cell_type": "markdown",
   "metadata": {},
   "source": [
    "### Get recall and precision. Precision is most important for my question!!"
   ]
  },
  {
   "cell_type": "code",
   "execution_count": 153,
   "metadata": {},
   "outputs": [
    {
     "name": "stdout",
     "output_type": "stream",
     "text": [
      "Recall of the TRAINING data is : 0.9487446144703611 \n",
      "Recall of the TEST data is : 0.9511468573130771 \n",
      "\n",
      "Precision of the TRAINING data is : 0.7437689261588633 \n",
      "Precision of the TEST data is : 0.7442890442890443 \n",
      "\n",
      "Train ROC AUC Score: 0.7150312272718591\n",
      "Test ROC AUC  Score: 0.7198769418943682\n"
     ]
    }
   ],
   "source": [
    "recall_train = recall_score(y_train, predictions_logistic_train_base)\n",
    "recall_test = recall_score(y_test, predictions_logistic_test_base)\n",
    "\n",
    "print(f'Recall of the TRAINING data is : {recall_train} ')\n",
    "print(f'Recall of the TEST data is : {recall_test} ')\n",
    "print('')\n",
    "\n",
    "precision_train = precision_score(y_train, predictions_logistic_train_base)\n",
    "precision_test = precision_score(y_test, predictions_logistic_test_base)\n",
    "\n",
    "print(f'Precision of the TRAINING data is : {precision_train} ')\n",
    "print(f'Precision of the TEST data is : {precision_test} ')\n",
    "print('')\n",
    "\n",
    "#Make probability predictions\n",
    "train_prob_base = logisticRegr.predict_proba(x_train)[:,1]\n",
    "test_prob_base = logisticRegr.predict_proba(x_test)[:,1]\n",
    "\n",
    "print(f'Train ROC AUC Score: {roc_auc_score(y_train, train_prob_base)}')\n",
    "print(f'Test ROC AUC  Score: {roc_auc_score(y_test, test_prob_base)}')"
   ]
  },
  {
   "cell_type": "markdown",
   "metadata": {},
   "source": [
    "### plot confusion matrices"
   ]
  },
  {
   "cell_type": "code",
   "execution_count": 156,
   "metadata": {},
   "outputs": [
    {
     "data": {
      "text/plain": [
       "<Figure size 288x288 with 0 Axes>"
      ]
     },
     "execution_count": 156,
     "metadata": {},
     "output_type": "execute_result"
    },
    {
     "data": {
      "text/plain": [
       "Text(12.453125, 0.5, 'Actual label')"
      ]
     },
     "execution_count": 156,
     "metadata": {},
     "output_type": "execute_result"
    },
    {
     "data": {
      "text/plain": [
       "Text(0.5, 76.533125, 'Predicted label')"
      ]
     },
     "execution_count": 156,
     "metadata": {},
     "output_type": "execute_result"
    },
    {
     "data": {
      "text/plain": [
       "Text(0.5, 1, '')"
      ]
     },
     "execution_count": 156,
     "metadata": {},
     "output_type": "execute_result"
    },
    {
     "data": {
      "text/plain": [
       "(0, 2)"
      ]
     },
     "execution_count": 156,
     "metadata": {},
     "output_type": "execute_result"
    },
    {
     "data": {
      "text/plain": [
       "<Figure size 432x432 with 0 Axes>"
      ]
     },
     "execution_count": 156,
     "metadata": {},
     "output_type": "execute_result"
    },
    {
     "data": {
      "text/plain": [
       "Text(22.421875, 0.5, 'Actual label')"
      ]
     },
     "execution_count": 156,
     "metadata": {},
     "output_type": "execute_result"
    },
    {
     "data": {
      "text/plain": [
       "Text(0.5, 118.54187499999998, 'Predicted label')"
      ]
     },
     "execution_count": 156,
     "metadata": {},
     "output_type": "execute_result"
    },
    {
     "data": {
      "text/plain": [
       "(0, 2)"
      ]
     },
     "execution_count": 156,
     "metadata": {},
     "output_type": "execute_result"
    },
    {
     "data": {
      "text/plain": [
       "(0, 2)"
      ]
     },
     "execution_count": 156,
     "metadata": {},
     "output_type": "execute_result"
    },
    {
     "data": {
      "image/png": "[encoded data removed]",
      "text/plain": [
       "<Figure size 288x288 with 2 Axes>"
      ]
     },
     "metadata": {},
     "output_type": "display_data"
    },
    {
     "data": {
      "image/png": "[encoded data removed]",
      "text/plain": [
       "<Figure size 432x432 with 2 Axes>"
      ]
     },
     "metadata": {},
     "output_type": "display_data"
    }
   ],
   "source": [
    "sns.set_context('notebook');\n",
    "Outcome = ['dirty', 'clean'];\n",
    "cm = metrics.confusion_matrix(y_train, predictions_logistic_train_base);\n",
    "plt.figure(figsize=(4,4));\n",
    "g = sns.heatmap(cm, annot=True, fmt=\".3f\", linewidths=.5, square = True,\n",
    "           xticklabels=Outcome,\n",
    "           yticklabels=Outcome);\n",
    "plt.ylabel('Actual label');\n",
    "plt.xlabel('Predicted label');\n",
    "plt.title('');\n",
    "#plt.title(all_sample_title, size = 15);\n",
    "g.set_ylim(0,2);\n",
    "#plt.savefig('Confusion_Matrix.png')\n",
    "\n",
    "sns.set_context('talk');\n",
    "cm = metrics.confusion_matrix(y_test, predictions_logistic_test_base);\n",
    "plt.figure(figsize=(6,6));\n",
    "g = sns.heatmap(cm, annot=True, fmt=\".3f\", linewidths=.5, square = True,\n",
    "           xticklabels=Outcome,\n",
    "           yticklabels=Outcome);\n",
    "plt.ylabel('Actual label');\n",
    "plt.xlabel('Predicted label');\n",
    "#plt.title(all_sample_title, size = 15);\n",
    "g.set_ylim(0,2);\n",
    "g.set_xlim(0,2);\n",
    "plt.savefig('BaseModel_Confusion_Matrix.png')"
   ]
  },
  {
   "cell_type": "markdown",
   "metadata": {},
   "source": [
    "### Try different confusion matrix version"
   ]
  },
  {
   "cell_type": "code",
   "execution_count": 170,
   "metadata": {},
   "outputs": [],
   "source": [
    "import itertools\n",
    "def plot_confusion_matrix(cm, classes,  cmap=plt.cm.Blues):\n",
    "    \"\"\"\n",
    "    This function prints and plots the confusion matrix.\n",
    "    Normalization can be applied by setting `normalize=True`.\n",
    "    \"\"\"        \n",
    "    plt.imshow(cm, interpolation='nearest', cmap=cmap)\n",
    "    tick_marks = np.arange(len(classes))\n",
    "    plt.xticks(tick_marks, classes, rotation=0)\n",
    "    plt.yticks(tick_marks, classes)\n",
    "    \n",
    "    name = None    \n",
    "    fmt = 'd'\n",
    "    thresh = cm.max() / 2\n",
    "    # i and j tell us the coordinates of boxes\n",
    "    for i, j in itertools.product(range(cm.shape[0]), range(cm.shape[1])):\n",
    "        if i == 0 and j == 0:\n",
    "            name = \"True Negatives\"\n",
    "        elif i == 0 and j == 1:\n",
    "            name = \"False Positives\"\n",
    "        elif i == 1 and j == 1:\n",
    "            name = \"True Positives\"\n",
    "        else:\n",
    "            name = \"False Negatives\"\n",
    "        plt.text(j, i, format(cm[i, j], fmt) + \"\\n\" + name, horizontalalignment=\"center\", \n",
    "                 fontsize=23, color=\"white\" if cm[i, j] > thresh else \"black\")\n",
    "\n",
    "    plt.ylabel('True label', labelpad=12)\n",
    "    plt.xlabel('Predicted label', labelpad=12)\n",
    "    plt.tight_layout()\n",
    "    plt.ylim(0,3);\n",
    "    plt.xlim(0,3);\n",
    "    plt.figure(figsize=(6,6));"
   ]
  },
  {
   "cell_type": "code",
   "execution_count": 171,
   "metadata": {},
   "outputs": [
    {
     "data": {
      "text/plain": [
       "<Figure size 504x504 with 0 Axes>"
      ]
     },
     "execution_count": 171,
     "metadata": {},
     "output_type": "execute_result"
    },
    {
     "data": {
      "image/png": "[encoded data removed]",
      "text/plain": [
       "<Figure size 504x504 with 1 Axes>"
      ]
     },
     "metadata": {},
     "output_type": "display_data"
    },
    {
     "data": {
      "text/plain": [
       "<Figure size 432x432 with 0 Axes>"
      ]
     },
     "metadata": {},
     "output_type": "display_data"
    }
   ],
   "source": [
    "# Compute confusion matrix\n",
    "cnf_matrix = confusion_matrix(y_test, predictions_logistic_test_base);\n",
    "np.set_printoptions(precision=2);\n",
    "class_names = [\"dirty\", \"clean\"]\n",
    "\n",
    "# Plot non-normalized confusion matrix\n",
    "plt.figure(figsize=(7, 7))\n",
    "plt.grid(False)\n",
    "plot_confusion_matrix(cnf_matrix, classes=class_names)"
   ]
  },
  {
   "cell_type": "code",
   "execution_count": 43,
   "metadata": {},
   "outputs": [
    {
     "name": "stdout",
     "output_type": "stream",
     "text": [
      "[[ 223 1097]\n",
      " [ 164 3193]]\n",
      "\u001b[1m\u001b[94mLogistic False Positive Rate: \u001b[30m0.831060606060606\n"
     ]
    }
   ],
   "source": [
    "from sklearn.metrics import confusion_matrix\n",
    "cnf_matrix = confusion_matrix(y_test, predictions_logistic_test_base)\n",
    "print(cnf_matrix)\n",
    "\n",
    "FP = cnf_matrix[0,1]\n",
    "TN = cnf_matrix[0,0]\n",
    "\n",
    "FP = FP.astype(float)\n",
    "TN = TN.astype(float)\n",
    "\n",
    "# Fall out or false positive rate\n",
    "log_FPR = FP/(FP+TN)\n",
    "print(f\"\\033[1m\\033[94mLogistic False Positive Rate: \\033[30m{log_FPR}\")"
   ]
  },
  {
   "cell_type": "markdown",
   "metadata": {},
   "source": [
    "# Model2: Logistic regression with SMOTE\n",
    "### Grid Search used to maximize precision"
   ]
  },
  {
   "cell_type": "markdown",
   "metadata": {},
   "source": [
    "#### Resample data to deal with class imbalance"
   ]
  },
  {
   "cell_type": "code",
   "execution_count": 56,
   "metadata": {},
   "outputs": [],
   "source": [
    "from imblearn.over_sampling import SMOTE\n",
    "\n",
    "sm = SMOTE(random_state = 123)\n",
    "x_train_res, y_train_res = sm.fit_sample(x_train, y_train)"
   ]
  },
  {
   "cell_type": "code",
   "execution_count": 57,
   "metadata": {},
   "outputs": [],
   "source": [
    "from sklearn.model_selection import cross_val_predict\n",
    "from sklearn.linear_model import LogisticRegression\n",
    "import matplotlib.pyplot as plt\n",
    "import seaborn as sns\n",
    "from sklearn import metrics\n",
    "from sklearn.metrics import precision_score, recall_score, roc_auc_score, roc_curve, f1_score, accuracy_score\n",
    "from sklearn.model_selection import GridSearchCV"
   ]
  },
  {
   "cell_type": "code",
   "execution_count": 58,
   "metadata": {
    "scrolled": false
   },
   "outputs": [],
   "source": [
    "from sklearn.linear_model import LogisticRegression\n",
    "logisticRegr = LogisticRegression();\n",
    "#grid_values = {'penalty': ['l1', 'l2'], 'C': [.001, .009, .01, .09, 1, 5, 10, 25], 'solver': ['newton-cg', 'lbfgs', 'sag', 'saga']};\n",
    "grid_values = {'penalty': ['l1', 'l2'], 'C': [.001, .009, .01, .09, 1, 5, 10, 25]};\n",
    "grid_logistic = GridSearchCV(logisticRegr, param_grid = grid_values, scoring = 'precision');\n",
    "grid_logistic.fit(x_train_res, y_train_res);"
   ]
  },
  {
   "cell_type": "markdown",
   "metadata": {},
   "source": [
    "#### save best estimator found in grid search"
   ]
  },
  {
   "cell_type": "code",
   "execution_count": 59,
   "metadata": {},
   "outputs": [
    {
     "name": "stdout",
     "output_type": "stream",
     "text": [
      "\u001b[1m\u001b[94mBest C: \u001b[30m10\n",
      "\u001b[1m\u001b[94mBest penalty: \u001b[30ml2\n",
      "\u001b[1m\u001b[94mBest solver: \u001b[30mlbfgs\n"
     ]
    }
   ],
   "source": [
    "logistic_best = grid_logistic.best_estimator_\n",
    "\n",
    "# View The Best Parameters\n",
    "print(f\"\\033[1m\\033[94mBest C: \\033[30m{grid_logistic.best_estimator_.get_params()['C']}\")\n",
    "print(f\"\\033[1m\\033[94mBest penalty: \\033[30m{grid_logistic.best_estimator_.get_params()['penalty']}\")\n",
    "print(f\"\\033[1m\\033[94mBest solver: \\033[30m{grid_logistic.best_estimator_.get_params()['solver']}\")\n"
   ]
  },
  {
   "cell_type": "markdown",
   "metadata": {},
   "source": [
    "#### Generate predictions"
   ]
  },
  {
   "cell_type": "code",
   "execution_count": 60,
   "metadata": {},
   "outputs": [],
   "source": [
    "predictions_logistic_test = logistic_best.predict(x_test)\n",
    "\n",
    "predictions_logistic_train = logistic_best.predict(x_train_res)"
   ]
  },
  {
   "cell_type": "markdown",
   "metadata": {},
   "source": [
    "#### Get recall and precision. Precision is most important for my question!!"
   ]
  },
  {
   "cell_type": "code",
   "execution_count": 61,
   "metadata": {},
   "outputs": [
    {
     "name": "stdout",
     "output_type": "stream",
     "text": [
      "Recall of the TRAINING data is : 0.7188382112613282 \n",
      "Recall of the TEST data is : 0.7039022937146262 \n",
      "\n",
      "Precision of the TRAINING data is : 0.6235984018559093 \n",
      "Precision of the TEST data is : 0.8148275862068965 \n",
      "\n",
      "Train ROC AUC Score: 0.7227117181183456\n",
      "Test ROC AUC  Score: 0.7209405268051381\n"
     ]
    }
   ],
   "source": [
    "recall_train = recall_score(y_train_res, predictions_logistic_train)\n",
    "recall_test = recall_score(y_test, predictions_logistic_test)\n",
    "\n",
    "print(f'Recall of the TRAINING data is : {recall_train} ')\n",
    "print(f'Recall of the TEST data is : {recall_test} ')\n",
    "print('')\n",
    "\n",
    "precision_train = precision_score(y_train_res, predictions_logistic_train)\n",
    "precision_test = precision_score(y_test, predictions_logistic_test)\n",
    "\n",
    "print(f'Precision of the TRAINING data is : {precision_train} ')\n",
    "print(f'Precision of the TEST data is : {precision_test} ')\n",
    "print('')\n",
    "\n",
    "#Make probability predictions\n",
    "train_prob = logistic_best.predict_proba(x_train_res)[:,1]\n",
    "test_prob = logistic_best.predict_proba(x_test)[:,1]\n",
    "\n",
    "print(f'Train ROC AUC Score: {roc_auc_score(y_train_res, train_prob)}')\n",
    "print(f'Test ROC AUC  Score: {roc_auc_score(y_test, test_prob)}')"
   ]
  },
  {
   "cell_type": "code",
   "execution_count": 62,
   "metadata": {},
   "outputs": [
    {
     "data": {
      "text/plain": [
       "<Figure size 288x288 with 0 Axes>"
      ]
     },
     "execution_count": 62,
     "metadata": {},
     "output_type": "execute_result"
    },
    {
     "data": {
      "text/plain": [
       "Text(12.453125, 0.5, 'Actual label')"
      ]
     },
     "execution_count": 62,
     "metadata": {},
     "output_type": "execute_result"
    },
    {
     "data": {
      "text/plain": [
       "Text(0.5, 76.533125, 'Predicted label')"
      ]
     },
     "execution_count": 62,
     "metadata": {},
     "output_type": "execute_result"
    },
    {
     "data": {
      "text/plain": [
       "Text(0.5, 1, 'Training Data')"
      ]
     },
     "execution_count": 62,
     "metadata": {},
     "output_type": "execute_result"
    },
    {
     "data": {
      "text/plain": [
       "(0, 2)"
      ]
     },
     "execution_count": 62,
     "metadata": {},
     "output_type": "execute_result"
    },
    {
     "data": {
      "text/plain": [
       "<Figure size 432x432 with 0 Axes>"
      ]
     },
     "execution_count": 62,
     "metadata": {},
     "output_type": "execute_result"
    },
    {
     "data": {
      "text/plain": [
       "Text(22.421875, 0.5, 'Actual label')"
      ]
     },
     "execution_count": 62,
     "metadata": {},
     "output_type": "execute_result"
    },
    {
     "data": {
      "text/plain": [
       "Text(0.5, 118.54187499999998, 'Predicted label')"
      ]
     },
     "execution_count": 62,
     "metadata": {},
     "output_type": "execute_result"
    },
    {
     "data": {
      "text/plain": [
       "Text(0.5, 1, 'Test Data')"
      ]
     },
     "execution_count": 62,
     "metadata": {},
     "output_type": "execute_result"
    },
    {
     "data": {
      "text/plain": [
       "(0, 2)"
      ]
     },
     "execution_count": 62,
     "metadata": {},
     "output_type": "execute_result"
    },
    {
     "data": {
      "text/plain": [
       "(0, 2)"
      ]
     },
     "execution_count": 62,
     "metadata": {},
     "output_type": "execute_result"
    },
    {
     "data": {
      "image/png": "[encoded data removed]",
      "text/plain": [
       "<Figure size 288x288 with 2 Axes>"
      ]
     },
     "metadata": {},
     "output_type": "display_data"
    },
    {
     "data": {
      "image/png": "[encoded data removed]",
      "text/plain": [
       "<Figure size 432x432 with 2 Axes>"
      ]
     },
     "metadata": {},
     "output_type": "display_data"
    }
   ],
   "source": [
    "sns.set_context('notebook');\n",
    "Outcome = ['dirty', 'clean'];\n",
    "cm = metrics.confusion_matrix(y_train_res, predictions_logistic_train);\n",
    "plt.figure(figsize=(4,4));\n",
    "g = sns.heatmap(cm, annot=True, fmt=\".3f\", linewidths=.5, square = True,\n",
    "           xticklabels=Outcome,\n",
    "           yticklabels=Outcome);\n",
    "plt.ylabel('Actual label');\n",
    "plt.xlabel('Predicted label');\n",
    "all_sample_title = 'Training Data';\n",
    "plt.title(all_sample_title, size = 15);\n",
    "g.set_ylim(0,2);\n",
    "#plt.savefig('Confusion_Matrix.png')\n",
    "\n",
    "sns.set_context('talk');\n",
    "cm = metrics.confusion_matrix(y_test, predictions_logistic_test);\n",
    "plt.figure(figsize=(6,6));\n",
    "g = sns.heatmap(cm, annot=True, fmt=\".3f\", linewidths=.5, square = True,\n",
    "           xticklabels=Outcome,\n",
    "           yticklabels=Outcome);\n",
    "plt.ylabel('Actual label');\n",
    "plt.xlabel('Predicted label');\n",
    "all_sample_title = 'Test Data';\n",
    "plt.title(all_sample_title, size = 15);\n",
    "g.set_ylim(0,2);\n",
    "g.set_xlim(0,2);\n",
    "plt.savefig('Final_Confusion_Matrix.png')"
   ]
  },
  {
   "cell_type": "code",
   "execution_count": 63,
   "metadata": {},
   "outputs": [
    {
     "name": "stdout",
     "output_type": "stream",
     "text": [
      "[[ 783  537]\n",
      " [ 994 2363]]\n",
      "\u001b[1m\u001b[94mLogistic False Positive Rate: \u001b[30m0.4068181818181818\n"
     ]
    }
   ],
   "source": [
    "from sklearn.metrics import confusion_matrix\n",
    "cnf_matrix = confusion_matrix(y_test, predictions_logistic_test)\n",
    "print(cnf_matrix)\n",
    "\n",
    "FP = cnf_matrix[0,1]\n",
    "TN = cnf_matrix[0,0]\n",
    "\n",
    "FP = FP.astype(float)\n",
    "TN = TN.astype(float)\n",
    "\n",
    "# Fall out or false positive rate\n",
    "log_FPR = FP/(FP+TN)\n",
    "print(f\"\\033[1m\\033[94mLogistic False Positive Rate: \\033[30m{log_FPR}\")"
   ]
  },
  {
   "cell_type": "code",
   "execution_count": 85,
   "metadata": {},
   "outputs": [
    {
     "data": {
      "text/plain": [
       "['final_model.pkl']"
      ]
     },
     "execution_count": 85,
     "metadata": {},
     "output_type": "execute_result"
    }
   ],
   "source": [
    "import pickle\n",
    "import joblib\n",
    "joblib.dump(logistic_best, 'final_model.pkl')\n",
    "logistic_final_from_pickle = joblib.load('final_model.pkl')\n",
    "model_predict = logistic_final_from_pickle.predict(x_test)"
   ]
  },
  {
   "cell_type": "code",
   "execution_count": 87,
   "metadata": {},
   "outputs": [
    {
     "data": {
      "text/plain": [
       "4677"
      ]
     },
     "execution_count": 87,
     "metadata": {},
     "output_type": "execute_result"
    },
    {
     "data": {
      "text/plain": [
       "4677"
      ]
     },
     "execution_count": 87,
     "metadata": {},
     "output_type": "execute_result"
    },
    {
     "name": "stdout",
     "output_type": "stream",
     "text": [
      "[1777 2900]\n"
     ]
    }
   ],
   "source": [
    "len(x_test)\n",
    "len(model_predict)\n",
    "unique_elements, count_elements = np.unique(model_predict, return_counts=True)\n",
    "print(np.asarray(count_elements))"
   ]
  },
  {
   "cell_type": "markdown",
   "metadata": {},
   "source": [
    "### Get feature importance"
   ]
  },
  {
   "cell_type": "code",
   "execution_count": 28,
   "metadata": {},
   "outputs": [
    {
     "data": {
      "text/plain": [
       "array([[False,  True,  True,  True, False, False, False,  True, False,\n",
       "         True]])"
      ]
     },
     "execution_count": 28,
     "metadata": {},
     "output_type": "execute_result"
    },
    {
     "data": {
      "text/plain": [
       "Index(['avg_num_critical_flags_per_year', 'ny311_number_of_complaints_3mo',\n",
       "       'Second_Last_Insp_Type_CAT', 'Second_Last_Insp_Num_CriticialFlags_CAT',\n",
       "       'BORO_CAT', 'num_years_active_CAT', 'Cuisine_CAT', 'Population',\n",
       "       'Population density (1,000 persons per square mile)',\n",
       "       'Serious housing code violations (per 1,000 privately owned rental units)'],\n",
       "      dtype='object')"
      ]
     },
     "execution_count": 28,
     "metadata": {},
     "output_type": "execute_result"
    }
   ],
   "source": [
    "np.round(logistic_best.coef_,decimals=2)>0\n",
    "Good_x.columns"
   ]
  },
  {
   "cell_type": "code",
   "execution_count": 29,
   "metadata": {},
   "outputs": [],
   "source": [
    "from sklearn.feature_selection import RFE\n",
    "predictors = x_train_res\n",
    "selector = RFE(logistic_best, n_features_to_select=1)\n",
    "selector = selector.fit(predictors,y_train_res);"
   ]
  },
  {
   "cell_type": "code",
   "execution_count": 30,
   "metadata": {},
   "outputs": [
    {
     "data": {
      "text/plain": [
       "array([ 1,  2,  5,  8,  9,  3,  7, 10,  4,  6])"
      ]
     },
     "execution_count": 30,
     "metadata": {},
     "output_type": "execute_result"
    },
    {
     "data": {
      "text/plain": [
       "['1. avg_num_critical_flags_per_year',\n",
       " '2. ny311_number_of_complaints_3mo',\n",
       " '5. BORO_CAT',\n",
       " '8. Population',\n",
       " '9. Population density (1,000 persons per square mile)',\n",
       " '3. Second_Last_Insp_Type_CAT',\n",
       " '7. Cuisine_CAT',\n",
       " '10. Serious housing code violations (per 1,000 privately owned rental units)',\n",
       " '4. Second_Last_Insp_Num_CriticialFlags_CAT',\n",
       " '6. num_years_active_CAT']"
      ]
     },
     "execution_count": 30,
     "metadata": {},
     "output_type": "execute_result"
    }
   ],
   "source": [
    "order = selector.ranking_\n",
    "order\n",
    "feature_ranks = []\n",
    "for i in order:\n",
    "    feature_ranks.append(f\"{i}. {Good_x.columns[(i-1)]}\")\n",
    "feature_ranks"
   ]
  },
  {
   "cell_type": "code",
   "execution_count": 56,
   "metadata": {},
   "outputs": [
    {
     "data": {
      "text/plain": [
       "SelectFromModel(estimator=LogisticRegression(C=10, class_weight=None,\n",
       "                                             dual=False, fit_intercept=True,\n",
       "                                             intercept_scaling=1, l1_ratio=None,\n",
       "                                             max_iter=100, multi_class='auto',\n",
       "                                             n_jobs=None, penalty='l2',\n",
       "                                             random_state=None, solver='lbfgs',\n",
       "                                             tol=0.0001, verbose=0,\n",
       "                                             warm_start=False),\n",
       "                max_features=3, norm_order=1, prefit=False, threshold=-inf)"
      ]
     },
     "execution_count": 56,
     "metadata": {},
     "output_type": "execute_result"
    },
    {
     "data": {
      "text/plain": [
       "Index(['avg_num_critical_flags_per_year', 'ny311_number_of_complaints_3mo',\n",
       "       'num_years_active_CAT'],\n",
       "      dtype='object')"
      ]
     },
     "execution_count": 56,
     "metadata": {},
     "output_type": "execute_result"
    }
   ],
   "source": [
    "from sklearn.feature_selection import SelectFromModel\n",
    "smf = SelectFromModel(logistic_best, threshold=-np.inf, max_features= 3)\n",
    "smf.fit(x_train_res, y_train_res)\n",
    "feature_idx = smf.get_support()\n",
    "feature_name = Good_x.columns[feature_idx]\n",
    "feature_name"
   ]
  },
  {
   "cell_type": "markdown",
   "metadata": {},
   "source": [
    "## Re-run logistic regression with only important features"
   ]
  },
  {
   "cell_type": "markdown",
   "metadata": {},
   "source": [
    "### Chose SelectFromModel results"
   ]
  },
  {
   "cell_type": "code",
   "execution_count": 32,
   "metadata": {},
   "outputs": [],
   "source": [
    "fewer_x = Good_x[['avg_num_critical_flags_per_year', 'ny311_number_of_complaints_3mo',\n",
    "       'Second_Last_Insp_Type_CAT', 'num_years_active_CAT',\n",
    "       'Population density (1,000 persons per square mile)']]"
   ]
  },
  {
   "cell_type": "markdown",
   "metadata": {},
   "source": [
    "#### Train/Test split 80/20"
   ]
  },
  {
   "cell_type": "code",
   "execution_count": 33,
   "metadata": {},
   "outputs": [],
   "source": [
    "from sklearn.model_selection import train_test_split\n",
    "x_train, x_test, y_train, y_test = train_test_split(fewer_x, Good_y, test_size=0.20, random_state=123, shuffle = True)"
   ]
  },
  {
   "cell_type": "code",
   "execution_count": 34,
   "metadata": {},
   "outputs": [
    {
     "name": "stdout",
     "output_type": "stream",
     "text": [
      "Size of training features: (18704, 5)\n",
      "Size of training labels: (18704,)\n",
      "Size of test features: (4677, 5)\n",
      "Size of test labels: (4677,)\n"
     ]
    }
   ],
   "source": [
    "print(f'Size of training features: {x_train.shape}')\n",
    "print(f'Size of training labels: {y_train.shape}')\n",
    "print(f'Size of test features: {x_test.shape}')\n",
    "print(f'Size of test labels: {y_test.shape}')"
   ]
  },
  {
   "cell_type": "code",
   "execution_count": 35,
   "metadata": {},
   "outputs": [
    {
     "name": "stdout",
     "output_type": "stream",
     "text": [
      "[Num Dirty, Num Clean]\n",
      "[ 5242 13462]\n",
      "[1320 3357]\n"
     ]
    }
   ],
   "source": [
    "print('[Num Dirty, Num Clean]')\n",
    "unique_elements, count_elements = np.unique(y_train, return_counts=True)\n",
    "print(np.asarray(count_elements))\n",
    "unique_elements, count_elements = np.unique(y_test, return_counts=True)\n",
    "print(np.asarray(count_elements))\n"
   ]
  },
  {
   "cell_type": "markdown",
   "metadata": {},
   "source": [
    "#### Normalize values to be between 0 and 1"
   ]
  },
  {
   "cell_type": "code",
   "execution_count": 36,
   "metadata": {},
   "outputs": [
    {
     "data": {
      "text/plain": [
       "MinMaxScaler(copy=True, feature_range=(0, 1))"
      ]
     },
     "execution_count": 36,
     "metadata": {},
     "output_type": "execute_result"
    }
   ],
   "source": [
    "# Normalize continuous variables\n",
    "from sklearn.preprocessing import MinMaxScaler\n",
    "\n",
    "scaler = MinMaxScaler()\n",
    "\n",
    "scaler.fit(x_train)\n",
    "x_train = scaler.transform(x_train)\n",
    "x_test = scaler.transform(x_test)"
   ]
  },
  {
   "cell_type": "markdown",
   "metadata": {},
   "source": [
    "#### Resample data to deal with class imbalance"
   ]
  },
  {
   "cell_type": "code",
   "execution_count": 37,
   "metadata": {},
   "outputs": [],
   "source": [
    "from imblearn.over_sampling import SMOTE\n",
    "\n",
    "sm = SMOTE(random_state = 123)\n",
    "x_train_res, y_train_res = sm.fit_sample(x_train, y_train)"
   ]
  },
  {
   "cell_type": "code",
   "execution_count": 39,
   "metadata": {
    "scrolled": false
   },
   "outputs": [],
   "source": [
    "logisticRegr = LogisticRegression(C = 10, penalty = 'l2');\n",
    "logisticRegr.fit(x_train_res, y_train_res);"
   ]
  },
  {
   "cell_type": "markdown",
   "metadata": {},
   "source": [
    "#### Generate predictions"
   ]
  },
  {
   "cell_type": "code",
   "execution_count": 40,
   "metadata": {},
   "outputs": [],
   "source": [
    "predictions_logistic_test = logisticRegr.predict(x_test)\n",
    "\n",
    "predictions_logistic_train = logisticRegr.predict(x_train_res)"
   ]
  },
  {
   "cell_type": "markdown",
   "metadata": {},
   "source": [
    "#### Get recall and precision. Precision is most important for my question!!"
   ]
  },
  {
   "cell_type": "code",
   "execution_count": 41,
   "metadata": {},
   "outputs": [
    {
     "name": "stdout",
     "output_type": "stream",
     "text": [
      "Recall of the TRAINING data is : 0.7272322091813995 \n",
      "Recall of the TEST data is : 0.7149240393208222 \n",
      "\n",
      "Precision of the TRAINING data is : 0.6202090592334495 \n",
      "Precision of the TEST data is : 0.8138351983723296 \n",
      "\n",
      "Train ROC AUC Score: 0.7209721886513905\n",
      "Test ROC AUC  Score: 0.7216944918352424\n"
     ]
    }
   ],
   "source": [
    "recall_train = recall_score(y_train_res, predictions_logistic_train)\n",
    "recall_test = recall_score(y_test, predictions_logistic_test)\n",
    "\n",
    "print(f'Recall of the TRAINING data is : {recall_train} ')\n",
    "print(f'Recall of the TEST data is : {recall_test} ')\n",
    "print('')\n",
    "\n",
    "precision_train = precision_score(y_train_res, predictions_logistic_train)\n",
    "precision_test = precision_score(y_test, predictions_logistic_test)\n",
    "\n",
    "print(f'Precision of the TRAINING data is : {precision_train} ')\n",
    "print(f'Precision of the TEST data is : {precision_test} ')\n",
    "print('')\n",
    "\n",
    "#Make probability predictions\n",
    "train_prob = logisticRegr.predict_proba(x_train_res)[:,1]\n",
    "test_prob = logisticRegr.predict_proba(x_test)[:,1]\n",
    "\n",
    "print(f'Train ROC AUC Score: {roc_auc_score(y_train_res, train_prob)}')\n",
    "print(f'Test ROC AUC  Score: {roc_auc_score(y_test, test_prob)}')"
   ]
  },
  {
   "cell_type": "markdown",
   "metadata": {},
   "source": [
    "# SMOTE undersample/oversample"
   ]
  },
  {
   "cell_type": "markdown",
   "metadata": {},
   "source": [
    "#### Normalize values to be between 0 and 1"
   ]
  },
  {
   "cell_type": "code",
   "execution_count": 85,
   "metadata": {},
   "outputs": [
    {
     "data": {
      "text/plain": [
       "MinMaxScaler(copy=True, feature_range=(0, 1))"
      ]
     },
     "execution_count": 85,
     "metadata": {},
     "output_type": "execute_result"
    }
   ],
   "source": [
    "# Normalize continuous variables\n",
    "from sklearn.preprocessing import MinMaxScaler\n",
    "\n",
    "scaler = MinMaxScaler()\n",
    "\n",
    "scaler.fit(Good_x)\n",
    "x_scaled = scaler.transform(Good_x)"
   ]
  },
  {
   "cell_type": "code",
   "execution_count": 90,
   "metadata": {},
   "outputs": [
    {
     "name": "stdout",
     "output_type": "stream",
     "text": [
      "Mean Precision: 0.808\n"
     ]
    }
   ],
   "source": [
    "from imblearn.pipeline import Pipeline\n",
    "from imblearn.over_sampling import SMOTE\n",
    "from imblearn.under_sampling import RandomUnderSampler\n",
    "from sklearn.model_selection import cross_val_score\n",
    "from sklearn.model_selection import RepeatedStratifiedKFold\n",
    "\n",
    "#define pipeline\n",
    "model = LogisticRegression()\n",
    "over = SMOTE(sampling_strategy = 0.5)\n",
    "under = RandomUnderSampler()\n",
    "steps = [('over', over), ('under', under), ('model', model)]\n",
    "pipeline = Pipeline(steps=steps)\n",
    "\n",
    "#evaluate pipeline\n",
    "cv = RepeatedStratifiedKFold(n_splits=3, n_repeats=3, random_state=123)\n",
    "scores = cross_val_score(pipeline, x_scaled, Good_y, scoring = 'precision', cv=cv, n_jobs=-1)\n",
    "print('Mean Precision: %.3f' %np.mean(scores))"
   ]
  },
  {
   "cell_type": "code",
   "execution_count": null,
   "metadata": {},
   "outputs": [],
   "source": []
  }
 ],
 "metadata": {
  "kernelspec": {
   "display_name": "Python 3",
   "language": "python",
   "name": "python3"
  },
  "language_info": {
   "codemirror_mode": {
    "name": "ipython",
    "version": 3
   },
   "file_extension": ".py",
   "mimetype": "text/x-python",
   "name": "python",
   "nbconvert_exporter": "python",
   "pygments_lexer": "ipython3",
   "version": "3.6.10"
  }
 },
 "nbformat": 4,
 "nbformat_minor": 2
}
