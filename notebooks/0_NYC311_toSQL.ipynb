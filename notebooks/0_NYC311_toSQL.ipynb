{
 "cells": [
  {
   "cell_type": "code",
   "execution_count": 6,
   "metadata": {},
   "outputs": [],
   "source": [
    "from sqlalchemy import create_engine\n",
    "from sqlalchemy_utils import database_exists, create_database\n",
    "import psycopg2\n",
    "import pandas as pd\n",
    "import numpy as np\n",
    "import matplotlib.pyplot as plt\n",
    "%matplotlib inline\n",
    "from IPython.core.interactiveshell import InteractiveShell\n",
    "InteractiveShell.ast_node_interactivity = \"all\"\n",
    "import seaborn as sns\n",
    "import swifter"
   ]
  },
  {
   "cell_type": "code",
   "execution_count": 5,
   "metadata": {},
   "outputs": [],
   "source": [
    "file = '311_Service_Requests_from_2010_to_Present.csv'"
   ]
  },
  {
   "cell_type": "code",
   "execution_count": 16,
   "metadata": {},
   "outputs": [],
   "source": [
    "#print(pd.read_csv(file, nrows=5))\n",
    "test = pd.read_csv(file, nrows=5)\n",
    "test = test.rename(columns={c: c.replace(' ', '') for c in test.columns}) \n",
    "test = test.rename(columns={c: c.replace('(', '') for c in test.columns})\n",
    "test = test.rename(columns={c: c.replace(')', '') for c in test.columns})\n"
   ]
  },
  {
   "cell_type": "code",
   "execution_count": 17,
   "metadata": {},
   "outputs": [
    {
     "data": {
      "text/html": [
       "<div>\n",
       "<style scoped>\n",
       "    .dataframe tbody tr th:only-of-type {\n",
       "        vertical-align: middle;\n",
       "    }\n",
       "\n",
       "    .dataframe tbody tr th {\n",
       "        vertical-align: top;\n",
       "    }\n",
       "\n",
       "    .dataframe thead th {\n",
       "        text-align: right;\n",
       "    }\n",
       "</style>\n",
       "<table border=\"1\" class=\"dataframe\">\n",
       "  <thead>\n",
       "    <tr style=\"text-align: right;\">\n",
       "      <th></th>\n",
       "      <th>uniquekey</th>\n",
       "      <th>createddate</th>\n",
       "      <th>closeddate</th>\n",
       "      <th>agency</th>\n",
       "      <th>agencyname</th>\n",
       "      <th>complainttype</th>\n",
       "      <th>descriptor</th>\n",
       "      <th>locationtype</th>\n",
       "      <th>incidentzip</th>\n",
       "      <th>incidentaddress</th>\n",
       "      <th>...</th>\n",
       "      <th>vehicletype</th>\n",
       "      <th>taxicompanyborough</th>\n",
       "      <th>taxipickuplocation</th>\n",
       "      <th>bridgehighwayname</th>\n",
       "      <th>bridgehighwaydirection</th>\n",
       "      <th>roadramp</th>\n",
       "      <th>bridgehighwaysegment</th>\n",
       "      <th>latitude</th>\n",
       "      <th>longitude</th>\n",
       "      <th>location</th>\n",
       "    </tr>\n",
       "  </thead>\n",
       "  <tbody>\n",
       "    <tr>\n",
       "      <th>0</th>\n",
       "      <td>24811305</td>\n",
       "      <td>01/18/2013 12:00:00 AM</td>\n",
       "      <td>02/11/2013 12:00:00 AM</td>\n",
       "      <td>HPD</td>\n",
       "      <td>Department of Housing Preservation and Develop...</td>\n",
       "      <td>PLUMBING</td>\n",
       "      <td>BASIN/SINK</td>\n",
       "      <td>RESIDENTIAL BUILDING</td>\n",
       "      <td>11219</td>\n",
       "      <td>1454 43 STREET</td>\n",
       "      <td>...</td>\n",
       "      <td>NaN</td>\n",
       "      <td>NaN</td>\n",
       "      <td>NaN</td>\n",
       "      <td>NaN</td>\n",
       "      <td>NaN</td>\n",
       "      <td>NaN</td>\n",
       "      <td>NaN</td>\n",
       "      <td>40.636336</td>\n",
       "      <td>-73.985246</td>\n",
       "      <td>(40.63633580546793, -73.98524566850578)</td>\n",
       "    </tr>\n",
       "    <tr>\n",
       "      <th>1</th>\n",
       "      <td>24811306</td>\n",
       "      <td>01/18/2013 12:00:00 AM</td>\n",
       "      <td>01/23/2013 12:00:00 AM</td>\n",
       "      <td>HPD</td>\n",
       "      <td>Department of Housing Preservation and Develop...</td>\n",
       "      <td>GENERAL CONSTRUCTION</td>\n",
       "      <td>FLOOR</td>\n",
       "      <td>RESIDENTIAL BUILDING</td>\n",
       "      <td>10468</td>\n",
       "      <td>2420 DAVIDSON AVENUE</td>\n",
       "      <td>...</td>\n",
       "      <td>NaN</td>\n",
       "      <td>NaN</td>\n",
       "      <td>NaN</td>\n",
       "      <td>NaN</td>\n",
       "      <td>NaN</td>\n",
       "      <td>NaN</td>\n",
       "      <td>NaN</td>\n",
       "      <td>40.861985</td>\n",
       "      <td>-73.902833</td>\n",
       "      <td>(40.86198534161541, -73.90283327659593)</td>\n",
       "    </tr>\n",
       "    <tr>\n",
       "      <th>2</th>\n",
       "      <td>24811307</td>\n",
       "      <td>01/18/2013 12:00:00 AM</td>\n",
       "      <td>01/18/2013 12:00:00 AM</td>\n",
       "      <td>HPD</td>\n",
       "      <td>Department of Housing Preservation and Develop...</td>\n",
       "      <td>HEATING</td>\n",
       "      <td>HEAT</td>\n",
       "      <td>RESIDENTIAL BUILDING</td>\n",
       "      <td>10025</td>\n",
       "      <td>858 WEST END AVENUE</td>\n",
       "      <td>...</td>\n",
       "      <td>NaN</td>\n",
       "      <td>NaN</td>\n",
       "      <td>NaN</td>\n",
       "      <td>NaN</td>\n",
       "      <td>NaN</td>\n",
       "      <td>NaN</td>\n",
       "      <td>NaN</td>\n",
       "      <td>40.798897</td>\n",
       "      <td>-73.970257</td>\n",
       "      <td>(40.79889676055833, -73.97025674483577)</td>\n",
       "    </tr>\n",
       "    <tr>\n",
       "      <th>3</th>\n",
       "      <td>24811308</td>\n",
       "      <td>01/18/2013 12:00:00 AM</td>\n",
       "      <td>01/23/2013 12:00:00 AM</td>\n",
       "      <td>HPD</td>\n",
       "      <td>Department of Housing Preservation and Develop...</td>\n",
       "      <td>PLUMBING</td>\n",
       "      <td>BASIN/SINK</td>\n",
       "      <td>RESIDENTIAL BUILDING</td>\n",
       "      <td>11206</td>\n",
       "      <td>160 VERNON AVENUE</td>\n",
       "      <td>...</td>\n",
       "      <td>NaN</td>\n",
       "      <td>NaN</td>\n",
       "      <td>NaN</td>\n",
       "      <td>NaN</td>\n",
       "      <td>NaN</td>\n",
       "      <td>NaN</td>\n",
       "      <td>NaN</td>\n",
       "      <td>40.695054</td>\n",
       "      <td>-73.945363</td>\n",
       "      <td>(40.69505379327949, -73.94536269567737)</td>\n",
       "    </tr>\n",
       "    <tr>\n",
       "      <th>4</th>\n",
       "      <td>24811309</td>\n",
       "      <td>01/18/2013 12:00:00 AM</td>\n",
       "      <td>01/23/2013 12:00:00 AM</td>\n",
       "      <td>HPD</td>\n",
       "      <td>Department of Housing Preservation and Develop...</td>\n",
       "      <td>HEATING</td>\n",
       "      <td>HEAT</td>\n",
       "      <td>RESIDENTIAL BUILDING</td>\n",
       "      <td>11233</td>\n",
       "      <td>841 HALSEY STREET</td>\n",
       "      <td>...</td>\n",
       "      <td>NaN</td>\n",
       "      <td>NaN</td>\n",
       "      <td>NaN</td>\n",
       "      <td>NaN</td>\n",
       "      <td>NaN</td>\n",
       "      <td>NaN</td>\n",
       "      <td>NaN</td>\n",
       "      <td>40.685352</td>\n",
       "      <td>-73.919075</td>\n",
       "      <td>(40.68535201436509, -73.91907456016442)</td>\n",
       "    </tr>\n",
       "  </tbody>\n",
       "</table>\n",
       "<p>5 rows × 41 columns</p>\n",
       "</div>"
      ],
      "text/plain": [
       "   uniquekey             createddate              closeddate agency  \\\n",
       "0   24811305  01/18/2013 12:00:00 AM  02/11/2013 12:00:00 AM    HPD   \n",
       "1   24811306  01/18/2013 12:00:00 AM  01/23/2013 12:00:00 AM    HPD   \n",
       "2   24811307  01/18/2013 12:00:00 AM  01/18/2013 12:00:00 AM    HPD   \n",
       "3   24811308  01/18/2013 12:00:00 AM  01/23/2013 12:00:00 AM    HPD   \n",
       "4   24811309  01/18/2013 12:00:00 AM  01/23/2013 12:00:00 AM    HPD   \n",
       "\n",
       "                                          agencyname         complainttype  \\\n",
       "0  Department of Housing Preservation and Develop...              PLUMBING   \n",
       "1  Department of Housing Preservation and Develop...  GENERAL CONSTRUCTION   \n",
       "2  Department of Housing Preservation and Develop...               HEATING   \n",
       "3  Department of Housing Preservation and Develop...              PLUMBING   \n",
       "4  Department of Housing Preservation and Develop...               HEATING   \n",
       "\n",
       "   descriptor          locationtype  incidentzip       incidentaddress  ...  \\\n",
       "0  BASIN/SINK  RESIDENTIAL BUILDING        11219        1454 43 STREET  ...   \n",
       "1       FLOOR  RESIDENTIAL BUILDING        10468  2420 DAVIDSON AVENUE  ...   \n",
       "2        HEAT  RESIDENTIAL BUILDING        10025   858 WEST END AVENUE  ...   \n",
       "3  BASIN/SINK  RESIDENTIAL BUILDING        11206     160 VERNON AVENUE  ...   \n",
       "4        HEAT  RESIDENTIAL BUILDING        11233     841 HALSEY STREET  ...   \n",
       "\n",
       "  vehicletype taxicompanyborough taxipickuplocation  bridgehighwayname  \\\n",
       "0         NaN                NaN                NaN                NaN   \n",
       "1         NaN                NaN                NaN                NaN   \n",
       "2         NaN                NaN                NaN                NaN   \n",
       "3         NaN                NaN                NaN                NaN   \n",
       "4         NaN                NaN                NaN                NaN   \n",
       "\n",
       "   bridgehighwaydirection roadramp bridgehighwaysegment   latitude  longitude  \\\n",
       "0                     NaN      NaN                  NaN  40.636336 -73.985246   \n",
       "1                     NaN      NaN                  NaN  40.861985 -73.902833   \n",
       "2                     NaN      NaN                  NaN  40.798897 -73.970257   \n",
       "3                     NaN      NaN                  NaN  40.695054 -73.945363   \n",
       "4                     NaN      NaN                  NaN  40.685352 -73.919075   \n",
       "\n",
       "                                  location  \n",
       "0  (40.63633580546793, -73.98524566850578)  \n",
       "1  (40.86198534161541, -73.90283327659593)  \n",
       "2  (40.79889676055833, -73.97025674483577)  \n",
       "3  (40.69505379327949, -73.94536269567737)  \n",
       "4  (40.68535201436509, -73.91907456016442)  \n",
       "\n",
       "[5 rows x 41 columns]"
      ]
     },
     "execution_count": 17,
     "metadata": {},
     "output_type": "execute_result"
    }
   ],
   "source": [
    "test.columns = [c.lower() for c in test.columns]\n",
    "test"
   ]
  },
  {
   "cell_type": "code",
   "execution_count": 18,
   "metadata": {},
   "outputs": [
    {
     "data": {
      "text/plain": [
       "Index(['uniquekey', 'createddate', 'closeddate', 'agency', 'agencyname',\n",
       "       'complainttype', 'descriptor', 'locationtype', 'incidentzip',\n",
       "       'incidentaddress', 'streetname', 'crossstreet1', 'crossstreet2',\n",
       "       'intersectionstreet1', 'intersectionstreet2', 'addresstype', 'city',\n",
       "       'landmark', 'facilitytype', 'status', 'duedate',\n",
       "       'resolutiondescription', 'resolutionactionupdateddate',\n",
       "       'communityboard', 'bbl', 'borough', 'xcoordinatestateplane',\n",
       "       'ycoordinatestateplane', 'opendatachanneltype', 'parkfacilityname',\n",
       "       'parkborough', 'vehicletype', 'taxicompanyborough',\n",
       "       'taxipickuplocation', 'bridgehighwayname', 'bridgehighwaydirection',\n",
       "       'roadramp', 'bridgehighwaysegment', 'latitude', 'longitude',\n",
       "       'location'],\n",
       "      dtype='object')"
      ]
     },
     "execution_count": 18,
     "metadata": {},
     "output_type": "execute_result"
    }
   ],
   "source": [
    "test.columns"
   ]
  },
  {
   "cell_type": "code",
   "execution_count": 6,
   "metadata": {
    "colab": {},
    "colab_type": "code",
    "id": "MbBC1oZ7yEbJ"
   },
   "outputs": [],
   "source": [
    "# Define a database name (we're using a dataset on births, so we'll call it birth_db)\n",
    "# Set your postgres username\n",
    "dbname = 'Health_Inspection'\n",
    "username = 'postgres' # change this to your username"
   ]
  },
  {
   "cell_type": "code",
   "execution_count": 7,
   "metadata": {
    "colab": {},
    "colab_type": "code",
    "id": "jvAXpzRpyEbO",
    "outputId": "7aaddb90-06d9-4a30-83a0-7dcfec75654d"
   },
   "outputs": [
    {
     "name": "stdout",
     "output_type": "stream",
     "text": [
      "postgres://postgres@localhost/Health_Inspection\n"
     ]
    }
   ],
   "source": [
    "## 'engine' is a connection to a database\n",
    "## Here, we're using postgres, but sqlalchemy can connect to other things too.\n",
    "engine = create_engine('postgres://%s@localhost/%s'%(username,dbname))\n",
    "print(engine.url)"
   ]
  },
  {
   "cell_type": "code",
   "execution_count": 24,
   "metadata": {
    "colab": {},
    "colab_type": "code",
    "id": "2Kuj7HQqyEbV",
    "outputId": "dccef926-7081-4afa-825a-6f24af40d696"
   },
   "outputs": [
    {
     "name": "stdout",
     "output_type": "stream",
     "text": [
      "True\n"
     ]
    }
   ],
   "source": [
    "## create a database (if it doesn't exist)\n",
    "if not database_exists(engine.url):\n",
    "    create_database(engine.url)\n",
    "print(database_exists(engine.url))"
   ]
  },
  {
   "cell_type": "markdown",
   "metadata": {},
   "source": [
    "# Get data into postgres"
   ]
  },
  {
   "cell_type": "code",
   "execution_count": 27,
   "metadata": {},
   "outputs": [],
   "source": [
    "chunksize = 100000\n",
    "i = 0\n",
    "j = 1\n",
    "#colnames = ['uniquekey', 'createddate', 'closeddate', 'agency', 'agencyname','complainttype', 'descriptor', 'locationtype', 'incidentzip','incidentaddress', 'streetname', 'crossstreet1', 'crossstreet2','intersectionstreet1', 'intersectionstreet2', 'addresstype', 'city','landmark', 'facilitytype', 'status', 'duedate','resolutiondescription', 'resolutionactionupdateddate','communityboard', 'bbl', 'borough', 'xcoordinatestateplane','ycoordinatestateplane', 'opendatachanneltype', 'parkfacilityname','parkborough', 'vehicletype', 'taxicompanyborough','taxipickuplocation', 'bridgehighwayname', 'bridgehighwaydirection','roadramp', 'bridgehighwaysegment', 'latitude', 'longitude','location']\n",
    "for df in pd.read_csv(file, chunksize=chunksize, iterator=True, low_memory=False):\n",
    "    df = df.rename(columns={c: c.replace(' ', '') for c in df.columns}) \n",
    "    df = df.rename(columns={c: c.replace('(', '') for c in df.columns})\n",
    "    df = df.rename(columns={c: c.replace(')', '') for c in df.columns})\n",
    "    df.columns = [c.lower() for c in df.columns]\n",
    "    df.index += j\n",
    "    i+=1\n",
    "    df.to_sql('ny311table2', engine, if_exists='append')\n",
    "    j = df.index[-1] + 1"
   ]
  },
  {
   "cell_type": "markdown",
   "metadata": {},
   "source": [
    "# Use SQL within python"
   ]
  },
  {
   "cell_type": "code",
   "execution_count": 28,
   "metadata": {},
   "outputs": [],
   "source": [
    "# Connect to make queries using psycopg2\n",
    "con = None\n",
    "con = psycopg2.connect(database = dbname, user = username)\n"
   ]
  },
  {
   "cell_type": "code",
   "execution_count": 36,
   "metadata": {},
   "outputs": [
    {
     "data": {
      "text/plain": [
       "236692"
      ]
     },
     "execution_count": 36,
     "metadata": {},
     "output_type": "execute_result"
    }
   ],
   "source": [
    "# query:\n",
    "sql_query = \"\"\"\n",
    "SELECT createddate, complainttype, descriptor,locationtype, incidentzip, landmark, latitude,longitude,(SUBSTR(createddate, 7, 4) || '-' || LEFT(createddate, 2) || '-' || SUBSTR(createddate, 4, 2))::timestamp AS cleaned_date\n",
    "FROM ny311table2 \n",
    "WHERE locationtype IN ('Club/Bar/Restaurant','Restaurant/Bar/Deli/Bakery','Restaurant','Food Cart Vendor', 'Catering Service','Cafeteria- College/University','Cafeteria-Public School', 'Cafeteria- Private School','Cafeteria- Private', 'Cafeteria', 'Catering Hall','Bar/Restaurant')\n",
    ";\n",
    "\"\"\"\n",
    "health_data_from_sql = pd.read_sql_query(sql_query,con)\n",
    "health_data_from_sql.head()\n",
    "len(health_data_from_sql)"
   ]
  },
  {
   "cell_type": "code",
   "execution_count": 37,
   "metadata": {},
   "outputs": [],
   "source": [
    "test = health_data_from_sql[health_data_from_sql['cleaned_date']>= '2014-01-01']"
   ]
  },
  {
   "cell_type": "code",
   "execution_count": 39,
   "metadata": {},
   "outputs": [],
   "source": [
    "test.to_csv(r'NY311_part2.csv')"
   ]
  },
  {
   "cell_type": "code",
   "execution_count": 38,
   "metadata": {},
   "outputs": [
    {
     "data": {
      "text/plain": [
       "140042"
      ]
     },
     "execution_count": 38,
     "metadata": {},
     "output_type": "execute_result"
    }
   ],
   "source": [
    "len(test)"
   ]
  },
  {
   "cell_type": "markdown",
   "metadata": {},
   "source": [
    "# Put week 2 dataset into SQL"
   ]
  },
  {
   "cell_type": "code",
   "execution_count": 6,
   "metadata": {},
   "outputs": [],
   "source": [
    "file2 = 'DataforWk2.csv'"
   ]
  },
  {
   "cell_type": "code",
   "execution_count": 7,
   "metadata": {},
   "outputs": [
    {
     "name": "stdout",
     "output_type": "stream",
     "text": [
      "/Users/rabarry/Documents/Insight/NYC data\n"
     ]
    }
   ],
   "source": [
    "cd '/Users/rabarry/Documents/Insight/NYC data'"
   ]
  },
  {
   "cell_type": "code",
   "execution_count": 8,
   "metadata": {},
   "outputs": [
    {
     "name": "stdout",
     "output_type": "stream",
     "text": [
      "postgres://postgres@localhost/Health_Inspection\n"
     ]
    }
   ],
   "source": [
    "# Set your postgres username\n",
    "dbname = 'Health_Inspection'\n",
    "username = 'postgres' # change this to your username\n",
    "engine = create_engine('postgres://%s@localhost/%s'%(username,dbname))\n",
    "print(engine.url)"
   ]
  },
  {
   "cell_type": "code",
   "execution_count": 9,
   "metadata": {},
   "outputs": [],
   "source": [
    "df = pd.read_csv(file2)"
   ]
  },
  {
   "cell_type": "code",
   "execution_count": null,
   "metadata": {},
   "outputs": [],
   "source": [
    "#df.to_sql('DataforWk2', engine, if_exists='append')"
   ]
  },
  {
   "cell_type": "code",
   "execution_count": 10,
   "metadata": {},
   "outputs": [],
   "source": [
    "# Connect to make queries using psycopg2\n",
    "con = None\n",
    "con = psycopg2.connect(database = dbname, user = username)"
   ]
  },
  {
   "cell_type": "code",
   "execution_count": 44,
   "metadata": {},
   "outputs": [],
   "source": [
    "rest_name = 'starbucks'\n",
    "zip_code = int('10001')"
   ]
  },
  {
   "cell_type": "code",
   "execution_count": 45,
   "metadata": {},
   "outputs": [
    {
     "name": "stdout",
     "output_type": "stream",
     "text": [
      "SELECT \"DBA\", \"BORO_cat\",\"CUISINE DESCRIPTION_cat\",\"Second_Last_Insp_Num_CriticialFlags\",\"Second_Last_Insp_Type_cat\",\"Insp_Date_Diff\", \"num_years_active\"  FROM \"DataforWk2\" WHERE \"DBA\" ILIKE 'starbucks' AND \"ZIPCODE\"=10001\n",
      "          DBA  BORO_cat  CUISINE DESCRIPTION_cat  \\\n",
      "0   STARBUCKS         2                       13   \n",
      "1   STARBUCKS         2                       13   \n",
      "2   STARBUCKS         2                       13   \n",
      "3   STARBUCKS         2                       13   \n",
      "4   STARBUCKS         2                       13   \n",
      "5   STARBUCKS         2                       13   \n",
      "6   STARBUCKS         2                       13   \n",
      "7   STARBUCKS         2                       13   \n",
      "8   STARBUCKS         2                       13   \n",
      "9   STARBUCKS         2                       13   \n",
      "10  STARBUCKS         2                        2   \n",
      "11  STARBUCKS         2                       13   \n",
      "\n",
      "    Second_Last_Insp_Num_CriticialFlags  Second_Last_Insp_Type_cat  \\\n",
      "0                                   0.0                          0   \n",
      "1                                   0.0                          0   \n",
      "2                                   1.0                          0   \n",
      "3                                   0.0                          0   \n",
      "4                                   0.0                          0   \n",
      "5                                   1.0                          0   \n",
      "6                                   0.0                          0   \n",
      "7                                   1.0                          0   \n",
      "8                                   1.0                          0   \n",
      "9                                   1.0                          0   \n",
      "10                                  1.0                          0   \n",
      "11                                  2.0                          0   \n",
      "\n",
      "    Insp_Date_Diff  num_years_active  \n",
      "0            355.0               3.0  \n",
      "1            347.0               2.0  \n",
      "2            339.0               2.0  \n",
      "3            354.0               2.0  \n",
      "4            374.0               2.0  \n",
      "5            373.0               2.0  \n",
      "6            360.0               2.0  \n",
      "7            374.0               2.0  \n",
      "8            400.0               2.0  \n",
      "9            364.0               2.0  \n",
      "10           416.0               2.0  \n",
      "11            14.0               2.0  \n"
     ]
    }
   ],
   "source": [
    "# query:\n",
    "query = \"SELECT \\\"DBA\\\", \"\"\\\"BORO_cat\\\",\\\"CUISINE DESCRIPTION_cat\\\",\\\"Second_Last_Insp_Num_CriticialFlags\\\",\\\"Second_Last_Insp_Type_cat\\\",\\\"Insp_Date_Diff\\\", \\\"num_years_active\\\"  FROM \\\"DataforWk2\\\" WHERE \\\"DBA\\\" ILIKE '%s' AND \\\"ZIPCODE\\\"=%d\" %(rest_name, zip_code)\n",
    "print(query)\n",
    "query_results=pd.read_sql_query(query,con)\n",
    "print(query_results)\n",
    "births = []"
   ]
  },
  {
   "cell_type": "code",
   "execution_count": 39,
   "metadata": {},
   "outputs": [
    {
     "data": {
      "text/html": [
       "<div>\n",
       "<style scoped>\n",
       "    .dataframe tbody tr th:only-of-type {\n",
       "        vertical-align: middle;\n",
       "    }\n",
       "\n",
       "    .dataframe tbody tr th {\n",
       "        vertical-align: top;\n",
       "    }\n",
       "\n",
       "    .dataframe thead th {\n",
       "        text-align: right;\n",
       "    }\n",
       "</style>\n",
       "<table border=\"1\" class=\"dataframe\">\n",
       "  <thead>\n",
       "    <tr style=\"text-align: right;\">\n",
       "      <th></th>\n",
       "      <th>BORO_cat</th>\n",
       "      <th>CUISINE DESCRIPTION_cat</th>\n",
       "      <th>Second_Last_Insp_Num_CriticialFlags</th>\n",
       "      <th>Second_Last_Insp_Type_cat</th>\n",
       "      <th>Insp_Date_Diff</th>\n",
       "      <th>num_years_active</th>\n",
       "    </tr>\n",
       "  </thead>\n",
       "  <tbody>\n",
       "    <tr>\n",
       "      <th>0</th>\n",
       "      <td>2</td>\n",
       "      <td>44</td>\n",
       "      <td>1.0</td>\n",
       "      <td>0</td>\n",
       "      <td>386.0</td>\n",
       "      <td>2.0</td>\n",
       "    </tr>\n",
       "  </tbody>\n",
       "</table>\n",
       "</div>"
      ],
      "text/plain": [
       "   BORO_cat  CUISINE DESCRIPTION_cat  Second_Last_Insp_Num_CriticialFlags  \\\n",
       "0         2                       44                                  1.0   \n",
       "\n",
       "   Second_Last_Insp_Type_cat  Insp_Date_Diff  num_years_active  \n",
       "0                          0           386.0               2.0  "
      ]
     },
     "execution_count": 39,
     "metadata": {},
     "output_type": "execute_result"
    }
   ],
   "source": [
    "query_results"
   ]
  },
  {
   "cell_type": "code",
   "execution_count": 29,
   "metadata": {},
   "outputs": [
    {
     "data": {
      "text/plain": [
       "1"
      ]
     },
     "execution_count": 29,
     "metadata": {},
     "output_type": "execute_result"
    }
   ],
   "source": [
    "for i in range(0,query_results.shape[0]):\n",
    "    births.append(dict(index=query_results.iloc[i]['index'], attendant=query_results.iloc[i]['attendant'], birth_month=query_results.iloc[i]['birth_month']))\n",
    "    the_result = ModelIt(patient,births)\n",
    "    return render_template(\"output.html\", births = births, the_result = the_result)"
   ]
  },
  {
   "cell_type": "code",
   "execution_count": 30,
   "metadata": {},
   "outputs": [
    {
     "data": {
      "text/html": [
       "<div>\n",
       "<style scoped>\n",
       "    .dataframe tbody tr th:only-of-type {\n",
       "        vertical-align: middle;\n",
       "    }\n",
       "\n",
       "    .dataframe tbody tr th {\n",
       "        vertical-align: top;\n",
       "    }\n",
       "\n",
       "    .dataframe thead th {\n",
       "        text-align: right;\n",
       "    }\n",
       "</style>\n",
       "<table border=\"1\" class=\"dataframe\">\n",
       "  <thead>\n",
       "    <tr style=\"text-align: right;\">\n",
       "      <th></th>\n",
       "      <th>BORO_cat</th>\n",
       "      <th>CUISINE DESCRIPTION_cat</th>\n",
       "      <th>Second_Last_Insp_Num_CriticialFlags</th>\n",
       "      <th>Second_Last_Insp_Type_cat</th>\n",
       "      <th>Insp_Date_Diff</th>\n",
       "      <th>num_years_active</th>\n",
       "    </tr>\n",
       "  </thead>\n",
       "  <tbody>\n",
       "    <tr>\n",
       "      <th>0</th>\n",
       "      <td>2</td>\n",
       "      <td>44</td>\n",
       "      <td>1.0</td>\n",
       "      <td>0</td>\n",
       "      <td>386.0</td>\n",
       "      <td>2.0</td>\n",
       "    </tr>\n",
       "  </tbody>\n",
       "</table>\n",
       "</div>"
      ],
      "text/plain": [
       "   BORO_cat  CUISINE DESCRIPTION_cat  Second_Last_Insp_Num_CriticialFlags  \\\n",
       "0         2                       44                                  1.0   \n",
       "\n",
       "   Second_Last_Insp_Type_cat  Insp_Date_Diff  num_years_active  \n",
       "0                          0           386.0               2.0  "
      ]
     },
     "execution_count": 30,
     "metadata": {},
     "output_type": "execute_result"
    }
   ],
   "source": [
    "health_data_from_sql"
   ]
  },
  {
   "cell_type": "code",
   "execution_count": 40,
   "metadata": {},
   "outputs": [
    {
     "data": {
      "text/plain": [
       "Unnamed: 0                                                 7\n",
       "CAMIS                                               40357217\n",
       "Second_Last_Insp_Type                                Initial\n",
       "Second_Last_Insp_Date                             2018-05-31\n",
       "Second_Last_Insp_Num_CriticialFlags                        0\n",
       "Last_Insp_Type                                       Initial\n",
       "Last_Insp_Date                                    2019-05-22\n",
       "Last_Insp_Num_CriticialFlags                               1\n",
       "Insp_Date_Diff                                           356\n",
       "DBA                                                WILD ASIA\n",
       "BORO                                                   Bronx\n",
       "ZIPCODE                                                10460\n",
       "CUISINE DESCRIPTION                                 American\n",
       "Latitude                                             40.8506\n",
       "Longitude                                           -73.8825\n",
       "Community Board                                          206\n",
       "Council District                                          15\n",
       "Census Tract                                           33400\n",
       "BIN                                               2.1167e+06\n",
       "BBL                                               2.0312e+09\n",
       "NTA                                                     BX99\n",
       "total_critical_flags                                       1\n",
       "first_inspection_date                             2017-06-14\n",
       "last_inspection_date                              2019-05-22\n",
       "num_years_active                                           2\n",
       "avg_num_critical_flags_per_year                          0.5\n",
       "location                               40.850556, -73.882451\n",
       "is_good_overall                                            1\n",
       "is_good_lastInsp                                           1\n",
       "BORO_cat                                                   0\n",
       "CUISINE DESCRIPTION_cat                                    2\n",
       "Second_Last_Insp_Type_cat                                  0\n",
       "Name: 7, dtype: object"
      ]
     },
     "execution_count": 40,
     "metadata": {},
     "output_type": "execute_result"
    }
   ],
   "source": [
    "df.iloc[7]"
   ]
  },
  {
   "cell_type": "code",
   "execution_count": 17,
   "metadata": {},
   "outputs": [
    {
     "data": {
      "text/plain": [
       "Unnamed: 0                                            22655\n",
       "CAMIS                                              50086495\n",
       "Second_Last_Insp_Type                         Re-inspection\n",
       "Second_Last_Insp_Date                            2019-05-14\n",
       "Second_Last_Insp_Num_CriticialFlags                       2\n",
       "Last_Insp_Type                                      Initial\n",
       "Last_Insp_Date                                   2019-12-26\n",
       "Last_Insp_Num_CriticialFlags                              9\n",
       "Insp_Date_Diff                                          226\n",
       "DBA                                            SHOKUNIN BBQ\n",
       "BORO                                               Brooklyn\n",
       "ZIPCODE                                               11219\n",
       "CUISINE DESCRIPTION                                Barbecue\n",
       "Latitude                                            40.6333\n",
       "Longitude                                           -74.006\n",
       "Community Board                                         312\n",
       "Council District                                         38\n",
       "Census Tract                                          11800\n",
       "BIN                                             3.42545e+06\n",
       "BBL                                             3.05716e+09\n",
       "NTA                                                    BK34\n",
       "total_critical_flags                                     12\n",
       "first_inspection_date                            2019-04-10\n",
       "last_inspection_date                             2019-12-26\n",
       "num_years_active                                          1\n",
       "avg_num_critical_flags_per_year                          12\n",
       "location                               40.63331, -74.005974\n",
       "is_good_overall                                           0\n",
       "is_good_lastInsp                                          0\n",
       "BORO_cat                                                  1\n",
       "CUISINE DESCRIPTION_cat                                   9\n",
       "Second_Last_Insp_Type_cat                                 1\n",
       "Name: 21821, dtype: object"
      ]
     },
     "execution_count": 17,
     "metadata": {},
     "output_type": "execute_result"
    }
   ],
   "source": [
    "#df.head()\n",
    "df.loc[21821]\n",
    "#df.sort_values('Last_Insp_Num_CriticialFlags', ascending = False)"
   ]
  },
  {
   "cell_type": "markdown",
   "metadata": {},
   "source": [
    "# Get final dataset into SQL for flask app"
   ]
  },
  {
   "cell_type": "code",
   "execution_count": 2,
   "metadata": {},
   "outputs": [],
   "source": [
    "data = pd.read_csv('/Users/rabarry/Documents/Insight/NYC data/SafeEats/data/processed/HD_NY311_Hoods.csv')"
   ]
  },
  {
   "cell_type": "code",
   "execution_count": 3,
   "metadata": {},
   "outputs": [
    {
     "data": {
      "text/plain": [
       "Index(['CAMIS', 'Second_Last_Insp_Type', 'Second_Last_Insp_Date',\n",
       "       'Second_Last_Insp_Num_CriticialFlags', 'Last_Insp_Type',\n",
       "       'Last_Insp_Date', 'Last_Insp_Num_CriticialFlags', 'Insp_Date_Diff',\n",
       "       'DBA', 'BORO', 'ZIPCODE', 'CUISINE DESCRIPTION', 'Latitude',\n",
       "       'Longitude', 'Community Board', 'Council District', 'Census Tract',\n",
       "       'BIN', 'BBL', 'NTA', 'total_critical_flags', 'first_inspection_date',\n",
       "       'last_inspection_date', 'num_years_active',\n",
       "       'avg_num_critical_flags_per_year', 'location', 'is_good_overall',\n",
       "       'is_good_lastInsp', 'ny311_number_of_complaints_6mo',\n",
       "       'ny311_number_of_complaints_12mo', 'ny311_number_of_complaints_3mo',\n",
       "       'Cuisine_Reduced', 'Unnamed: 0.1', 'District Name', 'zip',\n",
       "       'Income diversity ratio', 'Median household income (2018$)',\n",
       "       'Population', 'Population density (1,000 persons per square mile)',\n",
       "       'Poverty rate', 'Public housing (% of rental units)',\n",
       "       'Racial diversity index', 'Serious crime rate (per 1,000 residents)',\n",
       "       'Serious housing code violations (per 1,000 privately owned rental units)'],\n",
       "      dtype='object')"
      ]
     },
     "execution_count": 3,
     "metadata": {},
     "output_type": "execute_result"
    }
   ],
   "source": [
    "data=data.drop('Unnamed: 0', axis=1)\n",
    "data.columns"
   ]
  },
  {
   "cell_type": "code",
   "execution_count": 4,
   "metadata": {},
   "outputs": [],
   "source": [
    "conditions = [\n",
    "    (data['CUISINE DESCRIPTION'] == 'American') |  (data['CUISINE DESCRIPTION'] == 'Hamburgers') | (data['CUISINE DESCRIPTION'] == 'Steak') | (data['CUISINE DESCRIPTION'] == 'Soul Food') | (data['CUISINE DESCRIPTION'] == 'Barbecue') | (data['CUISINE DESCRIPTION'] == 'Hotdogs/Pretzels') | (data['CUISINE DESCRIPTION'] == 'Hotdogs') | (data['CUISINE DESCRIPTION'] == 'Californian') | (data['CUISINE DESCRIPTION'] == 'Southwestern') | (data['CUISINE DESCRIPTION'] == 'Chicken'),\n",
    "    (data['CUISINE DESCRIPTION'] == 'Chinese') | (data['CUISINE DESCRIPTION'] == 'Japanese') | (data['CUISINE DESCRIPTION'] == 'Asian') | (data['CUISINE DESCRIPTION'] == 'Thai') | (data['CUISINE DESCRIPTION'] == 'Korean') | (data['CUISINE DESCRIPTION'] == 'Vietnamese/Cambodian/Malaysia') | (data['CUISINE DESCRIPTION'] == 'Chinese/Japanese') | (data['CUISINE DESCRIPTION'] == 'Filipino') | (data['CUISINE DESCRIPTION'] == 'Indonesian'), \n",
    "    (data['CUISINE DESCRIPTION'] == 'Café/Coffee/Tea') | (data['CUISINE DESCRIPTION'] == 'Bakery') | (data['CUISINE DESCRIPTION'] == 'Donuts') | (data['CUISINE DESCRIPTION'] == 'Juice, Smoothies, Fruit Salads') | (data['CUISINE DESCRIPTION'] == 'Ice Cream, Gelato, Yogurt, Ices') | (data['CUISINE DESCRIPTION'] == 'Bottled beverages, including water, sodas, juices, etc. ') | (data['CUISINE DESCRIPTION'] == 'Pancakes/Waffles')| (data['CUISINE DESCRIPTION'] == 'Nuts/Confectionary'),\n",
    "    (data['CUISINE DESCRIPTION'] == 'Pizza') | (data['CUISINE DESCRIPTION'] == 'Italian') | (data['CUISINE DESCRIPTION'] == 'Pizza/Italian'),\n",
    "    (data['CUISINE DESCRIPTION'] == 'Mexican') | (data['CUISINE DESCRIPTION'] == 'Latin (Cuban, Dominican, Puerto Rican, South & Central American)') | (data['CUISINE DESCRIPTION'] == 'Spanish') | (data['CUISINE DESCRIPTION'] == 'Tex-Mex') | (data['CUISINE DESCRIPTION'] == 'Peruvian') | (data['CUISINE DESCRIPTION'] == 'Tapas') | (data['CUISINE DESCRIPTION'] == 'Chilean')      \n",
    "]\n",
    "choices = ['American', 'Asian', 'Cafe/Dessert', 'Italian', 'Latin']\n",
    "data['Cuisine_Reduced'] = np.select(conditions, choices, default='Other')"
   ]
  },
  {
   "cell_type": "code",
   "execution_count": 5,
   "metadata": {},
   "outputs": [],
   "source": [
    "data['Last_Insp_Type_CAT']=data['Last_Insp_Type'].astype('category')\n",
    "data['Last_Insp_Type_CAT'] = data['Last_Insp_Type_CAT'].cat.codes\n",
    "data['Last_Insp_Num_CriticialFlags_CAT']=data['Last_Insp_Num_CriticialFlags'].astype('category')\n",
    "data['BORO_CAT']=data['BORO'].astype('category')\n",
    "data['BORO_CAT'] = data['BORO_CAT'].cat.codes\n",
    "data['num_years_active_CAT']=data['num_years_active'].astype('category')\n",
    "data['Cuisine_CAT']=data['Cuisine_Reduced'].astype('category')\n",
    "data['Cuisine_CAT'] = data['Cuisine_CAT'].cat.codes\n",
    "data['ny311_number_of_complaints_3mo']= data['ny311_number_of_complaints_3mo'].astype('category')"
   ]
  },
  {
   "cell_type": "code",
   "execution_count": 6,
   "metadata": {},
   "outputs": [
    {
     "data": {
      "application/vnd.jupyter.widget-view+json": {
       "model_id": "af49f97538d24906bf94aa6eb6fb8a24",
       "version_major": 2,
       "version_minor": 0
      },
      "text/plain": [
       "HBox(children=(FloatProgress(value=0.0, description='Pandas Apply', max=49.0, style=ProgressStyle(description_…"
      ]
     },
     "metadata": {},
     "output_type": "display_data"
    },
    {
     "name": "stdout",
     "output_type": "stream",
     "text": [
      "\n"
     ]
    },
    {
     "data": {
      "application/vnd.jupyter.widget-view+json": {
       "model_id": "b55b98ec58db438ca772a28e5628f807",
       "version_major": 2,
       "version_minor": 0
      },
      "text/plain": [
       "HBox(children=(FloatProgress(value=0.0, description='Pandas Apply', max=49.0, style=ProgressStyle(description_…"
      ]
     },
     "metadata": {},
     "output_type": "display_data"
    },
    {
     "name": "stdout",
     "output_type": "stream",
     "text": [
      "\n"
     ]
    }
   ],
   "source": [
    "data['Median household income (2018$)'] = data['Median household income (2018$)'].str[1:]\n",
    "data['Poverty rate'] = data['Poverty rate'].str[:-1]\n",
    "data['Public housing (% of rental units)'] = data['Public housing (% of rental units)'].str[:-1]\n",
    "\n",
    "data = data.swifter.apply(lambda x: x.str.strip() if x.dtype =='object' else x)\n",
    "\n",
    "data = data.swifter.apply(lambda x: x.str.replace(',','') if x.dtype =='object' else x)\n",
    "\n",
    "data['Median household income (2018$)'] = data['Median household income (2018$)'].astype('float64')\n",
    "\n",
    "data['Population'] = data['Population'].astype('float64')\n",
    "data['Poverty rate'] = data['Poverty rate'].astype('float64')\n",
    "data['Public housing (% of rental units)'] = data['Public housing (% of rental units)'].astype('float64')"
   ]
  },
  {
   "cell_type": "code",
   "execution_count": 7,
   "metadata": {},
   "outputs": [
    {
     "data": {
      "text/plain": [
       "Index(['CAMIS', 'Second_Last_Insp_Type', 'Second_Last_Insp_Date',\n",
       "       'Second_Last_Insp_Num_CriticialFlags', 'Last_Insp_Type',\n",
       "       'Last_Insp_Date', 'Last_Insp_Num_CriticialFlags', 'Insp_Date_Diff',\n",
       "       'DBA', 'BORO', 'ZIPCODE', 'CUISINE DESCRIPTION', 'Latitude',\n",
       "       'Longitude', 'Community Board', 'Council District', 'Census Tract',\n",
       "       'BIN', 'BBL', 'NTA', 'total_critical_flags', 'first_inspection_date',\n",
       "       'last_inspection_date', 'num_years_active',\n",
       "       'avg_num_critical_flags_per_year', 'location', 'is_good_overall',\n",
       "       'is_good_lastInsp', 'ny311_number_of_complaints_6mo',\n",
       "       'ny311_number_of_complaints_12mo', 'ny311_number_of_complaints_3mo',\n",
       "       'Cuisine_Reduced', 'Unnamed: 0.1', 'District Name', 'zip',\n",
       "       'Income diversity ratio', 'Median household income (2018$)',\n",
       "       'Population', 'Population density (1,000 persons per square mile)',\n",
       "       'Poverty rate', 'Public housing (% of rental units)',\n",
       "       'Racial diversity index', 'Serious crime rate (per 1,000 residents)',\n",
       "       'Serious housing code violations (per 1,000 privately owned rental units)',\n",
       "       'Last_Insp_Type_CAT', 'Last_Insp_Num_CriticialFlags_CAT', 'BORO_CAT',\n",
       "       'num_years_active_CAT', 'Cuisine_CAT'],\n",
       "      dtype='object')"
      ]
     },
     "execution_count": 7,
     "metadata": {},
     "output_type": "execute_result"
    }
   ],
   "source": [
    "data.columns"
   ]
  },
  {
   "cell_type": "code",
   "execution_count": 12,
   "metadata": {},
   "outputs": [],
   "source": [
    "data4sql = data[['CAMIS','Last_Insp_Date','DBA','ny311_number_of_complaints_3mo',\n",
    "       'ZIPCODE', 'CUISINE DESCRIPTION', 'Cuisine_Reduced','Latitude',\n",
    "       'Longitude','Last_Insp_Type_CAT', 'Last_Insp_Num_CriticialFlags_CAT',\n",
    "       'BORO_CAT', 'num_years_active_CAT', 'Cuisine_CAT', 'avg_num_critical_flags_per_year',\n",
    "       'Population', 'Population density (1,000 persons per square mile)',\n",
    "       'Serious housing code violations (per 1,000 privately owned rental units)']]\n",
    "\n"
   ]
  },
  {
   "cell_type": "code",
   "execution_count": 9,
   "metadata": {},
   "outputs": [
    {
     "data": {
      "text/plain": [
       "'11/4/19'"
      ]
     },
     "execution_count": 9,
     "metadata": {},
     "output_type": "execute_result"
    }
   ],
   "source": [
    "data['Last_Insp_Date'][0]"
   ]
  },
  {
   "cell_type": "code",
   "execution_count": 13,
   "metadata": {},
   "outputs": [
    {
     "name": "stdout",
     "output_type": "stream",
     "text": [
      "<class 'pandas.core.frame.DataFrame'>\n",
      "RangeIndex: 25647 entries, 0 to 25646\n",
      "Data columns (total 18 columns):\n",
      "CAMIS                                                                       25647 non-null int64\n",
      "Last_Insp_Date                                                              25647 non-null datetime64[ns]\n",
      "DBA                                                                         25647 non-null object\n",
      "ny311_number_of_complaints_3mo                                              25248 non-null category\n",
      "ZIPCODE                                                                     25249 non-null float64\n",
      "CUISINE DESCRIPTION                                                         25647 non-null object\n",
      "Cuisine_Reduced                                                             25647 non-null object\n",
      "Latitude                                                                    25248 non-null float64\n",
      "Longitude                                                                   25248 non-null float64\n",
      "Last_Insp_Type_CAT                                                          25647 non-null int8\n",
      "Last_Insp_Num_CriticialFlags_CAT                                            25647 non-null category\n",
      "BORO_CAT                                                                    25647 non-null int8\n",
      "num_years_active_CAT                                                        25647 non-null category\n",
      "Cuisine_CAT                                                                 25647 non-null int8\n",
      "avg_num_critical_flags_per_year                                             25647 non-null float64\n",
      "Population                                                                  25249 non-null float64\n",
      "Population density (1,000 persons per square mile)                          25249 non-null float64\n",
      "Serious housing code violations (per 1,000 privately owned rental units)    25249 non-null float64\n",
      "dtypes: category(3), datetime64[ns](1), float64(7), int64(1), int8(3), object(3)\n",
      "memory usage: 2.5+ MB\n"
     ]
    },
    {
     "name": "stderr",
     "output_type": "stream",
     "text": [
      "/anaconda3/envs/insight/lib/python3.6/site-packages/ipykernel_launcher.py:1: SettingWithCopyWarning: \n",
      "A value is trying to be set on a copy of a slice from a DataFrame.\n",
      "Try using .loc[row_indexer,col_indexer] = value instead\n",
      "\n",
      "See the caveats in the documentation: http://pandas.pydata.org/pandas-docs/stable/user_guide/indexing.html#returning-a-view-versus-a-copy\n",
      "  \"\"\"Entry point for launching an IPython kernel.\n"
     ]
    }
   ],
   "source": [
    "data4sql['Last_Insp_Date']= pd.to_datetime(data4sql['Last_Insp_Date']).dt.normalize()\n",
    "data4sql.info()"
   ]
  },
  {
   "cell_type": "code",
   "execution_count": 14,
   "metadata": {},
   "outputs": [
    {
     "data": {
      "text/plain": [
       "Index(['camis', 'last_insp_date', 'dba', 'ny311_number_of_complaints_3mo',\n",
       "       'zipcode', 'cuisine_description', 'cuisine_reduced', 'latitude',\n",
       "       'longitude', 'last_insp_type_cat', 'last_insp_num_criticialflags_cat',\n",
       "       'boro_cat', 'num_years_active_cat', 'cuisine_cat',\n",
       "       'avg_num_critical_flags_per_year', 'population',\n",
       "       'population_density_1,000_persons_per_square_mile',\n",
       "       'serious_housing_code_violations_per_1,000_privately_owned_rental_units'],\n",
       "      dtype='object')"
      ]
     },
     "execution_count": 14,
     "metadata": {},
     "output_type": "execute_result"
    }
   ],
   "source": [
    "data4sql.columns = [c.lower() for c in data4sql.columns]\n",
    "data4sql.columns = [c.strip() for c in data4sql.columns]\n",
    "\n",
    "data4sql = data4sql.rename(columns={c: c.replace(' ', '_') for c in data4sql.columns}) \n",
    "data4sql = data4sql.rename(columns={c: c.replace('(', '') for c in data4sql.columns})\n",
    "data4sql = data4sql.rename(columns={c: c.replace(')', '') for c in data4sql.columns})\n",
    "data4sql.columns"
   ]
  },
  {
   "cell_type": "code",
   "execution_count": 15,
   "metadata": {},
   "outputs": [
    {
     "name": "stdout",
     "output_type": "stream",
     "text": [
      "<class 'pandas.core.frame.DataFrame'>\n",
      "RangeIndex: 25647 entries, 0 to 25646\n",
      "Data columns (total 18 columns):\n",
      "camis                              25647 non-null int64\n",
      "last_insp_date                     25647 non-null datetime64[ns]\n",
      "dba                                25647 non-null object\n",
      "ny311_complaints                   25248 non-null category\n",
      "zipcode                            25249 non-null float64\n",
      "cuisine_description                25647 non-null object\n",
      "cuisine_reduced                    25647 non-null object\n",
      "latitude                           25248 non-null float64\n",
      "longitude                          25248 non-null float64\n",
      "last_insp_type                     25647 non-null int8\n",
      "last_insp_num_flags                25647 non-null category\n",
      "boro                               25647 non-null int8\n",
      "num_years_active                   25647 non-null category\n",
      "cuisine                            25647 non-null int8\n",
      "avg_num_critical_flags_per_year    25647 non-null float64\n",
      "population                         25249 non-null float64\n",
      "population_density                 25249 non-null float64\n",
      "serious_housing_code_violations    25249 non-null float64\n",
      "dtypes: category(3), datetime64[ns](1), float64(7), int64(1), int8(3), object(3)\n",
      "memory usage: 2.5+ MB\n"
     ]
    }
   ],
   "source": [
    "data4sql.columns = ['camis', 'last_insp_date', 'dba', 'ny311_complaints',\n",
    "       'zipcode', 'cuisine_description', 'cuisine_reduced','latitude', 'longitude',\n",
    "       'last_insp_type', 'last_insp_num_flags', 'boro',\n",
    "       'num_years_active', 'cuisine', 'avg_num_critical_flags_per_year', 'population',\n",
    "       'population_density','serious_housing_code_violations']\n",
    "data4sql.info()"
   ]
  },
  {
   "cell_type": "code",
   "execution_count": 16,
   "metadata": {},
   "outputs": [
    {
     "data": {
      "text/plain": [
       "(25647, 18)"
      ]
     },
     "execution_count": 16,
     "metadata": {},
     "output_type": "execute_result"
    },
    {
     "data": {
      "text/plain": [
       "(25248, 18)"
      ]
     },
     "execution_count": 16,
     "metadata": {},
     "output_type": "execute_result"
    }
   ],
   "source": [
    "data4sql.shape\n",
    "data4sql = data4sql.dropna()\n",
    "data4sql.shape"
   ]
  },
  {
   "cell_type": "code",
   "execution_count": 17,
   "metadata": {},
   "outputs": [
    {
     "name": "stdout",
     "output_type": "stream",
     "text": [
      "postgres://rabarry@localhost/Health_Inspection\n"
     ]
    }
   ],
   "source": [
    "# Set your postgres username\n",
    "dbname = 'Health_Inspection'\n",
    "username = 'rabarry' # change this to your username\n",
    "engine = create_engine('postgres://%s@localhost/%s'%(username,dbname))\n",
    "print(engine.url)"
   ]
  },
  {
   "cell_type": "code",
   "execution_count": 77,
   "metadata": {},
   "outputs": [],
   "source": [
    "import geopandas as gpd\n",
    "from shapely.ops import nearest_points\n",
    "from shapely.geometry import point\n",
    "data4sql_gdf = gpd.GeoDataFrame(data4sql, geometry = gpd.points_from_xy(data4sql['latitude'], data4sql['longitude']))\n"
   ]
  },
  {
   "cell_type": "code",
   "execution_count": 78,
   "metadata": {},
   "outputs": [
    {
     "data": {
      "text/html": [
       "<div>\n",
       "<style scoped>\n",
       "    .dataframe tbody tr th:only-of-type {\n",
       "        vertical-align: middle;\n",
       "    }\n",
       "\n",
       "    .dataframe tbody tr th {\n",
       "        vertical-align: top;\n",
       "    }\n",
       "\n",
       "    .dataframe thead th {\n",
       "        text-align: right;\n",
       "    }\n",
       "</style>\n",
       "<table border=\"1\" class=\"dataframe\">\n",
       "  <thead>\n",
       "    <tr style=\"text-align: right;\">\n",
       "      <th></th>\n",
       "      <th>camis</th>\n",
       "      <th>last_insp_date</th>\n",
       "      <th>dba</th>\n",
       "      <th>ny311_complaints</th>\n",
       "      <th>zipcode</th>\n",
       "      <th>cuisine_description</th>\n",
       "      <th>cuisine_reduced</th>\n",
       "      <th>latitude</th>\n",
       "      <th>longitude</th>\n",
       "      <th>last_insp_type</th>\n",
       "      <th>...</th>\n",
       "      <th>income_diversity_ratio</th>\n",
       "      <th>median_income</th>\n",
       "      <th>population</th>\n",
       "      <th>population_density</th>\n",
       "      <th>poverty_rate</th>\n",
       "      <th>public_housing</th>\n",
       "      <th>racial_diversity_index</th>\n",
       "      <th>serious_crime_rate</th>\n",
       "      <th>serious_housing_code_violations</th>\n",
       "      <th>geometry</th>\n",
       "    </tr>\n",
       "  </thead>\n",
       "  <tbody>\n",
       "    <tr>\n",
       "      <th>0</th>\n",
       "      <td>30075445</td>\n",
       "      <td>2019-11-04</td>\n",
       "      <td>MORRIS PARK BAKE SHOP</td>\n",
       "      <td>0.0</td>\n",
       "      <td>10462.0</td>\n",
       "      <td>Bakery</td>\n",
       "      <td>Cafe/Dessert</td>\n",
       "      <td>40.84823</td>\n",
       "      <td>-73.85597</td>\n",
       "      <td>1</td>\n",
       "      <td>...</td>\n",
       "      <td>6.1</td>\n",
       "      <td>40770.0</td>\n",
       "      <td>187975.0</td>\n",
       "      <td>42.5</td>\n",
       "      <td>24.7</td>\n",
       "      <td>39.8</td>\n",
       "      <td>0.59</td>\n",
       "      <td>11.8</td>\n",
       "      <td>78.2</td>\n",
       "      <td>POINT (40.84823 -73.85597)</td>\n",
       "    </tr>\n",
       "    <tr>\n",
       "      <th>1</th>\n",
       "      <td>30112340</td>\n",
       "      <td>2019-03-04</td>\n",
       "      <td>WENDY'S</td>\n",
       "      <td>0.0</td>\n",
       "      <td>11225.0</td>\n",
       "      <td>Hamburgers</td>\n",
       "      <td>American</td>\n",
       "      <td>40.66265</td>\n",
       "      <td>-73.96208</td>\n",
       "      <td>0</td>\n",
       "      <td>...</td>\n",
       "      <td>5.3</td>\n",
       "      <td>52050.0</td>\n",
       "      <td>113212.0</td>\n",
       "      <td>66.3</td>\n",
       "      <td>19.1</td>\n",
       "      <td>0.9</td>\n",
       "      <td>0.56</td>\n",
       "      <td>12.4</td>\n",
       "      <td>84.7</td>\n",
       "      <td>POINT (40.66265 -73.96208)</td>\n",
       "    </tr>\n",
       "    <tr>\n",
       "      <th>2</th>\n",
       "      <td>30191841</td>\n",
       "      <td>2019-06-06</td>\n",
       "      <td>DJ REYNOLDS PUB AND RESTAURANT</td>\n",
       "      <td>0.0</td>\n",
       "      <td>10019.0</td>\n",
       "      <td>Irish</td>\n",
       "      <td>Other</td>\n",
       "      <td>40.76733</td>\n",
       "      <td>-73.98431</td>\n",
       "      <td>0</td>\n",
       "      <td>...</td>\n",
       "      <td>7.5</td>\n",
       "      <td>103930.0</td>\n",
       "      <td>152455.0</td>\n",
       "      <td>49.6</td>\n",
       "      <td>13.8</td>\n",
       "      <td>0.0</td>\n",
       "      <td>0.59</td>\n",
       "      <td>90.3</td>\n",
       "      <td>8.6</td>\n",
       "      <td>POINT (40.76733 -73.98431)</td>\n",
       "    </tr>\n",
       "    <tr>\n",
       "      <th>3</th>\n",
       "      <td>40356018</td>\n",
       "      <td>2019-11-08</td>\n",
       "      <td>RIVIERA CATERERS</td>\n",
       "      <td>0.0</td>\n",
       "      <td>11224.0</td>\n",
       "      <td>American</td>\n",
       "      <td>American</td>\n",
       "      <td>40.57992</td>\n",
       "      <td>-73.98209</td>\n",
       "      <td>0</td>\n",
       "      <td>...</td>\n",
       "      <td>8.2</td>\n",
       "      <td>36810.0</td>\n",
       "      <td>122009.0</td>\n",
       "      <td>35.5</td>\n",
       "      <td>24.8</td>\n",
       "      <td>25.4</td>\n",
       "      <td>0.63</td>\n",
       "      <td>8.4</td>\n",
       "      <td>31.6</td>\n",
       "      <td>POINT (40.57992 -73.98209)</td>\n",
       "    </tr>\n",
       "    <tr>\n",
       "      <th>4</th>\n",
       "      <td>40356151</td>\n",
       "      <td>2018-10-06</td>\n",
       "      <td>BRUNOS ON THE BOULEVARD</td>\n",
       "      <td>0.0</td>\n",
       "      <td>11369.0</td>\n",
       "      <td>American</td>\n",
       "      <td>American</td>\n",
       "      <td>40.76397</td>\n",
       "      <td>-73.88097</td>\n",
       "      <td>0</td>\n",
       "      <td>...</td>\n",
       "      <td>4.0</td>\n",
       "      <td>52980.0</td>\n",
       "      <td>146301.0</td>\n",
       "      <td>40.6</td>\n",
       "      <td>15.6</td>\n",
       "      <td>0.0</td>\n",
       "      <td>0.58</td>\n",
       "      <td>7.5</td>\n",
       "      <td>19.2</td>\n",
       "      <td>POINT (40.76397 -73.88097)</td>\n",
       "    </tr>\n",
       "  </tbody>\n",
       "</table>\n",
       "<p>5 rows × 24 columns</p>\n",
       "</div>"
      ],
      "text/plain": [
       "      camis last_insp_date                             dba ny311_complaints  \\\n",
       "0  30075445     2019-11-04           MORRIS PARK BAKE SHOP              0.0   \n",
       "1  30112340     2019-03-04                         WENDY'S              0.0   \n",
       "2  30191841     2019-06-06  DJ REYNOLDS PUB AND RESTAURANT              0.0   \n",
       "3  40356018     2019-11-08                RIVIERA CATERERS              0.0   \n",
       "4  40356151     2018-10-06         BRUNOS ON THE BOULEVARD              0.0   \n",
       "\n",
       "   zipcode cuisine_description cuisine_reduced  latitude  longitude  \\\n",
       "0  10462.0              Bakery    Cafe/Dessert  40.84823  -73.85597   \n",
       "1  11225.0          Hamburgers        American  40.66265  -73.96208   \n",
       "2  10019.0               Irish           Other  40.76733  -73.98431   \n",
       "3  11224.0            American        American  40.57992  -73.98209   \n",
       "4  11369.0            American        American  40.76397  -73.88097   \n",
       "\n",
       "   last_insp_type  ... income_diversity_ratio  median_income population  \\\n",
       "0               1  ...                    6.1        40770.0   187975.0   \n",
       "1               0  ...                    5.3        52050.0   113212.0   \n",
       "2               0  ...                    7.5       103930.0   152455.0   \n",
       "3               0  ...                    8.2        36810.0   122009.0   \n",
       "4               0  ...                    4.0        52980.0   146301.0   \n",
       "\n",
       "   population_density  poverty_rate  public_housing  racial_diversity_index  \\\n",
       "0                42.5          24.7            39.8                    0.59   \n",
       "1                66.3          19.1             0.9                    0.56   \n",
       "2                49.6          13.8             0.0                    0.59   \n",
       "3                35.5          24.8            25.4                    0.63   \n",
       "4                40.6          15.6             0.0                    0.58   \n",
       "\n",
       "   serious_crime_rate  serious_housing_code_violations  \\\n",
       "0                11.8                             78.2   \n",
       "1                12.4                             84.7   \n",
       "2                90.3                              8.6   \n",
       "3                 8.4                             31.6   \n",
       "4                 7.5                             19.2   \n",
       "\n",
       "                     geometry  \n",
       "0  POINT (40.84823 -73.85597)  \n",
       "1  POINT (40.66265 -73.96208)  \n",
       "2  POINT (40.76733 -73.98431)  \n",
       "3  POINT (40.57992 -73.98209)  \n",
       "4  POINT (40.76397 -73.88097)  \n",
       "\n",
       "[5 rows x 24 columns]"
      ]
     },
     "execution_count": 78,
     "metadata": {},
     "output_type": "execute_result"
    }
   ],
   "source": [
    "data4sql_gdf.head()"
   ]
  },
  {
   "cell_type": "code",
   "execution_count": null,
   "metadata": {},
   "outputs": [],
   "source": [
    "from geoalchemy2 import Geometry\n",
    "data4sql_gdf.to_sql('dataforapp', engine, if_exists='replace',index=False, dtype={'geometry': Geometry('POINT')})"
   ]
  },
  {
   "cell_type": "code",
   "execution_count": 18,
   "metadata": {},
   "outputs": [],
   "source": [
    "data4sql.to_sql('dataforapp', engine, if_exists='replace',index=False)"
   ]
  },
  {
   "cell_type": "code",
   "execution_count": 19,
   "metadata": {},
   "outputs": [],
   "source": [
    "# Connect to make queries using psycopg2\n",
    "con = None\n",
    "con = psycopg2.connect(database = dbname, user = username)"
   ]
  },
  {
   "cell_type": "code",
   "execution_count": 37,
   "metadata": {},
   "outputs": [],
   "source": [
    "#rest_name = 'starbucks'\n",
    "#zip_code = int('10001')\n",
    "Dist = '3'\n",
    "location = (40.7601888, -73.98435270226332)\n",
    "cuisine = 'Asian'"
   ]
  },
  {
   "cell_type": "code",
   "execution_count": 38,
   "metadata": {},
   "outputs": [],
   "source": [
    "query = \"SELECT latitude, longitude, dba,boro, last_insp_type, last_insp_num_flags,ny311_complaints,zipcode, cuisine_description,num_years_active, cuisine, avg_num_critical_flags_per_year, population,population_density, serious_housing_code_violations  FROM dataforapp WHERE cuisine_reduced= '%s' \" %(cuisine) \n",
    "query_results=pd.read_sql_query(query,con)\n"
   ]
  },
  {
   "cell_type": "code",
   "execution_count": 39,
   "metadata": {},
   "outputs": [
    {
     "data": {
      "text/plain": [
       "Index(['latitude', 'longitude', 'dba', 'boro', 'last_insp_type',\n",
       "       'last_insp_num_flags', 'ny311_complaints', 'zipcode',\n",
       "       'cuisine_description', 'num_years_active', 'cuisine',\n",
       "       'avg_num_critical_flags_per_year', 'population', 'population_density',\n",
       "       'serious_housing_code_violations'],\n",
       "      dtype='object')"
      ]
     },
     "execution_count": 39,
     "metadata": {},
     "output_type": "execute_result"
    }
   ],
   "source": [
    "query_results.columns"
   ]
  },
  {
   "cell_type": "code",
   "execution_count": 40,
   "metadata": {},
   "outputs": [],
   "source": [
    "import geopandas as gpd\n",
    "from shapely.ops import nearest_points\n",
    "from shapely.geometry import Point, MultiPoint\n",
    "import shapely as sh\n",
    "from geopy.distance import geodesic\n",
    "origin = Point(location)"
   ]
  },
  {
   "cell_type": "code",
   "execution_count": 41,
   "metadata": {},
   "outputs": [],
   "source": [
    "def get_miles(row, location):\n",
    "    loc1 = (row['latitude'], row['longitude'])\n",
    "    return geodesic(loc1, location).miles"
   ]
  },
  {
   "cell_type": "code",
   "execution_count": 42,
   "metadata": {},
   "outputs": [
    {
     "data": {
      "application/vnd.jupyter.widget-view+json": {
       "model_id": "798c66d98ac748768cf6c6c25c513325",
       "version_major": 2,
       "version_minor": 0
      },
      "text/plain": [
       "HBox(children=(FloatProgress(value=0.0, description='Pandas Apply', max=4422.0, style=ProgressStyle(descriptio…"
      ]
     },
     "metadata": {},
     "output_type": "display_data"
    },
    {
     "name": "stdout",
     "output_type": "stream",
     "text": [
      "\n"
     ]
    }
   ],
   "source": [
    "query_results['distance'] = query_results.swifter.apply(lambda row: get_miles(row,location),axis=1)\n"
   ]
  },
  {
   "cell_type": "code",
   "execution_count": 43,
   "metadata": {},
   "outputs": [],
   "source": [
    "Dist=3\n",
    "data = query_results[query_results['distance']< Dist]\n",
    "data = data.sort_values('distance')"
   ]
  },
  {
   "cell_type": "code",
   "execution_count": 194,
   "metadata": {},
   "outputs": [
    {
     "data": {
      "application/vnd.jupyter.widget-view+json": {
       "model_id": "405e1941175440bbac72ed67fe0e8c08",
       "version_major": 2,
       "version_minor": 0
      },
      "text/plain": [
       "HBox(children=(FloatProgress(value=0.0, description='Pandas Apply', max=1321.0, style=ProgressStyle(descriptio…"
      ]
     },
     "metadata": {},
     "output_type": "display_data"
    },
    {
     "name": "stdout",
     "output_type": "stream",
     "text": [
      "\n"
     ]
    }
   ],
   "source": [
    "#data4model['insp_date_diff2']= data4model['insp_date_diff'].astype(str)\n",
    "data['insp_date_diff2'] = (data['insp_date_diff'].astype(str)).swifter.apply(lambda x: x.split('d')[0])"
   ]
  },
  {
   "cell_type": "code",
   "execution_count": 44,
   "metadata": {},
   "outputs": [],
   "source": [
    " data4model = data[['avg_num_critical_flags_per_year', 'ny311_complaints',\n",
    "       'last_insp_type', 'last_insp_num_flags',\n",
    "       'boro', 'num_years_active', 'cuisine', \n",
    "       'population', 'population_density','serious_housing_code_violations']]"
   ]
  },
  {
   "cell_type": "code",
   "execution_count": 45,
   "metadata": {},
   "outputs": [
    {
     "name": "stdout",
     "output_type": "stream",
     "text": [
      "/Users/rabarry/Documents/Insight/NYC data/SafeEats/SafeEats_flask\n"
     ]
    }
   ],
   "source": [
    "cd '/Users/rabarry/Documents/Insight/NYC data/SafeEats/SafeEats_flask'"
   ]
  },
  {
   "cell_type": "code",
   "execution_count": 46,
   "metadata": {},
   "outputs": [
    {
     "name": "stdout",
     "output_type": "stream",
     "text": [
      "[1166]\n"
     ]
    }
   ],
   "source": [
    "import joblib\n",
    "model_from_pickle = joblib.load('final_model.pkl')\n",
    "results = model_from_pickle.predict(data4model)\n",
    "unique_elements, count_elements = np.unique(results, return_counts=True)\n",
    "print(np.asarray(count_elements))"
   ]
  },
  {
   "cell_type": "code",
   "execution_count": 47,
   "metadata": {},
   "outputs": [],
   "source": [
    "data['result'] = results.tolist()"
   ]
  },
  {
   "cell_type": "code",
   "execution_count": 48,
   "metadata": {},
   "outputs": [
    {
     "data": {
      "text/plain": [
       "1166"
      ]
     },
     "execution_count": 48,
     "metadata": {},
     "output_type": "execute_result"
    }
   ],
   "source": [
    "data = data[data['result']==1]\n",
    "len(data)"
   ]
  },
  {
   "cell_type": "code",
   "execution_count": 212,
   "metadata": {},
   "outputs": [
    {
     "data": {
      "text/html": [
       "<div>\n",
       "<style scoped>\n",
       "    .dataframe tbody tr th:only-of-type {\n",
       "        vertical-align: middle;\n",
       "    }\n",
       "\n",
       "    .dataframe tbody tr th {\n",
       "        vertical-align: top;\n",
       "    }\n",
       "\n",
       "    .dataframe thead th {\n",
       "        text-align: right;\n",
       "    }\n",
       "</style>\n",
       "<table border=\"1\" class=\"dataframe\">\n",
       "  <thead>\n",
       "    <tr style=\"text-align: right;\">\n",
       "      <th></th>\n",
       "      <th>latitude</th>\n",
       "      <th>longitude</th>\n",
       "      <th>dba</th>\n",
       "      <th>boro</th>\n",
       "      <th>last_insp_type</th>\n",
       "      <th>last_insp_num_flags</th>\n",
       "      <th>ny311_complaints</th>\n",
       "      <th>zipcode</th>\n",
       "      <th>cuisine_description</th>\n",
       "      <th>num_years_active</th>\n",
       "      <th>...</th>\n",
       "      <th>population_density</th>\n",
       "      <th>poverty_rate</th>\n",
       "      <th>public_housing</th>\n",
       "      <th>racial_diversity_index</th>\n",
       "      <th>serious_crime_rate</th>\n",
       "      <th>serious_housing_code_violations</th>\n",
       "      <th>insp_date_diff</th>\n",
       "      <th>distance</th>\n",
       "      <th>insp_date_diff2</th>\n",
       "      <th>result</th>\n",
       "    </tr>\n",
       "  </thead>\n",
       "  <tbody>\n",
       "    <tr>\n",
       "      <th>3830</th>\n",
       "      <td>40.73661</td>\n",
       "      <td>-73.99068</td>\n",
       "      <td>MACARON PARLOUR</td>\n",
       "      <td>2</td>\n",
       "      <td>0</td>\n",
       "      <td>1</td>\n",
       "      <td>0.0</td>\n",
       "      <td>10003</td>\n",
       "      <td>Nuts/Confectionary</td>\n",
       "      <td>0</td>\n",
       "      <td>...</td>\n",
       "      <td>92.0</td>\n",
       "      <td>27.3</td>\n",
       "      <td>24.0</td>\n",
       "      <td>0.71</td>\n",
       "      <td>14.3</td>\n",
       "      <td>38.0</td>\n",
       "      <td>49 days 19:48:51.112485</td>\n",
       "      <td>1.660536</td>\n",
       "      <td>49</td>\n",
       "      <td>1</td>\n",
       "    </tr>\n",
       "    <tr>\n",
       "      <th>3779</th>\n",
       "      <td>40.73661</td>\n",
       "      <td>-73.99068</td>\n",
       "      <td>WAFELS &amp; DINGES</td>\n",
       "      <td>2</td>\n",
       "      <td>0</td>\n",
       "      <td>1</td>\n",
       "      <td>0.0</td>\n",
       "      <td>10003</td>\n",
       "      <td>Pancakes/Waffles</td>\n",
       "      <td>0</td>\n",
       "      <td>...</td>\n",
       "      <td>92.0</td>\n",
       "      <td>27.3</td>\n",
       "      <td>24.0</td>\n",
       "      <td>0.71</td>\n",
       "      <td>14.3</td>\n",
       "      <td>38.0</td>\n",
       "      <td>43 days 19:48:51.112485</td>\n",
       "      <td>1.660536</td>\n",
       "      <td>43</td>\n",
       "      <td>1</td>\n",
       "    </tr>\n",
       "    <tr>\n",
       "      <th>3782</th>\n",
       "      <td>40.73661</td>\n",
       "      <td>-73.99068</td>\n",
       "      <td>NO CHEWING ALLOWED!</td>\n",
       "      <td>2</td>\n",
       "      <td>0</td>\n",
       "      <td>0</td>\n",
       "      <td>0.0</td>\n",
       "      <td>10003</td>\n",
       "      <td>Nuts/Confectionary</td>\n",
       "      <td>0</td>\n",
       "      <td>...</td>\n",
       "      <td>92.0</td>\n",
       "      <td>27.3</td>\n",
       "      <td>24.0</td>\n",
       "      <td>0.71</td>\n",
       "      <td>14.3</td>\n",
       "      <td>38.0</td>\n",
       "      <td>49 days 19:48:51.112485</td>\n",
       "      <td>1.660536</td>\n",
       "      <td>49</td>\n",
       "      <td>1</td>\n",
       "    </tr>\n",
       "    <tr>\n",
       "      <th>3823</th>\n",
       "      <td>40.73661</td>\n",
       "      <td>-73.99068</td>\n",
       "      <td>THE FLO KISS</td>\n",
       "      <td>2</td>\n",
       "      <td>0</td>\n",
       "      <td>1</td>\n",
       "      <td>0.0</td>\n",
       "      <td>10003</td>\n",
       "      <td>Nuts/Confectionary</td>\n",
       "      <td>0</td>\n",
       "      <td>...</td>\n",
       "      <td>92.0</td>\n",
       "      <td>27.3</td>\n",
       "      <td>24.0</td>\n",
       "      <td>0.71</td>\n",
       "      <td>14.3</td>\n",
       "      <td>38.0</td>\n",
       "      <td>49 days 19:48:51.112485</td>\n",
       "      <td>1.660536</td>\n",
       "      <td>49</td>\n",
       "      <td>1</td>\n",
       "    </tr>\n",
       "    <tr>\n",
       "      <th>3764</th>\n",
       "      <td>40.73661</td>\n",
       "      <td>-73.99068</td>\n",
       "      <td>UNITED CHOCOLATE WORKS</td>\n",
       "      <td>2</td>\n",
       "      <td>0</td>\n",
       "      <td>0</td>\n",
       "      <td>0.0</td>\n",
       "      <td>10003</td>\n",
       "      <td>Nuts/Confectionary</td>\n",
       "      <td>0</td>\n",
       "      <td>...</td>\n",
       "      <td>92.0</td>\n",
       "      <td>27.3</td>\n",
       "      <td>24.0</td>\n",
       "      <td>0.71</td>\n",
       "      <td>14.3</td>\n",
       "      <td>38.0</td>\n",
       "      <td>49 days 19:48:51.112485</td>\n",
       "      <td>1.660536</td>\n",
       "      <td>49</td>\n",
       "      <td>1</td>\n",
       "    </tr>\n",
       "  </tbody>\n",
       "</table>\n",
       "<p>5 rows × 24 columns</p>\n",
       "</div>"
      ],
      "text/plain": [
       "      latitude  longitude                     dba  boro  last_insp_type  \\\n",
       "3830  40.73661  -73.99068         MACARON PARLOUR     2               0   \n",
       "3779  40.73661  -73.99068         WAFELS & DINGES     2               0   \n",
       "3782  40.73661  -73.99068     NO CHEWING ALLOWED!     2               0   \n",
       "3823  40.73661  -73.99068            THE FLO KISS     2               0   \n",
       "3764  40.73661  -73.99068  UNITED CHOCOLATE WORKS     2               0   \n",
       "\n",
       "     last_insp_num_flags ny311_complaints  zipcode cuisine_description  \\\n",
       "3830                   1              0.0    10003  Nuts/Confectionary   \n",
       "3779                   1              0.0    10003    Pancakes/Waffles   \n",
       "3782                   0              0.0    10003  Nuts/Confectionary   \n",
       "3823                   1              0.0    10003  Nuts/Confectionary   \n",
       "3764                   0              0.0    10003  Nuts/Confectionary   \n",
       "\n",
       "     num_years_active  ...  population_density  poverty_rate  public_housing  \\\n",
       "3830                0  ...                92.0          27.3            24.0   \n",
       "3779                0  ...                92.0          27.3            24.0   \n",
       "3782                0  ...                92.0          27.3            24.0   \n",
       "3823                0  ...                92.0          27.3            24.0   \n",
       "3764                0  ...                92.0          27.3            24.0   \n",
       "\n",
       "      racial_diversity_index  serious_crime_rate  \\\n",
       "3830                    0.71                14.3   \n",
       "3779                    0.71                14.3   \n",
       "3782                    0.71                14.3   \n",
       "3823                    0.71                14.3   \n",
       "3764                    0.71                14.3   \n",
       "\n",
       "      serious_housing_code_violations          insp_date_diff  distance  \\\n",
       "3830                             38.0 49 days 19:48:51.112485  1.660536   \n",
       "3779                             38.0 43 days 19:48:51.112485  1.660536   \n",
       "3782                             38.0 49 days 19:48:51.112485  1.660536   \n",
       "3823                             38.0 49 days 19:48:51.112485  1.660536   \n",
       "3764                             38.0 49 days 19:48:51.112485  1.660536   \n",
       "\n",
       "      insp_date_diff2  result  \n",
       "3830              49        1  \n",
       "3779              43        1  \n",
       "3782              49        1  \n",
       "3823              49        1  \n",
       "3764              49        1  \n",
       "\n",
       "[5 rows x 24 columns]"
      ]
     },
     "execution_count": 212,
     "metadata": {},
     "output_type": "execute_result"
    }
   ],
   "source": [
    "data['zipcode'] = data['zipcode'].astype(int)\n",
    "data.head()"
   ]
  },
  {
   "cell_type": "code",
   "execution_count": 206,
   "metadata": {},
   "outputs": [],
   "source": [
    "top3 = {'place1name': data['dba'].iloc[0],\n",
    "'place1zip': data['zipcode'].iloc[0],\n",
    "'place2name': data['dba'].iloc[1],\n",
    "'place2zip': data['zipcode'].iloc[1],\n",
    "'place3name': data['dba'].iloc[2],\n",
    "'place3zip': data['zipcode'].iloc[2]}"
   ]
  },
  {
   "cell_type": "code",
   "execution_count": 215,
   "metadata": {},
   "outputs": [
    {
     "data": {
      "text/html": [
       "<div>\n",
       "<style scoped>\n",
       "    .dataframe tbody tr th:only-of-type {\n",
       "        vertical-align: middle;\n",
       "    }\n",
       "\n",
       "    .dataframe tbody tr th {\n",
       "        vertical-align: top;\n",
       "    }\n",
       "\n",
       "    .dataframe thead th {\n",
       "        text-align: right;\n",
       "    }\n",
       "</style>\n",
       "<table border=\"1\" class=\"dataframe\">\n",
       "  <thead>\n",
       "    <tr style=\"text-align: right;\">\n",
       "      <th></th>\n",
       "      <th>dba</th>\n",
       "      <th>zipcode</th>\n",
       "    </tr>\n",
       "  </thead>\n",
       "  <tbody>\n",
       "    <tr>\n",
       "      <th>3830</th>\n",
       "      <td>MACARON PARLOUR</td>\n",
       "      <td>10003</td>\n",
       "    </tr>\n",
       "    <tr>\n",
       "      <th>3779</th>\n",
       "      <td>WAFELS &amp; DINGES</td>\n",
       "      <td>10003</td>\n",
       "    </tr>\n",
       "    <tr>\n",
       "      <th>3782</th>\n",
       "      <td>NO CHEWING ALLOWED!</td>\n",
       "      <td>10003</td>\n",
       "    </tr>\n",
       "  </tbody>\n",
       "</table>\n",
       "</div>"
      ],
      "text/plain": [
       "                      dba  zipcode\n",
       "3830      MACARON PARLOUR    10003\n",
       "3779      WAFELS & DINGES    10003\n",
       "3782  NO CHEWING ALLOWED!    10003"
      ]
     },
     "execution_count": 215,
     "metadata": {},
     "output_type": "execute_result"
    }
   ],
   "source": [
    "top3_2 = data[['dba', 'zipcode']][0:3]\n",
    "top3_2"
   ]
  },
  {
   "cell_type": "code",
   "execution_count": 208,
   "metadata": {},
   "outputs": [
    {
     "name": "stdout",
     "output_type": "stream",
     "text": [
      "{'place1name': 'MACARON PARLOUR', 'place1lat': 40.73661, 'place1long': -73.99068, 'place2name': 'WAFELS & DINGES', 'place2lat': 40.73661, 'place2long': -73.99068, 'place3name': 'NO CHEWING ALLOWED!', 'place3lat': 40.73661, 'place3long': -73.99068}\n"
     ]
    }
   ],
   "source": [
    "print(top3)"
   ]
  },
  {
   "cell_type": "markdown",
   "metadata": {},
   "source": [
    "# Health Inspection Data"
   ]
  },
  {
   "cell_type": "code",
   "execution_count": 4,
   "metadata": {},
   "outputs": [
    {
     "name": "stdout",
     "output_type": "stream",
     "text": [
      "/Users/rabarry/Documents/Insight/NYC data/SafeEats/data/raw data\n"
     ]
    }
   ],
   "source": [
    "cd 'raw data'"
   ]
  },
  {
   "cell_type": "code",
   "execution_count": 7,
   "metadata": {},
   "outputs": [],
   "source": [
    "HD = pd.read_csv('DOHMH_New_York_City_Restaurant_Inspection_Results.csv')"
   ]
  },
  {
   "cell_type": "code",
   "execution_count": 12,
   "metadata": {},
   "outputs": [
    {
     "name": "stdout",
     "output_type": "stream",
     "text": [
      "postgres://postgres@localhost:5430/Health_Inspection\n"
     ]
    }
   ],
   "source": [
    "# Set your postgres username\n",
    "dbname = 'Health_Inspection'\n",
    "username = 'postgres' # change this to your username\n",
    "engine = create_engine('postgres://%s@localhost:5430/%s'%(username,dbname))\n",
    "print(engine.url)"
   ]
  },
  {
   "cell_type": "code",
   "execution_count": 14,
   "metadata": {},
   "outputs": [
    {
     "name": "stdout",
     "output_type": "stream",
     "text": [
      "True\n"
     ]
    }
   ],
   "source": [
    "if not database_exists(engine.url):\n",
    "    create_database(engine.url)\n",
    "print(database_exists(engine.url))"
   ]
  },
  {
   "cell_type": "code",
   "execution_count": 16,
   "metadata": {},
   "outputs": [],
   "source": [
    "#HD.to_sql('hd_data', engine, if_exists='replace',index=False)"
   ]
  },
  {
   "cell_type": "code",
   "execution_count": 18,
   "metadata": {},
   "outputs": [],
   "source": [
    "# Connect to make queries using psycopg2\n",
    "con = None\n",
    "con = psycopg2.connect(database = dbname, user = username, port = 5430)"
   ]
  },
  {
   "cell_type": "code",
   "execution_count": null,
   "metadata": {},
   "outputs": [],
   "source": [
    "mask = HD['INSPECTION TYPE'].str.contains(r'Initial', na= True)\n",
    "HD.loc[mask,'inspection_type_recode']= 'Initial'\n",
    "mask2 = HD['INSPECTION TYPE'].str.contains(r'Re-inspection', na= True)\n",
    "HD.loc[mask2,'inspection_type_recode']= 'Re-inspection'\n",
    "mask3 = HD['INSPECTION TYPE'].str.contains(r'Compliance', na= True)\n",
    "HD.loc[mask3,'inspection_type_recode']= 'Initial'\n",
    "mask4 = HD['INSPECTION TYPE'].str.contains(r'Reopening', na= True)\n",
    "HD.loc[mask4,'inspection_type_recode']= 'Initial'\n",
    "mask5 = HD['INSPECTION TYPE'].str.contains(r'Limited', na= True)\n",
    "HD.loc[mask5,'inspection_type_recode']= 'Initial'"
   ]
  },
  {
   "cell_type": "code",
   "execution_count": null,
   "metadata": {},
   "outputs": [],
   "source": [
    "# query:\n",
    "sql_query = \"\"\"\n",
    "ALTER TABLE hd_data\n",
    "ADD COLUMN flag_recode INT,\n",
    "ADD COLUMN inspection_type_recode VARCHAR;\n",
    "\"\"\"\n",
    "\n",
    "with engine.begin() as conn:\n",
    "    conn.execute(sql_query)"
   ]
  },
  {
   "cell_type": "code",
   "execution_count": 39,
   "metadata": {},
   "outputs": [
    {
     "ename": "DatabaseError",
     "evalue": "Execution failed on sql '\nUPDATE hd_data\nSET flag_recode = CASE WHEN \"CRITICAL FLAG\"= 'Y' THEN 1 ELSE 0 END,\nSET inspection_type_recode = CASE WHEN \"INSPECTION TYPE\" ILIKE '%initial%' OR \"INSPECTION TYPE\" ILIKE '%compliance%' OR \"INSPECTION TYPE\" ILIKE '%reopening%' OR \"INSPECTION TYPE\" ILIKE '%limited%' THEN 'Initial' WHEN \"INSPECTION TYPE\" ILIKE '%re-inspection%' THEN 'Re-inspection' END;\n': syntax error at or near \"inspection_type_recode\"\nLINE 4: SET inspection_type_recode = CASE WHEN \"INSPECTION TYPE\" ILI...\n            ^\n",
     "output_type": "error",
     "traceback": [
      "\u001b[0;31m---------------------------------------------------------------------------\u001b[0m",
      "\u001b[0;31mSyntaxError\u001b[0m                               Traceback (most recent call last)",
      "\u001b[0;32m/anaconda3/envs/insight/lib/python3.6/site-packages/pandas/io/sql.py\u001b[0m in \u001b[0;36mexecute\u001b[0;34m(self, *args, **kwargs)\u001b[0m\n\u001b[1;32m   1594\u001b[0m             \u001b[0;32melse\u001b[0m\u001b[0;34m:\u001b[0m\u001b[0;34m\u001b[0m\u001b[0;34m\u001b[0m\u001b[0m\n\u001b[0;32m-> 1595\u001b[0;31m                 \u001b[0mcur\u001b[0m\u001b[0;34m.\u001b[0m\u001b[0mexecute\u001b[0m\u001b[0;34m(\u001b[0m\u001b[0;34m*\u001b[0m\u001b[0margs\u001b[0m\u001b[0;34m)\u001b[0m\u001b[0;34m\u001b[0m\u001b[0;34m\u001b[0m\u001b[0m\n\u001b[0m\u001b[1;32m   1596\u001b[0m             \u001b[0;32mreturn\u001b[0m \u001b[0mcur\u001b[0m\u001b[0;34m\u001b[0m\u001b[0;34m\u001b[0m\u001b[0m\n",
      "\u001b[0;31mSyntaxError\u001b[0m: syntax error at or near \"inspection_type_recode\"\nLINE 4: SET inspection_type_recode = CASE WHEN \"INSPECTION TYPE\" ILI...\n            ^\n",
      "\nDuring handling of the above exception, another exception occurred:\n",
      "\u001b[0;31mDatabaseError\u001b[0m                             Traceback (most recent call last)",
      "\u001b[0;32m<ipython-input-39-f20398ce80ea>\u001b[0m in \u001b[0;36m<module>\u001b[0;34m\u001b[0m\n\u001b[1;32m      5\u001b[0m \u001b[0mSET\u001b[0m \u001b[0minspection_type_recode\u001b[0m \u001b[0;34m=\u001b[0m \u001b[0mCASE\u001b[0m \u001b[0mWHEN\u001b[0m\u001b[0;31m \u001b[0m\u001b[0;31m\\\u001b[0m\u001b[0;31m\"\u001b[0m\u001b[0mINSPECTION\u001b[0m \u001b[0mTYPE\u001b[0m\u001b[0;31m\\\u001b[0m\u001b[0;31m\"\u001b[0m \u001b[0mILIKE\u001b[0m \u001b[0;34m'%initial%'\u001b[0m \u001b[0mOR\u001b[0m\u001b[0;31m \u001b[0m\u001b[0;31m\\\u001b[0m\u001b[0;31m\"\u001b[0m\u001b[0mINSPECTION\u001b[0m \u001b[0mTYPE\u001b[0m\u001b[0;31m\\\u001b[0m\u001b[0;31m\"\u001b[0m \u001b[0mILIKE\u001b[0m \u001b[0;34m'%compliance%'\u001b[0m \u001b[0mOR\u001b[0m\u001b[0;31m \u001b[0m\u001b[0;31m\\\u001b[0m\u001b[0;31m\"\u001b[0m\u001b[0mINSPECTION\u001b[0m \u001b[0mTYPE\u001b[0m\u001b[0;31m\\\u001b[0m\u001b[0;31m\"\u001b[0m \u001b[0mILIKE\u001b[0m \u001b[0;34m'%reopening%'\u001b[0m \u001b[0mOR\u001b[0m\u001b[0;31m \u001b[0m\u001b[0;31m\\\u001b[0m\u001b[0;31m\"\u001b[0m\u001b[0mINSPECTION\u001b[0m \u001b[0mTYPE\u001b[0m\u001b[0;31m\\\u001b[0m\u001b[0;31m\"\u001b[0m \u001b[0mILIKE\u001b[0m \u001b[0;34m'%limited%'\u001b[0m \u001b[0mTHEN\u001b[0m \u001b[0;34m'Initial'\u001b[0m \u001b[0mWHEN\u001b[0m\u001b[0;31m \u001b[0m\u001b[0;31m\\\u001b[0m\u001b[0;31m\"\u001b[0m\u001b[0mINSPECTION\u001b[0m \u001b[0mTYPE\u001b[0m\u001b[0;31m\\\u001b[0m\u001b[0;31m\"\u001b[0m \u001b[0mILIKE\u001b[0m \u001b[0;34m'%re-inspection%'\u001b[0m \u001b[0mTHEN\u001b[0m \u001b[0;34m'Re-inspection'\u001b[0m \u001b[0mEND\u001b[0m\u001b[0;34m;\u001b[0m\u001b[0;34m\u001b[0m\u001b[0;34m\u001b[0m\u001b[0m\n\u001b[1;32m      6\u001b[0m \"\"\"\n\u001b[0;32m----> 7\u001b[0;31m \u001b[0mhealth_data_from_sql\u001b[0m \u001b[0;34m=\u001b[0m \u001b[0mpd\u001b[0m\u001b[0;34m.\u001b[0m\u001b[0mread_sql_query\u001b[0m\u001b[0;34m(\u001b[0m\u001b[0msql_query\u001b[0m\u001b[0;34m,\u001b[0m\u001b[0mcon\u001b[0m\u001b[0;34m)\u001b[0m\u001b[0;34m\u001b[0m\u001b[0;34m\u001b[0m\u001b[0m\n\u001b[0m\u001b[1;32m      8\u001b[0m \u001b[0mhealth_data_from_sql\u001b[0m\u001b[0;34m.\u001b[0m\u001b[0mhead\u001b[0m\u001b[0;34m(\u001b[0m\u001b[0;34m)\u001b[0m\u001b[0;34m\u001b[0m\u001b[0;34m\u001b[0m\u001b[0m\n",
      "\u001b[0;32m/anaconda3/envs/insight/lib/python3.6/site-packages/pandas/io/sql.py\u001b[0m in \u001b[0;36mread_sql_query\u001b[0;34m(sql, con, index_col, coerce_float, params, parse_dates, chunksize)\u001b[0m\n\u001b[1;32m    330\u001b[0m         \u001b[0mcoerce_float\u001b[0m\u001b[0;34m=\u001b[0m\u001b[0mcoerce_float\u001b[0m\u001b[0;34m,\u001b[0m\u001b[0;34m\u001b[0m\u001b[0;34m\u001b[0m\u001b[0m\n\u001b[1;32m    331\u001b[0m         \u001b[0mparse_dates\u001b[0m\u001b[0;34m=\u001b[0m\u001b[0mparse_dates\u001b[0m\u001b[0;34m,\u001b[0m\u001b[0;34m\u001b[0m\u001b[0;34m\u001b[0m\u001b[0m\n\u001b[0;32m--> 332\u001b[0;31m         \u001b[0mchunksize\u001b[0m\u001b[0;34m=\u001b[0m\u001b[0mchunksize\u001b[0m\u001b[0;34m,\u001b[0m\u001b[0;34m\u001b[0m\u001b[0;34m\u001b[0m\u001b[0m\n\u001b[0m\u001b[1;32m    333\u001b[0m     )\n\u001b[1;32m    334\u001b[0m \u001b[0;34m\u001b[0m\u001b[0m\n",
      "\u001b[0;32m/anaconda3/envs/insight/lib/python3.6/site-packages/pandas/io/sql.py\u001b[0m in \u001b[0;36mread_query\u001b[0;34m(self, sql, index_col, coerce_float, params, parse_dates, chunksize)\u001b[0m\n\u001b[1;32m   1643\u001b[0m \u001b[0;34m\u001b[0m\u001b[0m\n\u001b[1;32m   1644\u001b[0m         \u001b[0margs\u001b[0m \u001b[0;34m=\u001b[0m \u001b[0m_convert_params\u001b[0m\u001b[0;34m(\u001b[0m\u001b[0msql\u001b[0m\u001b[0;34m,\u001b[0m \u001b[0mparams\u001b[0m\u001b[0;34m)\u001b[0m\u001b[0;34m\u001b[0m\u001b[0;34m\u001b[0m\u001b[0m\n\u001b[0;32m-> 1645\u001b[0;31m         \u001b[0mcursor\u001b[0m \u001b[0;34m=\u001b[0m \u001b[0mself\u001b[0m\u001b[0;34m.\u001b[0m\u001b[0mexecute\u001b[0m\u001b[0;34m(\u001b[0m\u001b[0;34m*\u001b[0m\u001b[0margs\u001b[0m\u001b[0;34m)\u001b[0m\u001b[0;34m\u001b[0m\u001b[0;34m\u001b[0m\u001b[0m\n\u001b[0m\u001b[1;32m   1646\u001b[0m         \u001b[0mcolumns\u001b[0m \u001b[0;34m=\u001b[0m \u001b[0;34m[\u001b[0m\u001b[0mcol_desc\u001b[0m\u001b[0;34m[\u001b[0m\u001b[0;36m0\u001b[0m\u001b[0;34m]\u001b[0m \u001b[0;32mfor\u001b[0m \u001b[0mcol_desc\u001b[0m \u001b[0;32min\u001b[0m \u001b[0mcursor\u001b[0m\u001b[0;34m.\u001b[0m\u001b[0mdescription\u001b[0m\u001b[0;34m]\u001b[0m\u001b[0;34m\u001b[0m\u001b[0;34m\u001b[0m\u001b[0m\n\u001b[1;32m   1647\u001b[0m \u001b[0;34m\u001b[0m\u001b[0m\n",
      "\u001b[0;32m/anaconda3/envs/insight/lib/python3.6/site-packages/pandas/io/sql.py\u001b[0m in \u001b[0;36mexecute\u001b[0;34m(self, *args, **kwargs)\u001b[0m\n\u001b[1;32m   1608\u001b[0m                 \u001b[0;34m\"Execution failed on sql '{sql}': {exc}\"\u001b[0m\u001b[0;34m.\u001b[0m\u001b[0mformat\u001b[0m\u001b[0;34m(\u001b[0m\u001b[0msql\u001b[0m\u001b[0;34m=\u001b[0m\u001b[0margs\u001b[0m\u001b[0;34m[\u001b[0m\u001b[0;36m0\u001b[0m\u001b[0;34m]\u001b[0m\u001b[0;34m,\u001b[0m \u001b[0mexc\u001b[0m\u001b[0;34m=\u001b[0m\u001b[0mexc\u001b[0m\u001b[0;34m)\u001b[0m\u001b[0;34m\u001b[0m\u001b[0;34m\u001b[0m\u001b[0m\n\u001b[1;32m   1609\u001b[0m             )\n\u001b[0;32m-> 1610\u001b[0;31m             \u001b[0mraise_with_traceback\u001b[0m\u001b[0;34m(\u001b[0m\u001b[0mex\u001b[0m\u001b[0;34m)\u001b[0m\u001b[0;34m\u001b[0m\u001b[0;34m\u001b[0m\u001b[0m\n\u001b[0m\u001b[1;32m   1611\u001b[0m \u001b[0;34m\u001b[0m\u001b[0m\n\u001b[1;32m   1612\u001b[0m     \u001b[0;34m@\u001b[0m\u001b[0mstaticmethod\u001b[0m\u001b[0;34m\u001b[0m\u001b[0;34m\u001b[0m\u001b[0m\n",
      "\u001b[0;32m/anaconda3/envs/insight/lib/python3.6/site-packages/pandas/compat/__init__.py\u001b[0m in \u001b[0;36mraise_with_traceback\u001b[0;34m(exc, traceback)\u001b[0m\n\u001b[1;32m     45\u001b[0m     \u001b[0;32mif\u001b[0m \u001b[0mtraceback\u001b[0m \u001b[0;34m==\u001b[0m \u001b[0mEllipsis\u001b[0m\u001b[0;34m:\u001b[0m\u001b[0;34m\u001b[0m\u001b[0;34m\u001b[0m\u001b[0m\n\u001b[1;32m     46\u001b[0m         \u001b[0m_\u001b[0m\u001b[0;34m,\u001b[0m \u001b[0m_\u001b[0m\u001b[0;34m,\u001b[0m \u001b[0mtraceback\u001b[0m \u001b[0;34m=\u001b[0m \u001b[0msys\u001b[0m\u001b[0;34m.\u001b[0m\u001b[0mexc_info\u001b[0m\u001b[0;34m(\u001b[0m\u001b[0;34m)\u001b[0m\u001b[0;34m\u001b[0m\u001b[0;34m\u001b[0m\u001b[0m\n\u001b[0;32m---> 47\u001b[0;31m     \u001b[0;32mraise\u001b[0m \u001b[0mexc\u001b[0m\u001b[0;34m.\u001b[0m\u001b[0mwith_traceback\u001b[0m\u001b[0;34m(\u001b[0m\u001b[0mtraceback\u001b[0m\u001b[0;34m)\u001b[0m\u001b[0;34m\u001b[0m\u001b[0;34m\u001b[0m\u001b[0m\n\u001b[0m\u001b[1;32m     48\u001b[0m \u001b[0;34m\u001b[0m\u001b[0m\n\u001b[1;32m     49\u001b[0m \u001b[0;34m\u001b[0m\u001b[0m\n",
      "\u001b[0;32m/anaconda3/envs/insight/lib/python3.6/site-packages/pandas/io/sql.py\u001b[0m in \u001b[0;36mexecute\u001b[0;34m(self, *args, **kwargs)\u001b[0m\n\u001b[1;32m   1593\u001b[0m                 \u001b[0mcur\u001b[0m\u001b[0;34m.\u001b[0m\u001b[0mexecute\u001b[0m\u001b[0;34m(\u001b[0m\u001b[0;34m*\u001b[0m\u001b[0margs\u001b[0m\u001b[0;34m,\u001b[0m \u001b[0;34m**\u001b[0m\u001b[0mkwargs\u001b[0m\u001b[0;34m)\u001b[0m\u001b[0;34m\u001b[0m\u001b[0;34m\u001b[0m\u001b[0m\n\u001b[1;32m   1594\u001b[0m             \u001b[0;32melse\u001b[0m\u001b[0;34m:\u001b[0m\u001b[0;34m\u001b[0m\u001b[0;34m\u001b[0m\u001b[0m\n\u001b[0;32m-> 1595\u001b[0;31m                 \u001b[0mcur\u001b[0m\u001b[0;34m.\u001b[0m\u001b[0mexecute\u001b[0m\u001b[0;34m(\u001b[0m\u001b[0;34m*\u001b[0m\u001b[0margs\u001b[0m\u001b[0;34m)\u001b[0m\u001b[0;34m\u001b[0m\u001b[0;34m\u001b[0m\u001b[0m\n\u001b[0m\u001b[1;32m   1596\u001b[0m             \u001b[0;32mreturn\u001b[0m \u001b[0mcur\u001b[0m\u001b[0;34m\u001b[0m\u001b[0;34m\u001b[0m\u001b[0m\n\u001b[1;32m   1597\u001b[0m         \u001b[0;32mexcept\u001b[0m \u001b[0mException\u001b[0m \u001b[0;32mas\u001b[0m \u001b[0mexc\u001b[0m\u001b[0;34m:\u001b[0m\u001b[0;34m\u001b[0m\u001b[0;34m\u001b[0m\u001b[0m\n",
      "\u001b[0;31mDatabaseError\u001b[0m: Execution failed on sql '\nUPDATE hd_data\nSET flag_recode = CASE WHEN \"CRITICAL FLAG\"= 'Y' THEN 1 ELSE 0 END,\nSET inspection_type_recode = CASE WHEN \"INSPECTION TYPE\" ILIKE '%initial%' OR \"INSPECTION TYPE\" ILIKE '%compliance%' OR \"INSPECTION TYPE\" ILIKE '%reopening%' OR \"INSPECTION TYPE\" ILIKE '%limited%' THEN 'Initial' WHEN \"INSPECTION TYPE\" ILIKE '%re-inspection%' THEN 'Re-inspection' END;\n': syntax error at or near \"inspection_type_recode\"\nLINE 4: SET inspection_type_recode = CASE WHEN \"INSPECTION TYPE\" ILI...\n            ^\n"
     ]
    }
   ],
   "source": [
    "# query:\n",
    "sql_query = \"\"\"\n",
    "UPDATE hd_data\n",
    "SET flag_recode = CASE WHEN \\\"CRITICAL FLAG\\\"= 'Y' THEN 1 ELSE 0 END,\n",
    "SET inspection_type_recode = CASE WHEN \\\"INSPECTION TYPE\\\" ILIKE '%initial%' OR \\\"INSPECTION TYPE\\\" ILIKE '%compliance%' OR \\\"INSPECTION TYPE\\\" ILIKE '%reopening%' OR \\\"INSPECTION TYPE\\\" ILIKE '%limited%' THEN 'Initial' WHEN \\\"INSPECTION TYPE\\\" ILIKE '%re-inspection%' THEN 'Re-inspection' END;\n",
    "\"\"\"\n",
    "health_data_from_sql = pd.read_sql_query(sql_query,con)\n",
    "health_data_from_sql.head()"
   ]
  },
  {
   "cell_type": "code",
   "execution_count": 33,
   "metadata": {},
   "outputs": [
    {
     "data": {
      "text/html": [
       "<div>\n",
       "<style scoped>\n",
       "    .dataframe tbody tr th:only-of-type {\n",
       "        vertical-align: middle;\n",
       "    }\n",
       "\n",
       "    .dataframe tbody tr th {\n",
       "        vertical-align: top;\n",
       "    }\n",
       "\n",
       "    .dataframe thead th {\n",
       "        text-align: right;\n",
       "    }\n",
       "</style>\n",
       "<table border=\"1\" class=\"dataframe\">\n",
       "  <thead>\n",
       "    <tr style=\"text-align: right;\">\n",
       "      <th></th>\n",
       "      <th>CAMIS</th>\n",
       "      <th>DBA</th>\n",
       "      <th>BORO</th>\n",
       "      <th>CUISINE DESCRIPTION</th>\n",
       "      <th>INSPECTION DATE</th>\n",
       "      <th>flag_recode</th>\n",
       "      <th>inspection_type_recode</th>\n",
       "    </tr>\n",
       "  </thead>\n",
       "  <tbody>\n",
       "    <tr>\n",
       "      <th>0</th>\n",
       "      <td>40918579</td>\n",
       "      <td>PISTICCI RESTAURANT</td>\n",
       "      <td>Manhattan</td>\n",
       "      <td>Italian</td>\n",
       "      <td>11/13/2017</td>\n",
       "      <td>0</td>\n",
       "      <td>Initial</td>\n",
       "    </tr>\n",
       "    <tr>\n",
       "      <th>1</th>\n",
       "      <td>50002284</td>\n",
       "      <td>KINANM LOUNGE</td>\n",
       "      <td>Brooklyn</td>\n",
       "      <td>Caribbean</td>\n",
       "      <td>01/18/2018</td>\n",
       "      <td>0</td>\n",
       "      <td>Re-inspection</td>\n",
       "    </tr>\n",
       "    <tr>\n",
       "      <th>2</th>\n",
       "      <td>50048386</td>\n",
       "      <td>MAMMA LUCIANA'S</td>\n",
       "      <td>Queens</td>\n",
       "      <td>Pizza/Italian</td>\n",
       "      <td>11/29/2018</td>\n",
       "      <td>1</td>\n",
       "      <td>Re-inspection</td>\n",
       "    </tr>\n",
       "    <tr>\n",
       "      <th>3</th>\n",
       "      <td>41647630</td>\n",
       "      <td>KHAN LOUNGE</td>\n",
       "      <td>Queens</td>\n",
       "      <td>Café/Coffee/Tea</td>\n",
       "      <td>10/11/2018</td>\n",
       "      <td>1</td>\n",
       "      <td>Initial</td>\n",
       "    </tr>\n",
       "    <tr>\n",
       "      <th>4</th>\n",
       "      <td>40534893</td>\n",
       "      <td>THE GREAT BURRITO MEXICAN KITCHEN</td>\n",
       "      <td>Manhattan</td>\n",
       "      <td>Mexican</td>\n",
       "      <td>10/24/2016</td>\n",
       "      <td>1</td>\n",
       "      <td>Initial</td>\n",
       "    </tr>\n",
       "  </tbody>\n",
       "</table>\n",
       "</div>"
      ],
      "text/plain": [
       "      CAMIS                                DBA       BORO CUISINE DESCRIPTION  \\\n",
       "0  40918579                PISTICCI RESTAURANT  Manhattan             Italian   \n",
       "1  50002284                      KINANM LOUNGE   Brooklyn           Caribbean   \n",
       "2  50048386                    MAMMA LUCIANA'S     Queens       Pizza/Italian   \n",
       "3  41647630                        KHAN LOUNGE     Queens     Café/Coffee/Tea   \n",
       "4  40534893  THE GREAT BURRITO MEXICAN KITCHEN  Manhattan             Mexican   \n",
       "\n",
       "  INSPECTION DATE  flag_recode inspection_type_recode  \n",
       "0      11/13/2017            0                Initial  \n",
       "1      01/18/2018            0          Re-inspection  \n",
       "2      11/29/2018            1          Re-inspection  \n",
       "3      10/11/2018            1                Initial  \n",
       "4      10/24/2016            1                Initial  "
      ]
     },
     "execution_count": 33,
     "metadata": {},
     "output_type": "execute_result"
    }
   ],
   "source": [
    "# query:\n",
    "sql_query = \"\"\"\n",
    "SELECT \\\"CAMIS\\\", \\\"DBA\\\", \\\"BORO\\\", \\\"CUISINE DESCRIPTION\\\", \\\"INSPECTION DATE\\\", \n",
    "    CASE WHEN \\\"CRITICAL FLAG\\\"= 'Y' THEN 1\n",
    "        ELSE 0\n",
    "    END AS flag_recode,\n",
    "    CASE WHEN \\\"INSPECTION TYPE\\\" ILIKE '%initial%' OR \\\"INSPECTION TYPE\\\" ILIKE '%compliance%' OR \\\"INSPECTION TYPE\\\" ILIKE '%reopening%' OR \\\"INSPECTION TYPE\\\" ILIKE '%limited%' THEN 'Initial'\n",
    "        WHEN \\\"INSPECTION TYPE\\\" ILIKE '%re-inspection%' THEN 'Re-inspection'\n",
    "    END AS inspection_type_recode\n",
    "    \n",
    "FROM hd_data \n",
    "GROUP BY \\\"CAMIS\\\", \\\"INSPECTION DATE\\\";\n",
    "\"\"\"\n",
    "health_data_from_sql = pd.read_sql_query(sql_query,con)\n",
    "health_data_from_sql.head()"
   ]
  },
  {
   "cell_type": "code",
   "execution_count": null,
   "metadata": {},
   "outputs": [],
   "source": []
  }
 ],
 "metadata": {
  "kernelspec": {
   "display_name": "Python 3",
   "language": "python",
   "name": "python3"
  },
  "language_info": {
   "codemirror_mode": {
    "name": "ipython",
    "version": 3
   },
   "file_extension": ".py",
   "mimetype": "text/x-python",
   "name": "python",
   "nbconvert_exporter": "python",
   "pygments_lexer": "ipython3",
   "version": "3.6.10"
  }
 },
 "nbformat": 4,
 "nbformat_minor": 2
}
