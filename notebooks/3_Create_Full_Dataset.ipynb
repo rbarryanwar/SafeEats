{
 "cells": [
  {
   "cell_type": "code",
   "execution_count": 1,
   "metadata": {
    "scrolled": false
   },
   "outputs": [
    {
     "name": "stdout",
     "output_type": "stream",
     "text": [
      "/Users/rabarry/Documents/Insight/NYC data/SafeEats/data/processed\n"
     ]
    }
   ],
   "source": [
    "cd '/Users/rabarry/Documents/Insight/NYC data/SafeEats/data/processed'"
   ]
  },
  {
   "cell_type": "code",
   "execution_count": 2,
   "metadata": {},
   "outputs": [],
   "source": [
    "import pandas as pd\n",
    "import numpy as np\n",
    "import matplotlib.pyplot as plt\n",
    "%matplotlib inline\n",
    "from IPython.core.interactiveshell import InteractiveShell\n",
    "InteractiveShell.ast_node_interactivity = \"all\"\n",
    "import seaborn as sns\n",
    "import swifter\n",
    "from sklearn.model_selection import train_test_split \n",
    "from sklearn.linear_model import LinearRegression\n",
    "from sklearn import metrics\n",
    "from sklearn import preprocessing"
   ]
  },
  {
   "cell_type": "code",
   "execution_count": null,
   "metadata": {},
   "outputs": [],
   "source": [
    "HD_NY311 = pd.read_csv('HD_NY311.csv')"
   ]
  },
  {
   "cell_type": "code",
   "execution_count": 3,
   "metadata": {},
   "outputs": [
    {
     "name": "stderr",
     "output_type": "stream",
     "text": [
      "/anaconda3/envs/insight/lib/python3.6/site-packages/IPython/core/interactiveshell.py:3051: DtypeWarning: Columns (9,10,15) have mixed types. Specify dtype option on import or set low_memory=False.\n",
      "  interactivity=interactivity, compiler=compiler, result=result)\n"
     ]
    }
   ],
   "source": [
    "Yelp = pd.read_csv('Yelp_cleaned.csv')\n",
    "Yelp2 = pd.read_csv('Yelp_cleaned_2.csv')"
   ]
  },
  {
   "cell_type": "code",
   "execution_count": 49,
   "metadata": {},
   "outputs": [],
   "source": [
    "Hoods = pd.read_csv('Hoods_zip.csv')"
   ]
  },
  {
   "cell_type": "code",
   "execution_count": 57,
   "metadata": {},
   "outputs": [
    {
     "name": "stdout",
     "output_type": "stream",
     "text": [
      "<class 'pandas.core.frame.DataFrame'>\n",
      "RangeIndex: 25647 entries, 0 to 25646\n",
      "Data columns (total 32 columns):\n",
      "CAMIS                                  25647 non-null int64\n",
      "Second_Last_Insp_Type                  23759 non-null object\n",
      "Second_Last_Insp_Date                  23759 non-null object\n",
      "Second_Last_Insp_Num_CriticialFlags    23759 non-null float64\n",
      "Last_Insp_Type                         25647 non-null object\n",
      "Last_Insp_Date                         25647 non-null object\n",
      "Last_Insp_Num_CriticialFlags           25647 non-null int64\n",
      "Insp_Date_Diff                         23759 non-null float64\n",
      "DBA                                    25647 non-null object\n",
      "BORO                                   25647 non-null object\n",
      "ZIPCODE                                25249 non-null float64\n",
      "CUISINE DESCRIPTION                    25647 non-null object\n",
      "Latitude                               25248 non-null float64\n",
      "Longitude                              25248 non-null float64\n",
      "Community Board                        25248 non-null float64\n",
      "Council District                       25248 non-null float64\n",
      "Census Tract                           25248 non-null float64\n",
      "BIN                                    25114 non-null float64\n",
      "BBL                                    25647 non-null int64\n",
      "NTA                                    25248 non-null object\n",
      "total_critical_flags                   25647 non-null int64\n",
      "first_inspection_date                  25647 non-null object\n",
      "last_inspection_date                   25647 non-null object\n",
      "num_years_active                       25647 non-null int64\n",
      "avg_num_critical_flags_per_year        25647 non-null float64\n",
      "location                               25248 non-null object\n",
      "is_good_overall                        25248 non-null float64\n",
      "is_good_lastInsp                       25248 non-null float64\n",
      "ny311_number_of_complaints_6mo         25248 non-null float64\n",
      "ny311_number_of_complaints_12mo        25248 non-null float64\n",
      "ny311_number_of_complaints_3mo         25248 non-null float64\n",
      "Cuisine_Reduced                        25647 non-null object\n",
      "dtypes: float64(15), int64(5), object(12)\n",
      "memory usage: 6.3+ MB\n"
     ]
    }
   ],
   "source": [
    "HD_NY311 = HD_NY311.drop('Unnamed: 0.1.1', axis = 1)\n",
    "HD_NY311.info()"
   ]
  },
  {
   "cell_type": "code",
   "execution_count": 4,
   "metadata": {},
   "outputs": [
    {
     "name": "stdout",
     "output_type": "stream",
     "text": [
      "<class 'pandas.core.frame.DataFrame'>\n",
      "RangeIndex: 32090 entries, 0 to 32089\n",
      "Data columns (total 37 columns):\n",
      "Unnamed: 0                         32090 non-null int64\n",
      "Unnamed: 0.1                       32090 non-null int64\n",
      "yelp_alias                         32089 non-null object\n",
      "yelp_categories_0_alias            31963 non-null object\n",
      "yelp_categories_0_title            31963 non-null object\n",
      "yelp_categories_1_alias            18968 non-null object\n",
      "yelp_categories_1_title            18968 non-null object\n",
      "yelp_categories_2_alias            10023 non-null object\n",
      "yelp_categories_2_title            10023 non-null object\n",
      "yelp_coordinates_latitude          32089 non-null object\n",
      "yelp_coordinates_longitude         32089 non-null object\n",
      "yelp_display_phone                 30179 non-null object\n",
      "yelp_distance                      32089 non-null float64\n",
      "yelp_id                            32089 non-null object\n",
      "yelp_image_url                     31220 non-null object\n",
      "yelp_is_closed                     32089 non-null object\n",
      "yelp_location_address1             31895 non-null object\n",
      "yelp_location_address2             7907 non-null object\n",
      "yelp_location_address3             7712 non-null object\n",
      "yelp_location_city                 32089 non-null object\n",
      "yelp_location_country              32089 non-null object\n",
      "yelp_location_display_address_0    32089 non-null object\n",
      "yelp_location_display_address_1    31819 non-null object\n",
      "yelp_location_display_address_2    2271 non-null object\n",
      "yelp_location_display_address_3    66 non-null object\n",
      "yelp_location_state                32089 non-null object\n",
      "yelp_location_zip_code             32057 non-null float64\n",
      "yelp_name                          32089 non-null object\n",
      "yelp_phone                         30179 non-null float64\n",
      "yelp_price                         24965 non-null object\n",
      "yelp_rating                        32089 non-null float64\n",
      "yelp_review_count                  32089 non-null float64\n",
      "yelp_transactions_0                15480 non-null object\n",
      "yelp_transactions_1                13156 non-null object\n",
      "yelp_transactions_2                445 non-null object\n",
      "yelp_url                           32089 non-null object\n",
      "yelp_result_num                    32090 non-null int64\n",
      "dtypes: float64(5), int64(3), object(29)\n",
      "memory usage: 9.1+ MB\n",
      "<class 'pandas.core.frame.DataFrame'>\n",
      "RangeIndex: 148 entries, 0 to 147\n",
      "Data columns (total 35 columns):\n",
      "Unnamed: 0                         148 non-null int64\n",
      "yelp_alias                         120 non-null object\n",
      "yelp_categories_0_alias            120 non-null object\n",
      "yelp_categories_0_title            120 non-null object\n",
      "yelp_categories_1_alias            79 non-null object\n",
      "yelp_categories_1_title            79 non-null object\n",
      "yelp_categories_2_alias            39 non-null object\n",
      "yelp_categories_2_title            39 non-null object\n",
      "yelp_coordinates_latitude          120 non-null float64\n",
      "yelp_coordinates_longitude         120 non-null float64\n",
      "yelp_display_phone                 110 non-null object\n",
      "yelp_distance                      120 non-null float64\n",
      "yelp_id                            120 non-null object\n",
      "yelp_image_url                     120 non-null object\n",
      "yelp_is_closed                     120 non-null object\n",
      "yelp_location_address1             119 non-null object\n",
      "yelp_location_address2             23 non-null object\n",
      "yelp_location_address3             37 non-null object\n",
      "yelp_location_city                 120 non-null object\n",
      "yelp_location_country              120 non-null object\n",
      "yelp_location_display_address_0    120 non-null object\n",
      "yelp_location_display_address_1    119 non-null object\n",
      "yelp_location_display_address_2    13 non-null object\n",
      "yelp_location_state                120 non-null object\n",
      "yelp_location_zip_code             119 non-null float64\n",
      "yelp_name                          120 non-null object\n",
      "yelp_phone                         110 non-null float64\n",
      "yelp_price                         103 non-null object\n",
      "yelp_rating                        120 non-null float64\n",
      "yelp_review_count                  120 non-null float64\n",
      "yelp_transactions_0                58 non-null object\n",
      "yelp_transactions_1                48 non-null object\n",
      "yelp_transactions_2                6 non-null object\n",
      "yelp_url                           120 non-null object\n",
      "yelp_result_num                    148 non-null int64\n",
      "dtypes: float64(7), int64(2), object(26)\n",
      "memory usage: 40.6+ KB\n"
     ]
    }
   ],
   "source": [
    "Yelp.info()\n",
    "Yelp2.info()"
   ]
  },
  {
   "cell_type": "code",
   "execution_count": 50,
   "metadata": {},
   "outputs": [
    {
     "name": "stdout",
     "output_type": "stream",
     "text": [
      "<class 'pandas.core.frame.DataFrame'>\n",
      "RangeIndex: 223 entries, 0 to 222\n",
      "Data columns (total 12 columns):\n",
      "Unnamed: 0                                                                  125 non-null float64\n",
      "District Name                                                               223 non-null object\n",
      "zip                                                                         223 non-null int64\n",
      "Income diversity ratio                                                      223 non-null float64\n",
      "Median household income (2018$)                                             223 non-null object\n",
      "Population                                                                  223 non-null object\n",
      "Population density (1,000 persons per square mile)                          223 non-null float64\n",
      "Poverty rate                                                                223 non-null object\n",
      "Public housing (% of rental units)                                          223 non-null object\n",
      "Racial diversity index                                                      223 non-null float64\n",
      "Serious crime rate (per 1,000 residents)                                    223 non-null float64\n",
      "Serious housing code violations (per 1,000 privately owned rental units)    223 non-null float64\n",
      "dtypes: float64(6), int64(1), object(5)\n",
      "memory usage: 21.0+ KB\n"
     ]
    }
   ],
   "source": [
    "Hoods.info()"
   ]
  },
  {
   "cell_type": "markdown",
   "metadata": {},
   "source": [
    "Merge HD, 311, and neighborhood Info"
   ]
  },
  {
   "cell_type": "code",
   "execution_count": 58,
   "metadata": {},
   "outputs": [],
   "source": [
    "HD_NY311_Hoods = pd.merge(HD_NY311, Hoods, how= 'left', left_on = 'ZIPCODE', right_on = 'zip')"
   ]
  },
  {
   "cell_type": "code",
   "execution_count": 61,
   "metadata": {},
   "outputs": [
    {
     "data": {
      "text/plain": [
       "25647"
      ]
     },
     "execution_count": 61,
     "metadata": {},
     "output_type": "execute_result"
    },
    {
     "data": {
      "text/plain": [
       "25647"
      ]
     },
     "execution_count": 61,
     "metadata": {},
     "output_type": "execute_result"
    },
    {
     "data": {
      "text/plain": [
       "398"
      ]
     },
     "execution_count": 61,
     "metadata": {},
     "output_type": "execute_result"
    }
   ],
   "source": [
    "len(HD_NY311)\n",
    "len(HD_NY311_Hoods)\n",
    "HD_NY311_Hoods['zip'].isnull().sum()"
   ]
  },
  {
   "cell_type": "code",
   "execution_count": 62,
   "metadata": {},
   "outputs": [
    {
     "data": {
      "text/html": [
       "<div>\n",
       "<style scoped>\n",
       "    .dataframe tbody tr th:only-of-type {\n",
       "        vertical-align: middle;\n",
       "    }\n",
       "\n",
       "    .dataframe tbody tr th {\n",
       "        vertical-align: top;\n",
       "    }\n",
       "\n",
       "    .dataframe thead th {\n",
       "        text-align: right;\n",
       "    }\n",
       "</style>\n",
       "<table border=\"1\" class=\"dataframe\">\n",
       "  <thead>\n",
       "    <tr style=\"text-align: right;\">\n",
       "      <th></th>\n",
       "      <th>CAMIS</th>\n",
       "      <th>Second_Last_Insp_Type</th>\n",
       "      <th>Second_Last_Insp_Date</th>\n",
       "      <th>Second_Last_Insp_Num_CriticialFlags</th>\n",
       "      <th>Last_Insp_Type</th>\n",
       "      <th>Last_Insp_Date</th>\n",
       "      <th>Last_Insp_Num_CriticialFlags</th>\n",
       "      <th>Insp_Date_Diff</th>\n",
       "      <th>DBA</th>\n",
       "      <th>BORO</th>\n",
       "      <th>...</th>\n",
       "      <th>zip</th>\n",
       "      <th>Income diversity ratio</th>\n",
       "      <th>Median household income (2018$)</th>\n",
       "      <th>Population</th>\n",
       "      <th>Population density (1,000 persons per square mile)</th>\n",
       "      <th>Poverty rate</th>\n",
       "      <th>Public housing (% of rental units)</th>\n",
       "      <th>Racial diversity index</th>\n",
       "      <th>Serious crime rate (per 1,000 residents)</th>\n",
       "      <th>Serious housing code violations (per 1,000 privately owned rental units)</th>\n",
       "    </tr>\n",
       "  </thead>\n",
       "  <tbody>\n",
       "    <tr>\n",
       "      <th>0</th>\n",
       "      <td>30075445</td>\n",
       "      <td>Initial</td>\n",
       "      <td>10/21/19</td>\n",
       "      <td>2.0</td>\n",
       "      <td>Re-inspection</td>\n",
       "      <td>11/4/19</td>\n",
       "      <td>1</td>\n",
       "      <td>14.0</td>\n",
       "      <td>MORRIS PARK BAKE SHOP</td>\n",
       "      <td>Bronx</td>\n",
       "      <td>...</td>\n",
       "      <td>10462.0</td>\n",
       "      <td>6.1</td>\n",
       "      <td>$40,770</td>\n",
       "      <td>187,975</td>\n",
       "      <td>42.5</td>\n",
       "      <td>24.70%</td>\n",
       "      <td>39.80%</td>\n",
       "      <td>0.59</td>\n",
       "      <td>11.8</td>\n",
       "      <td>78.2</td>\n",
       "    </tr>\n",
       "    <tr>\n",
       "      <th>1</th>\n",
       "      <td>30112340</td>\n",
       "      <td>Initial</td>\n",
       "      <td>3/13/18</td>\n",
       "      <td>1.0</td>\n",
       "      <td>Initial</td>\n",
       "      <td>3/4/19</td>\n",
       "      <td>1</td>\n",
       "      <td>356.0</td>\n",
       "      <td>WENDY'S</td>\n",
       "      <td>Brooklyn</td>\n",
       "      <td>...</td>\n",
       "      <td>11225.0</td>\n",
       "      <td>5.3</td>\n",
       "      <td>$52,050</td>\n",
       "      <td>113,212</td>\n",
       "      <td>66.3</td>\n",
       "      <td>19.10%</td>\n",
       "      <td>0.90%</td>\n",
       "      <td>0.56</td>\n",
       "      <td>12.4</td>\n",
       "      <td>84.7</td>\n",
       "    </tr>\n",
       "    <tr>\n",
       "      <th>2</th>\n",
       "      <td>30191841</td>\n",
       "      <td>Initial</td>\n",
       "      <td>5/16/18</td>\n",
       "      <td>1.0</td>\n",
       "      <td>Initial</td>\n",
       "      <td>6/6/19</td>\n",
       "      <td>1</td>\n",
       "      <td>386.0</td>\n",
       "      <td>DJ REYNOLDS PUB AND RESTAURANT</td>\n",
       "      <td>Manhattan</td>\n",
       "      <td>...</td>\n",
       "      <td>10019.0</td>\n",
       "      <td>7.5</td>\n",
       "      <td>$103,930</td>\n",
       "      <td>152,455</td>\n",
       "      <td>49.6</td>\n",
       "      <td>13.80%</td>\n",
       "      <td>0.00%</td>\n",
       "      <td>0.59</td>\n",
       "      <td>90.3</td>\n",
       "      <td>8.6</td>\n",
       "    </tr>\n",
       "    <tr>\n",
       "      <th>3</th>\n",
       "      <td>40356018</td>\n",
       "      <td>Initial</td>\n",
       "      <td>10/30/18</td>\n",
       "      <td>1.0</td>\n",
       "      <td>Initial</td>\n",
       "      <td>11/8/19</td>\n",
       "      <td>1</td>\n",
       "      <td>374.0</td>\n",
       "      <td>RIVIERA CATERERS</td>\n",
       "      <td>Brooklyn</td>\n",
       "      <td>...</td>\n",
       "      <td>11224.0</td>\n",
       "      <td>8.2</td>\n",
       "      <td>$36,810</td>\n",
       "      <td>122,009</td>\n",
       "      <td>35.5</td>\n",
       "      <td>24.80%</td>\n",
       "      <td>25.40%</td>\n",
       "      <td>0.63</td>\n",
       "      <td>8.4</td>\n",
       "      <td>31.6</td>\n",
       "    </tr>\n",
       "    <tr>\n",
       "      <th>4</th>\n",
       "      <td>40356151</td>\n",
       "      <td>Initial</td>\n",
       "      <td>8/19/17</td>\n",
       "      <td>1.0</td>\n",
       "      <td>Initial</td>\n",
       "      <td>10/6/18</td>\n",
       "      <td>2</td>\n",
       "      <td>413.0</td>\n",
       "      <td>BRUNOS ON THE BOULEVARD</td>\n",
       "      <td>Queens</td>\n",
       "      <td>...</td>\n",
       "      <td>11369.0</td>\n",
       "      <td>4.0</td>\n",
       "      <td>$52,980</td>\n",
       "      <td>146,301</td>\n",
       "      <td>40.6</td>\n",
       "      <td>15.60%</td>\n",
       "      <td>0.00%</td>\n",
       "      <td>0.58</td>\n",
       "      <td>7.5</td>\n",
       "      <td>19.2</td>\n",
       "    </tr>\n",
       "  </tbody>\n",
       "</table>\n",
       "<p>5 rows × 44 columns</p>\n",
       "</div>"
      ],
      "text/plain": [
       "      CAMIS Second_Last_Insp_Type Second_Last_Insp_Date  \\\n",
       "0  30075445               Initial              10/21/19   \n",
       "1  30112340               Initial               3/13/18   \n",
       "2  30191841               Initial               5/16/18   \n",
       "3  40356018               Initial              10/30/18   \n",
       "4  40356151               Initial               8/19/17   \n",
       "\n",
       "   Second_Last_Insp_Num_CriticialFlags Last_Insp_Type Last_Insp_Date  \\\n",
       "0                                  2.0  Re-inspection        11/4/19   \n",
       "1                                  1.0        Initial         3/4/19   \n",
       "2                                  1.0        Initial         6/6/19   \n",
       "3                                  1.0        Initial        11/8/19   \n",
       "4                                  1.0        Initial        10/6/18   \n",
       "\n",
       "   Last_Insp_Num_CriticialFlags  Insp_Date_Diff  \\\n",
       "0                             1            14.0   \n",
       "1                             1           356.0   \n",
       "2                             1           386.0   \n",
       "3                             1           374.0   \n",
       "4                             2           413.0   \n",
       "\n",
       "                              DBA       BORO  ...      zip  \\\n",
       "0           MORRIS PARK BAKE SHOP      Bronx  ...  10462.0   \n",
       "1                         WENDY'S   Brooklyn  ...  11225.0   \n",
       "2  DJ REYNOLDS PUB AND RESTAURANT  Manhattan  ...  10019.0   \n",
       "3                RIVIERA CATERERS   Brooklyn  ...  11224.0   \n",
       "4         BRUNOS ON THE BOULEVARD     Queens  ...  11369.0   \n",
       "\n",
       "  Income diversity ratio  Median household income (2018$)  Population  \\\n",
       "0                    6.1                         $40,770      187,975   \n",
       "1                    5.3                         $52,050      113,212   \n",
       "2                    7.5                        $103,930      152,455   \n",
       "3                    8.2                         $36,810      122,009   \n",
       "4                    4.0                         $52,980      146,301   \n",
       "\n",
       "   Population density (1,000 persons per square mile)  Poverty rate  \\\n",
       "0                                               42.5         24.70%   \n",
       "1                                               66.3         19.10%   \n",
       "2                                               49.6         13.80%   \n",
       "3                                               35.5         24.80%   \n",
       "4                                               40.6         15.60%   \n",
       "\n",
       "   Public housing (% of rental units)  Racial diversity index  \\\n",
       "0                              39.80%                    0.59   \n",
       "1                               0.90%                    0.56   \n",
       "2                               0.00%                    0.59   \n",
       "3                              25.40%                    0.63   \n",
       "4                               0.00%                    0.58   \n",
       "\n",
       "   Serious crime rate (per 1,000 residents)  \\\n",
       "0                                      11.8   \n",
       "1                                      12.4   \n",
       "2                                      90.3   \n",
       "3                                       8.4   \n",
       "4                                       7.5   \n",
       "\n",
       "  Serious housing code violations (per 1,000 privately owned rental units)  \n",
       "0                                               78.2                        \n",
       "1                                               84.7                        \n",
       "2                                                8.6                        \n",
       "3                                               31.6                        \n",
       "4                                               19.2                        \n",
       "\n",
       "[5 rows x 44 columns]"
      ]
     },
     "execution_count": 62,
     "metadata": {},
     "output_type": "execute_result"
    }
   ],
   "source": [
    "HD_NY311_Hoods.head()"
   ]
  },
  {
   "cell_type": "code",
   "execution_count": 84,
   "metadata": {},
   "outputs": [],
   "source": [
    "HD_NY311_Hoods.to_csv('HD_NY311_Hoods.csv')"
   ]
  },
  {
   "cell_type": "markdown",
   "metadata": {},
   "source": [
    "# Add Yelp Info"
   ]
  },
  {
   "cell_type": "markdown",
   "metadata": {},
   "source": [
    "Load HD_NY311_Hoods from file"
   ]
  },
  {
   "cell_type": "code",
   "execution_count": 159,
   "metadata": {},
   "outputs": [],
   "source": [
    "HD_NY311_Hoods = pd.read_csv('HD_NY311_Hoods.csv')"
   ]
  },
  {
   "cell_type": "markdown",
   "metadata": {},
   "source": [
    "First, remove 'None' or NaN from latitude and longitude"
   ]
  },
  {
   "cell_type": "code",
   "execution_count": 183,
   "metadata": {},
   "outputs": [
    {
     "data": {
      "text/plain": [
       "32090"
      ]
     },
     "execution_count": 183,
     "metadata": {},
     "output_type": "execute_result"
    },
    {
     "data": {
      "text/plain": [
       "32088"
      ]
     },
     "execution_count": 183,
     "metadata": {},
     "output_type": "execute_result"
    }
   ],
   "source": [
    "len(Yelp)\n",
    "Yelp = Yelp.loc[Yelp['yelp_coordinates_longitude']!= 'None']\n",
    "Yelp = Yelp.loc[Yelp['yelp_coordinates_latitude']!= 'None']\n",
    "Yelp = Yelp.loc[Yelp['yelp_coordinates_latitude'].notnull()]\n",
    "len(Yelp)"
   ]
  },
  {
   "cell_type": "code",
   "execution_count": 184,
   "metadata": {},
   "outputs": [
    {
     "name": "stdout",
     "output_type": "stream",
     "text": [
      "<class 'pandas.core.frame.DataFrame'>\n",
      "Int64Index: 32088 entries, 0 to 32089\n",
      "Data columns (total 37 columns):\n",
      "Unnamed: 0                         32088 non-null int64\n",
      "Unnamed: 0.1                       32088 non-null int64\n",
      "yelp_alias                         32088 non-null object\n",
      "yelp_categories_0_alias            31962 non-null object\n",
      "yelp_categories_0_title            31962 non-null object\n",
      "yelp_categories_1_alias            18967 non-null object\n",
      "yelp_categories_1_title            18967 non-null object\n",
      "yelp_categories_2_alias            10022 non-null object\n",
      "yelp_categories_2_title            10022 non-null object\n",
      "yelp_coordinates_latitude          32088 non-null object\n",
      "yelp_coordinates_longitude         32088 non-null object\n",
      "yelp_display_phone                 30178 non-null object\n",
      "yelp_distance                      32088 non-null float64\n",
      "yelp_id                            32088 non-null object\n",
      "yelp_image_url                     31219 non-null object\n",
      "yelp_is_closed                     32088 non-null object\n",
      "yelp_location_address1             31894 non-null object\n",
      "yelp_location_address2             7907 non-null object\n",
      "yelp_location_address3             7712 non-null object\n",
      "yelp_location_city                 32088 non-null object\n",
      "yelp_location_country              32088 non-null object\n",
      "yelp_location_display_address_0    32088 non-null object\n",
      "yelp_location_display_address_1    31818 non-null object\n",
      "yelp_location_display_address_2    2271 non-null object\n",
      "yelp_location_display_address_3    66 non-null object\n",
      "yelp_location_state                32088 non-null object\n",
      "yelp_location_zip_code             32056 non-null float64\n",
      "yelp_name                          32088 non-null object\n",
      "yelp_phone                         30178 non-null float64\n",
      "yelp_price                         24964 non-null object\n",
      "yelp_rating                        32088 non-null float64\n",
      "yelp_review_count                  32088 non-null float64\n",
      "yelp_transactions_0                15480 non-null object\n",
      "yelp_transactions_1                13156 non-null object\n",
      "yelp_transactions_2                445 non-null object\n",
      "yelp_url                           32088 non-null object\n",
      "yelp_result_num                    32088 non-null int64\n",
      "dtypes: float64(5), int64(3), object(29)\n",
      "memory usage: 9.3+ MB\n"
     ]
    }
   ],
   "source": [
    "Yelp.info()"
   ]
  },
  {
   "cell_type": "code",
   "execution_count": 260,
   "metadata": {},
   "outputs": [],
   "source": [
    "Yelp['yelp_coordinates_latitude'] = Yelp['yelp_coordinates_latitude'].astype(str)\n",
    "Yelp['yelp_coordinates_longitude'] = Yelp['yelp_coordinates_longitude'].astype(str)"
   ]
  },
  {
   "cell_type": "code",
   "execution_count": 261,
   "metadata": {
    "scrolled": true
   },
   "outputs": [],
   "source": [
    "Yelp['yelp_coordinates_latitude'] = [(row + '0'*(6-len(row)-1) + '1') for row in Yelp['yelp_coordinates_latitude']]"
   ]
  },
  {
   "cell_type": "code",
   "execution_count": 262,
   "metadata": {},
   "outputs": [],
   "source": [
    "Yelp['yelp_coordinates_longitude'] = [(row + '0'*(7-len(row)-1) + '1') for row in Yelp['yelp_coordinates_longitude']]"
   ]
  },
  {
   "cell_type": "code",
   "execution_count": 201,
   "metadata": {},
   "outputs": [],
   "source": [
    "#for row in Yelp['yelp_coordinates_latitude']:\n",
    "#    if len(row)< 8:\n",
    "#        row = row + '0'*(8-len(row)-1) + '1'"
   ]
  },
  {
   "cell_type": "code",
   "execution_count": 202,
   "metadata": {},
   "outputs": [],
   "source": [
    "#for row in Yelp['yelp_coordinates_longitude']:\n",
    "#    if len(row)< 9:\n",
    "#        row = row + '0'*(9-len(row))"
   ]
  },
  {
   "cell_type": "code",
   "execution_count": 263,
   "metadata": {},
   "outputs": [],
   "source": [
    "Yelp['yelp_coordinates_latitude'] = pd.to_numeric(Yelp['yelp_coordinates_latitude'])\n",
    "Yelp['yelp_coordinates_longitude'] = pd.to_numeric(Yelp['yelp_coordinates_longitude'])"
   ]
  },
  {
   "cell_type": "code",
   "execution_count": 264,
   "metadata": {
    "scrolled": true
   },
   "outputs": [],
   "source": [
    "Yelp['yelp_coordinates_latitude'] = Yelp['yelp_coordinates_latitude'].round(3)\n",
    "Yelp['yelp_coordinates_longitude'] = Yelp['yelp_coordinates_longitude'].round(3)\n",
    "Yelp['location'] = Yelp['yelp_coordinates_latitude'].astype(str) + ', ' + Yelp['yelp_coordinates_longitude'].astype(str)"
   ]
  },
  {
   "cell_type": "code",
   "execution_count": 265,
   "metadata": {},
   "outputs": [
    {
     "data": {
      "text/plain": [
       "Unnamed: 0                                                                         1\n",
       "Unnamed: 0.1                                                                       2\n",
       "yelp_alias                                              kingsbridge-donut-shop-bronx\n",
       "yelp_categories_0_alias                                                       donuts\n",
       "yelp_categories_0_title                                                       Donuts\n",
       "yelp_categories_1_alias                                             breakfast_brunch\n",
       "yelp_categories_1_title                                           Breakfast & Brunch\n",
       "yelp_categories_2_alias                                                          NaN\n",
       "yelp_categories_2_title                                                          NaN\n",
       "yelp_coordinates_latitude                                                     40.881\n",
       "yelp_coordinates_longitude                                                   -73.906\n",
       "yelp_display_phone                                                    (347) 346-4171\n",
       "yelp_distance                                                                951.985\n",
       "yelp_id                                                       jU3JQJ46pboIJTnLh_C1Hw\n",
       "yelp_image_url                     https://s3-media2.fl.yelpcdn.com/bphoto/9mU-AW...\n",
       "yelp_is_closed                                                                 False\n",
       "yelp_location_address1                                                249 W 231st St\n",
       "yelp_location_address2                                                          None\n",
       "yelp_location_address3                                                          None\n",
       "yelp_location_city                                                             Bronx\n",
       "yelp_location_country                                                             US\n",
       "yelp_location_display_address_0                                       249 W 231st St\n",
       "yelp_location_display_address_1                                      Bronx, NY 10463\n",
       "yelp_location_display_address_2                                                  NaN\n",
       "yelp_location_display_address_3                                                  NaN\n",
       "yelp_location_state                                                               NY\n",
       "yelp_location_zip_code                                                         10463\n",
       "yelp_name                                                     kingsbridge donut shop\n",
       "yelp_phone                                                               1.34735e+10\n",
       "yelp_price                                                                         $\n",
       "yelp_rating                                                                        4\n",
       "yelp_review_count                                                                 19\n",
       "yelp_transactions_0                                                         delivery\n",
       "yelp_transactions_1                                                           pickup\n",
       "yelp_transactions_2                                                              NaN\n",
       "yelp_url                           https://www.yelp.com/biz/kingsbridge-donut-sho...\n",
       "yelp_result_num                                                                    0\n",
       "new_latitude                                                                40.87981\n",
       "location                                                             40.881, -73.906\n",
       "Name: 1, dtype: object"
      ]
     },
     "execution_count": 265,
     "metadata": {},
     "output_type": "execute_result"
    }
   ],
   "source": [
    "Yelp.iloc[1]"
   ]
  },
  {
   "cell_type": "code",
   "execution_count": 266,
   "metadata": {},
   "outputs": [],
   "source": [
    "HD_NY311_Hoods['Latitude'] = HD_NY311_Hoods['Latitude'].round(3)\n",
    "HD_NY311_Hoods['Longitude'] = HD_NY311_Hoods['Longitude'].round(3)\n",
    "HD_NY311_Hoods['location'] = HD_NY311_Hoods['Latitude'].astype(str) + ', ' + HD_NY311_Hoods['Longitude'].astype(str)"
   ]
  },
  {
   "cell_type": "code",
   "execution_count": 267,
   "metadata": {},
   "outputs": [
    {
     "data": {
      "application/vnd.jupyter.widget-view+json": {
       "model_id": "c748b82bda9540609abcc616dae99cd9",
       "version_major": 2,
       "version_minor": 0
      },
      "text/plain": [
       "HBox(children=(FloatProgress(value=0.0, description='Pandas Apply', max=32088.0, style=ProgressStyle(descripti…"
      ]
     },
     "metadata": {},
     "output_type": "display_data"
    },
    {
     "name": "stdout",
     "output_type": "stream",
     "text": [
      "\n"
     ]
    },
    {
     "data": {
      "application/vnd.jupyter.widget-view+json": {
       "model_id": "166192d5601142de8a993d0b8c67fe27",
       "version_major": 2,
       "version_minor": 0
      },
      "text/plain": [
       "HBox(children=(FloatProgress(value=0.0, description='Pandas Apply', max=25647.0, style=ProgressStyle(descripti…"
      ]
     },
     "metadata": {},
     "output_type": "display_data"
    },
    {
     "name": "stdout",
     "output_type": "stream",
     "text": [
      "\n"
     ]
    },
    {
     "data": {
      "text/plain": [
       "0              brooklyn sweet spot\n",
       "1           kingsbridge donut shop\n",
       "2                    casa mexicana\n",
       "3                   the palm court\n",
       "4           dominique ansel bakery\n",
       "                   ...            \n",
       "32085      brooklyn best loctician\n",
       "32086    wonder seafood restaurant\n",
       "32087              tenement museum\n",
       "32088                studio b hair\n",
       "32089        infinity caterers inc\n",
       "Name: yelp_name, Length: 32088, dtype: object"
      ]
     },
     "execution_count": 267,
     "metadata": {},
     "output_type": "execute_result"
    },
    {
     "data": {
      "text/plain": [
       "0                 morris park bake shop\n",
       "1                               wendy's\n",
       "2        dj reynolds pub and restaurant\n",
       "3                      riviera caterers\n",
       "4               brunos on the boulevard\n",
       "                      ...              \n",
       "25642                 under the volcano\n",
       "25643                  lic landing cafe\n",
       "25644     tandoori curry & indo chinese\n",
       "25645                     zhu's kitchen\n",
       "25646                          baya bar\n",
       "Name: DBA, Length: 25647, dtype: object"
      ]
     },
     "execution_count": 267,
     "metadata": {},
     "output_type": "execute_result"
    }
   ],
   "source": [
    "Yelp['yelp_name'] = Yelp['yelp_name'].swifter.apply(lambda x: x.lower())\n",
    "HD_NY311_Hoods['DBA'] = HD_NY311_Hoods['DBA'].swifter.apply(lambda x: x.lower())\n",
    "Yelp['yelp_name']\n",
    "HD_NY311_Hoods['DBA']"
   ]
  },
  {
   "cell_type": "code",
   "execution_count": 268,
   "metadata": {},
   "outputs": [
    {
     "data": {
      "application/vnd.jupyter.widget-view+json": {
       "model_id": "495448b2693545d99c3692cfcc8f8b82",
       "version_major": 2,
       "version_minor": 0
      },
      "text/plain": [
       "HBox(children=(FloatProgress(value=0.0, description='Pandas Apply', max=45.0, style=ProgressStyle(description_…"
      ]
     },
     "metadata": {},
     "output_type": "display_data"
    },
    {
     "name": "stdout",
     "output_type": "stream",
     "text": [
      "\n"
     ]
    },
    {
     "data": {
      "application/vnd.jupyter.widget-view+json": {
       "model_id": "377ab8f0cfaf4afbabb03f8bd3f08c84",
       "version_major": 2,
       "version_minor": 0
      },
      "text/plain": [
       "HBox(children=(FloatProgress(value=0.0, description='Pandas Apply', max=32088.0, style=ProgressStyle(descripti…"
      ]
     },
     "metadata": {},
     "output_type": "display_data"
    },
    {
     "name": "stdout",
     "output_type": "stream",
     "text": [
      "\n"
     ]
    }
   ],
   "source": [
    "HD_NY311_Hoods = HD_NY311_Hoods.swifter.apply(lambda x: x.str.strip() if x.dtype =='object' else x)\n",
    "Yelp['location'] = Yelp['location'].swifter.apply(lambda x: x.strip())"
   ]
  },
  {
   "cell_type": "code",
   "execution_count": 269,
   "metadata": {},
   "outputs": [],
   "source": [
    "HD_NY311_Hoods_Yelp_TEST = pd.merge(HD_NY311_Hoods, Yelp, how= 'left', left_on = ['location', 'DBA'], right_on = ['location', 'yelp_name'])"
   ]
  },
  {
   "cell_type": "code",
   "execution_count": 271,
   "metadata": {},
   "outputs": [
    {
     "data": {
      "text/plain": [
       "25647"
      ]
     },
     "execution_count": 271,
     "metadata": {},
     "output_type": "execute_result"
    }
   ],
   "source": [
    "len(HD_NY311_Hoods)"
   ]
  },
  {
   "cell_type": "code",
   "execution_count": 270,
   "metadata": {},
   "outputs": [
    {
     "data": {
      "text/plain": [
       "25674"
      ]
     },
     "execution_count": 270,
     "metadata": {},
     "output_type": "execute_result"
    },
    {
     "data": {
      "text/html": [
       "<div>\n",
       "<style scoped>\n",
       "    .dataframe tbody tr th:only-of-type {\n",
       "        vertical-align: middle;\n",
       "    }\n",
       "\n",
       "    .dataframe tbody tr th {\n",
       "        vertical-align: top;\n",
       "    }\n",
       "\n",
       "    .dataframe thead th {\n",
       "        text-align: right;\n",
       "    }\n",
       "</style>\n",
       "<table border=\"1\" class=\"dataframe\">\n",
       "  <thead>\n",
       "    <tr style=\"text-align: right;\">\n",
       "      <th></th>\n",
       "      <th>Unnamed: 0_x</th>\n",
       "      <th>CAMIS</th>\n",
       "      <th>Second_Last_Insp_Type</th>\n",
       "      <th>Second_Last_Insp_Date</th>\n",
       "      <th>Second_Last_Insp_Num_CriticialFlags</th>\n",
       "      <th>Last_Insp_Type</th>\n",
       "      <th>Last_Insp_Date</th>\n",
       "      <th>Last_Insp_Num_CriticialFlags</th>\n",
       "      <th>Insp_Date_Diff</th>\n",
       "      <th>DBA</th>\n",
       "      <th>...</th>\n",
       "      <th>yelp_phone</th>\n",
       "      <th>yelp_price</th>\n",
       "      <th>yelp_rating</th>\n",
       "      <th>yelp_review_count</th>\n",
       "      <th>yelp_transactions_0</th>\n",
       "      <th>yelp_transactions_1</th>\n",
       "      <th>yelp_transactions_2</th>\n",
       "      <th>yelp_url</th>\n",
       "      <th>yelp_result_num</th>\n",
       "      <th>new_latitude</th>\n",
       "    </tr>\n",
       "  </thead>\n",
       "  <tbody>\n",
       "    <tr>\n",
       "      <th>0</th>\n",
       "      <td>0</td>\n",
       "      <td>30075445</td>\n",
       "      <td>Initial</td>\n",
       "      <td>10/21/19</td>\n",
       "      <td>2.0</td>\n",
       "      <td>Re-inspection</td>\n",
       "      <td>11/4/19</td>\n",
       "      <td>1</td>\n",
       "      <td>14.0</td>\n",
       "      <td>morris park bake shop</td>\n",
       "      <td>...</td>\n",
       "      <td>1.718892e+10</td>\n",
       "      <td>$$</td>\n",
       "      <td>4.0</td>\n",
       "      <td>43.0</td>\n",
       "      <td>NaN</td>\n",
       "      <td>NaN</td>\n",
       "      <td>NaN</td>\n",
       "      <td>https://www.yelp.com/biz/morris-park-bake-shop...</td>\n",
       "      <td>0.0</td>\n",
       "      <td>40.848391</td>\n",
       "    </tr>\n",
       "    <tr>\n",
       "      <th>1</th>\n",
       "      <td>1</td>\n",
       "      <td>30112340</td>\n",
       "      <td>Initial</td>\n",
       "      <td>3/13/18</td>\n",
       "      <td>1.0</td>\n",
       "      <td>Initial</td>\n",
       "      <td>3/4/19</td>\n",
       "      <td>1</td>\n",
       "      <td>356.0</td>\n",
       "      <td>wendy's</td>\n",
       "      <td>...</td>\n",
       "      <td>1.718288e+10</td>\n",
       "      <td>$</td>\n",
       "      <td>2.0</td>\n",
       "      <td>39.0</td>\n",
       "      <td>NaN</td>\n",
       "      <td>NaN</td>\n",
       "      <td>NaN</td>\n",
       "      <td>https://www.yelp.com/biz/wendys-brooklyn-4?adj...</td>\n",
       "      <td>0.0</td>\n",
       "      <td>40.6629521</td>\n",
       "    </tr>\n",
       "    <tr>\n",
       "      <th>2</th>\n",
       "      <td>2</td>\n",
       "      <td>30191841</td>\n",
       "      <td>Initial</td>\n",
       "      <td>5/16/18</td>\n",
       "      <td>1.0</td>\n",
       "      <td>Initial</td>\n",
       "      <td>6/6/19</td>\n",
       "      <td>1</td>\n",
       "      <td>386.0</td>\n",
       "      <td>dj reynolds pub and restaurant</td>\n",
       "      <td>...</td>\n",
       "      <td>NaN</td>\n",
       "      <td>NaN</td>\n",
       "      <td>NaN</td>\n",
       "      <td>NaN</td>\n",
       "      <td>NaN</td>\n",
       "      <td>NaN</td>\n",
       "      <td>NaN</td>\n",
       "      <td>NaN</td>\n",
       "      <td>NaN</td>\n",
       "      <td>NaN</td>\n",
       "    </tr>\n",
       "    <tr>\n",
       "      <th>3</th>\n",
       "      <td>3</td>\n",
       "      <td>40356018</td>\n",
       "      <td>Initial</td>\n",
       "      <td>10/30/18</td>\n",
       "      <td>1.0</td>\n",
       "      <td>Initial</td>\n",
       "      <td>11/8/19</td>\n",
       "      <td>1</td>\n",
       "      <td>374.0</td>\n",
       "      <td>riviera caterers</td>\n",
       "      <td>...</td>\n",
       "      <td>NaN</td>\n",
       "      <td>NaN</td>\n",
       "      <td>NaN</td>\n",
       "      <td>NaN</td>\n",
       "      <td>NaN</td>\n",
       "      <td>NaN</td>\n",
       "      <td>NaN</td>\n",
       "      <td>NaN</td>\n",
       "      <td>NaN</td>\n",
       "      <td>NaN</td>\n",
       "    </tr>\n",
       "    <tr>\n",
       "      <th>4</th>\n",
       "      <td>4</td>\n",
       "      <td>40356151</td>\n",
       "      <td>Initial</td>\n",
       "      <td>8/19/17</td>\n",
       "      <td>1.0</td>\n",
       "      <td>Initial</td>\n",
       "      <td>10/6/18</td>\n",
       "      <td>2</td>\n",
       "      <td>413.0</td>\n",
       "      <td>brunos on the boulevard</td>\n",
       "      <td>...</td>\n",
       "      <td>NaN</td>\n",
       "      <td>NaN</td>\n",
       "      <td>NaN</td>\n",
       "      <td>NaN</td>\n",
       "      <td>NaN</td>\n",
       "      <td>NaN</td>\n",
       "      <td>NaN</td>\n",
       "      <td>NaN</td>\n",
       "      <td>NaN</td>\n",
       "      <td>NaN</td>\n",
       "    </tr>\n",
       "  </tbody>\n",
       "</table>\n",
       "<p>5 rows × 83 columns</p>\n",
       "</div>"
      ],
      "text/plain": [
       "   Unnamed: 0_x     CAMIS Second_Last_Insp_Type Second_Last_Insp_Date  \\\n",
       "0             0  30075445               Initial              10/21/19   \n",
       "1             1  30112340               Initial               3/13/18   \n",
       "2             2  30191841               Initial               5/16/18   \n",
       "3             3  40356018               Initial              10/30/18   \n",
       "4             4  40356151               Initial               8/19/17   \n",
       "\n",
       "   Second_Last_Insp_Num_CriticialFlags Last_Insp_Type Last_Insp_Date  \\\n",
       "0                                  2.0  Re-inspection        11/4/19   \n",
       "1                                  1.0        Initial         3/4/19   \n",
       "2                                  1.0        Initial         6/6/19   \n",
       "3                                  1.0        Initial        11/8/19   \n",
       "4                                  1.0        Initial        10/6/18   \n",
       "\n",
       "   Last_Insp_Num_CriticialFlags  Insp_Date_Diff  \\\n",
       "0                             1            14.0   \n",
       "1                             1           356.0   \n",
       "2                             1           386.0   \n",
       "3                             1           374.0   \n",
       "4                             2           413.0   \n",
       "\n",
       "                              DBA  ...    yelp_phone  yelp_price yelp_rating  \\\n",
       "0           morris park bake shop  ...  1.718892e+10          $$         4.0   \n",
       "1                         wendy's  ...  1.718288e+10           $         2.0   \n",
       "2  dj reynolds pub and restaurant  ...           NaN         NaN         NaN   \n",
       "3                riviera caterers  ...           NaN         NaN         NaN   \n",
       "4         brunos on the boulevard  ...           NaN         NaN         NaN   \n",
       "\n",
       "   yelp_review_count  yelp_transactions_0  yelp_transactions_1  \\\n",
       "0               43.0                  NaN                  NaN   \n",
       "1               39.0                  NaN                  NaN   \n",
       "2                NaN                  NaN                  NaN   \n",
       "3                NaN                  NaN                  NaN   \n",
       "4                NaN                  NaN                  NaN   \n",
       "\n",
       "   yelp_transactions_2                                           yelp_url  \\\n",
       "0                  NaN  https://www.yelp.com/biz/morris-park-bake-shop...   \n",
       "1                  NaN  https://www.yelp.com/biz/wendys-brooklyn-4?adj...   \n",
       "2                  NaN                                                NaN   \n",
       "3                  NaN                                                NaN   \n",
       "4                  NaN                                                NaN   \n",
       "\n",
       "   yelp_result_num  new_latitude  \n",
       "0              0.0     40.848391  \n",
       "1              0.0    40.6629521  \n",
       "2              NaN           NaN  \n",
       "3              NaN           NaN  \n",
       "4              NaN           NaN  \n",
       "\n",
       "[5 rows x 83 columns]"
      ]
     },
     "execution_count": 270,
     "metadata": {},
     "output_type": "execute_result"
    },
    {
     "name": "stdout",
     "output_type": "stream",
     "text": [
      "<class 'pandas.core.frame.DataFrame'>\n",
      "Int64Index: 25674 entries, 0 to 25673\n",
      "Data columns (total 83 columns):\n",
      "Unnamed: 0_x                                                                25674 non-null int64\n",
      "CAMIS                                                                       25674 non-null int64\n",
      "Second_Last_Insp_Type                                                       23784 non-null object\n",
      "Second_Last_Insp_Date                                                       23784 non-null object\n",
      "Second_Last_Insp_Num_CriticialFlags                                         23784 non-null float64\n",
      "Last_Insp_Type                                                              25674 non-null object\n",
      "Last_Insp_Date                                                              25674 non-null object\n",
      "Last_Insp_Num_CriticialFlags                                                25674 non-null int64\n",
      "Insp_Date_Diff                                                              23784 non-null float64\n",
      "DBA                                                                         25674 non-null object\n",
      "BORO                                                                        25674 non-null object\n",
      "ZIPCODE                                                                     25276 non-null float64\n",
      "CUISINE DESCRIPTION                                                         25674 non-null object\n",
      "Latitude                                                                    25275 non-null float64\n",
      "Longitude                                                                   25275 non-null float64\n",
      "Community Board                                                             25275 non-null float64\n",
      "Council District                                                            25275 non-null float64\n",
      "Census Tract                                                                25275 non-null float64\n",
      "BIN                                                                         25141 non-null float64\n",
      "BBL                                                                         25674 non-null int64\n",
      "NTA                                                                         25275 non-null object\n",
      "total_critical_flags                                                        25674 non-null int64\n",
      "first_inspection_date                                                       25674 non-null object\n",
      "last_inspection_date                                                        25674 non-null object\n",
      "num_years_active                                                            25674 non-null int64\n",
      "avg_num_critical_flags_per_year                                             25674 non-null float64\n",
      "location                                                                    25674 non-null object\n",
      "is_good_overall                                                             25275 non-null float64\n",
      "is_good_lastInsp                                                            25275 non-null float64\n",
      "ny311_number_of_complaints_6mo                                              25275 non-null float64\n",
      "ny311_number_of_complaints_12mo                                             25275 non-null float64\n",
      "ny311_number_of_complaints_3mo                                              25275 non-null float64\n",
      "Cuisine_Reduced                                                             25674 non-null object\n",
      "Unnamed: 0.1_x                                                              18603 non-null float64\n",
      "District Name                                                               25276 non-null object\n",
      "zip                                                                         25276 non-null float64\n",
      "Income diversity ratio                                                      25276 non-null float64\n",
      "Median household income (2018$)                                             25276 non-null object\n",
      "Population                                                                  25276 non-null object\n",
      "Population density (1,000 persons per square mile)                          25276 non-null float64\n",
      "Poverty rate                                                                25276 non-null object\n",
      "Public housing (% of rental units)                                          25276 non-null object\n",
      "Racial diversity index                                                      25276 non-null float64\n",
      "Serious crime rate (per 1,000 residents)                                    25276 non-null float64\n",
      "Serious housing code violations (per 1,000 privately owned rental units)    25276 non-null float64\n",
      "Unnamed: 0_y                                                                6013 non-null float64\n",
      "Unnamed: 0.1_y                                                              6013 non-null float64\n",
      "yelp_alias                                                                  6013 non-null object\n",
      "yelp_categories_0_alias                                                     6009 non-null object\n",
      "yelp_categories_0_title                                                     6009 non-null object\n",
      "yelp_categories_1_alias                                                     3781 non-null object\n",
      "yelp_categories_1_title                                                     3781 non-null object\n",
      "yelp_categories_2_alias                                                     2036 non-null object\n",
      "yelp_categories_2_title                                                     2036 non-null object\n",
      "yelp_coordinates_latitude                                                   6013 non-null float64\n",
      "yelp_coordinates_longitude                                                  6013 non-null float64\n",
      "yelp_display_phone                                                          5689 non-null object\n",
      "yelp_distance                                                               6013 non-null float64\n",
      "yelp_id                                                                     6013 non-null object\n",
      "yelp_image_url                                                              5945 non-null object\n",
      "yelp_is_closed                                                              6013 non-null object\n",
      "yelp_location_address1                                                      6013 non-null object\n",
      "yelp_location_address2                                                      1394 non-null object\n",
      "yelp_location_address3                                                      1492 non-null object\n",
      "yelp_location_city                                                          6013 non-null object\n",
      "yelp_location_country                                                       6013 non-null object\n",
      "yelp_location_display_address_0                                             6013 non-null object\n",
      "yelp_location_display_address_1                                             6012 non-null object\n",
      "yelp_location_display_address_2                                             195 non-null object\n",
      "yelp_location_display_address_3                                             6 non-null object\n",
      "yelp_location_state                                                         6013 non-null object\n",
      "yelp_location_zip_code                                                      6013 non-null float64\n",
      "yelp_name                                                                   6013 non-null object\n",
      "yelp_phone                                                                  5689 non-null float64\n",
      "yelp_price                                                                  5053 non-null object\n",
      "yelp_rating                                                                 6013 non-null float64\n",
      "yelp_review_count                                                           6013 non-null float64\n",
      "yelp_transactions_0                                                         3479 non-null object\n",
      "yelp_transactions_1                                                         3072 non-null object\n",
      "yelp_transactions_2                                                         104 non-null object\n",
      "yelp_url                                                                    6013 non-null object\n",
      "yelp_result_num                                                             6013 non-null float64\n",
      "new_latitude                                                                6013 non-null object\n",
      "dtypes: float64(32), int64(6), object(45)\n",
      "memory usage: 16.5+ MB\n"
     ]
    }
   ],
   "source": [
    "len(HD_NY311_Hoods_Yelp_TEST)\n",
    "#HD_NY311_Hoods_Yelp_TEST.head()\n",
    "HD_NY311_Hoods_Yelp_TEST['yelp_review_count'].unique()\n",
    "HD_NY311_Hoods_Yelp_TEST.info()"
   ]
  },
  {
   "cell_type": "code",
   "execution_count": 224,
   "metadata": {},
   "outputs": [
    {
     "data": {
      "text/plain": [
       "'40.76381, -73.97518'"
      ]
     },
     "execution_count": 224,
     "metadata": {},
     "output_type": "execute_result"
    },
    {
     "data": {
      "text/plain": [
       "'40.70534, -74.00869'"
      ]
     },
     "execution_count": 224,
     "metadata": {},
     "output_type": "execute_result"
    }
   ],
   "source": [
    "Yelp.location[100]\n",
    "HD_NY311_Hoods.location[100]"
   ]
  },
  {
   "cell_type": "code",
   "execution_count": null,
   "metadata": {},
   "outputs": [],
   "source": []
  }
 ],
 "metadata": {
  "kernelspec": {
   "display_name": "Python 3",
   "language": "python",
   "name": "python3"
  },
  "language_info": {
   "codemirror_mode": {
    "name": "ipython",
    "version": 3
   },
   "file_extension": ".py",
   "mimetype": "text/x-python",
   "name": "python",
   "nbconvert_exporter": "python",
   "pygments_lexer": "ipython3",
   "version": "3.6.10"
  }
 },
 "nbformat": 4,
 "nbformat_minor": 2
}
