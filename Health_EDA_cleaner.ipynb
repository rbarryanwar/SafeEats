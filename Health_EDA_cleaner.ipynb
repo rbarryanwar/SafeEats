{
 "cells": [
  {
   "cell_type": "code",
   "execution_count": 1,
   "metadata": {},
   "outputs": [
    {
     "name": "stdout",
     "output_type": "stream",
     "text": [
      "/Users/rabarry/Documents/Insight/NYC data\n"
     ]
    }
   ],
   "source": [
    "cd '/Users/rabarry/Documents/Insight/NYC data'"
   ]
  },
  {
   "cell_type": "code",
   "execution_count": 2,
   "metadata": {},
   "outputs": [],
   "source": [
    "import pandas as pd\n",
    "import numpy as np\n",
    "import matplotlib.pyplot as plt\n",
    "%matplotlib inline\n",
    "from IPython.core.interactiveshell import InteractiveShell\n",
    "InteractiveShell.ast_node_interactivity = \"all\"\n",
    "import seaborn as sns"
   ]
  },
  {
   "cell_type": "markdown",
   "metadata": {},
   "source": [
    "# Initial data cleaning"
   ]
  },
  {
   "cell_type": "code",
   "execution_count": 3,
   "metadata": {},
   "outputs": [],
   "source": [
    "HD = pd.read_csv('DOHMH_New_York_City_Restaurant_Inspection_Results.csv')"
   ]
  },
  {
   "cell_type": "code",
   "execution_count": 4,
   "metadata": {},
   "outputs": [],
   "source": [
    "#cast date as date datatype\n",
    "HD[\"INSPECTION DATE\"] = pd.to_datetime(HD[\"INSPECTION DATE\"])"
   ]
  },
  {
   "cell_type": "code",
   "execution_count": 5,
   "metadata": {},
   "outputs": [],
   "source": [
    "#remove anything before 01-01-2014\n",
    "HD = HD[HD[\"INSPECTION DATE\"] > '2014-01-01']"
   ]
  },
  {
   "cell_type": "code",
   "execution_count": 6,
   "metadata": {},
   "outputs": [],
   "source": [
    "HD = HD.sort_values(\"INSPECTION DATE\")"
   ]
  },
  {
   "cell_type": "code",
   "execution_count": 7,
   "metadata": {},
   "outputs": [
    {
     "data": {
      "text/plain": [
       "25697"
      ]
     },
     "execution_count": 7,
     "metadata": {},
     "output_type": "execute_result"
    }
   ],
   "source": [
    "len(HD[\"CAMIS\"].unique())"
   ]
  },
  {
   "cell_type": "code",
   "execution_count": 8,
   "metadata": {},
   "outputs": [
    {
     "data": {
      "text/plain": [
       "Y    217897\n",
       "N    171818\n",
       "Name: CRITICAL FLAG, dtype: int64"
      ]
     },
     "execution_count": 8,
     "metadata": {},
     "output_type": "execute_result"
    }
   ],
   "source": [
    "HD[\"CRITICAL FLAG\"].value_counts()"
   ]
  },
  {
   "cell_type": "code",
   "execution_count": 13,
   "metadata": {},
   "outputs": [
    {
     "data": {
      "text/plain": [
       "Index(['CAMIS', 'DBA', 'BORO', 'BUILDING', 'STREET', 'ZIPCODE', 'PHONE',\n",
       "       'CUISINE DESCRIPTION', 'INSPECTION DATE', 'ACTION', 'VIOLATION CODE',\n",
       "       'VIOLATION DESCRIPTION', 'CRITICAL FLAG', 'SCORE', 'GRADE',\n",
       "       'GRADE DATE', 'RECORD DATE', 'INSPECTION TYPE', 'Latitude', 'Longitude',\n",
       "       'Community Board', 'Council District', 'Census Tract', 'BIN', 'BBL',\n",
       "       'NTA'],\n",
       "      dtype='object')"
      ]
     },
     "execution_count": 13,
     "metadata": {},
     "output_type": "execute_result"
    }
   ],
   "source": [
    "HD.columns"
   ]
  },
  {
   "cell_type": "markdown",
   "metadata": {},
   "source": [
    "# Recode critical flag so we can get a count of Y and N"
   ]
  },
  {
   "cell_type": "code",
   "execution_count": 43,
   "metadata": {},
   "outputs": [],
   "source": [
    "def recode_critical (row):\n",
    "    if row[\"CRITICAL FLAG\"] == \"Y\":\n",
    "        return 1\n",
    "    else:\n",
    "        return 0"
   ]
  },
  {
   "cell_type": "code",
   "execution_count": 44,
   "metadata": {},
   "outputs": [],
   "source": [
    "HD['critical_flag_recode'] = HD.apply (lambda row: recode_critical(row), axis=1)"
   ]
  },
  {
   "cell_type": "markdown",
   "metadata": {},
   "source": [
    "# Group by Restaurant and Inspection Date"
   ]
  },
  {
   "cell_type": "code",
   "execution_count": 45,
   "metadata": {},
   "outputs": [
    {
     "data": {
      "text/html": [
       "<div>\n",
       "<style scoped>\n",
       "    .dataframe tbody tr th:only-of-type {\n",
       "        vertical-align: middle;\n",
       "    }\n",
       "\n",
       "    .dataframe tbody tr th {\n",
       "        vertical-align: top;\n",
       "    }\n",
       "\n",
       "    .dataframe thead th {\n",
       "        text-align: right;\n",
       "    }\n",
       "</style>\n",
       "<table border=\"1\" class=\"dataframe\">\n",
       "  <thead>\n",
       "    <tr style=\"text-align: right;\">\n",
       "      <th></th>\n",
       "      <th>CAMIS</th>\n",
       "      <th>INSPECTION DATE</th>\n",
       "      <th>critical_flag_recode</th>\n",
       "    </tr>\n",
       "  </thead>\n",
       "  <tbody>\n",
       "    <tr>\n",
       "      <th>0</th>\n",
       "      <td>30075445</td>\n",
       "      <td>2017-05-18</td>\n",
       "      <td>1</td>\n",
       "    </tr>\n",
       "    <tr>\n",
       "      <th>1</th>\n",
       "      <td>30075445</td>\n",
       "      <td>2018-05-11</td>\n",
       "      <td>0</td>\n",
       "    </tr>\n",
       "    <tr>\n",
       "      <th>2</th>\n",
       "      <td>30075445</td>\n",
       "      <td>2019-05-16</td>\n",
       "      <td>1</td>\n",
       "    </tr>\n",
       "    <tr>\n",
       "      <th>3</th>\n",
       "      <td>30075445</td>\n",
       "      <td>2019-06-11</td>\n",
       "      <td>0</td>\n",
       "    </tr>\n",
       "    <tr>\n",
       "      <th>4</th>\n",
       "      <td>30075445</td>\n",
       "      <td>2019-10-21</td>\n",
       "      <td>2</td>\n",
       "    </tr>\n",
       "    <tr>\n",
       "      <th>...</th>\n",
       "      <td>...</td>\n",
       "      <td>...</td>\n",
       "      <td>...</td>\n",
       "    </tr>\n",
       "    <tr>\n",
       "      <th>134435</th>\n",
       "      <td>50101998</td>\n",
       "      <td>2020-01-07</td>\n",
       "      <td>1</td>\n",
       "    </tr>\n",
       "    <tr>\n",
       "      <th>134436</th>\n",
       "      <td>50102076</td>\n",
       "      <td>2020-01-07</td>\n",
       "      <td>3</td>\n",
       "    </tr>\n",
       "    <tr>\n",
       "      <th>134437</th>\n",
       "      <td>50102276</td>\n",
       "      <td>2020-01-09</td>\n",
       "      <td>3</td>\n",
       "    </tr>\n",
       "    <tr>\n",
       "      <th>134438</th>\n",
       "      <td>50102300</td>\n",
       "      <td>2020-01-07</td>\n",
       "      <td>6</td>\n",
       "    </tr>\n",
       "    <tr>\n",
       "      <th>134439</th>\n",
       "      <td>50102397</td>\n",
       "      <td>2020-01-09</td>\n",
       "      <td>1</td>\n",
       "    </tr>\n",
       "  </tbody>\n",
       "</table>\n",
       "<p>134440 rows × 3 columns</p>\n",
       "</div>"
      ],
      "text/plain": [
       "           CAMIS INSPECTION DATE  critical_flag_recode\n",
       "0       30075445      2017-05-18                     1\n",
       "1       30075445      2018-05-11                     0\n",
       "2       30075445      2019-05-16                     1\n",
       "3       30075445      2019-06-11                     0\n",
       "4       30075445      2019-10-21                     2\n",
       "...          ...             ...                   ...\n",
       "134435  50101998      2020-01-07                     1\n",
       "134436  50102076      2020-01-07                     3\n",
       "134437  50102276      2020-01-09                     3\n",
       "134438  50102300      2020-01-07                     6\n",
       "134439  50102397      2020-01-09                     1\n",
       "\n",
       "[134440 rows x 3 columns]"
      ]
     },
     "execution_count": 45,
     "metadata": {},
     "output_type": "execute_result"
    },
    {
     "data": {
      "text/html": [
       "<div>\n",
       "<style scoped>\n",
       "    .dataframe tbody tr th:only-of-type {\n",
       "        vertical-align: middle;\n",
       "    }\n",
       "\n",
       "    .dataframe tbody tr th {\n",
       "        vertical-align: top;\n",
       "    }\n",
       "\n",
       "    .dataframe thead th {\n",
       "        text-align: right;\n",
       "    }\n",
       "</style>\n",
       "<table border=\"1\" class=\"dataframe\">\n",
       "  <thead>\n",
       "    <tr style=\"text-align: right;\">\n",
       "      <th></th>\n",
       "      <th></th>\n",
       "      <th>critical_flag_recode</th>\n",
       "    </tr>\n",
       "    <tr>\n",
       "      <th>CAMIS</th>\n",
       "      <th>INSPECTION DATE</th>\n",
       "      <th></th>\n",
       "    </tr>\n",
       "  </thead>\n",
       "  <tbody>\n",
       "    <tr>\n",
       "      <th rowspan=\"5\" valign=\"top\">30075445</th>\n",
       "      <th>2017-05-18</th>\n",
       "      <td>1</td>\n",
       "    </tr>\n",
       "    <tr>\n",
       "      <th>2018-05-11</th>\n",
       "      <td>0</td>\n",
       "    </tr>\n",
       "    <tr>\n",
       "      <th>2019-05-16</th>\n",
       "      <td>1</td>\n",
       "    </tr>\n",
       "    <tr>\n",
       "      <th>2019-06-11</th>\n",
       "      <td>0</td>\n",
       "    </tr>\n",
       "    <tr>\n",
       "      <th>2019-10-21</th>\n",
       "      <td>2</td>\n",
       "    </tr>\n",
       "  </tbody>\n",
       "</table>\n",
       "</div>"
      ],
      "text/plain": [
       "                          critical_flag_recode\n",
       "CAMIS    INSPECTION DATE                      \n",
       "30075445 2017-05-18                          1\n",
       "         2018-05-11                          0\n",
       "         2019-05-16                          1\n",
       "         2019-06-11                          0\n",
       "         2019-10-21                          2"
      ]
     },
     "execution_count": 45,
     "metadata": {},
     "output_type": "execute_result"
    },
    {
     "data": {
      "text/html": [
       "<div>\n",
       "<style scoped>\n",
       "    .dataframe tbody tr th:only-of-type {\n",
       "        vertical-align: middle;\n",
       "    }\n",
       "\n",
       "    .dataframe tbody tr th {\n",
       "        vertical-align: top;\n",
       "    }\n",
       "\n",
       "    .dataframe thead th {\n",
       "        text-align: right;\n",
       "    }\n",
       "</style>\n",
       "<table border=\"1\" class=\"dataframe\">\n",
       "  <thead>\n",
       "    <tr style=\"text-align: right;\">\n",
       "      <th></th>\n",
       "      <th></th>\n",
       "      <th>critical_flag_recode</th>\n",
       "    </tr>\n",
       "    <tr>\n",
       "      <th>CAMIS</th>\n",
       "      <th>INSPECTION DATE</th>\n",
       "      <th></th>\n",
       "    </tr>\n",
       "  </thead>\n",
       "  <tbody>\n",
       "    <tr>\n",
       "      <th>50101998</th>\n",
       "      <th>2020-01-07</th>\n",
       "      <td>1</td>\n",
       "    </tr>\n",
       "    <tr>\n",
       "      <th>50102076</th>\n",
       "      <th>2020-01-07</th>\n",
       "      <td>3</td>\n",
       "    </tr>\n",
       "    <tr>\n",
       "      <th>50102276</th>\n",
       "      <th>2020-01-09</th>\n",
       "      <td>3</td>\n",
       "    </tr>\n",
       "    <tr>\n",
       "      <th>50102300</th>\n",
       "      <th>2020-01-07</th>\n",
       "      <td>6</td>\n",
       "    </tr>\n",
       "    <tr>\n",
       "      <th>50102397</th>\n",
       "      <th>2020-01-09</th>\n",
       "      <td>1</td>\n",
       "    </tr>\n",
       "  </tbody>\n",
       "</table>\n",
       "</div>"
      ],
      "text/plain": [
       "                          critical_flag_recode\n",
       "CAMIS    INSPECTION DATE                      \n",
       "50101998 2020-01-07                          1\n",
       "50102076 2020-01-07                          3\n",
       "50102276 2020-01-09                          3\n",
       "50102300 2020-01-07                          6\n",
       "50102397 2020-01-09                          1"
      ]
     },
     "execution_count": 45,
     "metadata": {},
     "output_type": "execute_result"
    }
   ],
   "source": [
    "HD_grouped = HD.groupby([\"CAMIS\", \"INSPECTION DATE\"]).agg({'critical_flag_recode': 'sum'})\n",
    "HD_grouped.reset_index()\n",
    "HD_grouped.head()\n",
    "HD_grouped.tail()"
   ]
  },
  {
   "cell_type": "code",
   "execution_count": 65,
   "metadata": {},
   "outputs": [
    {
     "data": {
      "text/plain": [
       "<matplotlib.axes._subplots.AxesSubplot at 0x134fe9470>"
      ]
     },
     "execution_count": 65,
     "metadata": {},
     "output_type": "execute_result"
    },
    {
     "data": {
      "image/png": "[encoded data removed]",
      "text/plain": [
       "<Figure size 432x288 with 1 Axes>"
      ]
     },
     "metadata": {
      "needs_background": "light"
     },
     "output_type": "display_data"
    }
   ],
   "source": [
    "#pd.DataFrame.hist(HD_grouped)\n",
    "sns.distplot(HD_grouped, kde=False, color='r')"
   ]
  },
  {
   "cell_type": "markdown",
   "metadata": {},
   "source": [
    "# Group by cuisine type"
   ]
  },
  {
   "cell_type": "code",
   "execution_count": 84,
   "metadata": {},
   "outputs": [
    {
     "data": {
      "text/html": [
       "<div>\n",
       "<style scoped>\n",
       "    .dataframe tbody tr th:only-of-type {\n",
       "        vertical-align: middle;\n",
       "    }\n",
       "\n",
       "    .dataframe tbody tr th {\n",
       "        vertical-align: top;\n",
       "    }\n",
       "\n",
       "    .dataframe thead th {\n",
       "        text-align: right;\n",
       "    }\n",
       "</style>\n",
       "<table border=\"1\" class=\"dataframe\">\n",
       "  <thead>\n",
       "    <tr style=\"text-align: right;\">\n",
       "      <th></th>\n",
       "      <th>CUISINE DESCRIPTION</th>\n",
       "      <th>critical_flag_recode</th>\n",
       "      <th>CAMIS</th>\n",
       "      <th>AVG_flags</th>\n",
       "    </tr>\n",
       "  </thead>\n",
       "  <tbody>\n",
       "    <tr>\n",
       "      <th>10</th>\n",
       "      <td>Basque</td>\n",
       "      <td>3</td>\n",
       "      <td>7</td>\n",
       "      <td>0.428571</td>\n",
       "    </tr>\n",
       "    <tr>\n",
       "      <th>18</th>\n",
       "      <td>Chilean</td>\n",
       "      <td>19</td>\n",
       "      <td>34</td>\n",
       "      <td>0.558824</td>\n",
       "    </tr>\n",
       "    <tr>\n",
       "      <th>25</th>\n",
       "      <td>Czech</td>\n",
       "      <td>23</td>\n",
       "      <td>41</td>\n",
       "      <td>0.560976</td>\n",
       "    </tr>\n",
       "    <tr>\n",
       "      <th>57</th>\n",
       "      <td>Nuts/Confectionary</td>\n",
       "      <td>15</td>\n",
       "      <td>43</td>\n",
       "      <td>0.348837</td>\n",
       "    </tr>\n",
       "    <tr>\n",
       "      <th>56</th>\n",
       "      <td>Not Listed/Not Applicable</td>\n",
       "      <td>35</td>\n",
       "      <td>64</td>\n",
       "      <td>0.546875</td>\n",
       "    </tr>\n",
       "  </tbody>\n",
       "</table>\n",
       "</div>"
      ],
      "text/plain": [
       "          CUISINE DESCRIPTION  critical_flag_recode  CAMIS  AVG_flags\n",
       "10                     Basque                     3      7   0.428571\n",
       "18                    Chilean                    19     34   0.558824\n",
       "25                      Czech                    23     41   0.560976\n",
       "57         Nuts/Confectionary                    15     43   0.348837\n",
       "56  Not Listed/Not Applicable                    35     64   0.546875"
      ]
     },
     "execution_count": 84,
     "metadata": {},
     "output_type": "execute_result"
    },
    {
     "data": {
      "text/html": [
       "<div>\n",
       "<style scoped>\n",
       "    .dataframe tbody tr th:only-of-type {\n",
       "        vertical-align: middle;\n",
       "    }\n",
       "\n",
       "    .dataframe tbody tr th {\n",
       "        vertical-align: top;\n",
       "    }\n",
       "\n",
       "    .dataframe thead th {\n",
       "        text-align: right;\n",
       "    }\n",
       "</style>\n",
       "<table border=\"1\" class=\"dataframe\">\n",
       "  <thead>\n",
       "    <tr style=\"text-align: right;\">\n",
       "      <th></th>\n",
       "      <th>CUISINE DESCRIPTION</th>\n",
       "      <th>critical_flag_recode</th>\n",
       "      <th>CAMIS</th>\n",
       "      <th>AVG_flags</th>\n",
       "    </tr>\n",
       "  </thead>\n",
       "  <tbody>\n",
       "    <tr>\n",
       "      <th>51</th>\n",
       "      <td>Latin (Cuban, Dominican, Puerto Rican, South &amp;...</td>\n",
       "      <td>9945</td>\n",
       "      <td>17419</td>\n",
       "      <td>0.570928</td>\n",
       "    </tr>\n",
       "    <tr>\n",
       "      <th>62</th>\n",
       "      <td>Pizza</td>\n",
       "      <td>9564</td>\n",
       "      <td>17515</td>\n",
       "      <td>0.546046</td>\n",
       "    </tr>\n",
       "    <tr>\n",
       "      <th>13</th>\n",
       "      <td>Café/Coffee/Tea</td>\n",
       "      <td>9772</td>\n",
       "      <td>19420</td>\n",
       "      <td>0.503193</td>\n",
       "    </tr>\n",
       "    <tr>\n",
       "      <th>19</th>\n",
       "      <td>Chinese</td>\n",
       "      <td>24036</td>\n",
       "      <td>41896</td>\n",
       "      <td>0.573706</td>\n",
       "    </tr>\n",
       "    <tr>\n",
       "      <th>2</th>\n",
       "      <td>American</td>\n",
       "      <td>45029</td>\n",
       "      <td>83710</td>\n",
       "      <td>0.537917</td>\n",
       "    </tr>\n",
       "  </tbody>\n",
       "</table>\n",
       "</div>"
      ],
      "text/plain": [
       "                                  CUISINE DESCRIPTION  critical_flag_recode  \\\n",
       "51  Latin (Cuban, Dominican, Puerto Rican, South &...                  9945   \n",
       "62                                              Pizza                  9564   \n",
       "13                                    Café/Coffee/Tea                  9772   \n",
       "19                                            Chinese                 24036   \n",
       "2                                            American                 45029   \n",
       "\n",
       "    CAMIS  AVG_flags  \n",
       "51  17419   0.570928  \n",
       "62  17515   0.546046  \n",
       "13  19420   0.503193  \n",
       "19  41896   0.573706  \n",
       "2   83710   0.537917  "
      ]
     },
     "execution_count": 84,
     "metadata": {},
     "output_type": "execute_result"
    }
   ],
   "source": [
    "HD_grouped_byCuisine = HD.groupby(\"CUISINE DESCRIPTION\").agg({\"critical_flag_recode\":'sum', 'CAMIS':'count'})\n",
    "HD_grouped_byCuisine=HD_grouped_byCuisine.reset_index()\n",
    "HD_grouped_byCuisine['AVG_flags']= HD_grouped_byCuisine[\"critical_flag_recode\"]/HD_grouped_byCuisine['CAMIS']\n",
    "HD_grouped_byCuisine= HD_grouped_byCuisine.sort_values('CAMIS')\n",
    "HD_grouped_byCuisine.head()\n",
    "HD_grouped_byCuisine.tail()"
   ]
  },
  {
   "cell_type": "code",
   "execution_count": 85,
   "metadata": {},
   "outputs": [
    {
     "data": {
      "text/plain": [
       "(0.2, 0.6)"
      ]
     },
     "execution_count": 85,
     "metadata": {},
     "output_type": "execute_result"
    },
    {
     "data": {
      "text/plain": [
       "<BarContainer object of 5 artists>"
      ]
     },
     "execution_count": 85,
     "metadata": {},
     "output_type": "execute_result"
    },
    {
     "data": {
      "text/plain": [
       "Text(0.5, 1.0, 'Average number of flags in the Top 5 most popular restaurant types')"
      ]
     },
     "execution_count": 85,
     "metadata": {},
     "output_type": "execute_result"
    },
    {
     "data": {
      "image/png": "[encoded data removed]",
      "text/plain": [
       "<Figure size 1080x288 with 1 Axes>"
      ]
     },
     "metadata": {
      "needs_background": "light"
     },
     "output_type": "display_data"
    }
   ],
   "source": [
    "fig = plt.figure(figsize=(15,4))\n",
    "plt.ylim(0.2,0.6)\n",
    "HD_top5 = HD_grouped_byCuisine.nlargest(5,columns='CAMIS')\n",
    "plt.bar(HD_top5[\"CUISINE DESCRIPTION\"],HD_top5[\"AVG_flags\"])\n",
    "plt.title(\"Average number of flags in the Top 5 most popular restaurant types\")"
   ]
  },
  {
   "cell_type": "markdown",
   "metadata": {},
   "source": [
    "# Group by Restaurant"
   ]
  },
  {
   "cell_type": "code",
   "execution_count": 89,
   "metadata": {},
   "outputs": [
    {
     "data": {
      "text/plain": [
       "<matplotlib.axes._subplots.AxesSubplot at 0x1a24601828>"
      ]
     },
     "execution_count": 89,
     "metadata": {},
     "output_type": "execute_result"
    },
    {
     "data": {
      "text/plain": [
       "Text(0.5, 1.0, 'Total Number of Critical Violations')"
      ]
     },
     "execution_count": 89,
     "metadata": {},
     "output_type": "execute_result"
    },
    {
     "data": {
      "text/plain": [
       "(0, 40)"
      ]
     },
     "execution_count": 89,
     "metadata": {},
     "output_type": "execute_result"
    },
    {
     "data": {
      "image/png": "[encoded data removed]",
      "text/plain": [
       "<Figure size 432x288 with 1 Axes>"
      ]
     },
     "metadata": {
      "needs_background": "light"
     },
     "output_type": "display_data"
    }
   ],
   "source": [
    "HD_grouped_allDates = HD.groupby(\"CAMIS\").agg({'critical_flag_recode': 'sum'})\n",
    "#HD_grouped_allDates = HD_grouped_allDates.reset_index()\n",
    "sns.set_context(\"talk\")\n",
    "sns.distplot(HD_grouped_allDates, kde=False, color='r')\n",
    "sns.despine()\n",
    "#plt.xlabel('Number of Critical Violations')\n",
    "plt.title('Total Number of Critical Violations')\n",
    "plt.xlim(0,40) \n",
    "#plt.savefig('histogram.png')"
   ]
  },
  {
   "cell_type": "markdown",
   "metadata": {},
   "source": [
    "# create a list to use for searching yelp"
   ]
  },
  {
   "cell_type": "code",
   "execution_count": 91,
   "metadata": {},
   "outputs": [
    {
     "data": {
      "text/html": [
       "<div>\n",
       "<style scoped>\n",
       "    .dataframe tbody tr th:only-of-type {\n",
       "        vertical-align: middle;\n",
       "    }\n",
       "\n",
       "    .dataframe tbody tr th {\n",
       "        vertical-align: top;\n",
       "    }\n",
       "\n",
       "    .dataframe thead th {\n",
       "        text-align: right;\n",
       "    }\n",
       "</style>\n",
       "<table border=\"1\" class=\"dataframe\">\n",
       "  <thead>\n",
       "    <tr style=\"text-align: right;\">\n",
       "      <th></th>\n",
       "      <th>CAMIS</th>\n",
       "      <th>DBA</th>\n",
       "      <th>BORO</th>\n",
       "      <th>ZIPCODE</th>\n",
       "      <th>PHONE</th>\n",
       "      <th>Latitude</th>\n",
       "      <th>Longitude</th>\n",
       "    </tr>\n",
       "  </thead>\n",
       "  <tbody>\n",
       "    <tr>\n",
       "      <th>13541</th>\n",
       "      <td>50003303</td>\n",
       "      <td>BROOKLYN SWEET SPOT</td>\n",
       "      <td>Brooklyn</td>\n",
       "      <td>11205.0</td>\n",
       "      <td>7185222577</td>\n",
       "      <td>40.693184</td>\n",
       "      <td>-73.971562</td>\n",
       "    </tr>\n",
       "    <tr>\n",
       "      <th>4045</th>\n",
       "      <td>41308050</td>\n",
       "      <td>RELISH CONCESSIONS (LASKER RINK)</td>\n",
       "      <td>Manhattan</td>\n",
       "      <td>NaN</td>\n",
       "      <td>9174923856</td>\n",
       "      <td>0.000000</td>\n",
       "      <td>0.000000</td>\n",
       "    </tr>\n",
       "    <tr>\n",
       "      <th>388145</th>\n",
       "      <td>41702635</td>\n",
       "      <td>KAPPOCK CAFE</td>\n",
       "      <td>Bronx</td>\n",
       "      <td>10463.0</td>\n",
       "      <td>7186015500</td>\n",
       "      <td>40.878731</td>\n",
       "      <td>-73.917529</td>\n",
       "    </tr>\n",
       "    <tr>\n",
       "      <th>140010</th>\n",
       "      <td>50012569</td>\n",
       "      <td>CASA MEXICANA</td>\n",
       "      <td>Manhattan</td>\n",
       "      <td>10025.0</td>\n",
       "      <td>2122223151</td>\n",
       "      <td>40.799035</td>\n",
       "      <td>-73.966742</td>\n",
       "    </tr>\n",
       "    <tr>\n",
       "      <th>231232</th>\n",
       "      <td>50000233</td>\n",
       "      <td>PALM COURT</td>\n",
       "      <td>Manhattan</td>\n",
       "      <td>10019.0</td>\n",
       "      <td>2127593000</td>\n",
       "      <td>40.764148</td>\n",
       "      <td>-73.973951</td>\n",
       "    </tr>\n",
       "  </tbody>\n",
       "</table>\n",
       "</div>"
      ],
      "text/plain": [
       "           CAMIS                               DBA       BORO  ZIPCODE  \\\n",
       "13541   50003303               BROOKLYN SWEET SPOT   Brooklyn  11205.0   \n",
       "4045    41308050  RELISH CONCESSIONS (LASKER RINK)  Manhattan      NaN   \n",
       "388145  41702635                      KAPPOCK CAFE      Bronx  10463.0   \n",
       "140010  50012569                     CASA MEXICANA  Manhattan  10025.0   \n",
       "231232  50000233                        PALM COURT  Manhattan  10019.0   \n",
       "\n",
       "             PHONE   Latitude  Longitude  \n",
       "13541   7185222577  40.693184 -73.971562  \n",
       "4045    9174923856   0.000000   0.000000  \n",
       "388145  7186015500  40.878731 -73.917529  \n",
       "140010  2122223151  40.799035 -73.966742  \n",
       "231232  2127593000  40.764148 -73.973951  "
      ]
     },
     "execution_count": 91,
     "metadata": {},
     "output_type": "execute_result"
    }
   ],
   "source": [
    "yelp_list = HD[['CAMIS', 'DBA', 'BORO', 'ZIPCODE', 'PHONE', 'Latitude', 'Longitude']]\n",
    "#remove duplicates\n",
    "yelp_list_stripped = yelp_list.drop_duplicates(['CAMIS'])\n",
    "yelp_list_stripped.head()"
   ]
  },
  {
   "cell_type": "code",
   "execution_count": 10,
   "metadata": {},
   "outputs": [
    {
     "data": {
      "text/plain": [
       "25697"
      ]
     },
     "execution_count": 10,
     "metadata": {},
     "output_type": "execute_result"
    },
    {
     "data": {
      "text/plain": [
       "25697"
      ]
     },
     "execution_count": 10,
     "metadata": {},
     "output_type": "execute_result"
    },
    {
     "data": {
      "text/plain": [
       "pandas.core.frame.DataFrame"
      ]
     },
     "execution_count": 10,
     "metadata": {},
     "output_type": "execute_result"
    }
   ],
   "source": [
    "len(yelp_list['CAMIS'].unique())\n",
    "len(yelp_list_stripped)\n",
    "type(yelp_list_stripped)"
   ]
  },
  {
   "cell_type": "markdown",
   "metadata": {},
   "source": [
    "# Do some cleaning for yelp search"
   ]
  },
  {
   "cell_type": "code",
   "execution_count": 92,
   "metadata": {},
   "outputs": [
    {
     "data": {
      "text/plain": [
       "0.000000     399\n",
       "40.648313    118\n",
       "40.750655     67\n",
       "40.774414     61\n",
       "40.829028     45\n",
       "            ... \n",
       "40.610341      1\n",
       "40.713265      1\n",
       "40.735671      1\n",
       "40.725661      1\n",
       "40.737156      1\n",
       "Name: Latitude, Length: 21746, dtype: int64"
      ]
     },
     "execution_count": 92,
     "metadata": {},
     "output_type": "execute_result"
    },
    {
     "data": {
      "text/plain": [
       " 0.000000     399\n",
       "-73.788281    118\n",
       "-73.991944     67\n",
       "-73.877293     61\n",
       "-73.928496     45\n",
       "             ... \n",
       "-73.877641      1\n",
       "-73.935739      1\n",
       "-73.955130      1\n",
       "-73.954514      1\n",
       "-73.707634      1\n",
       "Name: Longitude, Length: 21746, dtype: int64"
      ]
     },
     "execution_count": 92,
     "metadata": {},
     "output_type": "execute_result"
    },
    {
     "name": "stderr",
     "output_type": "stream",
     "text": [
      "/anaconda3/envs/insight/lib/python3.6/site-packages/ipykernel_launcher.py:3: SettingWithCopyWarning: \n",
      "A value is trying to be set on a copy of a slice from a DataFrame.\n",
      "Try using .loc[row_indexer,col_indexer] = value instead\n",
      "\n",
      "See the caveats in the documentation: http://pandas.pydata.org/pandas-docs/stable/user_guide/indexing.html#returning-a-view-versus-a-copy\n",
      "  This is separate from the ipykernel package so we can avoid doing imports until\n",
      "/anaconda3/envs/insight/lib/python3.6/site-packages/ipykernel_launcher.py:4: SettingWithCopyWarning: \n",
      "A value is trying to be set on a copy of a slice from a DataFrame.\n",
      "Try using .loc[row_indexer,col_indexer] = value instead\n",
      "\n",
      "See the caveats in the documentation: http://pandas.pydata.org/pandas-docs/stable/user_guide/indexing.html#returning-a-view-versus-a-copy\n",
      "  after removing the cwd from sys.path.\n",
      "/anaconda3/envs/insight/lib/python3.6/site-packages/ipykernel_launcher.py:5: SettingWithCopyWarning: \n",
      "A value is trying to be set on a copy of a slice from a DataFrame.\n",
      "Try using .loc[row_indexer,col_indexer] = value instead\n",
      "\n",
      "See the caveats in the documentation: http://pandas.pydata.org/pandas-docs/stable/user_guide/indexing.html#returning-a-view-versus-a-copy\n",
      "  \"\"\"\n"
     ]
    },
    {
     "data": {
      "text/html": [
       "<div>\n",
       "<style scoped>\n",
       "    .dataframe tbody tr th:only-of-type {\n",
       "        vertical-align: middle;\n",
       "    }\n",
       "\n",
       "    .dataframe tbody tr th {\n",
       "        vertical-align: top;\n",
       "    }\n",
       "\n",
       "    .dataframe thead th {\n",
       "        text-align: right;\n",
       "    }\n",
       "</style>\n",
       "<table border=\"1\" class=\"dataframe\">\n",
       "  <thead>\n",
       "    <tr style=\"text-align: right;\">\n",
       "      <th></th>\n",
       "      <th>CAMIS</th>\n",
       "      <th>DBA</th>\n",
       "      <th>BORO</th>\n",
       "      <th>ZIPCODE</th>\n",
       "      <th>PHONE</th>\n",
       "      <th>Latitude</th>\n",
       "      <th>Longitude</th>\n",
       "      <th>DBA_clean</th>\n",
       "    </tr>\n",
       "  </thead>\n",
       "  <tbody>\n",
       "    <tr>\n",
       "      <th>13541</th>\n",
       "      <td>50003303</td>\n",
       "      <td>BROOKLYN SWEET SPOT</td>\n",
       "      <td>Brooklyn</td>\n",
       "      <td>11205.0</td>\n",
       "      <td>7185222577</td>\n",
       "      <td>40.693184</td>\n",
       "      <td>-73.971562</td>\n",
       "      <td>BROOKLYN SWEET SPOT</td>\n",
       "    </tr>\n",
       "    <tr>\n",
       "      <th>4045</th>\n",
       "      <td>41308050</td>\n",
       "      <td>RELISH CONCESSIONS (LASKER RINK)</td>\n",
       "      <td>Manhattan</td>\n",
       "      <td>NaN</td>\n",
       "      <td>9174923856</td>\n",
       "      <td>0.000000</td>\n",
       "      <td>0.000000</td>\n",
       "      <td>RELISH CONCESSIONS (LASKER RINK)</td>\n",
       "    </tr>\n",
       "    <tr>\n",
       "      <th>388145</th>\n",
       "      <td>41702635</td>\n",
       "      <td>KAPPOCK CAFE</td>\n",
       "      <td>Bronx</td>\n",
       "      <td>10463.0</td>\n",
       "      <td>7186015500</td>\n",
       "      <td>40.878731</td>\n",
       "      <td>-73.917529</td>\n",
       "      <td>KAPPOCK CAFE</td>\n",
       "    </tr>\n",
       "    <tr>\n",
       "      <th>140010</th>\n",
       "      <td>50012569</td>\n",
       "      <td>CASA MEXICANA</td>\n",
       "      <td>Manhattan</td>\n",
       "      <td>10025.0</td>\n",
       "      <td>2122223151</td>\n",
       "      <td>40.799035</td>\n",
       "      <td>-73.966742</td>\n",
       "      <td>CASA MEXICANA</td>\n",
       "    </tr>\n",
       "    <tr>\n",
       "      <th>231232</th>\n",
       "      <td>50000233</td>\n",
       "      <td>PALM COURT</td>\n",
       "      <td>Manhattan</td>\n",
       "      <td>10019.0</td>\n",
       "      <td>2127593000</td>\n",
       "      <td>40.764148</td>\n",
       "      <td>-73.973951</td>\n",
       "      <td>PALM COURT</td>\n",
       "    </tr>\n",
       "  </tbody>\n",
       "</table>\n",
       "</div>"
      ],
      "text/plain": [
       "           CAMIS                               DBA       BORO  ZIPCODE  \\\n",
       "13541   50003303               BROOKLYN SWEET SPOT   Brooklyn  11205.0   \n",
       "4045    41308050  RELISH CONCESSIONS (LASKER RINK)  Manhattan      NaN   \n",
       "388145  41702635                      KAPPOCK CAFE      Bronx  10463.0   \n",
       "140010  50012569                     CASA MEXICANA  Manhattan  10025.0   \n",
       "231232  50000233                        PALM COURT  Manhattan  10019.0   \n",
       "\n",
       "             PHONE   Latitude  Longitude                         DBA_clean  \n",
       "13541   7185222577  40.693184 -73.971562               BROOKLYN SWEET SPOT  \n",
       "4045    9174923856   0.000000   0.000000  RELISH CONCESSIONS (LASKER RINK)  \n",
       "388145  7186015500  40.878731 -73.917529                      KAPPOCK CAFE  \n",
       "140010  2122223151  40.799035 -73.966742                     CASA MEXICANA  \n",
       "231232  2127593000  40.764148 -73.973951                        PALM COURT  "
      ]
     },
     "execution_count": 92,
     "metadata": {},
     "output_type": "execute_result"
    }
   ],
   "source": [
    "yelp_list_stripped['Latitude'].value_counts()\n",
    "yelp_list_stripped['Longitude'].value_counts()\n",
    "yelp_list_stripped['Latitude']=yelp_list_stripped['Latitude'].fillna(0)\n",
    "yelp_list_stripped['Longitude']=yelp_list_stripped['Longitude'].fillna(0)\n",
    "yelp_list_stripped['DBA_clean'] = yelp_list_stripped['DBA'].str.split('#').str[0] \n",
    "yelp_list_stripped.head()"
   ]
  },
  {
   "cell_type": "code",
   "execution_count": 22,
   "metadata": {},
   "outputs": [
    {
     "data": {
      "text/html": [
       "<div>\n",
       "<style scoped>\n",
       "    .dataframe tbody tr th:only-of-type {\n",
       "        vertical-align: middle;\n",
       "    }\n",
       "\n",
       "    .dataframe tbody tr th {\n",
       "        vertical-align: top;\n",
       "    }\n",
       "\n",
       "    .dataframe thead th {\n",
       "        text-align: right;\n",
       "    }\n",
       "</style>\n",
       "<table border=\"1\" class=\"dataframe\">\n",
       "  <thead>\n",
       "    <tr style=\"text-align: right;\">\n",
       "      <th></th>\n",
       "      <th>CAMIS</th>\n",
       "      <th>DBA</th>\n",
       "      <th>BORO</th>\n",
       "      <th>ZIPCODE</th>\n",
       "      <th>PHONE</th>\n",
       "      <th>Latitude</th>\n",
       "      <th>Longitude</th>\n",
       "      <th>DBA_clean</th>\n",
       "    </tr>\n",
       "  </thead>\n",
       "  <tbody>\n",
       "    <tr>\n",
       "      <th>218782</th>\n",
       "      <td>50050805</td>\n",
       "      <td>#1 Chinese Restaurant</td>\n",
       "      <td>Manhattan</td>\n",
       "      <td>10033.0</td>\n",
       "      <td>2127403188</td>\n",
       "      <td>40.851256</td>\n",
       "      <td>-73.939519</td>\n",
       "      <td></td>\n",
       "    </tr>\n",
       "  </tbody>\n",
       "</table>\n",
       "</div>"
      ],
      "text/plain": [
       "           CAMIS                    DBA       BORO  ZIPCODE       PHONE  \\\n",
       "218782  50050805  #1 Chinese Restaurant  Manhattan  10033.0  2127403188   \n",
       "\n",
       "         Latitude  Longitude DBA_clean  \n",
       "218782  40.851256 -73.939519            "
      ]
     },
     "execution_count": 22,
     "metadata": {},
     "output_type": "execute_result"
    }
   ],
   "source": [
    "test=yelp_list_stripped[yelp_list_stripped['CAMIS']==50050805]\n",
    "test"
   ]
  },
  {
   "cell_type": "code",
   "execution_count": 23,
   "metadata": {},
   "outputs": [],
   "source": [
    "yelp_list_stripped.to_csv(r'Restaurant_List.csv')"
   ]
  },
  {
   "cell_type": "markdown",
   "metadata": {},
   "source": [
    "# Testing stuff"
   ]
  },
  {
   "cell_type": "code",
   "execution_count": 24,
   "metadata": {},
   "outputs": [],
   "source": [
    "test = test[test[\"Longitude\"] < 0]"
   ]
  },
  {
   "cell_type": "code",
   "execution_count": 25,
   "metadata": {},
   "outputs": [
    {
     "data": {
      "text/plain": [
       "40.508068517904"
      ]
     },
     "execution_count": 25,
     "metadata": {},
     "output_type": "execute_result"
    },
    {
     "data": {
      "text/plain": [
       "40.912822326386"
      ]
     },
     "execution_count": 25,
     "metadata": {},
     "output_type": "execute_result"
    },
    {
     "data": {
      "text/plain": [
       "-74.248434473464"
      ]
     },
     "execution_count": 25,
     "metadata": {},
     "output_type": "execute_result"
    },
    {
     "data": {
      "text/plain": [
       "-73.700928057808"
      ]
     },
     "execution_count": 25,
     "metadata": {},
     "output_type": "execute_result"
    }
   ],
   "source": [
    "test['Latitude'].min()\n",
    "test['Latitude'].max()\n",
    "test['Longitude'].min()\n",
    "test['Longitude'].max()"
   ]
  },
  {
   "cell_type": "code",
   "execution_count": 93,
   "metadata": {},
   "outputs": [],
   "source": [
    "test=HD[HD['CAMIS']==50063056]"
   ]
  },
  {
   "cell_type": "code",
   "execution_count": 94,
   "metadata": {},
   "outputs": [
    {
     "data": {
      "text/html": [
       "<div>\n",
       "<style scoped>\n",
       "    .dataframe tbody tr th:only-of-type {\n",
       "        vertical-align: middle;\n",
       "    }\n",
       "\n",
       "    .dataframe tbody tr th {\n",
       "        vertical-align: top;\n",
       "    }\n",
       "\n",
       "    .dataframe thead th {\n",
       "        text-align: right;\n",
       "    }\n",
       "</style>\n",
       "<table border=\"1\" class=\"dataframe\">\n",
       "  <thead>\n",
       "    <tr style=\"text-align: right;\">\n",
       "      <th></th>\n",
       "      <th>CAMIS</th>\n",
       "      <th>DBA</th>\n",
       "      <th>BORO</th>\n",
       "      <th>BUILDING</th>\n",
       "      <th>STREET</th>\n",
       "      <th>ZIPCODE</th>\n",
       "      <th>PHONE</th>\n",
       "      <th>CUISINE DESCRIPTION</th>\n",
       "      <th>INSPECTION DATE</th>\n",
       "      <th>ACTION</th>\n",
       "      <th>...</th>\n",
       "      <th>INSPECTION TYPE</th>\n",
       "      <th>Latitude</th>\n",
       "      <th>Longitude</th>\n",
       "      <th>Community Board</th>\n",
       "      <th>Council District</th>\n",
       "      <th>Census Tract</th>\n",
       "      <th>BIN</th>\n",
       "      <th>BBL</th>\n",
       "      <th>NTA</th>\n",
       "      <th>critical_flag_recode</th>\n",
       "    </tr>\n",
       "  </thead>\n",
       "  <tbody>\n",
       "    <tr>\n",
       "      <th>270396</th>\n",
       "      <td>50063056</td>\n",
       "      <td>MASPETH CAFETERIA</td>\n",
       "      <td>Queens</td>\n",
       "      <td>4805</td>\n",
       "      <td>GRAND AVE</td>\n",
       "      <td>11378.0</td>\n",
       "      <td>2016388280</td>\n",
       "      <td>American</td>\n",
       "      <td>2017-05-18</td>\n",
       "      <td>Violations were cited in the following area(s).</td>\n",
       "      <td>...</td>\n",
       "      <td>Administrative Miscellaneous / Initial Inspection</td>\n",
       "      <td>40.717286</td>\n",
       "      <td>-73.919782</td>\n",
       "      <td>405.0</td>\n",
       "      <td>30.0</td>\n",
       "      <td>21900.0</td>\n",
       "      <td>4058955.0</td>\n",
       "      <td>4.026020e+09</td>\n",
       "      <td>QN31</td>\n",
       "      <td>0</td>\n",
       "    </tr>\n",
       "    <tr>\n",
       "      <th>91705</th>\n",
       "      <td>50063056</td>\n",
       "      <td>MASPETH CAFETERIA</td>\n",
       "      <td>Queens</td>\n",
       "      <td>4805</td>\n",
       "      <td>GRAND AVE</td>\n",
       "      <td>11378.0</td>\n",
       "      <td>2016388280</td>\n",
       "      <td>American</td>\n",
       "      <td>2017-05-18</td>\n",
       "      <td>Establishment Closed by DOHMH.  Violations wer...</td>\n",
       "      <td>...</td>\n",
       "      <td>Pre-permit (Operational) / Initial Inspection</td>\n",
       "      <td>40.717286</td>\n",
       "      <td>-73.919782</td>\n",
       "      <td>405.0</td>\n",
       "      <td>30.0</td>\n",
       "      <td>21900.0</td>\n",
       "      <td>4058955.0</td>\n",
       "      <td>4.026020e+09</td>\n",
       "      <td>QN31</td>\n",
       "      <td>1</td>\n",
       "    </tr>\n",
       "    <tr>\n",
       "      <th>253835</th>\n",
       "      <td>50063056</td>\n",
       "      <td>MASPETH CAFETERIA</td>\n",
       "      <td>Queens</td>\n",
       "      <td>4805</td>\n",
       "      <td>GRAND AVE</td>\n",
       "      <td>11378.0</td>\n",
       "      <td>2016388280</td>\n",
       "      <td>American</td>\n",
       "      <td>2017-05-18</td>\n",
       "      <td>Establishment Closed by DOHMH.  Violations wer...</td>\n",
       "      <td>...</td>\n",
       "      <td>Pre-permit (Operational) / Initial Inspection</td>\n",
       "      <td>40.717286</td>\n",
       "      <td>-73.919782</td>\n",
       "      <td>405.0</td>\n",
       "      <td>30.0</td>\n",
       "      <td>21900.0</td>\n",
       "      <td>4058955.0</td>\n",
       "      <td>4.026020e+09</td>\n",
       "      <td>QN31</td>\n",
       "      <td>1</td>\n",
       "    </tr>\n",
       "    <tr>\n",
       "      <th>328245</th>\n",
       "      <td>50063056</td>\n",
       "      <td>MASPETH CAFETERIA</td>\n",
       "      <td>Queens</td>\n",
       "      <td>4805</td>\n",
       "      <td>GRAND AVE</td>\n",
       "      <td>11378.0</td>\n",
       "      <td>2016388280</td>\n",
       "      <td>American</td>\n",
       "      <td>2017-05-18</td>\n",
       "      <td>Establishment Closed by DOHMH.  Violations wer...</td>\n",
       "      <td>...</td>\n",
       "      <td>Pre-permit (Operational) / Initial Inspection</td>\n",
       "      <td>40.717286</td>\n",
       "      <td>-73.919782</td>\n",
       "      <td>405.0</td>\n",
       "      <td>30.0</td>\n",
       "      <td>21900.0</td>\n",
       "      <td>4058955.0</td>\n",
       "      <td>4.026020e+09</td>\n",
       "      <td>QN31</td>\n",
       "      <td>1</td>\n",
       "    </tr>\n",
       "    <tr>\n",
       "      <th>93577</th>\n",
       "      <td>50063056</td>\n",
       "      <td>MASPETH CAFETERIA</td>\n",
       "      <td>Queens</td>\n",
       "      <td>4805</td>\n",
       "      <td>GRAND AVE</td>\n",
       "      <td>11378.0</td>\n",
       "      <td>2016388280</td>\n",
       "      <td>American</td>\n",
       "      <td>2017-05-18</td>\n",
       "      <td>Establishment Closed by DOHMH.  Violations wer...</td>\n",
       "      <td>...</td>\n",
       "      <td>Pre-permit (Operational) / Initial Inspection</td>\n",
       "      <td>40.717286</td>\n",
       "      <td>-73.919782</td>\n",
       "      <td>405.0</td>\n",
       "      <td>30.0</td>\n",
       "      <td>21900.0</td>\n",
       "      <td>4058955.0</td>\n",
       "      <td>4.026020e+09</td>\n",
       "      <td>QN31</td>\n",
       "      <td>1</td>\n",
       "    </tr>\n",
       "  </tbody>\n",
       "</table>\n",
       "<p>5 rows × 27 columns</p>\n",
       "</div>"
      ],
      "text/plain": [
       "           CAMIS                DBA    BORO BUILDING     STREET  ZIPCODE  \\\n",
       "270396  50063056  MASPETH CAFETERIA  Queens     4805  GRAND AVE  11378.0   \n",
       "91705   50063056  MASPETH CAFETERIA  Queens     4805  GRAND AVE  11378.0   \n",
       "253835  50063056  MASPETH CAFETERIA  Queens     4805  GRAND AVE  11378.0   \n",
       "328245  50063056  MASPETH CAFETERIA  Queens     4805  GRAND AVE  11378.0   \n",
       "93577   50063056  MASPETH CAFETERIA  Queens     4805  GRAND AVE  11378.0   \n",
       "\n",
       "             PHONE CUISINE DESCRIPTION INSPECTION DATE  \\\n",
       "270396  2016388280            American      2017-05-18   \n",
       "91705   2016388280            American      2017-05-18   \n",
       "253835  2016388280            American      2017-05-18   \n",
       "328245  2016388280            American      2017-05-18   \n",
       "93577   2016388280            American      2017-05-18   \n",
       "\n",
       "                                                   ACTION  ...  \\\n",
       "270396    Violations were cited in the following area(s).  ...   \n",
       "91705   Establishment Closed by DOHMH.  Violations wer...  ...   \n",
       "253835  Establishment Closed by DOHMH.  Violations wer...  ...   \n",
       "328245  Establishment Closed by DOHMH.  Violations wer...  ...   \n",
       "93577   Establishment Closed by DOHMH.  Violations wer...  ...   \n",
       "\n",
       "                                          INSPECTION TYPE   Latitude  \\\n",
       "270396  Administrative Miscellaneous / Initial Inspection  40.717286   \n",
       "91705       Pre-permit (Operational) / Initial Inspection  40.717286   \n",
       "253835      Pre-permit (Operational) / Initial Inspection  40.717286   \n",
       "328245      Pre-permit (Operational) / Initial Inspection  40.717286   \n",
       "93577       Pre-permit (Operational) / Initial Inspection  40.717286   \n",
       "\n",
       "        Longitude  Community Board Council District Census Tract        BIN  \\\n",
       "270396 -73.919782            405.0             30.0      21900.0  4058955.0   \n",
       "91705  -73.919782            405.0             30.0      21900.0  4058955.0   \n",
       "253835 -73.919782            405.0             30.0      21900.0  4058955.0   \n",
       "328245 -73.919782            405.0             30.0      21900.0  4058955.0   \n",
       "93577  -73.919782            405.0             30.0      21900.0  4058955.0   \n",
       "\n",
       "                 BBL   NTA  critical_flag_recode  \n",
       "270396  4.026020e+09  QN31                     0  \n",
       "91705   4.026020e+09  QN31                     1  \n",
       "253835  4.026020e+09  QN31                     1  \n",
       "328245  4.026020e+09  QN31                     1  \n",
       "93577   4.026020e+09  QN31                     1  \n",
       "\n",
       "[5 rows x 27 columns]"
      ]
     },
     "execution_count": 94,
     "metadata": {},
     "output_type": "execute_result"
    }
   ],
   "source": [
    "test.head()"
   ]
  },
  {
   "cell_type": "markdown",
   "metadata": {},
   "source": [
    "# Test out timestamp differences"
   ]
  },
  {
   "cell_type": "code",
   "execution_count": 38,
   "metadata": {},
   "outputs": [],
   "source": [
    "HD_time = HD.sort_values(by=['CAMIS', 'INSPECTION DATE'])"
   ]
  },
  {
   "cell_type": "code",
   "execution_count": 39,
   "metadata": {},
   "outputs": [],
   "source": [
    "HD_time['time_diff'] = HD_time.groupby('CAMIS')['INSPECTION DATE'].diff()"
   ]
  },
  {
   "cell_type": "code",
   "execution_count": 40,
   "metadata": {},
   "outputs": [
    {
     "data": {
      "text/html": [
       "<div>\n",
       "<style scoped>\n",
       "    .dataframe tbody tr th:only-of-type {\n",
       "        vertical-align: middle;\n",
       "    }\n",
       "\n",
       "    .dataframe tbody tr th {\n",
       "        vertical-align: top;\n",
       "    }\n",
       "\n",
       "    .dataframe thead th {\n",
       "        text-align: right;\n",
       "    }\n",
       "</style>\n",
       "<table border=\"1\" class=\"dataframe\">\n",
       "  <thead>\n",
       "    <tr style=\"text-align: right;\">\n",
       "      <th></th>\n",
       "      <th>CAMIS</th>\n",
       "      <th>DBA</th>\n",
       "      <th>BORO</th>\n",
       "      <th>BUILDING</th>\n",
       "      <th>STREET</th>\n",
       "      <th>ZIPCODE</th>\n",
       "      <th>PHONE</th>\n",
       "      <th>CUISINE DESCRIPTION</th>\n",
       "      <th>INSPECTION DATE</th>\n",
       "      <th>ACTION</th>\n",
       "      <th>...</th>\n",
       "      <th>INSPECTION TYPE</th>\n",
       "      <th>Latitude</th>\n",
       "      <th>Longitude</th>\n",
       "      <th>Community Board</th>\n",
       "      <th>Council District</th>\n",
       "      <th>Census Tract</th>\n",
       "      <th>BIN</th>\n",
       "      <th>BBL</th>\n",
       "      <th>NTA</th>\n",
       "      <th>time_diff</th>\n",
       "    </tr>\n",
       "  </thead>\n",
       "  <tbody>\n",
       "    <tr>\n",
       "      <th>299101</th>\n",
       "      <td>30075445</td>\n",
       "      <td>MORRIS PARK BAKE SHOP</td>\n",
       "      <td>Bronx</td>\n",
       "      <td>1007</td>\n",
       "      <td>MORRIS PARK AVE</td>\n",
       "      <td>10462.0</td>\n",
       "      <td>7188924968</td>\n",
       "      <td>Bakery</td>\n",
       "      <td>2017-05-18</td>\n",
       "      <td>Violations were cited in the following area(s).</td>\n",
       "      <td>...</td>\n",
       "      <td>Cycle Inspection / Initial Inspection</td>\n",
       "      <td>40.848231</td>\n",
       "      <td>-73.855972</td>\n",
       "      <td>211.0</td>\n",
       "      <td>13.0</td>\n",
       "      <td>25200.0</td>\n",
       "      <td>2045445.0</td>\n",
       "      <td>2.041270e+09</td>\n",
       "      <td>BX37</td>\n",
       "      <td>NaT</td>\n",
       "    </tr>\n",
       "    <tr>\n",
       "      <th>294488</th>\n",
       "      <td>30075445</td>\n",
       "      <td>MORRIS PARK BAKE SHOP</td>\n",
       "      <td>Bronx</td>\n",
       "      <td>1007</td>\n",
       "      <td>MORRIS PARK AVE</td>\n",
       "      <td>10462.0</td>\n",
       "      <td>7188924968</td>\n",
       "      <td>Bakery</td>\n",
       "      <td>2017-05-18</td>\n",
       "      <td>Violations were cited in the following area(s).</td>\n",
       "      <td>...</td>\n",
       "      <td>Cycle Inspection / Initial Inspection</td>\n",
       "      <td>40.848231</td>\n",
       "      <td>-73.855972</td>\n",
       "      <td>211.0</td>\n",
       "      <td>13.0</td>\n",
       "      <td>25200.0</td>\n",
       "      <td>2045445.0</td>\n",
       "      <td>2.041270e+09</td>\n",
       "      <td>BX37</td>\n",
       "      <td>0 days</td>\n",
       "    </tr>\n",
       "    <tr>\n",
       "      <th>60658</th>\n",
       "      <td>30075445</td>\n",
       "      <td>MORRIS PARK BAKE SHOP</td>\n",
       "      <td>Bronx</td>\n",
       "      <td>1007</td>\n",
       "      <td>MORRIS PARK AVE</td>\n",
       "      <td>10462.0</td>\n",
       "      <td>7188924968</td>\n",
       "      <td>Bakery</td>\n",
       "      <td>2018-05-11</td>\n",
       "      <td>Violations were cited in the following area(s).</td>\n",
       "      <td>...</td>\n",
       "      <td>Cycle Inspection / Initial Inspection</td>\n",
       "      <td>40.848231</td>\n",
       "      <td>-73.855972</td>\n",
       "      <td>211.0</td>\n",
       "      <td>13.0</td>\n",
       "      <td>25200.0</td>\n",
       "      <td>2045445.0</td>\n",
       "      <td>2.041270e+09</td>\n",
       "      <td>BX37</td>\n",
       "      <td>358 days</td>\n",
       "    </tr>\n",
       "    <tr>\n",
       "      <th>123567</th>\n",
       "      <td>30075445</td>\n",
       "      <td>MORRIS PARK BAKE SHOP</td>\n",
       "      <td>Bronx</td>\n",
       "      <td>1007</td>\n",
       "      <td>MORRIS PARK AVE</td>\n",
       "      <td>10462.0</td>\n",
       "      <td>7188924968</td>\n",
       "      <td>Bakery</td>\n",
       "      <td>2018-05-11</td>\n",
       "      <td>Violations were cited in the following area(s).</td>\n",
       "      <td>...</td>\n",
       "      <td>Cycle Inspection / Initial Inspection</td>\n",
       "      <td>40.848231</td>\n",
       "      <td>-73.855972</td>\n",
       "      <td>211.0</td>\n",
       "      <td>13.0</td>\n",
       "      <td>25200.0</td>\n",
       "      <td>2045445.0</td>\n",
       "      <td>2.041270e+09</td>\n",
       "      <td>BX37</td>\n",
       "      <td>0 days</td>\n",
       "    </tr>\n",
       "    <tr>\n",
       "      <th>387953</th>\n",
       "      <td>30075445</td>\n",
       "      <td>MORRIS PARK BAKE SHOP</td>\n",
       "      <td>Bronx</td>\n",
       "      <td>1007</td>\n",
       "      <td>MORRIS PARK AVE</td>\n",
       "      <td>10462.0</td>\n",
       "      <td>7188924968</td>\n",
       "      <td>Bakery</td>\n",
       "      <td>2019-05-16</td>\n",
       "      <td>Violations were cited in the following area(s).</td>\n",
       "      <td>...</td>\n",
       "      <td>Cycle Inspection / Initial Inspection</td>\n",
       "      <td>40.848231</td>\n",
       "      <td>-73.855972</td>\n",
       "      <td>211.0</td>\n",
       "      <td>13.0</td>\n",
       "      <td>25200.0</td>\n",
       "      <td>2045445.0</td>\n",
       "      <td>2.041270e+09</td>\n",
       "      <td>BX37</td>\n",
       "      <td>370 days</td>\n",
       "    </tr>\n",
       "  </tbody>\n",
       "</table>\n",
       "<p>5 rows × 27 columns</p>\n",
       "</div>"
      ],
      "text/plain": [
       "           CAMIS                    DBA   BORO BUILDING           STREET  \\\n",
       "299101  30075445  MORRIS PARK BAKE SHOP  Bronx     1007  MORRIS PARK AVE   \n",
       "294488  30075445  MORRIS PARK BAKE SHOP  Bronx     1007  MORRIS PARK AVE   \n",
       "60658   30075445  MORRIS PARK BAKE SHOP  Bronx     1007  MORRIS PARK AVE   \n",
       "123567  30075445  MORRIS PARK BAKE SHOP  Bronx     1007  MORRIS PARK AVE   \n",
       "387953  30075445  MORRIS PARK BAKE SHOP  Bronx     1007  MORRIS PARK AVE   \n",
       "\n",
       "        ZIPCODE       PHONE CUISINE DESCRIPTION INSPECTION DATE  \\\n",
       "299101  10462.0  7188924968              Bakery      2017-05-18   \n",
       "294488  10462.0  7188924968              Bakery      2017-05-18   \n",
       "60658   10462.0  7188924968              Bakery      2018-05-11   \n",
       "123567  10462.0  7188924968              Bakery      2018-05-11   \n",
       "387953  10462.0  7188924968              Bakery      2019-05-16   \n",
       "\n",
       "                                                 ACTION  ...  \\\n",
       "299101  Violations were cited in the following area(s).  ...   \n",
       "294488  Violations were cited in the following area(s).  ...   \n",
       "60658   Violations were cited in the following area(s).  ...   \n",
       "123567  Violations were cited in the following area(s).  ...   \n",
       "387953  Violations were cited in the following area(s).  ...   \n",
       "\n",
       "                              INSPECTION TYPE   Latitude  Longitude  \\\n",
       "299101  Cycle Inspection / Initial Inspection  40.848231 -73.855972   \n",
       "294488  Cycle Inspection / Initial Inspection  40.848231 -73.855972   \n",
       "60658   Cycle Inspection / Initial Inspection  40.848231 -73.855972   \n",
       "123567  Cycle Inspection / Initial Inspection  40.848231 -73.855972   \n",
       "387953  Cycle Inspection / Initial Inspection  40.848231 -73.855972   \n",
       "\n",
       "        Community Board Council District Census Tract        BIN  \\\n",
       "299101            211.0             13.0      25200.0  2045445.0   \n",
       "294488            211.0             13.0      25200.0  2045445.0   \n",
       "60658             211.0             13.0      25200.0  2045445.0   \n",
       "123567            211.0             13.0      25200.0  2045445.0   \n",
       "387953            211.0             13.0      25200.0  2045445.0   \n",
       "\n",
       "                 BBL   NTA  time_diff  \n",
       "299101  2.041270e+09  BX37        NaT  \n",
       "294488  2.041270e+09  BX37     0 days  \n",
       "60658   2.041270e+09  BX37   358 days  \n",
       "123567  2.041270e+09  BX37     0 days  \n",
       "387953  2.041270e+09  BX37   370 days  \n",
       "\n",
       "[5 rows x 27 columns]"
      ]
     },
     "execution_count": 40,
     "metadata": {},
     "output_type": "execute_result"
    }
   ],
   "source": [
    "HD_time.head()"
   ]
  },
  {
   "cell_type": "markdown",
   "metadata": {},
   "source": [
    "# Number of Critical Violations at Most Recent Inspection"
   ]
  },
  {
   "cell_type": "code",
   "execution_count": 110,
   "metadata": {},
   "outputs": [],
   "source": [
    "#HD_LastInsp = HD.sort_values('INSPECTION DATE').groupby('CAMIS').last()\n",
    "HD_LastInsp = HD.sort_values('INSPECTION DATE').groupby([\"CAMIS\", \"INSPECTION DATE\"]).agg({'critical_flag_recode': 'sum'})\n",
    "#HD_LastInsp = HD.loc[HD.groupby(['CAMIS', 'INSPECTION DATE'])].agg({'critical_flag_recode': 'sum'}).last()"
   ]
  },
  {
   "cell_type": "code",
   "execution_count": 117,
   "metadata": {},
   "outputs": [
    {
     "data": {
      "text/plain": [
       "134440"
      ]
     },
     "execution_count": 117,
     "metadata": {},
     "output_type": "execute_result"
    },
    {
     "data": {
      "text/html": [
       "<div>\n",
       "<style scoped>\n",
       "    .dataframe tbody tr th:only-of-type {\n",
       "        vertical-align: middle;\n",
       "    }\n",
       "\n",
       "    .dataframe tbody tr th {\n",
       "        vertical-align: top;\n",
       "    }\n",
       "\n",
       "    .dataframe thead th {\n",
       "        text-align: right;\n",
       "    }\n",
       "</style>\n",
       "<table border=\"1\" class=\"dataframe\">\n",
       "  <thead>\n",
       "    <tr style=\"text-align: right;\">\n",
       "      <th></th>\n",
       "      <th>CAMIS</th>\n",
       "      <th>INSPECTION DATE</th>\n",
       "      <th>critical_flag_recode</th>\n",
       "    </tr>\n",
       "  </thead>\n",
       "  <tbody>\n",
       "    <tr>\n",
       "      <th>0</th>\n",
       "      <td>50053703</td>\n",
       "      <td>2019-06-10</td>\n",
       "      <td>0</td>\n",
       "    </tr>\n",
       "    <tr>\n",
       "      <th>12137</th>\n",
       "      <td>40793030</td>\n",
       "      <td>2016-12-03</td>\n",
       "      <td>0</td>\n",
       "    </tr>\n",
       "    <tr>\n",
       "      <th>12138</th>\n",
       "      <td>40793030</td>\n",
       "      <td>2017-11-08</td>\n",
       "      <td>0</td>\n",
       "    </tr>\n",
       "    <tr>\n",
       "      <th>12139</th>\n",
       "      <td>50069127</td>\n",
       "      <td>2018-06-08</td>\n",
       "      <td>0</td>\n",
       "    </tr>\n",
       "    <tr>\n",
       "      <th>12140</th>\n",
       "      <td>40792980</td>\n",
       "      <td>2018-08-21</td>\n",
       "      <td>0</td>\n",
       "    </tr>\n",
       "  </tbody>\n",
       "</table>\n",
       "</div>"
      ],
      "text/plain": [
       "          CAMIS INSPECTION DATE  critical_flag_recode\n",
       "0      50053703      2019-06-10                     0\n",
       "12137  40793030      2016-12-03                     0\n",
       "12138  40793030      2017-11-08                     0\n",
       "12139  50069127      2018-06-08                     0\n",
       "12140  40792980      2018-08-21                     0"
      ]
     },
     "execution_count": 117,
     "metadata": {},
     "output_type": "execute_result"
    }
   ],
   "source": [
    "len(HD_LastInsp)\n",
    "#HD_LastInsp = HD_LastInsp.reset_index()\n",
    "HD_LastInsp = HD_LastInsp.sort_values('critical_flag_recode')\n",
    "HD_LastInsp.head()"
   ]
  },
  {
   "cell_type": "code",
   "execution_count": 125,
   "metadata": {},
   "outputs": [
    {
     "data": {
      "text/plain": [
       "25697"
      ]
     },
     "execution_count": 125,
     "metadata": {},
     "output_type": "execute_result"
    },
    {
     "data": {
      "text/html": [
       "<div>\n",
       "<style scoped>\n",
       "    .dataframe tbody tr th:only-of-type {\n",
       "        vertical-align: middle;\n",
       "    }\n",
       "\n",
       "    .dataframe tbody tr th {\n",
       "        vertical-align: top;\n",
       "    }\n",
       "\n",
       "    .dataframe thead th {\n",
       "        text-align: right;\n",
       "    }\n",
       "</style>\n",
       "<table border=\"1\" class=\"dataframe\">\n",
       "  <thead>\n",
       "    <tr style=\"text-align: right;\">\n",
       "      <th></th>\n",
       "      <th>CAMIS</th>\n",
       "      <th>INSPECTION DATE</th>\n",
       "      <th>critical_flag_recode</th>\n",
       "    </tr>\n",
       "  </thead>\n",
       "  <tbody>\n",
       "    <tr>\n",
       "      <th>12848</th>\n",
       "      <td>50018118</td>\n",
       "      <td>2019-06-20</td>\n",
       "      <td>0</td>\n",
       "    </tr>\n",
       "    <tr>\n",
       "      <th>4161</th>\n",
       "      <td>41215423</td>\n",
       "      <td>2019-03-27</td>\n",
       "      <td>0</td>\n",
       "    </tr>\n",
       "    <tr>\n",
       "      <th>20502</th>\n",
       "      <td>50076096</td>\n",
       "      <td>2019-11-18</td>\n",
       "      <td>0</td>\n",
       "    </tr>\n",
       "    <tr>\n",
       "      <th>20505</th>\n",
       "      <td>50076107</td>\n",
       "      <td>2019-09-17</td>\n",
       "      <td>0</td>\n",
       "    </tr>\n",
       "    <tr>\n",
       "      <th>14717</th>\n",
       "      <td>50044629</td>\n",
       "      <td>2019-02-04</td>\n",
       "      <td>0</td>\n",
       "    </tr>\n",
       "  </tbody>\n",
       "</table>\n",
       "</div>"
      ],
      "text/plain": [
       "          CAMIS INSPECTION DATE  critical_flag_recode\n",
       "12848  50018118      2019-06-20                     0\n",
       "4161   41215423      2019-03-27                     0\n",
       "20502  50076096      2019-11-18                     0\n",
       "20505  50076107      2019-09-17                     0\n",
       "14717  50044629      2019-02-04                     0"
      ]
     },
     "execution_count": 125,
     "metadata": {},
     "output_type": "execute_result"
    },
    {
     "data": {
      "text/html": [
       "<div>\n",
       "<style scoped>\n",
       "    .dataframe tbody tr th:only-of-type {\n",
       "        vertical-align: middle;\n",
       "    }\n",
       "\n",
       "    .dataframe tbody tr th {\n",
       "        vertical-align: top;\n",
       "    }\n",
       "\n",
       "    .dataframe thead th {\n",
       "        text-align: right;\n",
       "    }\n",
       "</style>\n",
       "<table border=\"1\" class=\"dataframe\">\n",
       "  <thead>\n",
       "    <tr style=\"text-align: right;\">\n",
       "      <th></th>\n",
       "      <th>CAMIS</th>\n",
       "      <th>INSPECTION DATE</th>\n",
       "      <th>critical_flag_recode</th>\n",
       "    </tr>\n",
       "  </thead>\n",
       "  <tbody>\n",
       "    <tr>\n",
       "      <th>3340</th>\n",
       "      <td>41076314</td>\n",
       "      <td>2019-09-11</td>\n",
       "      <td>9</td>\n",
       "    </tr>\n",
       "    <tr>\n",
       "      <th>23002</th>\n",
       "      <td>50087569</td>\n",
       "      <td>2019-11-13</td>\n",
       "      <td>9</td>\n",
       "    </tr>\n",
       "    <tr>\n",
       "      <th>593</th>\n",
       "      <td>40393488</td>\n",
       "      <td>2019-08-23</td>\n",
       "      <td>9</td>\n",
       "    </tr>\n",
       "    <tr>\n",
       "      <th>16810</th>\n",
       "      <td>50057515</td>\n",
       "      <td>2019-05-21</td>\n",
       "      <td>9</td>\n",
       "    </tr>\n",
       "    <tr>\n",
       "      <th>22653</th>\n",
       "      <td>50086483</td>\n",
       "      <td>2019-05-30</td>\n",
       "      <td>10</td>\n",
       "    </tr>\n",
       "  </tbody>\n",
       "</table>\n",
       "</div>"
      ],
      "text/plain": [
       "          CAMIS INSPECTION DATE  critical_flag_recode\n",
       "3340   41076314      2019-09-11                     9\n",
       "23002  50087569      2019-11-13                     9\n",
       "593    40393488      2019-08-23                     9\n",
       "16810  50057515      2019-05-21                     9\n",
       "22653  50086483      2019-05-30                    10"
      ]
     },
     "execution_count": 125,
     "metadata": {},
     "output_type": "execute_result"
    }
   ],
   "source": [
    "HD_LastInsp = HD_LastInsp.sort_values('INSPECTION DATE').groupby('CAMIS').last()\n",
    "len(HD_LastInsp)\n",
    "HD_LastInsp = HD_LastInsp.reset_index()\n",
    "HD_LastInsp = HD_LastInsp.sort_values('critical_flag_recode')\n",
    "HD_LastInsp.head()\n",
    "HD_LastInsp.tail()"
   ]
  },
  {
   "cell_type": "code",
   "execution_count": 127,
   "metadata": {},
   "outputs": [
    {
     "data": {
      "text/plain": [
       "1     14196\n",
       "2      4809\n",
       "0      4263\n",
       "3      1397\n",
       "4       650\n",
       "5       258\n",
       "6        74\n",
       "7        30\n",
       "8        13\n",
       "9         6\n",
       "10        1\n",
       "Name: critical_flag_recode, dtype: int64"
      ]
     },
     "execution_count": 127,
     "metadata": {},
     "output_type": "execute_result"
    }
   ],
   "source": [
    "HD_LastInsp.critical_flag_recode.value_counts()"
   ]
  },
  {
   "cell_type": "code",
   "execution_count": 129,
   "metadata": {},
   "outputs": [
    {
     "data": {
      "text/plain": [
       "<matplotlib.axes._subplots.AxesSubplot at 0x1a236e8f28>"
      ]
     },
     "execution_count": 129,
     "metadata": {},
     "output_type": "execute_result"
    },
    {
     "data": {
      "text/plain": [
       "Text(0.5, 1.0, 'Number of Critical Violations at Last Inspection')"
      ]
     },
     "execution_count": 129,
     "metadata": {},
     "output_type": "execute_result"
    },
    {
     "data": {
      "text/plain": [
       "Text(0, 0.5, 'Number of Restaurants')"
      ]
     },
     "execution_count": 129,
     "metadata": {},
     "output_type": "execute_result"
    },
    {
     "data": {
      "image/png": "[encoded data removed]",
      "text/plain": [
       "<Figure size 432x288 with 1 Axes>"
      ]
     },
     "metadata": {
      "needs_background": "light"
     },
     "output_type": "display_data"
    }
   ],
   "source": [
    "sns.set_context(\"talk\")\n",
    "sns.distplot(HD_LastInsp['critical_flag_recode'], kde=False, color='r')\n",
    "sns.despine()\n",
    "plt.title('Number of Critical Violations at Last Inspection')\n",
    "plt.ylabel('Number of Restaurants')\n",
    "#plt.xlim(0,40) \n",
    "#plt.savefig('histogram.png')"
   ]
  },
  {
   "cell_type": "code",
   "execution_count": null,
   "metadata": {},
   "outputs": [],
   "source": []
  }
 ],
 "metadata": {
  "kernelspec": {
   "display_name": "Python 3",
   "language": "python",
   "name": "python3"
  },
  "language_info": {
   "codemirror_mode": {
    "name": "ipython",
    "version": 3
   },
   "file_extension": ".py",
   "mimetype": "text/x-python",
   "name": "python",
   "nbconvert_exporter": "python",
   "pygments_lexer": "ipython3",
   "version": "3.6.9"
  }
 },
 "nbformat": 4,
 "nbformat_minor": 2
}
