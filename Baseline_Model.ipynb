{
 "cells": [
  {
   "cell_type": "code",
   "execution_count": 1,
   "metadata": {},
   "outputs": [
    {
     "name": "stdout",
     "output_type": "stream",
     "text": [
      "/Users/rabarry/Documents/Insight/NYC data\n"
     ]
    }
   ],
   "source": [
    "cd '/Users/rabarry/Documents/Insight/NYC data'"
   ]
  },
  {
   "cell_type": "code",
   "execution_count": 2,
   "metadata": {},
   "outputs": [],
   "source": [
    "import pandas as pd\n",
    "import numpy as np\n",
    "import matplotlib.pyplot as plt\n",
    "%matplotlib inline\n",
    "from IPython.core.interactiveshell import InteractiveShell\n",
    "InteractiveShell.ast_node_interactivity = \"all\"\n",
    "import seaborn as sns\n",
    "import swifter\n",
    "from sklearn.model_selection import train_test_split \n",
    "from sklearn.linear_model import LinearRegression\n",
    "from sklearn import metrics"
   ]
  },
  {
   "cell_type": "code",
   "execution_count": 3,
   "metadata": {},
   "outputs": [],
   "source": [
    "Data = pd.read_csv('HD_InspCounts_Full.csv')\n",
    "Data_Avg_Flags = pd.read_csv('HD_grouped_byRest_Years.csv')"
   ]
  },
  {
   "cell_type": "code",
   "execution_count": 4,
   "metadata": {},
   "outputs": [
    {
     "data": {
      "text/plain": [
       "25697"
      ]
     },
     "execution_count": 4,
     "metadata": {},
     "output_type": "execute_result"
    },
    {
     "data": {
      "text/html": [
       "<div>\n",
       "<style scoped>\n",
       "    .dataframe tbody tr th:only-of-type {\n",
       "        vertical-align: middle;\n",
       "    }\n",
       "\n",
       "    .dataframe tbody tr th {\n",
       "        vertical-align: top;\n",
       "    }\n",
       "\n",
       "    .dataframe thead th {\n",
       "        text-align: right;\n",
       "    }\n",
       "</style>\n",
       "<table border=\"1\" class=\"dataframe\">\n",
       "  <thead>\n",
       "    <tr style=\"text-align: right;\">\n",
       "      <th></th>\n",
       "      <th>Second_Last_Insp_Type</th>\n",
       "      <th>Second_Last_Insp_Date</th>\n",
       "      <th>Second_Last_Insp_Num_CriticialFlags</th>\n",
       "      <th>Last_Insp_Type</th>\n",
       "      <th>Last_Insp_Date</th>\n",
       "      <th>Last_Insp_Num_CriticialFlags</th>\n",
       "      <th>Insp_Date_Diff</th>\n",
       "      <th>DBA</th>\n",
       "      <th>BORO</th>\n",
       "      <th>ZIPCODE</th>\n",
       "      <th>CUISINE DESCRIPTION</th>\n",
       "      <th>Latitude</th>\n",
       "      <th>Longitude</th>\n",
       "      <th>Community Board</th>\n",
       "      <th>Council District</th>\n",
       "      <th>Census Tract</th>\n",
       "      <th>BIN</th>\n",
       "      <th>BBL</th>\n",
       "      <th>NTA</th>\n",
       "    </tr>\n",
       "    <tr>\n",
       "      <th>CAMIS</th>\n",
       "      <th></th>\n",
       "      <th></th>\n",
       "      <th></th>\n",
       "      <th></th>\n",
       "      <th></th>\n",
       "      <th></th>\n",
       "      <th></th>\n",
       "      <th></th>\n",
       "      <th></th>\n",
       "      <th></th>\n",
       "      <th></th>\n",
       "      <th></th>\n",
       "      <th></th>\n",
       "      <th></th>\n",
       "      <th></th>\n",
       "      <th></th>\n",
       "      <th></th>\n",
       "      <th></th>\n",
       "      <th></th>\n",
       "    </tr>\n",
       "  </thead>\n",
       "  <tbody>\n",
       "    <tr>\n",
       "      <th>30075445</th>\n",
       "      <td>Initial</td>\n",
       "      <td>2019-10-21</td>\n",
       "      <td>2.0</td>\n",
       "      <td>Re-inspection</td>\n",
       "      <td>2019-11-04</td>\n",
       "      <td>1</td>\n",
       "      <td>14 days 00:00:00.000000000</td>\n",
       "      <td>MORRIS PARK BAKE SHOP</td>\n",
       "      <td>Bronx</td>\n",
       "      <td>10462.0</td>\n",
       "      <td>Bakery</td>\n",
       "      <td>40.848231</td>\n",
       "      <td>-73.855972</td>\n",
       "      <td>211.0</td>\n",
       "      <td>13.0</td>\n",
       "      <td>25200.0</td>\n",
       "      <td>2045445.0</td>\n",
       "      <td>2.041270e+09</td>\n",
       "      <td>BX37</td>\n",
       "    </tr>\n",
       "    <tr>\n",
       "      <th>30112340</th>\n",
       "      <td>Initial</td>\n",
       "      <td>2018-03-13</td>\n",
       "      <td>1.0</td>\n",
       "      <td>Initial</td>\n",
       "      <td>2019-03-04</td>\n",
       "      <td>1</td>\n",
       "      <td>356 days 00:00:00.000000000</td>\n",
       "      <td>WENDY'S</td>\n",
       "      <td>Brooklyn</td>\n",
       "      <td>11225.0</td>\n",
       "      <td>Hamburgers</td>\n",
       "      <td>40.662652</td>\n",
       "      <td>-73.962081</td>\n",
       "      <td>309.0</td>\n",
       "      <td>40.0</td>\n",
       "      <td>32700.0</td>\n",
       "      <td>3029737.0</td>\n",
       "      <td>3.011970e+09</td>\n",
       "      <td>BK60</td>\n",
       "    </tr>\n",
       "  </tbody>\n",
       "</table>\n",
       "</div>"
      ],
      "text/plain": [
       "         Second_Last_Insp_Type Second_Last_Insp_Date  \\\n",
       "CAMIS                                                  \n",
       "30075445               Initial            2019-10-21   \n",
       "30112340               Initial            2018-03-13   \n",
       "\n",
       "          Second_Last_Insp_Num_CriticialFlags Last_Insp_Type Last_Insp_Date  \\\n",
       "CAMIS                                                                         \n",
       "30075445                                  2.0  Re-inspection     2019-11-04   \n",
       "30112340                                  1.0        Initial     2019-03-04   \n",
       "\n",
       "          Last_Insp_Num_CriticialFlags               Insp_Date_Diff  \\\n",
       "CAMIS                                                                 \n",
       "30075445                             1   14 days 00:00:00.000000000   \n",
       "30112340                             1  356 days 00:00:00.000000000   \n",
       "\n",
       "                            DBA      BORO  ZIPCODE CUISINE DESCRIPTION  \\\n",
       "CAMIS                                                                    \n",
       "30075445  MORRIS PARK BAKE SHOP     Bronx  10462.0              Bakery   \n",
       "30112340                WENDY'S  Brooklyn  11225.0          Hamburgers   \n",
       "\n",
       "           Latitude  Longitude  Community Board  Council District  \\\n",
       "CAMIS                                                               \n",
       "30075445  40.848231 -73.855972            211.0              13.0   \n",
       "30112340  40.662652 -73.962081            309.0              40.0   \n",
       "\n",
       "          Census Tract        BIN           BBL   NTA  \n",
       "CAMIS                                                  \n",
       "30075445       25200.0  2045445.0  2.041270e+09  BX37  \n",
       "30112340       32700.0  3029737.0  3.011970e+09  BK60  "
      ]
     },
     "execution_count": 4,
     "metadata": {},
     "output_type": "execute_result"
    },
    {
     "data": {
      "text/plain": [
       "25697"
      ]
     },
     "execution_count": 4,
     "metadata": {},
     "output_type": "execute_result"
    },
    {
     "data": {
      "text/html": [
       "<div>\n",
       "<style scoped>\n",
       "    .dataframe tbody tr th:only-of-type {\n",
       "        vertical-align: middle;\n",
       "    }\n",
       "\n",
       "    .dataframe tbody tr th {\n",
       "        vertical-align: top;\n",
       "    }\n",
       "\n",
       "    .dataframe thead th {\n",
       "        text-align: right;\n",
       "    }\n",
       "</style>\n",
       "<table border=\"1\" class=\"dataframe\">\n",
       "  <thead>\n",
       "    <tr style=\"text-align: right;\">\n",
       "      <th></th>\n",
       "      <th>total_critical_flags</th>\n",
       "      <th>first_inspection_date</th>\n",
       "      <th>last_inspection_date</th>\n",
       "      <th>num_years_active</th>\n",
       "      <th>avg_num_critical_flags_per_year</th>\n",
       "    </tr>\n",
       "    <tr>\n",
       "      <th>CAMIS</th>\n",
       "      <th></th>\n",
       "      <th></th>\n",
       "      <th></th>\n",
       "      <th></th>\n",
       "      <th></th>\n",
       "    </tr>\n",
       "  </thead>\n",
       "  <tbody>\n",
       "    <tr>\n",
       "      <th>30075445</th>\n",
       "      <td>5</td>\n",
       "      <td>2017-05-18</td>\n",
       "      <td>2019-11-04</td>\n",
       "      <td>2.0</td>\n",
       "      <td>2.5</td>\n",
       "    </tr>\n",
       "    <tr>\n",
       "      <th>30112340</th>\n",
       "      <td>9</td>\n",
       "      <td>2016-04-12</td>\n",
       "      <td>2019-03-04</td>\n",
       "      <td>3.0</td>\n",
       "      <td>3.0</td>\n",
       "    </tr>\n",
       "  </tbody>\n",
       "</table>\n",
       "</div>"
      ],
      "text/plain": [
       "          total_critical_flags first_inspection_date last_inspection_date  \\\n",
       "CAMIS                                                                       \n",
       "30075445                     5            2017-05-18           2019-11-04   \n",
       "30112340                     9            2016-04-12           2019-03-04   \n",
       "\n",
       "          num_years_active  avg_num_critical_flags_per_year  \n",
       "CAMIS                                                        \n",
       "30075445               2.0                              2.5  \n",
       "30112340               3.0                              3.0  "
      ]
     },
     "execution_count": 4,
     "metadata": {},
     "output_type": "execute_result"
    }
   ],
   "source": [
    "Data = Data.drop(columns = ['Unnamed: 0'])\n",
    "len(Data)\n",
    "Data = Data.set_index('CAMIS')\n",
    "Data.head(n=2)\n",
    "len(Data_Avg_Flags)\n",
    "Data_Avg_Flags = Data_Avg_Flags.set_index('CAMIS')\n",
    "Data_Avg_Flags.head(n=2)"
   ]
  },
  {
   "cell_type": "code",
   "execution_count": 5,
   "metadata": {},
   "outputs": [
    {
     "data": {
      "text/html": [
       "<div>\n",
       "<style scoped>\n",
       "    .dataframe tbody tr th:only-of-type {\n",
       "        vertical-align: middle;\n",
       "    }\n",
       "\n",
       "    .dataframe tbody tr th {\n",
       "        vertical-align: top;\n",
       "    }\n",
       "\n",
       "    .dataframe thead th {\n",
       "        text-align: right;\n",
       "    }\n",
       "</style>\n",
       "<table border=\"1\" class=\"dataframe\">\n",
       "  <thead>\n",
       "    <tr style=\"text-align: right;\">\n",
       "      <th></th>\n",
       "      <th>Second_Last_Insp_Num_CriticialFlags</th>\n",
       "      <th>Last_Insp_Num_CriticialFlags</th>\n",
       "      <th>Insp_Date_Diff</th>\n",
       "      <th>ZIPCODE</th>\n",
       "      <th>Latitude</th>\n",
       "      <th>Longitude</th>\n",
       "      <th>Community Board</th>\n",
       "      <th>Council District</th>\n",
       "      <th>Census Tract</th>\n",
       "      <th>BIN</th>\n",
       "      <th>BBL</th>\n",
       "    </tr>\n",
       "  </thead>\n",
       "  <tbody>\n",
       "    <tr>\n",
       "      <th>count</th>\n",
       "      <td>23794.000000</td>\n",
       "      <td>25697.000000</td>\n",
       "      <td>23794.000000</td>\n",
       "      <td>25298.000000</td>\n",
       "      <td>25647.000000</td>\n",
       "      <td>25647.000000</td>\n",
       "      <td>25248.000000</td>\n",
       "      <td>25248.000000</td>\n",
       "      <td>25248.000000</td>\n",
       "      <td>2.511400e+04</td>\n",
       "      <td>2.564700e+04</td>\n",
       "    </tr>\n",
       "    <tr>\n",
       "      <th>mean</th>\n",
       "      <td>1.556359</td>\n",
       "      <td>1.270382</td>\n",
       "      <td>211.831428</td>\n",
       "      <td>10672.241837</td>\n",
       "      <td>40.094740</td>\n",
       "      <td>-72.793501</td>\n",
       "      <td>248.336819</td>\n",
       "      <td>19.914686</td>\n",
       "      <td>28976.979800</td>\n",
       "      <td>2.506026e+06</td>\n",
       "      <td>2.391907e+09</td>\n",
       "    </tr>\n",
       "    <tr>\n",
       "      <th>std</th>\n",
       "      <td>1.265577</td>\n",
       "      <td>1.018764</td>\n",
       "      <td>150.515859</td>\n",
       "      <td>596.440637</td>\n",
       "      <td>5.040893</td>\n",
       "      <td>9.151426</td>\n",
       "      <td>131.959125</td>\n",
       "      <td>15.828897</td>\n",
       "      <td>30943.126441</td>\n",
       "      <td>1.357688e+06</td>\n",
       "      <td>1.352866e+09</td>\n",
       "    </tr>\n",
       "    <tr>\n",
       "      <th>min</th>\n",
       "      <td>0.000000</td>\n",
       "      <td>0.000000</td>\n",
       "      <td>1.000000</td>\n",
       "      <td>10000.000000</td>\n",
       "      <td>0.000000</td>\n",
       "      <td>-74.248434</td>\n",
       "      <td>101.000000</td>\n",
       "      <td>1.000000</td>\n",
       "      <td>100.000000</td>\n",
       "      <td>1.000000e+06</td>\n",
       "      <td>1.000000e+00</td>\n",
       "    </tr>\n",
       "    <tr>\n",
       "      <th>25%</th>\n",
       "      <td>1.000000</td>\n",
       "      <td>1.000000</td>\n",
       "      <td>61.000000</td>\n",
       "      <td>10022.000000</td>\n",
       "      <td>40.686058</td>\n",
       "      <td>-73.989324</td>\n",
       "      <td>105.000000</td>\n",
       "      <td>4.000000</td>\n",
       "      <td>7900.000000</td>\n",
       "      <td>1.042399e+06</td>\n",
       "      <td>1.010320e+09</td>\n",
       "    </tr>\n",
       "    <tr>\n",
       "      <th>50%</th>\n",
       "      <td>1.000000</td>\n",
       "      <td>1.000000</td>\n",
       "      <td>170.000000</td>\n",
       "      <td>10467.000000</td>\n",
       "      <td>40.732767</td>\n",
       "      <td>-73.959469</td>\n",
       "      <td>301.000000</td>\n",
       "      <td>19.000000</td>\n",
       "      <td>15900.000000</td>\n",
       "      <td>3.003576e+06</td>\n",
       "      <td>3.000550e+09</td>\n",
       "    </tr>\n",
       "    <tr>\n",
       "      <th>75%</th>\n",
       "      <td>2.000000</td>\n",
       "      <td>2.000000</td>\n",
       "      <td>363.000000</td>\n",
       "      <td>11229.000000</td>\n",
       "      <td>40.761801</td>\n",
       "      <td>-73.899346</td>\n",
       "      <td>401.000000</td>\n",
       "      <td>34.000000</td>\n",
       "      <td>40500.000000</td>\n",
       "      <td>4.000255e+06</td>\n",
       "      <td>4.001625e+09</td>\n",
       "    </tr>\n",
       "    <tr>\n",
       "      <th>max</th>\n",
       "      <td>10.000000</td>\n",
       "      <td>10.000000</td>\n",
       "      <td>1071.000000</td>\n",
       "      <td>12345.000000</td>\n",
       "      <td>40.912822</td>\n",
       "      <td>0.000000</td>\n",
       "      <td>595.000000</td>\n",
       "      <td>51.000000</td>\n",
       "      <td>162100.000000</td>\n",
       "      <td>5.799501e+06</td>\n",
       "      <td>5.270001e+09</td>\n",
       "    </tr>\n",
       "  </tbody>\n",
       "</table>\n",
       "</div>"
      ],
      "text/plain": [
       "       Second_Last_Insp_Num_CriticialFlags  Last_Insp_Num_CriticialFlags  \\\n",
       "count                         23794.000000                  25697.000000   \n",
       "mean                              1.556359                      1.270382   \n",
       "std                               1.265577                      1.018764   \n",
       "min                               0.000000                      0.000000   \n",
       "25%                               1.000000                      1.000000   \n",
       "50%                               1.000000                      1.000000   \n",
       "75%                               2.000000                      2.000000   \n",
       "max                              10.000000                     10.000000   \n",
       "\n",
       "       Insp_Date_Diff       ZIPCODE      Latitude     Longitude  \\\n",
       "count    23794.000000  25298.000000  25647.000000  25647.000000   \n",
       "mean       211.831428  10672.241837     40.094740    -72.793501   \n",
       "std        150.515859    596.440637      5.040893      9.151426   \n",
       "min          1.000000  10000.000000      0.000000    -74.248434   \n",
       "25%         61.000000  10022.000000     40.686058    -73.989324   \n",
       "50%        170.000000  10467.000000     40.732767    -73.959469   \n",
       "75%        363.000000  11229.000000     40.761801    -73.899346   \n",
       "max       1071.000000  12345.000000     40.912822      0.000000   \n",
       "\n",
       "       Community Board  Council District   Census Tract           BIN  \\\n",
       "count     25248.000000      25248.000000   25248.000000  2.511400e+04   \n",
       "mean        248.336819         19.914686   28976.979800  2.506026e+06   \n",
       "std         131.959125         15.828897   30943.126441  1.357688e+06   \n",
       "min         101.000000          1.000000     100.000000  1.000000e+06   \n",
       "25%         105.000000          4.000000    7900.000000  1.042399e+06   \n",
       "50%         301.000000         19.000000   15900.000000  3.003576e+06   \n",
       "75%         401.000000         34.000000   40500.000000  4.000255e+06   \n",
       "max         595.000000         51.000000  162100.000000  5.799501e+06   \n",
       "\n",
       "                BBL  \n",
       "count  2.564700e+04  \n",
       "mean   2.391907e+09  \n",
       "std    1.352866e+09  \n",
       "min    1.000000e+00  \n",
       "25%    1.010320e+09  \n",
       "50%    3.000550e+09  \n",
       "75%    4.001625e+09  \n",
       "max    5.270001e+09  "
      ]
     },
     "execution_count": 5,
     "metadata": {},
     "output_type": "execute_result"
    },
    {
     "data": {
      "text/plain": [
       "Second_Last_Insp_Type                          object\n",
       "Second_Last_Insp_Date                  datetime64[ns]\n",
       "Second_Last_Insp_Num_CriticialFlags           float64\n",
       "Last_Insp_Type                                 object\n",
       "Last_Insp_Date                         datetime64[ns]\n",
       "Last_Insp_Num_CriticialFlags                    int64\n",
       "Insp_Date_Diff                                float64\n",
       "DBA                                            object\n",
       "BORO                                           object\n",
       "ZIPCODE                                       float64\n",
       "CUISINE DESCRIPTION                            object\n",
       "Latitude                                      float64\n",
       "Longitude                                     float64\n",
       "Community Board                               float64\n",
       "Council District                              float64\n",
       "Census Tract                                  float64\n",
       "BIN                                           float64\n",
       "BBL                                           float64\n",
       "NTA                                            object\n",
       "dtype: object"
      ]
     },
     "execution_count": 5,
     "metadata": {},
     "output_type": "execute_result"
    }
   ],
   "source": [
    "Data[\"Second_Last_Insp_Date\"] = pd.to_datetime(Data[\"Second_Last_Insp_Date\"])\n",
    "Data[\"Last_Insp_Date\"] = pd.to_datetime(Data[\"Last_Insp_Date\"])\n",
    "Data['Insp_Date_Diff'] = (Data[\"Last_Insp_Date\"] - Data[\"Second_Last_Insp_Date\"]).dt.days\n",
    "Data.describe()\n",
    "Data.dtypes"
   ]
  },
  {
   "cell_type": "code",
   "execution_count": 6,
   "metadata": {},
   "outputs": [
    {
     "data": {
      "text/plain": [
       "25697"
      ]
     },
     "execution_count": 6,
     "metadata": {},
     "output_type": "execute_result"
    },
    {
     "data": {
      "text/html": [
       "<div>\n",
       "<style scoped>\n",
       "    .dataframe tbody tr th:only-of-type {\n",
       "        vertical-align: middle;\n",
       "    }\n",
       "\n",
       "    .dataframe tbody tr th {\n",
       "        vertical-align: top;\n",
       "    }\n",
       "\n",
       "    .dataframe thead th {\n",
       "        text-align: right;\n",
       "    }\n",
       "</style>\n",
       "<table border=\"1\" class=\"dataframe\">\n",
       "  <thead>\n",
       "    <tr style=\"text-align: right;\">\n",
       "      <th></th>\n",
       "      <th>CAMIS</th>\n",
       "      <th>Second_Last_Insp_Type</th>\n",
       "      <th>Second_Last_Insp_Date</th>\n",
       "      <th>Second_Last_Insp_Num_CriticialFlags</th>\n",
       "      <th>Last_Insp_Type</th>\n",
       "      <th>Last_Insp_Date</th>\n",
       "      <th>Last_Insp_Num_CriticialFlags</th>\n",
       "      <th>Insp_Date_Diff</th>\n",
       "      <th>DBA</th>\n",
       "      <th>BORO</th>\n",
       "      <th>...</th>\n",
       "      <th>Council District</th>\n",
       "      <th>Census Tract</th>\n",
       "      <th>BIN</th>\n",
       "      <th>BBL</th>\n",
       "      <th>NTA</th>\n",
       "      <th>total_critical_flags</th>\n",
       "      <th>first_inspection_date</th>\n",
       "      <th>last_inspection_date</th>\n",
       "      <th>num_years_active</th>\n",
       "      <th>avg_num_critical_flags_per_year</th>\n",
       "    </tr>\n",
       "  </thead>\n",
       "  <tbody>\n",
       "    <tr>\n",
       "      <th>0</th>\n",
       "      <td>30075445</td>\n",
       "      <td>Initial</td>\n",
       "      <td>2019-10-21</td>\n",
       "      <td>2.0</td>\n",
       "      <td>Re-inspection</td>\n",
       "      <td>2019-11-04</td>\n",
       "      <td>1</td>\n",
       "      <td>14.0</td>\n",
       "      <td>MORRIS PARK BAKE SHOP</td>\n",
       "      <td>Bronx</td>\n",
       "      <td>...</td>\n",
       "      <td>13.0</td>\n",
       "      <td>25200.0</td>\n",
       "      <td>2045445.0</td>\n",
       "      <td>2.041270e+09</td>\n",
       "      <td>BX37</td>\n",
       "      <td>5</td>\n",
       "      <td>2017-05-18</td>\n",
       "      <td>2019-11-04</td>\n",
       "      <td>2.0</td>\n",
       "      <td>2.5</td>\n",
       "    </tr>\n",
       "    <tr>\n",
       "      <th>1</th>\n",
       "      <td>30112340</td>\n",
       "      <td>Initial</td>\n",
       "      <td>2018-03-13</td>\n",
       "      <td>1.0</td>\n",
       "      <td>Initial</td>\n",
       "      <td>2019-03-04</td>\n",
       "      <td>1</td>\n",
       "      <td>356.0</td>\n",
       "      <td>WENDY'S</td>\n",
       "      <td>Brooklyn</td>\n",
       "      <td>...</td>\n",
       "      <td>40.0</td>\n",
       "      <td>32700.0</td>\n",
       "      <td>3029737.0</td>\n",
       "      <td>3.011970e+09</td>\n",
       "      <td>BK60</td>\n",
       "      <td>9</td>\n",
       "      <td>2016-04-12</td>\n",
       "      <td>2019-03-04</td>\n",
       "      <td>3.0</td>\n",
       "      <td>3.0</td>\n",
       "    </tr>\n",
       "    <tr>\n",
       "      <th>2</th>\n",
       "      <td>30191841</td>\n",
       "      <td>Initial</td>\n",
       "      <td>2018-05-16</td>\n",
       "      <td>1.0</td>\n",
       "      <td>Initial</td>\n",
       "      <td>2019-06-06</td>\n",
       "      <td>1</td>\n",
       "      <td>386.0</td>\n",
       "      <td>DJ REYNOLDS PUB AND RESTAURANT</td>\n",
       "      <td>Manhattan</td>\n",
       "      <td>...</td>\n",
       "      <td>3.0</td>\n",
       "      <td>13900.0</td>\n",
       "      <td>1026048.0</td>\n",
       "      <td>1.010480e+09</td>\n",
       "      <td>MN15</td>\n",
       "      <td>5</td>\n",
       "      <td>2017-07-27</td>\n",
       "      <td>2019-06-06</td>\n",
       "      <td>2.0</td>\n",
       "      <td>2.5</td>\n",
       "    </tr>\n",
       "    <tr>\n",
       "      <th>3</th>\n",
       "      <td>40356018</td>\n",
       "      <td>Initial</td>\n",
       "      <td>2018-10-30</td>\n",
       "      <td>1.0</td>\n",
       "      <td>Initial</td>\n",
       "      <td>2019-11-08</td>\n",
       "      <td>1</td>\n",
       "      <td>374.0</td>\n",
       "      <td>RIVIERA CATERERS</td>\n",
       "      <td>Brooklyn</td>\n",
       "      <td>...</td>\n",
       "      <td>47.0</td>\n",
       "      <td>34800.0</td>\n",
       "      <td>3347399.0</td>\n",
       "      <td>3.069970e+09</td>\n",
       "      <td>BK21</td>\n",
       "      <td>3</td>\n",
       "      <td>2017-07-20</td>\n",
       "      <td>2019-11-08</td>\n",
       "      <td>2.0</td>\n",
       "      <td>1.5</td>\n",
       "    </tr>\n",
       "    <tr>\n",
       "      <th>4</th>\n",
       "      <td>40356151</td>\n",
       "      <td>Initial</td>\n",
       "      <td>2017-08-19</td>\n",
       "      <td>1.0</td>\n",
       "      <td>Initial</td>\n",
       "      <td>2018-10-06</td>\n",
       "      <td>2</td>\n",
       "      <td>413.0</td>\n",
       "      <td>BRUNOS ON THE BOULEVARD</td>\n",
       "      <td>Queens</td>\n",
       "      <td>...</td>\n",
       "      <td>22.0</td>\n",
       "      <td>32900.0</td>\n",
       "      <td>4024132.0</td>\n",
       "      <td>4.011000e+09</td>\n",
       "      <td>QN28</td>\n",
       "      <td>4</td>\n",
       "      <td>2016-05-14</td>\n",
       "      <td>2018-10-06</td>\n",
       "      <td>2.0</td>\n",
       "      <td>2.0</td>\n",
       "    </tr>\n",
       "  </tbody>\n",
       "</table>\n",
       "<p>5 rows × 25 columns</p>\n",
       "</div>"
      ],
      "text/plain": [
       "      CAMIS Second_Last_Insp_Type Second_Last_Insp_Date  \\\n",
       "0  30075445               Initial            2019-10-21   \n",
       "1  30112340               Initial            2018-03-13   \n",
       "2  30191841               Initial            2018-05-16   \n",
       "3  40356018               Initial            2018-10-30   \n",
       "4  40356151               Initial            2017-08-19   \n",
       "\n",
       "   Second_Last_Insp_Num_CriticialFlags Last_Insp_Type Last_Insp_Date  \\\n",
       "0                                  2.0  Re-inspection     2019-11-04   \n",
       "1                                  1.0        Initial     2019-03-04   \n",
       "2                                  1.0        Initial     2019-06-06   \n",
       "3                                  1.0        Initial     2019-11-08   \n",
       "4                                  1.0        Initial     2018-10-06   \n",
       "\n",
       "   Last_Insp_Num_CriticialFlags  Insp_Date_Diff  \\\n",
       "0                             1            14.0   \n",
       "1                             1           356.0   \n",
       "2                             1           386.0   \n",
       "3                             1           374.0   \n",
       "4                             2           413.0   \n",
       "\n",
       "                              DBA       BORO  ...  Council District  \\\n",
       "0           MORRIS PARK BAKE SHOP      Bronx  ...              13.0   \n",
       "1                         WENDY'S   Brooklyn  ...              40.0   \n",
       "2  DJ REYNOLDS PUB AND RESTAURANT  Manhattan  ...               3.0   \n",
       "3                RIVIERA CATERERS   Brooklyn  ...              47.0   \n",
       "4         BRUNOS ON THE BOULEVARD     Queens  ...              22.0   \n",
       "\n",
       "  Census Tract        BIN           BBL   NTA  total_critical_flags  \\\n",
       "0      25200.0  2045445.0  2.041270e+09  BX37                     5   \n",
       "1      32700.0  3029737.0  3.011970e+09  BK60                     9   \n",
       "2      13900.0  1026048.0  1.010480e+09  MN15                     5   \n",
       "3      34800.0  3347399.0  3.069970e+09  BK21                     3   \n",
       "4      32900.0  4024132.0  4.011000e+09  QN28                     4   \n",
       "\n",
       "   first_inspection_date  last_inspection_date  num_years_active  \\\n",
       "0             2017-05-18            2019-11-04               2.0   \n",
       "1             2016-04-12            2019-03-04               3.0   \n",
       "2             2017-07-27            2019-06-06               2.0   \n",
       "3             2017-07-20            2019-11-08               2.0   \n",
       "4             2016-05-14            2018-10-06               2.0   \n",
       "\n",
       "  avg_num_critical_flags_per_year  \n",
       "0                             2.5  \n",
       "1                             3.0  \n",
       "2                             2.5  \n",
       "3                             1.5  \n",
       "4                             2.0  \n",
       "\n",
       "[5 rows x 25 columns]"
      ]
     },
     "execution_count": 6,
     "metadata": {},
     "output_type": "execute_result"
    }
   ],
   "source": [
    "Data2 = pd.merge(Data, Data_Avg_Flags, left_on = ['CAMIS'], right_on = ['CAMIS'], how = 'left')\n",
    "len(Data2)\n",
    "Data2 = Data2.reset_index()\n",
    "Data2.head()"
   ]
  },
  {
   "cell_type": "code",
   "execution_count": 7,
   "metadata": {},
   "outputs": [],
   "source": [
    "Data2['Latitude'] = Data2['Latitude'].round(6)\n",
    "Data2['Longitude'] = Data2['Longitude'].round(6)\n",
    "Data2['location'] = Data2['Latitude'].astype(str) + ', ' + Data2['Longitude'].astype(str)"
   ]
  },
  {
   "cell_type": "code",
   "execution_count": 8,
   "metadata": {},
   "outputs": [
    {
     "name": "stdout",
     "output_type": "stream",
     "text": [
      "<class 'pandas.core.frame.DataFrame'>\n",
      "RangeIndex: 25697 entries, 0 to 25696\n",
      "Data columns (total 26 columns):\n",
      "CAMIS                                  25697 non-null int64\n",
      "Second_Last_Insp_Type                  23794 non-null object\n",
      "Second_Last_Insp_Date                  23794 non-null datetime64[ns]\n",
      "Second_Last_Insp_Num_CriticialFlags    23794 non-null float64\n",
      "Last_Insp_Type                         25697 non-null object\n",
      "Last_Insp_Date                         25697 non-null datetime64[ns]\n",
      "Last_Insp_Num_CriticialFlags           25697 non-null int64\n",
      "Insp_Date_Diff                         23794 non-null float64\n",
      "DBA                                    25697 non-null object\n",
      "BORO                                   25697 non-null object\n",
      "ZIPCODE                                25298 non-null float64\n",
      "CUISINE DESCRIPTION                    25697 non-null object\n",
      "Latitude                               25647 non-null float64\n",
      "Longitude                              25647 non-null float64\n",
      "Community Board                        25248 non-null float64\n",
      "Council District                       25248 non-null float64\n",
      "Census Tract                           25248 non-null float64\n",
      "BIN                                    25114 non-null float64\n",
      "BBL                                    25647 non-null float64\n",
      "NTA                                    25248 non-null object\n",
      "total_critical_flags                   25697 non-null int64\n",
      "first_inspection_date                  25697 non-null object\n",
      "last_inspection_date                   25697 non-null object\n",
      "num_years_active                       25697 non-null float64\n",
      "avg_num_critical_flags_per_year        25697 non-null float64\n",
      "location                               25697 non-null object\n",
      "dtypes: datetime64[ns](2), float64(12), int64(3), object(9)\n",
      "memory usage: 5.1+ MB\n"
     ]
    }
   ],
   "source": [
    "Data2.info()"
   ]
  },
  {
   "cell_type": "code",
   "execution_count": 13,
   "metadata": {},
   "outputs": [
    {
     "data": {
      "text/plain": [
       "<matplotlib.axes._subplots.AxesSubplot at 0x1c1bb20ac8>"
      ]
     },
     "execution_count": 13,
     "metadata": {},
     "output_type": "execute_result"
    },
    {
     "data": {
      "text/plain": [
       "Text(0.5, 1.0, 'Average Number of Critical Violations')"
      ]
     },
     "execution_count": 13,
     "metadata": {},
     "output_type": "execute_result"
    },
    {
     "data": {
      "text/plain": [
       "(0, 20)"
      ]
     },
     "execution_count": 13,
     "metadata": {},
     "output_type": "execute_result"
    },
    {
     "data": {
      "image/png": "[encoded data removed]",
      "text/plain": [
       "<Figure size 432x288 with 1 Axes>"
      ]
     },
     "metadata": {
      "needs_background": "light"
     },
     "output_type": "display_data"
    }
   ],
   "source": [
    "sns.set_context(\"talk\")\n",
    "sns.distplot(Data2['avg_num_critical_flags_per_year'], kde=False, color='r')\n",
    "sns.despine()\n",
    "plt.title('Average Number of Critical Violations')\n",
    "plt.xlim(0,20) "
   ]
  },
  {
   "cell_type": "code",
   "execution_count": 11,
   "metadata": {},
   "outputs": [
    {
     "data": {
      "text/plain": [
       "<matplotlib.axes._subplots.AxesSubplot at 0x1c1fddaac8>"
      ]
     },
     "execution_count": 11,
     "metadata": {},
     "output_type": "execute_result"
    },
    {
     "data": {
      "text/plain": [
       "Text(0.5, 1.0, 'Number of Critical Violations Last Insp')"
      ]
     },
     "execution_count": 11,
     "metadata": {},
     "output_type": "execute_result"
    },
    {
     "data": {
      "text/plain": [
       "(0, 20)"
      ]
     },
     "execution_count": 11,
     "metadata": {},
     "output_type": "execute_result"
    },
    {
     "data": {
      "image/png": "[encoded data removed]",
      "text/plain": [
       "<Figure size 432x288 with 1 Axes>"
      ]
     },
     "metadata": {
      "needs_background": "light"
     },
     "output_type": "display_data"
    }
   ],
   "source": [
    "sns.set_context(\"talk\")\n",
    "sns.distplot(Data2['Last_Insp_Num_CriticialFlags'], kde=False, color='b')\n",
    "sns.despine()\n",
    "plt.title('Number of Critical Violations Last Insp')\n",
    "plt.xlim(0,20) "
   ]
  },
  {
   "cell_type": "code",
   "execution_count": 9,
   "metadata": {},
   "outputs": [
    {
     "data": {
      "text/plain": [
       "0    21615\n",
       "1     4082\n",
       "Name: is_good_overall, dtype: int64"
      ]
     },
     "execution_count": 9,
     "metadata": {},
     "output_type": "execute_result"
    },
    {
     "data": {
      "text/plain": [
       "1    18475\n",
       "0     7222\n",
       "Name: is_good_lastInsp, dtype: int64"
      ]
     },
     "execution_count": 9,
     "metadata": {},
     "output_type": "execute_result"
    }
   ],
   "source": [
    "Data2['is_good_overall'] = np.where(Data2['avg_num_critical_flags_per_year']>1,0,1)\n",
    "Data2['is_good_lastInsp'] = np.where(Data2['Last_Insp_Num_CriticialFlags']>1,0,1)\n",
    "Data2['is_good_overall'].value_counts()\n",
    "Data2['is_good_lastInsp'].value_counts()"
   ]
  },
  {
   "cell_type": "code",
   "execution_count": 10,
   "metadata": {},
   "outputs": [
    {
     "data": {
      "text/plain": [
       "Manhattan        10222\n",
       "Brooklyn          6399\n",
       "Queens            5849\n",
       "Bronx             2291\n",
       "Staten Island      931\n",
       "0                    5\n",
       "Name: BORO, dtype: int64"
      ]
     },
     "execution_count": 10,
     "metadata": {},
     "output_type": "execute_result"
    }
   ],
   "source": [
    "Data2['BORO'].value_counts()"
   ]
  },
  {
   "cell_type": "markdown",
   "metadata": {},
   "source": [
    "# Logistic Regression: outcome variable= good at last insp?"
   ]
  },
  {
   "cell_type": "code",
   "execution_count": 11,
   "metadata": {},
   "outputs": [
    {
     "data": {
      "text/plain": [
       "23255"
      ]
     },
     "execution_count": 11,
     "metadata": {},
     "output_type": "execute_result"
    }
   ],
   "source": [
    "DataLog1 = Data2.dropna()\n",
    "len(DataLog1)"
   ]
  },
  {
   "cell_type": "code",
   "execution_count": 12,
   "metadata": {},
   "outputs": [
    {
     "name": "stderr",
     "output_type": "stream",
     "text": [
      "/anaconda3/envs/insight/lib/python3.6/site-packages/ipykernel_launcher.py:2: SettingWithCopyWarning: \n",
      "A value is trying to be set on a copy of a slice from a DataFrame.\n",
      "Try using .loc[row_indexer,col_indexer] = value instead\n",
      "\n",
      "See the caveats in the documentation: http://pandas.pydata.org/pandas-docs/stable/user_guide/indexing.html#returning-a-view-versus-a-copy\n",
      "  \n",
      "/anaconda3/envs/insight/lib/python3.6/site-packages/ipykernel_launcher.py:3: SettingWithCopyWarning: \n",
      "A value is trying to be set on a copy of a slice from a DataFrame.\n",
      "Try using .loc[row_indexer,col_indexer] = value instead\n",
      "\n",
      "See the caveats in the documentation: http://pandas.pydata.org/pandas-docs/stable/user_guide/indexing.html#returning-a-view-versus-a-copy\n",
      "  This is separate from the ipykernel package so we can avoid doing imports until\n",
      "/anaconda3/envs/insight/lib/python3.6/site-packages/ipykernel_launcher.py:4: SettingWithCopyWarning: \n",
      "A value is trying to be set on a copy of a slice from a DataFrame.\n",
      "Try using .loc[row_indexer,col_indexer] = value instead\n",
      "\n",
      "See the caveats in the documentation: http://pandas.pydata.org/pandas-docs/stable/user_guide/indexing.html#returning-a-view-versus-a-copy\n",
      "  after removing the cwd from sys.path.\n",
      "/anaconda3/envs/insight/lib/python3.6/site-packages/ipykernel_launcher.py:5: SettingWithCopyWarning: \n",
      "A value is trying to be set on a copy of a slice from a DataFrame.\n",
      "Try using .loc[row_indexer,col_indexer] = value instead\n",
      "\n",
      "See the caveats in the documentation: http://pandas.pydata.org/pandas-docs/stable/user_guide/indexing.html#returning-a-view-versus-a-copy\n",
      "  \"\"\"\n",
      "/anaconda3/envs/insight/lib/python3.6/site-packages/ipykernel_launcher.py:6: SettingWithCopyWarning: \n",
      "A value is trying to be set on a copy of a slice from a DataFrame.\n",
      "Try using .loc[row_indexer,col_indexer] = value instead\n",
      "\n",
      "See the caveats in the documentation: http://pandas.pydata.org/pandas-docs/stable/user_guide/indexing.html#returning-a-view-versus-a-copy\n",
      "  \n",
      "/anaconda3/envs/insight/lib/python3.6/site-packages/ipykernel_launcher.py:7: SettingWithCopyWarning: \n",
      "A value is trying to be set on a copy of a slice from a DataFrame.\n",
      "Try using .loc[row_indexer,col_indexer] = value instead\n",
      "\n",
      "See the caveats in the documentation: http://pandas.pydata.org/pandas-docs/stable/user_guide/indexing.html#returning-a-view-versus-a-copy\n",
      "  import sys\n"
     ]
    },
    {
     "data": {
      "text/html": [
       "<div>\n",
       "<style scoped>\n",
       "    .dataframe tbody tr th:only-of-type {\n",
       "        vertical-align: middle;\n",
       "    }\n",
       "\n",
       "    .dataframe tbody tr th {\n",
       "        vertical-align: top;\n",
       "    }\n",
       "\n",
       "    .dataframe thead th {\n",
       "        text-align: right;\n",
       "    }\n",
       "</style>\n",
       "<table border=\"1\" class=\"dataframe\">\n",
       "  <thead>\n",
       "    <tr style=\"text-align: right;\">\n",
       "      <th></th>\n",
       "      <th>BORO</th>\n",
       "      <th>CUISINE DESCRIPTION</th>\n",
       "      <th>Second_Last_Insp_Num_CriticialFlags</th>\n",
       "      <th>Second_Last_Insp_Type</th>\n",
       "      <th>Insp_Date_Diff</th>\n",
       "      <th>num_years_active</th>\n",
       "    </tr>\n",
       "  </thead>\n",
       "  <tbody>\n",
       "    <tr>\n",
       "      <th>0</th>\n",
       "      <td>0</td>\n",
       "      <td>7</td>\n",
       "      <td>2.0</td>\n",
       "      <td>0</td>\n",
       "      <td>14.0</td>\n",
       "      <td>2.0</td>\n",
       "    </tr>\n",
       "    <tr>\n",
       "      <th>1</th>\n",
       "      <td>1</td>\n",
       "      <td>36</td>\n",
       "      <td>1.0</td>\n",
       "      <td>0</td>\n",
       "      <td>356.0</td>\n",
       "      <td>3.0</td>\n",
       "    </tr>\n",
       "    <tr>\n",
       "      <th>2</th>\n",
       "      <td>2</td>\n",
       "      <td>44</td>\n",
       "      <td>1.0</td>\n",
       "      <td>0</td>\n",
       "      <td>386.0</td>\n",
       "      <td>2.0</td>\n",
       "    </tr>\n",
       "    <tr>\n",
       "      <th>3</th>\n",
       "      <td>1</td>\n",
       "      <td>2</td>\n",
       "      <td>1.0</td>\n",
       "      <td>0</td>\n",
       "      <td>374.0</td>\n",
       "      <td>2.0</td>\n",
       "    </tr>\n",
       "    <tr>\n",
       "      <th>4</th>\n",
       "      <td>3</td>\n",
       "      <td>2</td>\n",
       "      <td>1.0</td>\n",
       "      <td>0</td>\n",
       "      <td>413.0</td>\n",
       "      <td>2.0</td>\n",
       "    </tr>\n",
       "  </tbody>\n",
       "</table>\n",
       "</div>"
      ],
      "text/plain": [
       "   BORO  CUISINE DESCRIPTION  Second_Last_Insp_Num_CriticialFlags  \\\n",
       "0     0                    7                                  2.0   \n",
       "1     1                   36                                  1.0   \n",
       "2     2                   44                                  1.0   \n",
       "3     1                    2                                  1.0   \n",
       "4     3                    2                                  1.0   \n",
       "\n",
       "   Second_Last_Insp_Type  Insp_Date_Diff  num_years_active  \n",
       "0                      0            14.0               2.0  \n",
       "1                      0           356.0               3.0  \n",
       "2                      0           386.0               2.0  \n",
       "3                      0           374.0               2.0  \n",
       "4                      0           413.0               2.0  "
      ]
     },
     "execution_count": 12,
     "metadata": {},
     "output_type": "execute_result"
    },
    {
     "data": {
      "text/plain": [
       "BORO                                      int8\n",
       "CUISINE DESCRIPTION                       int8\n",
       "Second_Last_Insp_Num_CriticialFlags    float64\n",
       "Second_Last_Insp_Type                     int8\n",
       "Insp_Date_Diff                         float64\n",
       "num_years_active                       float64\n",
       "dtype: object"
      ]
     },
     "execution_count": 12,
     "metadata": {},
     "output_type": "execute_result"
    }
   ],
   "source": [
    "Good_x = DataLog1[['BORO','CUISINE DESCRIPTION','Second_Last_Insp_Num_CriticialFlags','Second_Last_Insp_Type','Insp_Date_Diff', 'num_years_active']]\n",
    "Good_x['BORO']=Good_x['BORO'].astype('category')\n",
    "Good_x['BORO'] = Good_x['BORO'].cat.codes\n",
    "Good_x['CUISINE DESCRIPTION']=Good_x['CUISINE DESCRIPTION'].astype('category')\n",
    "Good_x['CUISINE DESCRIPTION'] = Good_x['CUISINE DESCRIPTION'].cat.codes\n",
    "Good_x['Second_Last_Insp_Type']=Good_x['Second_Last_Insp_Type'].astype('category')\n",
    "Good_x['Second_Last_Insp_Type'] = Good_x['Second_Last_Insp_Type'].cat.codes\n",
    "Good_x.head()\n",
    "Good_x.dtypes"
   ]
  },
  {
   "cell_type": "code",
   "execution_count": 13,
   "metadata": {},
   "outputs": [
    {
     "data": {
      "text/plain": [
       "2.0    9950\n",
       "3.0    8851\n",
       "1.0    3070\n",
       "0.0    1384\n",
       "Name: num_years_active, dtype: int64"
      ]
     },
     "execution_count": 13,
     "metadata": {},
     "output_type": "execute_result"
    }
   ],
   "source": [
    "Good_x['num_years_active'].value_counts()"
   ]
  },
  {
   "cell_type": "code",
   "execution_count": 14,
   "metadata": {},
   "outputs": [
    {
     "data": {
      "text/plain": [
       "<Figure size 576x576 with 0 Axes>"
      ]
     },
     "execution_count": 14,
     "metadata": {},
     "output_type": "execute_result"
    },
    {
     "data": {
      "text/plain": [
       "<Figure size 432x288 with 0 Axes>"
      ]
     },
     "metadata": {},
     "output_type": "display_data"
    },
    {
     "data": {
      "image/png": "[encoded data removed]",
      "text/plain": [
       "<Figure size 576x576 with 2 Axes>"
      ]
     },
     "metadata": {
      "needs_background": "light"
     },
     "output_type": "display_data"
    }
   ],
   "source": [
    "plt.tight_layout()\n",
    "corr=Good_x.corr()\n",
    "plt.figure(figsize=(8,8))\n",
    "g = sns.heatmap(corr, cbar=True, annot=True, square=True)"
   ]
  },
  {
   "cell_type": "code",
   "execution_count": 17,
   "metadata": {},
   "outputs": [
    {
     "data": {
      "text/plain": [
       "array([1, 1, 1, ..., 1, 0, 1])"
      ]
     },
     "execution_count": 17,
     "metadata": {},
     "output_type": "execute_result"
    },
    {
     "data": {
      "text/plain": [
       "23255"
      ]
     },
     "execution_count": 17,
     "metadata": {},
     "output_type": "execute_result"
    }
   ],
   "source": [
    "Good_y = DataLog1['is_good_lastInsp'] \n",
    "#Get rid of the row nums\n",
    "Good_y = np.ravel(Good_y)\n",
    "Good_y\n",
    "len(Good_y)"
   ]
  },
  {
   "cell_type": "code",
   "execution_count": 18,
   "metadata": {},
   "outputs": [],
   "source": [
    "from sklearn.linear_model import LogisticRegression\n",
    "# all parameters not specified are set to their defaults\n",
    "logisticRegr = LogisticRegression()"
   ]
  },
  {
   "cell_type": "markdown",
   "metadata": {},
   "source": [
    "train test split"
   ]
  },
  {
   "cell_type": "code",
   "execution_count": 19,
   "metadata": {},
   "outputs": [],
   "source": [
    "from sklearn.model_selection import train_test_split\n",
    "x_train, x_test, y_train, y_test = train_test_split(Good_x, Good_y, test_size=0.25, random_state=0)"
   ]
  },
  {
   "cell_type": "code",
   "execution_count": 20,
   "metadata": {},
   "outputs": [
    {
     "data": {
      "text/plain": [
       "(5814, 6)"
      ]
     },
     "execution_count": 20,
     "metadata": {},
     "output_type": "execute_result"
    },
    {
     "data": {
      "text/plain": [
       "(5814,)"
      ]
     },
     "execution_count": 20,
     "metadata": {},
     "output_type": "execute_result"
    },
    {
     "data": {
      "text/plain": [
       "(17441, 6)"
      ]
     },
     "execution_count": 20,
     "metadata": {},
     "output_type": "execute_result"
    },
    {
     "data": {
      "text/plain": [
       "(17441,)"
      ]
     },
     "execution_count": 20,
     "metadata": {},
     "output_type": "execute_result"
    }
   ],
   "source": [
    "x_test.shape\n",
    "y_test.shape\n",
    "x_train.shape\n",
    "y_train.shape"
   ]
  },
  {
   "cell_type": "code",
   "execution_count": 21,
   "metadata": {},
   "outputs": [
    {
     "data": {
      "text/plain": [
       "LogisticRegression(C=1.0, class_weight=None, dual=False, fit_intercept=True,\n",
       "                   intercept_scaling=1, l1_ratio=None, max_iter=100,\n",
       "                   multi_class='auto', n_jobs=None, penalty='l2',\n",
       "                   random_state=None, solver='lbfgs', tol=0.0001, verbose=0,\n",
       "                   warm_start=False)"
      ]
     },
     "execution_count": 21,
     "metadata": {},
     "output_type": "execute_result"
    }
   ],
   "source": [
    "logisticRegr.fit(x_train, y_train)"
   ]
  },
  {
   "cell_type": "code",
   "execution_count": 22,
   "metadata": {},
   "outputs": [],
   "source": [
    "predictions = logisticRegr.predict(x_test)"
   ]
  },
  {
   "cell_type": "code",
   "execution_count": 23,
   "metadata": {},
   "outputs": [
    {
     "name": "stdout",
     "output_type": "stream",
     "text": [
      "0.7146542827657378\n"
     ]
    }
   ],
   "source": [
    "# Use score method to get accuracy of model\n",
    "score = logisticRegr.score(x_test, y_test)\n",
    "print(score)"
   ]
  },
  {
   "cell_type": "code",
   "execution_count": 24,
   "metadata": {},
   "outputs": [],
   "source": [
    "import matplotlib.pyplot as plt\n",
    "import seaborn as sns\n",
    "from sklearn import metrics"
   ]
  },
  {
   "cell_type": "code",
   "execution_count": 42,
   "metadata": {},
   "outputs": [
    {
     "data": {
      "text/plain": [
       "<Figure size 1440x1440 with 0 Axes>"
      ]
     },
     "execution_count": 42,
     "metadata": {},
     "output_type": "execute_result"
    },
    {
     "data": {
      "text/plain": [
       "<matplotlib.axes._subplots.AxesSubplot at 0x1068d4b38>"
      ]
     },
     "execution_count": 42,
     "metadata": {},
     "output_type": "execute_result"
    },
    {
     "data": {
      "text/plain": [
       "Text(148.5, 0.5, 'Actual label')"
      ]
     },
     "execution_count": 42,
     "metadata": {},
     "output_type": "execute_result"
    },
    {
     "data": {
      "text/plain": [
       "Text(0.5, 468.9, 'Predicted label')"
      ]
     },
     "execution_count": 42,
     "metadata": {},
     "output_type": "execute_result"
    },
    {
     "data": {
      "text/plain": [
       "Text(0.5, 1, 'Accuracy Score: 0.7146542827657378')"
      ]
     },
     "execution_count": 42,
     "metadata": {},
     "output_type": "execute_result"
    },
    {
     "data": {
      "image/png": "[encoded data removed]",
      "text/plain": [
       "<Figure size 1440x1440 with 2 Axes>"
      ]
     },
     "metadata": {
      "needs_background": "light"
     },
     "output_type": "display_data"
    }
   ],
   "source": [
    "sns.set_context('talk')\n",
    "cm = metrics.confusion_matrix(y_test, predictions)\n",
    "plt.figure(figsize=(20,20))\n",
    "sns.heatmap(cm, annot=True, fmt=\".3f\", linewidths=.5, square = True, cmap = 'Blues_r');\n",
    "plt.ylabel('Actual label');\n",
    "plt.xlabel('Predicted label');\n",
    "all_sample_title = 'Accuracy Score: {0}'.format(score)\n",
    "plt.title(all_sample_title, size = 15);\n",
    "plt.savefig('Confusion_Matrix.png')"
   ]
  },
  {
   "cell_type": "code",
   "execution_count": 40,
   "metadata": {},
   "outputs": [
    {
     "data": {
      "text/plain": [
       "<matplotlib.axes._subplots.AxesSubplot at 0x1c222f3940>"
      ]
     },
     "execution_count": 40,
     "metadata": {},
     "output_type": "execute_result"
    },
    {
     "data": {
      "text/plain": [
       "Text(0.5, 29.519999999999996, 'true group')"
      ]
     },
     "execution_count": 40,
     "metadata": {},
     "output_type": "execute_result"
    },
    {
     "data": {
      "text/plain": [
       "Text(22.499999999999996, 0.5, 'predicted group')"
      ]
     },
     "execution_count": 40,
     "metadata": {},
     "output_type": "execute_result"
    },
    {
     "data": {
      "image/png": "[encoded data removed]",
      "text/plain": [
       "<Figure size 432x288 with 1 Axes>"
      ]
     },
     "metadata": {
      "needs_background": "light"
     },
     "output_type": "display_data"
    }
   ],
   "source": [
    "Ages = ['dirty', 'clean']\n",
    "mat = metrics.confusion_matrix(y_test, predictions)\n",
    "sns.heatmap(mat.T, square=True, annot=True, fmt='d', cbar=False,\n",
    "           xticklabels=Ages,\n",
    "           yticklabels=Ages)\n",
    "plt.xlabel('true group')\n",
    "plt.ylabel('predicted group')"
   ]
  },
  {
   "cell_type": "code",
   "execution_count": null,
   "metadata": {},
   "outputs": [],
   "source": []
  }
 ],
 "metadata": {
  "kernelspec": {
   "display_name": "Python 3",
   "language": "python",
   "name": "python3"
  },
  "language_info": {
   "codemirror_mode": {
    "name": "ipython",
    "version": 3
   },
   "file_extension": ".py",
   "mimetype": "text/x-python",
   "name": "python",
   "nbconvert_exporter": "python",
   "pygments_lexer": "ipython3",
   "version": "3.6.9"
  }
 },
 "nbformat": 4,
 "nbformat_minor": 2
}
