{
 "cells": [
  {
   "cell_type": "code",
   "execution_count": 1,
   "metadata": {},
   "outputs": [],
   "source": [
    "from sqlalchemy import create_engine\n",
    "from sqlalchemy_utils import database_exists, create_database\n",
    "import psycopg2\n",
    "import pandas as pd"
   ]
  },
  {
   "cell_type": "code",
   "execution_count": 5,
   "metadata": {},
   "outputs": [],
   "source": [
    "file = '311_Service_Requests_from_2010_to_Present.csv'"
   ]
  },
  {
   "cell_type": "code",
   "execution_count": 16,
   "metadata": {},
   "outputs": [],
   "source": [
    "#print(pd.read_csv(file, nrows=5))\n",
    "test = pd.read_csv(file, nrows=5)\n",
    "test = test.rename(columns={c: c.replace(' ', '') for c in test.columns}) \n",
    "test = test.rename(columns={c: c.replace('(', '') for c in test.columns})\n",
    "test = test.rename(columns={c: c.replace(')', '') for c in test.columns})\n"
   ]
  },
  {
   "cell_type": "code",
   "execution_count": 17,
   "metadata": {},
   "outputs": [
    {
     "data": {
      "text/html": [
       "<div>\n",
       "<style scoped>\n",
       "    .dataframe tbody tr th:only-of-type {\n",
       "        vertical-align: middle;\n",
       "    }\n",
       "\n",
       "    .dataframe tbody tr th {\n",
       "        vertical-align: top;\n",
       "    }\n",
       "\n",
       "    .dataframe thead th {\n",
       "        text-align: right;\n",
       "    }\n",
       "</style>\n",
       "<table border=\"1\" class=\"dataframe\">\n",
       "  <thead>\n",
       "    <tr style=\"text-align: right;\">\n",
       "      <th></th>\n",
       "      <th>uniquekey</th>\n",
       "      <th>createddate</th>\n",
       "      <th>closeddate</th>\n",
       "      <th>agency</th>\n",
       "      <th>agencyname</th>\n",
       "      <th>complainttype</th>\n",
       "      <th>descriptor</th>\n",
       "      <th>locationtype</th>\n",
       "      <th>incidentzip</th>\n",
       "      <th>incidentaddress</th>\n",
       "      <th>...</th>\n",
       "      <th>vehicletype</th>\n",
       "      <th>taxicompanyborough</th>\n",
       "      <th>taxipickuplocation</th>\n",
       "      <th>bridgehighwayname</th>\n",
       "      <th>bridgehighwaydirection</th>\n",
       "      <th>roadramp</th>\n",
       "      <th>bridgehighwaysegment</th>\n",
       "      <th>latitude</th>\n",
       "      <th>longitude</th>\n",
       "      <th>location</th>\n",
       "    </tr>\n",
       "  </thead>\n",
       "  <tbody>\n",
       "    <tr>\n",
       "      <th>0</th>\n",
       "      <td>24811305</td>\n",
       "      <td>01/18/2013 12:00:00 AM</td>\n",
       "      <td>02/11/2013 12:00:00 AM</td>\n",
       "      <td>HPD</td>\n",
       "      <td>Department of Housing Preservation and Develop...</td>\n",
       "      <td>PLUMBING</td>\n",
       "      <td>BASIN/SINK</td>\n",
       "      <td>RESIDENTIAL BUILDING</td>\n",
       "      <td>11219</td>\n",
       "      <td>1454 43 STREET</td>\n",
       "      <td>...</td>\n",
       "      <td>NaN</td>\n",
       "      <td>NaN</td>\n",
       "      <td>NaN</td>\n",
       "      <td>NaN</td>\n",
       "      <td>NaN</td>\n",
       "      <td>NaN</td>\n",
       "      <td>NaN</td>\n",
       "      <td>40.636336</td>\n",
       "      <td>-73.985246</td>\n",
       "      <td>(40.63633580546793, -73.98524566850578)</td>\n",
       "    </tr>\n",
       "    <tr>\n",
       "      <th>1</th>\n",
       "      <td>24811306</td>\n",
       "      <td>01/18/2013 12:00:00 AM</td>\n",
       "      <td>01/23/2013 12:00:00 AM</td>\n",
       "      <td>HPD</td>\n",
       "      <td>Department of Housing Preservation and Develop...</td>\n",
       "      <td>GENERAL CONSTRUCTION</td>\n",
       "      <td>FLOOR</td>\n",
       "      <td>RESIDENTIAL BUILDING</td>\n",
       "      <td>10468</td>\n",
       "      <td>2420 DAVIDSON AVENUE</td>\n",
       "      <td>...</td>\n",
       "      <td>NaN</td>\n",
       "      <td>NaN</td>\n",
       "      <td>NaN</td>\n",
       "      <td>NaN</td>\n",
       "      <td>NaN</td>\n",
       "      <td>NaN</td>\n",
       "      <td>NaN</td>\n",
       "      <td>40.861985</td>\n",
       "      <td>-73.902833</td>\n",
       "      <td>(40.86198534161541, -73.90283327659593)</td>\n",
       "    </tr>\n",
       "    <tr>\n",
       "      <th>2</th>\n",
       "      <td>24811307</td>\n",
       "      <td>01/18/2013 12:00:00 AM</td>\n",
       "      <td>01/18/2013 12:00:00 AM</td>\n",
       "      <td>HPD</td>\n",
       "      <td>Department of Housing Preservation and Develop...</td>\n",
       "      <td>HEATING</td>\n",
       "      <td>HEAT</td>\n",
       "      <td>RESIDENTIAL BUILDING</td>\n",
       "      <td>10025</td>\n",
       "      <td>858 WEST END AVENUE</td>\n",
       "      <td>...</td>\n",
       "      <td>NaN</td>\n",
       "      <td>NaN</td>\n",
       "      <td>NaN</td>\n",
       "      <td>NaN</td>\n",
       "      <td>NaN</td>\n",
       "      <td>NaN</td>\n",
       "      <td>NaN</td>\n",
       "      <td>40.798897</td>\n",
       "      <td>-73.970257</td>\n",
       "      <td>(40.79889676055833, -73.97025674483577)</td>\n",
       "    </tr>\n",
       "    <tr>\n",
       "      <th>3</th>\n",
       "      <td>24811308</td>\n",
       "      <td>01/18/2013 12:00:00 AM</td>\n",
       "      <td>01/23/2013 12:00:00 AM</td>\n",
       "      <td>HPD</td>\n",
       "      <td>Department of Housing Preservation and Develop...</td>\n",
       "      <td>PLUMBING</td>\n",
       "      <td>BASIN/SINK</td>\n",
       "      <td>RESIDENTIAL BUILDING</td>\n",
       "      <td>11206</td>\n",
       "      <td>160 VERNON AVENUE</td>\n",
       "      <td>...</td>\n",
       "      <td>NaN</td>\n",
       "      <td>NaN</td>\n",
       "      <td>NaN</td>\n",
       "      <td>NaN</td>\n",
       "      <td>NaN</td>\n",
       "      <td>NaN</td>\n",
       "      <td>NaN</td>\n",
       "      <td>40.695054</td>\n",
       "      <td>-73.945363</td>\n",
       "      <td>(40.69505379327949, -73.94536269567737)</td>\n",
       "    </tr>\n",
       "    <tr>\n",
       "      <th>4</th>\n",
       "      <td>24811309</td>\n",
       "      <td>01/18/2013 12:00:00 AM</td>\n",
       "      <td>01/23/2013 12:00:00 AM</td>\n",
       "      <td>HPD</td>\n",
       "      <td>Department of Housing Preservation and Develop...</td>\n",
       "      <td>HEATING</td>\n",
       "      <td>HEAT</td>\n",
       "      <td>RESIDENTIAL BUILDING</td>\n",
       "      <td>11233</td>\n",
       "      <td>841 HALSEY STREET</td>\n",
       "      <td>...</td>\n",
       "      <td>NaN</td>\n",
       "      <td>NaN</td>\n",
       "      <td>NaN</td>\n",
       "      <td>NaN</td>\n",
       "      <td>NaN</td>\n",
       "      <td>NaN</td>\n",
       "      <td>NaN</td>\n",
       "      <td>40.685352</td>\n",
       "      <td>-73.919075</td>\n",
       "      <td>(40.68535201436509, -73.91907456016442)</td>\n",
       "    </tr>\n",
       "  </tbody>\n",
       "</table>\n",
       "<p>5 rows × 41 columns</p>\n",
       "</div>"
      ],
      "text/plain": [
       "   uniquekey             createddate              closeddate agency  \\\n",
       "0   24811305  01/18/2013 12:00:00 AM  02/11/2013 12:00:00 AM    HPD   \n",
       "1   24811306  01/18/2013 12:00:00 AM  01/23/2013 12:00:00 AM    HPD   \n",
       "2   24811307  01/18/2013 12:00:00 AM  01/18/2013 12:00:00 AM    HPD   \n",
       "3   24811308  01/18/2013 12:00:00 AM  01/23/2013 12:00:00 AM    HPD   \n",
       "4   24811309  01/18/2013 12:00:00 AM  01/23/2013 12:00:00 AM    HPD   \n",
       "\n",
       "                                          agencyname         complainttype  \\\n",
       "0  Department of Housing Preservation and Develop...              PLUMBING   \n",
       "1  Department of Housing Preservation and Develop...  GENERAL CONSTRUCTION   \n",
       "2  Department of Housing Preservation and Develop...               HEATING   \n",
       "3  Department of Housing Preservation and Develop...              PLUMBING   \n",
       "4  Department of Housing Preservation and Develop...               HEATING   \n",
       "\n",
       "   descriptor          locationtype  incidentzip       incidentaddress  ...  \\\n",
       "0  BASIN/SINK  RESIDENTIAL BUILDING        11219        1454 43 STREET  ...   \n",
       "1       FLOOR  RESIDENTIAL BUILDING        10468  2420 DAVIDSON AVENUE  ...   \n",
       "2        HEAT  RESIDENTIAL BUILDING        10025   858 WEST END AVENUE  ...   \n",
       "3  BASIN/SINK  RESIDENTIAL BUILDING        11206     160 VERNON AVENUE  ...   \n",
       "4        HEAT  RESIDENTIAL BUILDING        11233     841 HALSEY STREET  ...   \n",
       "\n",
       "  vehicletype taxicompanyborough taxipickuplocation  bridgehighwayname  \\\n",
       "0         NaN                NaN                NaN                NaN   \n",
       "1         NaN                NaN                NaN                NaN   \n",
       "2         NaN                NaN                NaN                NaN   \n",
       "3         NaN                NaN                NaN                NaN   \n",
       "4         NaN                NaN                NaN                NaN   \n",
       "\n",
       "   bridgehighwaydirection roadramp bridgehighwaysegment   latitude  longitude  \\\n",
       "0                     NaN      NaN                  NaN  40.636336 -73.985246   \n",
       "1                     NaN      NaN                  NaN  40.861985 -73.902833   \n",
       "2                     NaN      NaN                  NaN  40.798897 -73.970257   \n",
       "3                     NaN      NaN                  NaN  40.695054 -73.945363   \n",
       "4                     NaN      NaN                  NaN  40.685352 -73.919075   \n",
       "\n",
       "                                  location  \n",
       "0  (40.63633580546793, -73.98524566850578)  \n",
       "1  (40.86198534161541, -73.90283327659593)  \n",
       "2  (40.79889676055833, -73.97025674483577)  \n",
       "3  (40.69505379327949, -73.94536269567737)  \n",
       "4  (40.68535201436509, -73.91907456016442)  \n",
       "\n",
       "[5 rows x 41 columns]"
      ]
     },
     "execution_count": 17,
     "metadata": {},
     "output_type": "execute_result"
    }
   ],
   "source": [
    "test.columns = [c.lower() for c in test.columns]\n",
    "test"
   ]
  },
  {
   "cell_type": "code",
   "execution_count": 18,
   "metadata": {},
   "outputs": [
    {
     "data": {
      "text/plain": [
       "Index(['uniquekey', 'createddate', 'closeddate', 'agency', 'agencyname',\n",
       "       'complainttype', 'descriptor', 'locationtype', 'incidentzip',\n",
       "       'incidentaddress', 'streetname', 'crossstreet1', 'crossstreet2',\n",
       "       'intersectionstreet1', 'intersectionstreet2', 'addresstype', 'city',\n",
       "       'landmark', 'facilitytype', 'status', 'duedate',\n",
       "       'resolutiondescription', 'resolutionactionupdateddate',\n",
       "       'communityboard', 'bbl', 'borough', 'xcoordinatestateplane',\n",
       "       'ycoordinatestateplane', 'opendatachanneltype', 'parkfacilityname',\n",
       "       'parkborough', 'vehicletype', 'taxicompanyborough',\n",
       "       'taxipickuplocation', 'bridgehighwayname', 'bridgehighwaydirection',\n",
       "       'roadramp', 'bridgehighwaysegment', 'latitude', 'longitude',\n",
       "       'location'],\n",
       "      dtype='object')"
      ]
     },
     "execution_count": 18,
     "metadata": {},
     "output_type": "execute_result"
    }
   ],
   "source": [
    "test.columns"
   ]
  },
  {
   "cell_type": "code",
   "execution_count": 6,
   "metadata": {
    "colab": {},
    "colab_type": "code",
    "id": "MbBC1oZ7yEbJ"
   },
   "outputs": [],
   "source": [
    "# Define a database name (we're using a dataset on births, so we'll call it birth_db)\n",
    "# Set your postgres username\n",
    "dbname = 'Health_Inspection'\n",
    "username = 'postgres' # change this to your username"
   ]
  },
  {
   "cell_type": "code",
   "execution_count": 7,
   "metadata": {
    "colab": {},
    "colab_type": "code",
    "id": "jvAXpzRpyEbO",
    "outputId": "7aaddb90-06d9-4a30-83a0-7dcfec75654d"
   },
   "outputs": [
    {
     "name": "stdout",
     "output_type": "stream",
     "text": [
      "postgres://postgres@localhost/Health_Inspection\n"
     ]
    }
   ],
   "source": [
    "## 'engine' is a connection to a database\n",
    "## Here, we're using postgres, but sqlalchemy can connect to other things too.\n",
    "engine = create_engine('postgres://%s@localhost/%s'%(username,dbname))\n",
    "print(engine.url)"
   ]
  },
  {
   "cell_type": "code",
   "execution_count": 8,
   "metadata": {
    "colab": {},
    "colab_type": "code",
    "id": "2Kuj7HQqyEbV",
    "outputId": "dccef926-7081-4afa-825a-6f24af40d696"
   },
   "outputs": [
    {
     "name": "stdout",
     "output_type": "stream",
     "text": [
      "True\n"
     ]
    }
   ],
   "source": [
    "## create a database (if it doesn't exist)\n",
    "if not database_exists(engine.url):\n",
    "    create_database(engine.url)\n",
    "print(database_exists(engine.url))"
   ]
  },
  {
   "cell_type": "markdown",
   "metadata": {},
   "source": [
    "# Get data into postgres"
   ]
  },
  {
   "cell_type": "code",
   "execution_count": 27,
   "metadata": {},
   "outputs": [],
   "source": [
    "chunksize = 100000\n",
    "i = 0\n",
    "j = 1\n",
    "#colnames = ['uniquekey', 'createddate', 'closeddate', 'agency', 'agencyname','complainttype', 'descriptor', 'locationtype', 'incidentzip','incidentaddress', 'streetname', 'crossstreet1', 'crossstreet2','intersectionstreet1', 'intersectionstreet2', 'addresstype', 'city','landmark', 'facilitytype', 'status', 'duedate','resolutiondescription', 'resolutionactionupdateddate','communityboard', 'bbl', 'borough', 'xcoordinatestateplane','ycoordinatestateplane', 'opendatachanneltype', 'parkfacilityname','parkborough', 'vehicletype', 'taxicompanyborough','taxipickuplocation', 'bridgehighwayname', 'bridgehighwaydirection','roadramp', 'bridgehighwaysegment', 'latitude', 'longitude','location']\n",
    "for df in pd.read_csv(file, chunksize=chunksize, iterator=True, low_memory=False):\n",
    "    df = df.rename(columns={c: c.replace(' ', '') for c in df.columns}) \n",
    "    df = df.rename(columns={c: c.replace('(', '') for c in df.columns})\n",
    "    df = df.rename(columns={c: c.replace(')', '') for c in df.columns})\n",
    "    df.columns = [c.lower() for c in df.columns]\n",
    "    df.index += j\n",
    "    i+=1\n",
    "    df.to_sql('ny311table2', engine, if_exists='append')\n",
    "    j = df.index[-1] + 1"
   ]
  },
  {
   "cell_type": "markdown",
   "metadata": {},
   "source": [
    "# Use SQL within python"
   ]
  },
  {
   "cell_type": "code",
   "execution_count": 28,
   "metadata": {},
   "outputs": [],
   "source": [
    "# Connect to make queries using psycopg2\n",
    "con = None\n",
    "con = psycopg2.connect(database = dbname, user = username)\n"
   ]
  },
  {
   "cell_type": "code",
   "execution_count": 36,
   "metadata": {},
   "outputs": [
    {
     "data": {
      "text/plain": [
       "236692"
      ]
     },
     "execution_count": 36,
     "metadata": {},
     "output_type": "execute_result"
    }
   ],
   "source": [
    "# query:\n",
    "sql_query = \"\"\"\n",
    "SELECT createddate, complainttype, descriptor,locationtype, incidentzip, landmark, latitude,longitude,(SUBSTR(createddate, 7, 4) || '-' || LEFT(createddate, 2) || '-' || SUBSTR(createddate, 4, 2))::timestamp AS cleaned_date\n",
    "FROM ny311table2 \n",
    "WHERE locationtype IN ('Club/Bar/Restaurant','Restaurant/Bar/Deli/Bakery','Restaurant','Food Cart Vendor', 'Catering Service','Cafeteria- College/University','Cafeteria-Public School', 'Cafeteria- Private School','Cafeteria- Private', 'Cafeteria', 'Catering Hall','Bar/Restaurant')\n",
    ";\n",
    "\"\"\"\n",
    "health_data_from_sql = pd.read_sql_query(sql_query,con)\n",
    "health_data_from_sql.head()\n",
    "len(health_data_from_sql)"
   ]
  },
  {
   "cell_type": "code",
   "execution_count": 37,
   "metadata": {},
   "outputs": [],
   "source": [
    "test = health_data_from_sql[health_data_from_sql['cleaned_date']>= '2014-01-01']"
   ]
  },
  {
   "cell_type": "code",
   "execution_count": 39,
   "metadata": {},
   "outputs": [],
   "source": [
    "test.to_csv(r'NY311_part2.csv')"
   ]
  },
  {
   "cell_type": "code",
   "execution_count": 38,
   "metadata": {},
   "outputs": [
    {
     "data": {
      "text/plain": [
       "140042"
      ]
     },
     "execution_count": 38,
     "metadata": {},
     "output_type": "execute_result"
    }
   ],
   "source": [
    "len(test)"
   ]
  },
  {
   "cell_type": "markdown",
   "metadata": {},
   "source": [
    "# Put week 2 dataset into SQL"
   ]
  },
  {
   "cell_type": "code",
   "execution_count": 2,
   "metadata": {},
   "outputs": [],
   "source": [
    "file2 = 'DataforWk2.csv'"
   ]
  },
  {
   "cell_type": "code",
   "execution_count": 6,
   "metadata": {},
   "outputs": [
    {
     "name": "stdout",
     "output_type": "stream",
     "text": [
      "/Users/rabarry/Documents/Insight/NYC data\n"
     ]
    }
   ],
   "source": [
    "cd '/Users/rabarry/Documents/Insight/NYC data'"
   ]
  },
  {
   "cell_type": "code",
   "execution_count": 3,
   "metadata": {},
   "outputs": [
    {
     "name": "stdout",
     "output_type": "stream",
     "text": [
      "postgres://postgres@localhost/Health_Inspection\n"
     ]
    }
   ],
   "source": [
    "# Set your postgres username\n",
    "dbname = 'Health_Inspection'\n",
    "username = 'postgres' # change this to your username\n",
    "engine = create_engine('postgres://%s@localhost/%s'%(username,dbname))\n",
    "print(engine.url)"
   ]
  },
  {
   "cell_type": "code",
   "execution_count": 7,
   "metadata": {},
   "outputs": [],
   "source": [
    "df = pd.read_csv(file2)"
   ]
  },
  {
   "cell_type": "code",
   "execution_count": 8,
   "metadata": {},
   "outputs": [],
   "source": [
    "df.to_sql('DataforWk2', engine, if_exists='append')"
   ]
  },
  {
   "cell_type": "code",
   "execution_count": 9,
   "metadata": {},
   "outputs": [],
   "source": [
    "# Connect to make queries using psycopg2\n",
    "con = None\n",
    "con = psycopg2.connect(database = dbname, user = username)"
   ]
  },
  {
   "cell_type": "code",
   "execution_count": 44,
   "metadata": {},
   "outputs": [],
   "source": [
    "rest_name = 'starbucks'\n",
    "zip_code = int('10001')"
   ]
  },
  {
   "cell_type": "code",
   "execution_count": 45,
   "metadata": {},
   "outputs": [
    {
     "name": "stdout",
     "output_type": "stream",
     "text": [
      "SELECT \"DBA\", \"BORO_cat\",\"CUISINE DESCRIPTION_cat\",\"Second_Last_Insp_Num_CriticialFlags\",\"Second_Last_Insp_Type_cat\",\"Insp_Date_Diff\", \"num_years_active\"  FROM \"DataforWk2\" WHERE \"DBA\" ILIKE 'starbucks' AND \"ZIPCODE\"=10001\n",
      "          DBA  BORO_cat  CUISINE DESCRIPTION_cat  \\\n",
      "0   STARBUCKS         2                       13   \n",
      "1   STARBUCKS         2                       13   \n",
      "2   STARBUCKS         2                       13   \n",
      "3   STARBUCKS         2                       13   \n",
      "4   STARBUCKS         2                       13   \n",
      "5   STARBUCKS         2                       13   \n",
      "6   STARBUCKS         2                       13   \n",
      "7   STARBUCKS         2                       13   \n",
      "8   STARBUCKS         2                       13   \n",
      "9   STARBUCKS         2                       13   \n",
      "10  STARBUCKS         2                        2   \n",
      "11  STARBUCKS         2                       13   \n",
      "\n",
      "    Second_Last_Insp_Num_CriticialFlags  Second_Last_Insp_Type_cat  \\\n",
      "0                                   0.0                          0   \n",
      "1                                   0.0                          0   \n",
      "2                                   1.0                          0   \n",
      "3                                   0.0                          0   \n",
      "4                                   0.0                          0   \n",
      "5                                   1.0                          0   \n",
      "6                                   0.0                          0   \n",
      "7                                   1.0                          0   \n",
      "8                                   1.0                          0   \n",
      "9                                   1.0                          0   \n",
      "10                                  1.0                          0   \n",
      "11                                  2.0                          0   \n",
      "\n",
      "    Insp_Date_Diff  num_years_active  \n",
      "0            355.0               3.0  \n",
      "1            347.0               2.0  \n",
      "2            339.0               2.0  \n",
      "3            354.0               2.0  \n",
      "4            374.0               2.0  \n",
      "5            373.0               2.0  \n",
      "6            360.0               2.0  \n",
      "7            374.0               2.0  \n",
      "8            400.0               2.0  \n",
      "9            364.0               2.0  \n",
      "10           416.0               2.0  \n",
      "11            14.0               2.0  \n"
     ]
    }
   ],
   "source": [
    "# query:\n",
    "query = \"SELECT \\\"DBA\\\", \"\"\\\"BORO_cat\\\",\\\"CUISINE DESCRIPTION_cat\\\",\\\"Second_Last_Insp_Num_CriticialFlags\\\",\\\"Second_Last_Insp_Type_cat\\\",\\\"Insp_Date_Diff\\\", \\\"num_years_active\\\"  FROM \\\"DataforWk2\\\" WHERE \\\"DBA\\\" ILIKE '%s' AND \\\"ZIPCODE\\\"=%d\" %(rest_name, zip_code)\n",
    "print(query)\n",
    "query_results=pd.read_sql_query(query,con)\n",
    "print(query_results)\n",
    "births = []"
   ]
  },
  {
   "cell_type": "code",
   "execution_count": 39,
   "metadata": {},
   "outputs": [
    {
     "data": {
      "text/html": [
       "<div>\n",
       "<style scoped>\n",
       "    .dataframe tbody tr th:only-of-type {\n",
       "        vertical-align: middle;\n",
       "    }\n",
       "\n",
       "    .dataframe tbody tr th {\n",
       "        vertical-align: top;\n",
       "    }\n",
       "\n",
       "    .dataframe thead th {\n",
       "        text-align: right;\n",
       "    }\n",
       "</style>\n",
       "<table border=\"1\" class=\"dataframe\">\n",
       "  <thead>\n",
       "    <tr style=\"text-align: right;\">\n",
       "      <th></th>\n",
       "      <th>BORO_cat</th>\n",
       "      <th>CUISINE DESCRIPTION_cat</th>\n",
       "      <th>Second_Last_Insp_Num_CriticialFlags</th>\n",
       "      <th>Second_Last_Insp_Type_cat</th>\n",
       "      <th>Insp_Date_Diff</th>\n",
       "      <th>num_years_active</th>\n",
       "    </tr>\n",
       "  </thead>\n",
       "  <tbody>\n",
       "    <tr>\n",
       "      <th>0</th>\n",
       "      <td>2</td>\n",
       "      <td>44</td>\n",
       "      <td>1.0</td>\n",
       "      <td>0</td>\n",
       "      <td>386.0</td>\n",
       "      <td>2.0</td>\n",
       "    </tr>\n",
       "  </tbody>\n",
       "</table>\n",
       "</div>"
      ],
      "text/plain": [
       "   BORO_cat  CUISINE DESCRIPTION_cat  Second_Last_Insp_Num_CriticialFlags  \\\n",
       "0         2                       44                                  1.0   \n",
       "\n",
       "   Second_Last_Insp_Type_cat  Insp_Date_Diff  num_years_active  \n",
       "0                          0           386.0               2.0  "
      ]
     },
     "execution_count": 39,
     "metadata": {},
     "output_type": "execute_result"
    }
   ],
   "source": [
    "query_results"
   ]
  },
  {
   "cell_type": "code",
   "execution_count": 29,
   "metadata": {},
   "outputs": [
    {
     "data": {
      "text/plain": [
       "1"
      ]
     },
     "execution_count": 29,
     "metadata": {},
     "output_type": "execute_result"
    }
   ],
   "source": [
    "for i in range(0,query_results.shape[0]):\n",
    "    births.append(dict(index=query_results.iloc[i]['index'], attendant=query_results.iloc[i]['attendant'], birth_month=query_results.iloc[i]['birth_month']))\n",
    "    the_result = ModelIt(patient,births)\n",
    "    return render_template(\"output.html\", births = births, the_result = the_result)"
   ]
  },
  {
   "cell_type": "code",
   "execution_count": 30,
   "metadata": {},
   "outputs": [
    {
     "data": {
      "text/html": [
       "<div>\n",
       "<style scoped>\n",
       "    .dataframe tbody tr th:only-of-type {\n",
       "        vertical-align: middle;\n",
       "    }\n",
       "\n",
       "    .dataframe tbody tr th {\n",
       "        vertical-align: top;\n",
       "    }\n",
       "\n",
       "    .dataframe thead th {\n",
       "        text-align: right;\n",
       "    }\n",
       "</style>\n",
       "<table border=\"1\" class=\"dataframe\">\n",
       "  <thead>\n",
       "    <tr style=\"text-align: right;\">\n",
       "      <th></th>\n",
       "      <th>BORO_cat</th>\n",
       "      <th>CUISINE DESCRIPTION_cat</th>\n",
       "      <th>Second_Last_Insp_Num_CriticialFlags</th>\n",
       "      <th>Second_Last_Insp_Type_cat</th>\n",
       "      <th>Insp_Date_Diff</th>\n",
       "      <th>num_years_active</th>\n",
       "    </tr>\n",
       "  </thead>\n",
       "  <tbody>\n",
       "    <tr>\n",
       "      <th>0</th>\n",
       "      <td>2</td>\n",
       "      <td>44</td>\n",
       "      <td>1.0</td>\n",
       "      <td>0</td>\n",
       "      <td>386.0</td>\n",
       "      <td>2.0</td>\n",
       "    </tr>\n",
       "  </tbody>\n",
       "</table>\n",
       "</div>"
      ],
      "text/plain": [
       "   BORO_cat  CUISINE DESCRIPTION_cat  Second_Last_Insp_Num_CriticialFlags  \\\n",
       "0         2                       44                                  1.0   \n",
       "\n",
       "   Second_Last_Insp_Type_cat  Insp_Date_Diff  num_years_active  \n",
       "0                          0           386.0               2.0  "
      ]
     },
     "execution_count": 30,
     "metadata": {},
     "output_type": "execute_result"
    }
   ],
   "source": [
    "health_data_from_sql"
   ]
  },
  {
   "cell_type": "code",
   "execution_count": 40,
   "metadata": {},
   "outputs": [
    {
     "data": {
      "text/plain": [
       "Unnamed: 0                                                 7\n",
       "CAMIS                                               40357217\n",
       "Second_Last_Insp_Type                                Initial\n",
       "Second_Last_Insp_Date                             2018-05-31\n",
       "Second_Last_Insp_Num_CriticialFlags                        0\n",
       "Last_Insp_Type                                       Initial\n",
       "Last_Insp_Date                                    2019-05-22\n",
       "Last_Insp_Num_CriticialFlags                               1\n",
       "Insp_Date_Diff                                           356\n",
       "DBA                                                WILD ASIA\n",
       "BORO                                                   Bronx\n",
       "ZIPCODE                                                10460\n",
       "CUISINE DESCRIPTION                                 American\n",
       "Latitude                                             40.8506\n",
       "Longitude                                           -73.8825\n",
       "Community Board                                          206\n",
       "Council District                                          15\n",
       "Census Tract                                           33400\n",
       "BIN                                               2.1167e+06\n",
       "BBL                                               2.0312e+09\n",
       "NTA                                                     BX99\n",
       "total_critical_flags                                       1\n",
       "first_inspection_date                             2017-06-14\n",
       "last_inspection_date                              2019-05-22\n",
       "num_years_active                                           2\n",
       "avg_num_critical_flags_per_year                          0.5\n",
       "location                               40.850556, -73.882451\n",
       "is_good_overall                                            1\n",
       "is_good_lastInsp                                           1\n",
       "BORO_cat                                                   0\n",
       "CUISINE DESCRIPTION_cat                                    2\n",
       "Second_Last_Insp_Type_cat                                  0\n",
       "Name: 7, dtype: object"
      ]
     },
     "execution_count": 40,
     "metadata": {},
     "output_type": "execute_result"
    }
   ],
   "source": [
    "df.iloc[7]"
   ]
  },
  {
   "cell_type": "code",
   "execution_count": null,
   "metadata": {},
   "outputs": [],
   "source": []
  }
 ],
 "metadata": {
  "kernelspec": {
   "display_name": "Python 3",
   "language": "python",
   "name": "python3"
  },
  "language_info": {
   "codemirror_mode": {
    "name": "ipython",
    "version": 3
   },
   "file_extension": ".py",
   "mimetype": "text/x-python",
   "name": "python",
   "nbconvert_exporter": "python",
   "pygments_lexer": "ipython3",
   "version": "3.6.10"
  }
 },
 "nbformat": 4,
 "nbformat_minor": 2
}
